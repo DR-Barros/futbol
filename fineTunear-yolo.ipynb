{
 "cells": [
  {
   "cell_type": "markdown",
   "id": "089318ab",
   "metadata": {},
   "source": [
    "## Crear Dataset en el formato necesario"
   ]
  },
  {
   "cell_type": "code",
   "execution_count": 4,
   "id": "c0ff665d",
   "metadata": {},
   "outputs": [
    {
     "name": "stdout",
     "output_type": "stream",
     "text": [
      "Imágenes copiadas correctamente.\n"
     ]
    }
   ],
   "source": [
    "import os\n",
    "import shutil\n",
    "\n",
    "from_folder = \"SoccerNet/calibration\"\n",
    "to_folder = \"dataset/images\"\n",
    "\n",
    "# Crear la carpeta destino si no existe\n",
    "os.makedirs(to_folder, exist_ok=True)\n",
    "\n",
    "# Iterar sobre cada subcarpeta\n",
    "dirs = os.listdir(from_folder)\n",
    "for dir_name in dirs:\n",
    "    subfolder_path = os.path.join(from_folder, dir_name)\n",
    "    to_folder_path = os.path.join(to_folder, dir_name)\n",
    "    if not os.path.isdir(subfolder_path):\n",
    "        continue  # Saltar si no es carpeta\n",
    "    \n",
    "    if not os.path.exists(to_folder_path):\n",
    "        os.makedirs(to_folder_path)\n",
    "\n",
    "    # Listar todas las imágenes en la subcarpeta\n",
    "    images = [img for img in os.listdir(subfolder_path) if img.endswith(\".jpg\") or img.endswith(\".png\")]\n",
    "\n",
    "    # Copiar las imágenes a la carpeta destino\n",
    "    for img in images:\n",
    "        src_path = os.path.join(subfolder_path, img)\n",
    "        dst_path = os.path.join(to_folder_path, img)\n",
    "        shutil.copy(src_path, dst_path)\n",
    "\n",
    "print(\"Imágenes copiadas correctamente.\")"
   ]
  },
  {
   "cell_type": "code",
   "execution_count": null,
   "id": "0f9b26cb",
   "metadata": {},
   "outputs": [
    {
     "name": "stdout",
     "output_type": "stream",
     "text": [
      "Nombre de archivo no numérico: match_info.json\n",
      "Nombre de archivo no numérico: match_info.json\n",
      "Nombre de archivo no numérico: match_info.json\n",
      "Etiquetas generadas correctamente.\n"
     ]
    }
   ],
   "source": [
    "import os\n",
    "import sys\n",
    "import json\n",
    "from_folder = \"SoccerNet/calibration\"\n",
    "labels_folder = \"dataset/labels\"\n",
    "\n",
    "# Diccionario para mapear etiquetas a IDs\n",
    "class_mapping = {\n",
    "    \"Goal right crossbar\": 0,\n",
    "    \"Goal right post left\": 0,\n",
    "    \"Goal right post right\": 0,\n",
    "    \"Goal left post left\": 0,\n",
    "    \"Goal left post left \": 0,\n",
    "    \"Goal left post left\": 0,\n",
    "    \"Goal left post right\": 0,\n",
    "    \"Goal left crossbar\": 0,\n",
    "    \"Small rect. right main\": 1,\n",
    "    \"Small rect. right top\": 1,\n",
    "    \"Side line right\": 1,\n",
    "    \"Side line top\": 1,\n",
    "    \"Side line bottom\": 1,\n",
    "    \"Big rect. right top\": 1,\n",
    "    \"Big rect. right main\": 1,\n",
    "    \"Circle right\": 2,\n",
    "    \"Side line left\": 1,\n",
    "    \"Big rect. left top\": 1,\n",
    "    \"Big rect. left bottom\": 1,\n",
    "    \"Big rect. left main\": 1,\n",
    "    \"Big rect. right bottom\": 1,\n",
    "    \"Small rect. right bottom\": 1,\n",
    "    \"Small rect. left top\": 1,\n",
    "    \"Small rect. left bottom\": 1,\n",
    "    \"Small rect. left main\": 1,\n",
    "    \"Circle left\": 2,\n",
    "    \"Circle central\": 3,\n",
    "    \"Middle line\": 1,\n",
    "    \"Line unknown\": 4,\n",
    "    \"Goal unknown\": 0,\n",
    "}\n",
    "\n",
    "# Función auxiliar para obtener el bounding box\n",
    "def get_bbox_from_points(points):\n",
    "    xs = [p[\"x\"] for p in points]\n",
    "    ys = [p[\"y\"] for p in points]\n",
    "    x_min, x_max = min(xs), max(xs)\n",
    "    y_min, y_max = min(ys), max(ys)\n",
    "    x_center = (x_min + x_max) / 2\n",
    "    y_center = (y_min + y_max) / 2\n",
    "    width = x_max - x_min\n",
    "    height = y_max - y_min\n",
    "    return x_center, y_center, width, height\n",
    "\n",
    "# Crear la carpeta destino si no existe\n",
    "os.makedirs(labels_folder, exist_ok=True)\n",
    "\n",
    "# Iterar sobre cada subcarpeta\n",
    "dirs = os.listdir(from_folder)\n",
    "for dir_name in dirs:\n",
    "    subfolder_path = os.path.join(from_folder, dir_name)\n",
    "    to_folder_path = os.path.join(labels_folder, dir_name)\n",
    "    if not os.path.isdir(subfolder_path):\n",
    "        continue  # Saltar si no es carpeta\n",
    "    \n",
    "    if not os.path.exists(to_folder_path):\n",
    "        os.makedirs(to_folder_path)\n",
    "\n",
    "    #listar todos los json\n",
    "    jsons = [json for json in os.listdir(subfolder_path) if json.endswith(\".json\")]\n",
    "\n",
    "    for j in jsons:\n",
    "        #si el nombre del archivo no es numérico, saltar\n",
    "        if not j[:-5].isdigit():\n",
    "            print(f\"Nombre de archivo no numérico: {j}\")\n",
    "            continue\n",
    "        with open(os.path.join(subfolder_path, j), \"r\") as f:\n",
    "            try:\n",
    "                data = json.load(f)\n",
    "            except Exception as e:\n",
    "                print(f\"Error al cargar el archivo JSON {j}: {e}\")\n",
    "                continue\n",
    "            label_txt = os.path.join(to_folder_path, j.replace(\".json\", \".txt\"))\n",
    "            with open(label_txt, \"w\") as label_file:\n",
    "                for label, points in data.items():\n",
    "                    if label not in class_mapping:\n",
    "                        print(f\"Etiqueta desconocida: {label} en {j}\")\n",
    "                    if label not in class_mapping or len(points) < 2:\n",
    "                        continue\n",
    "                    class_id = class_mapping[label]\n",
    "                    x_c, y_c, w, h = get_bbox_from_points(points)\n",
    "                    label_file.write(f\"{class_id} {x_c:.6f} {y_c:.6f} {w:.6f} {h:.6f}\\n\")\n",
    "print(\"Etiquetas generadas correctamente.\")"
   ]
  },
  {
   "cell_type": "markdown",
   "id": "e9a52fac",
   "metadata": {},
   "source": [
    "# Finetunear Modelo"
   ]
  },
  {
   "cell_type": "code",
   "execution_count": 20,
   "id": "94941a22",
   "metadata": {},
   "outputs": [
    {
     "name": "stdout",
     "output_type": "stream",
     "text": [
      "Ultralytics 8.3.141 🚀 Python-3.12.3 torch-2.7.0+cu126 CUDA:0 (NVIDIA GeForce RTX 4060, 7911MiB)\n",
      "\u001b[34m\u001b[1mengine/trainer: \u001b[0magnostic_nms=False, amp=True, augment=False, auto_augment=randaugment, batch=16, bgr=0.0, box=7.5, cache=False, cfg=None, classes=None, close_mosaic=10, cls=0.5, conf=None, copy_paste=0.0, copy_paste_mode=flip, cos_lr=False, cutmix=0.0, data=line_dataset.yaml, degrees=0.0, deterministic=True, device=None, dfl=1.5, dnn=False, dropout=0.0, dynamic=False, embed=None, epochs=50, erasing=0.4, exist_ok=False, fliplr=0.5, flipud=0.0, format=torchscript, fraction=1.0, freeze=None, half=False, hsv_h=0.015, hsv_s=0.7, hsv_v=0.4, imgsz=640, int8=False, iou=0.7, keras=False, kobj=1.0, line_width=None, lr0=0.01, lrf=0.01, mask_ratio=4, max_det=300, mixup=0.0, mode=train, model=yolov8n.pt, momentum=0.937, mosaic=1.0, multi_scale=False, name=train3, nbs=64, nms=False, opset=None, optimize=False, optimizer=auto, overlap_mask=True, patience=100, perspective=0.0, plots=True, pose=12.0, pretrained=True, profile=False, project=None, rect=False, resume=False, retina_masks=False, save=True, save_conf=False, save_crop=False, save_dir=/home/dani/Desktop/futbol/runs/detect/train3, save_frames=False, save_json=False, save_period=-1, save_txt=False, scale=0.5, seed=0, shear=0.0, show=False, show_boxes=True, show_conf=True, show_labels=True, simplify=True, single_cls=False, source=None, split=val, stream_buffer=False, task=detect, time=None, tracker=botsort.yaml, translate=0.1, val=True, verbose=True, vid_stride=1, visualize=False, warmup_bias_lr=0.1, warmup_epochs=3.0, warmup_momentum=0.8, weight_decay=0.0005, workers=8, workspace=None\n",
      "Downloading https://ultralytics.com/assets/Arial.ttf to '/home/dani/.config/Ultralytics/Arial.ttf'...\n"
     ]
    },
    {
     "name": "stderr",
     "output_type": "stream",
     "text": [
      "100%|██████████| 755k/755k [00:01<00:00, 743kB/s]"
     ]
    },
    {
     "name": "stdout",
     "output_type": "stream",
     "text": [
      "Overriding model.yaml nc=80 with nc=5\n",
      "\n",
      "                   from  n    params  module                                       arguments                     \n",
      "  0                  -1  1       464  ultralytics.nn.modules.conv.Conv             [3, 16, 3, 2]                 \n",
      "  1                  -1  1      4672  ultralytics.nn.modules.conv.Conv             [16, 32, 3, 2]                \n",
      "  2                  -1  1      7360  ultralytics.nn.modules.block.C2f             [32, 32, 1, True]             \n",
      "  3                  -1  1     18560  ultralytics.nn.modules.conv.Conv             [32, 64, 3, 2]                \n",
      "  4                  -1  2     49664  ultralytics.nn.modules.block.C2f             [64, 64, 2, True]             \n",
      "  5                  -1  1     73984  ultralytics.nn.modules.conv.Conv             [64, 128, 3, 2]               \n",
      "  6                  -1  2    197632  ultralytics.nn.modules.block.C2f             [128, 128, 2, True]           \n",
      "  7                  -1  1    295424  ultralytics.nn.modules.conv.Conv             [128, 256, 3, 2]              \n",
      "  8                  -1  1    460288  ultralytics.nn.modules.block.C2f             [256, 256, 1, True]           \n",
      "  9                  -1  1    164608  ultralytics.nn.modules.block.SPPF            [256, 256, 5]                 \n",
      " 10                  -1  1         0  torch.nn.modules.upsampling.Upsample         [None, 2, 'nearest']          \n",
      " 11             [-1, 6]  1         0  ultralytics.nn.modules.conv.Concat           [1]                           \n",
      " 12                  -1  1    148224  ultralytics.nn.modules.block.C2f             [384, 128, 1]                 \n",
      " 13                  -1  1         0  torch.nn.modules.upsampling.Upsample         [None, 2, 'nearest']          \n",
      " 14             [-1, 4]  1         0  ultralytics.nn.modules.conv.Concat           [1]                           \n",
      " 15                  -1  1     37248  ultralytics.nn.modules.block.C2f             [192, 64, 1]                  \n",
      " 16                  -1  1     36992  ultralytics.nn.modules.conv.Conv             [64, 64, 3, 2]                \n",
      " 17            [-1, 12]  1         0  ultralytics.nn.modules.conv.Concat           [1]                           \n",
      " 18                  -1  1    123648  ultralytics.nn.modules.block.C2f             [192, 128, 1]                 \n",
      " 19                  -1  1    147712  ultralytics.nn.modules.conv.Conv             [128, 128, 3, 2]              \n",
      " 20             [-1, 9]  1         0  ultralytics.nn.modules.conv.Concat           [1]                           \n",
      " 21                  -1  1    493056  ultralytics.nn.modules.block.C2f             [384, 256, 1]                 \n",
      " 22        [15, 18, 21]  1    752287  ultralytics.nn.modules.head.Detect           [5, [64, 128, 256]]           \n"
     ]
    },
    {
     "name": "stderr",
     "output_type": "stream",
     "text": [
      "\n"
     ]
    },
    {
     "name": "stdout",
     "output_type": "stream",
     "text": [
      "Model summary: 129 layers, 3,011,823 parameters, 3,011,807 gradients, 8.2 GFLOPs\n",
      "\n",
      "Transferred 319/355 items from pretrained weights\n",
      "Freezing layer 'model.22.dfl.conv.weight'\n",
      "\u001b[34m\u001b[1mAMP: \u001b[0mrunning Automatic Mixed Precision (AMP) checks...\n",
      "\u001b[34m\u001b[1mAMP: \u001b[0mchecks passed ✅\n",
      "\u001b[34m\u001b[1mtrain: \u001b[0mFast image access ✅ (ping: 0.0±0.0 ms, read: 5662.9±1413.8 MB/s, size: 162.6 KB)\n"
     ]
    },
    {
     "name": "stderr",
     "output_type": "stream",
     "text": [
      "\u001b[34m\u001b[1mtrain: \u001b[0mScanning /home/dani/Desktop/futbol/dataset/labels/train... 14513 images, 0 backgrounds, 379 corrupt: 100%|██████████| 14513/14513 [00:04<00:00, 3346.92it/s]"
     ]
    },
    {
     "name": "stdout",
     "output_type": "stream",
     "text": [
      "\u001b[34m\u001b[1mtrain: \u001b[0m/home/dani/Desktop/futbol/dataset/images/train/00005.jpg: ignoring corrupt image/label: non-normalized or out of bounds coordinates [1.000009]\n",
      "\u001b[34m\u001b[1mtrain: \u001b[0m/home/dani/Desktop/futbol/dataset/images/train/00009.jpg: ignoring corrupt image/label: non-normalized or out of bounds coordinates [1.000009]\n",
      "\u001b[34m\u001b[1mtrain: \u001b[0m/home/dani/Desktop/futbol/dataset/images/train/00019.jpg: ignoring corrupt image/label: non-normalized or out of bounds coordinates [1.000005]\n",
      "\u001b[34m\u001b[1mtrain: \u001b[0m/home/dani/Desktop/futbol/dataset/images/train/00026.jpg: ignoring corrupt image/label: non-normalized or out of bounds coordinates [1.000009]\n",
      "\u001b[34m\u001b[1mtrain: \u001b[0m/home/dani/Desktop/futbol/dataset/images/train/00042.jpg: ignoring corrupt image/label: non-normalized or out of bounds coordinates [1.000009]\n",
      "\u001b[34m\u001b[1mtrain: \u001b[0m/home/dani/Desktop/futbol/dataset/images/train/00332.jpg: ignoring corrupt image/label: non-normalized or out of bounds coordinates [1.000014]\n",
      "\u001b[34m\u001b[1mtrain: \u001b[0m/home/dani/Desktop/futbol/dataset/images/train/00460.jpg: ignoring corrupt image/label: non-normalized or out of bounds coordinates [1.000014]\n",
      "\u001b[34m\u001b[1mtrain: \u001b[0m/home/dani/Desktop/futbol/dataset/images/train/00466.jpg: ignoring corrupt image/label: non-normalized or out of bounds coordinates [1.000008]\n",
      "\u001b[34m\u001b[1mtrain: \u001b[0m/home/dani/Desktop/futbol/dataset/images/train/00522.jpg: ignoring corrupt image/label: non-normalized or out of bounds coordinates [1.000008]\n",
      "\u001b[34m\u001b[1mtrain: \u001b[0m/home/dani/Desktop/futbol/dataset/images/train/00527.jpg: ignoring corrupt image/label: non-normalized or out of bounds coordinates [1.000008]\n",
      "\u001b[34m\u001b[1mtrain: \u001b[0m/home/dani/Desktop/futbol/dataset/images/train/00535.jpg: ignoring corrupt image/label: non-normalized or out of bounds coordinates [1.000008]\n",
      "\u001b[34m\u001b[1mtrain: \u001b[0m/home/dani/Desktop/futbol/dataset/images/train/00566.jpg: ignoring corrupt image/label: non-normalized or out of bounds coordinates [1.000008]\n",
      "\u001b[34m\u001b[1mtrain: \u001b[0m/home/dani/Desktop/futbol/dataset/images/train/00589.jpg: ignoring corrupt image/label: non-normalized or out of bounds coordinates [1.000014]\n",
      "\u001b[34m\u001b[1mtrain: \u001b[0m/home/dani/Desktop/futbol/dataset/images/train/00605.jpg: ignoring corrupt image/label: non-normalized or out of bounds coordinates [1.000014]\n",
      "\u001b[34m\u001b[1mtrain: \u001b[0m/home/dani/Desktop/futbol/dataset/images/train/00649.jpg: ignoring corrupt image/label: non-normalized or out of bounds coordinates [1.000014]\n",
      "\u001b[34m\u001b[1mtrain: \u001b[0m/home/dani/Desktop/futbol/dataset/images/train/00683.jpg: ignoring corrupt image/label: non-normalized or out of bounds coordinates [1.000008]\n",
      "\u001b[34m\u001b[1mtrain: \u001b[0m/home/dani/Desktop/futbol/dataset/images/train/00751.jpg: ignoring corrupt image/label: non-normalized or out of bounds coordinates [1.000014]\n",
      "\u001b[34m\u001b[1mtrain: \u001b[0m/home/dani/Desktop/futbol/dataset/images/train/00777.jpg: ignoring corrupt image/label: non-normalized or out of bounds coordinates [1.000014]\n",
      "\u001b[34m\u001b[1mtrain: \u001b[0m/home/dani/Desktop/futbol/dataset/images/train/00788.jpg: ignoring corrupt image/label: non-normalized or out of bounds coordinates [1.000008]\n",
      "\u001b[34m\u001b[1mtrain: \u001b[0m/home/dani/Desktop/futbol/dataset/images/train/00938.jpg: ignoring corrupt image/label: non-normalized or out of bounds coordinates [1.000014]\n",
      "\u001b[34m\u001b[1mtrain: \u001b[0m/home/dani/Desktop/futbol/dataset/images/train/01012.jpg: ignoring corrupt image/label: non-normalized or out of bounds coordinates [1.000008]\n",
      "\u001b[34m\u001b[1mtrain: \u001b[0m/home/dani/Desktop/futbol/dataset/images/train/01016.jpg: ignoring corrupt image/label: non-normalized or out of bounds coordinates [1.002391]\n",
      "\u001b[34m\u001b[1mtrain: \u001b[0m/home/dani/Desktop/futbol/dataset/images/train/01028.jpg: ignoring corrupt image/label: non-normalized or out of bounds coordinates [1.000008]\n",
      "\u001b[34m\u001b[1mtrain: \u001b[0m/home/dani/Desktop/futbol/dataset/images/train/01100.jpg: ignoring corrupt image/label: non-normalized or out of bounds coordinates [1.000023]\n",
      "\u001b[34m\u001b[1mtrain: \u001b[0m/home/dani/Desktop/futbol/dataset/images/train/01127.jpg: ignoring corrupt image/label: non-normalized or out of bounds coordinates [1.000023]\n",
      "\u001b[34m\u001b[1mtrain: \u001b[0m/home/dani/Desktop/futbol/dataset/images/train/01136.jpg: ignoring corrupt image/label: non-normalized or out of bounds coordinates [1.000023]\n",
      "\u001b[34m\u001b[1mtrain: \u001b[0m/home/dani/Desktop/futbol/dataset/images/train/01139.jpg: ignoring corrupt image/label: non-normalized or out of bounds coordinates [1.000023]\n",
      "\u001b[34m\u001b[1mtrain: \u001b[0m/home/dani/Desktop/futbol/dataset/images/train/01140.jpg: ignoring corrupt image/label: non-normalized or out of bounds coordinates [1.000023]\n",
      "\u001b[34m\u001b[1mtrain: \u001b[0m/home/dani/Desktop/futbol/dataset/images/train/01142.jpg: ignoring corrupt image/label: non-normalized or out of bounds coordinates [1.000023 1.00103 ]\n",
      "\u001b[34m\u001b[1mtrain: \u001b[0m/home/dani/Desktop/futbol/dataset/images/train/01144.jpg: ignoring corrupt image/label: non-normalized or out of bounds coordinates [1.000023 1.000023]\n",
      "\u001b[34m\u001b[1mtrain: \u001b[0m/home/dani/Desktop/futbol/dataset/images/train/01147.jpg: ignoring corrupt image/label: non-normalized or out of bounds coordinates [1.000023 1.000023]\n",
      "\u001b[34m\u001b[1mtrain: \u001b[0m/home/dani/Desktop/futbol/dataset/images/train/01157.jpg: ignoring corrupt image/label: non-normalized or out of bounds coordinates [1.000008]\n",
      "\u001b[34m\u001b[1mtrain: \u001b[0m/home/dani/Desktop/futbol/dataset/images/train/01172.jpg: ignoring corrupt image/label: non-normalized or out of bounds coordinates [1.000008]\n",
      "\u001b[34m\u001b[1mtrain: \u001b[0m/home/dani/Desktop/futbol/dataset/images/train/01174.jpg: ignoring corrupt image/label: non-normalized or out of bounds coordinates [1.000008]\n",
      "\u001b[34m\u001b[1mtrain: \u001b[0m/home/dani/Desktop/futbol/dataset/images/train/01175.jpg: ignoring corrupt image/label: non-normalized or out of bounds coordinates [1.000008]\n",
      "\u001b[34m\u001b[1mtrain: \u001b[0m/home/dani/Desktop/futbol/dataset/images/train/01201.jpg: ignoring corrupt image/label: non-normalized or out of bounds coordinates [1.000014]\n",
      "\u001b[34m\u001b[1mtrain: \u001b[0m/home/dani/Desktop/futbol/dataset/images/train/01221.jpg: ignoring corrupt image/label: non-normalized or out of bounds coordinates [1.000008]\n",
      "\u001b[34m\u001b[1mtrain: \u001b[0m/home/dani/Desktop/futbol/dataset/images/train/01243.jpg: ignoring corrupt image/label: non-normalized or out of bounds coordinates [1.000414]\n",
      "\u001b[34m\u001b[1mtrain: \u001b[0m/home/dani/Desktop/futbol/dataset/images/train/01270.jpg: ignoring corrupt image/label: non-normalized or out of bounds coordinates [1.000014]\n",
      "\u001b[34m\u001b[1mtrain: \u001b[0m/home/dani/Desktop/futbol/dataset/images/train/01286.jpg: ignoring corrupt image/label: non-normalized or out of bounds coordinates [1.000008]\n",
      "\u001b[34m\u001b[1mtrain: \u001b[0m/home/dani/Desktop/futbol/dataset/images/train/01435.jpg: ignoring corrupt image/label: non-normalized or out of bounds coordinates [1.000016]\n",
      "\u001b[34m\u001b[1mtrain: \u001b[0m/home/dani/Desktop/futbol/dataset/images/train/01449.jpg: ignoring corrupt image/label: non-normalized or out of bounds coordinates [1.000014]\n",
      "\u001b[34m\u001b[1mtrain: \u001b[0m/home/dani/Desktop/futbol/dataset/images/train/01468.jpg: ignoring corrupt image/label: non-normalized or out of bounds coordinates [1.000014]\n",
      "\u001b[34m\u001b[1mtrain: \u001b[0m/home/dani/Desktop/futbol/dataset/images/train/01476.jpg: ignoring corrupt image/label: non-normalized or out of bounds coordinates [1.000014]\n",
      "\u001b[34m\u001b[1mtrain: \u001b[0m/home/dani/Desktop/futbol/dataset/images/train/01541.jpg: ignoring corrupt image/label: non-normalized or out of bounds coordinates [1.000014]\n",
      "\u001b[34m\u001b[1mtrain: \u001b[0m/home/dani/Desktop/futbol/dataset/images/train/01594.jpg: ignoring corrupt image/label: non-normalized or out of bounds coordinates [1.000008]\n",
      "\u001b[34m\u001b[1mtrain: \u001b[0m/home/dani/Desktop/futbol/dataset/images/train/01629.jpg: ignoring corrupt image/label: non-normalized or out of bounds coordinates [1.004514]\n",
      "\u001b[34m\u001b[1mtrain: \u001b[0m/home/dani/Desktop/futbol/dataset/images/train/01633.jpg: ignoring corrupt image/label: non-normalized or out of bounds coordinates [1.0365]\n",
      "\u001b[34m\u001b[1mtrain: \u001b[0m/home/dani/Desktop/futbol/dataset/images/train/01635.jpg: ignoring corrupt image/label: non-normalized or out of bounds coordinates [1.000008]\n",
      "\u001b[34m\u001b[1mtrain: \u001b[0m/home/dani/Desktop/futbol/dataset/images/train/01640.jpg: ignoring corrupt image/label: negative label values [-0.001139]\n",
      "\u001b[34m\u001b[1mtrain: \u001b[0m/home/dani/Desktop/futbol/dataset/images/train/01648.jpg: ignoring corrupt image/label: non-normalized or out of bounds coordinates [1.000014]\n",
      "\u001b[34m\u001b[1mtrain: \u001b[0m/home/dani/Desktop/futbol/dataset/images/train/01651.jpg: ignoring corrupt image/label: non-normalized or out of bounds coordinates [1.000014]\n",
      "\u001b[34m\u001b[1mtrain: \u001b[0m/home/dani/Desktop/futbol/dataset/images/train/01656.jpg: ignoring corrupt image/label: non-normalized or out of bounds coordinates [1.000008 1.000008]\n",
      "\u001b[34m\u001b[1mtrain: \u001b[0m/home/dani/Desktop/futbol/dataset/images/train/01678.jpg: ignoring corrupt image/label: non-normalized or out of bounds coordinates [1.000014]\n",
      "\u001b[34m\u001b[1mtrain: \u001b[0m/home/dani/Desktop/futbol/dataset/images/train/01683.jpg: ignoring corrupt image/label: non-normalized or out of bounds coordinates [1.000014]\n",
      "\u001b[34m\u001b[1mtrain: \u001b[0m/home/dani/Desktop/futbol/dataset/images/train/01689.jpg: ignoring corrupt image/label: non-normalized or out of bounds coordinates [1.000014]\n",
      "\u001b[34m\u001b[1mtrain: \u001b[0m/home/dani/Desktop/futbol/dataset/images/train/01692.jpg: ignoring corrupt image/label: non-normalized or out of bounds coordinates [1.000014]\n",
      "\u001b[34m\u001b[1mtrain: \u001b[0m/home/dani/Desktop/futbol/dataset/images/train/01693.jpg: ignoring corrupt image/label: non-normalized or out of bounds coordinates [1.000014]\n",
      "\u001b[34m\u001b[1mtrain: \u001b[0m/home/dani/Desktop/futbol/dataset/images/train/01707.jpg: ignoring corrupt image/label: non-normalized or out of bounds coordinates [1.000014]\n",
      "\u001b[34m\u001b[1mtrain: \u001b[0m/home/dani/Desktop/futbol/dataset/images/train/01750.jpg: ignoring corrupt image/label: non-normalized or out of bounds coordinates [1.000008]\n",
      "\u001b[34m\u001b[1mtrain: \u001b[0m/home/dani/Desktop/futbol/dataset/images/train/01899.jpg: ignoring corrupt image/label: non-normalized or out of bounds coordinates [1.000014]\n",
      "\u001b[34m\u001b[1mtrain: \u001b[0m/home/dani/Desktop/futbol/dataset/images/train/01971.jpg: ignoring corrupt image/label: non-normalized or out of bounds coordinates [1.000016]\n",
      "\u001b[34m\u001b[1mtrain: \u001b[0m/home/dani/Desktop/futbol/dataset/images/train/01975.jpg: ignoring corrupt image/label: non-normalized or out of bounds coordinates [1.000008]\n",
      "\u001b[34m\u001b[1mtrain: \u001b[0m/home/dani/Desktop/futbol/dataset/images/train/02016.jpg: ignoring corrupt image/label: non-normalized or out of bounds coordinates [1.000008]\n",
      "\u001b[34m\u001b[1mtrain: \u001b[0m/home/dani/Desktop/futbol/dataset/images/train/02022.jpg: ignoring corrupt image/label: non-normalized or out of bounds coordinates [1.000014]\n",
      "\u001b[34m\u001b[1mtrain: \u001b[0m/home/dani/Desktop/futbol/dataset/images/train/02521.jpg: ignoring corrupt image/label: non-normalized or out of bounds coordinates [1.000008]\n",
      "\u001b[34m\u001b[1mtrain: \u001b[0m/home/dani/Desktop/futbol/dataset/images/train/02526.jpg: ignoring corrupt image/label: non-normalized or out of bounds coordinates [1.000008 1.000008 1.000008]\n",
      "\u001b[34m\u001b[1mtrain: \u001b[0m/home/dani/Desktop/futbol/dataset/images/train/02530.jpg: ignoring corrupt image/label: non-normalized or out of bounds coordinates [1.000008]\n",
      "\u001b[34m\u001b[1mtrain: \u001b[0m/home/dani/Desktop/futbol/dataset/images/train/02604.jpg: ignoring corrupt image/label: non-normalized or out of bounds coordinates [1.000014]\n",
      "\u001b[34m\u001b[1mtrain: \u001b[0m/home/dani/Desktop/futbol/dataset/images/train/02643.jpg: ignoring corrupt image/label: non-normalized or out of bounds coordinates [1.000008]\n",
      "\u001b[34m\u001b[1mtrain: \u001b[0m/home/dani/Desktop/futbol/dataset/images/train/02670.jpg: ignoring corrupt image/label: non-normalized or out of bounds coordinates [1.011789]\n",
      "\u001b[34m\u001b[1mtrain: \u001b[0m/home/dani/Desktop/futbol/dataset/images/train/02819.jpg: ignoring corrupt image/label: non-normalized or out of bounds coordinates [1.000008]\n",
      "\u001b[34m\u001b[1mtrain: \u001b[0m/home/dani/Desktop/futbol/dataset/images/train/02844.jpg: ignoring corrupt image/label: non-normalized or out of bounds coordinates [1.000008]\n",
      "\u001b[34m\u001b[1mtrain: \u001b[0m/home/dani/Desktop/futbol/dataset/images/train/02845.jpg: ignoring corrupt image/label: non-normalized or out of bounds coordinates [1.000008]\n",
      "\u001b[34m\u001b[1mtrain: \u001b[0m/home/dani/Desktop/futbol/dataset/images/train/02847.jpg: ignoring corrupt image/label: non-normalized or out of bounds coordinates [1.000008]\n",
      "\u001b[34m\u001b[1mtrain: \u001b[0m/home/dani/Desktop/futbol/dataset/images/train/02855.jpg: ignoring corrupt image/label: non-normalized or out of bounds coordinates [1.000008]\n",
      "\u001b[34m\u001b[1mtrain: \u001b[0m/home/dani/Desktop/futbol/dataset/images/train/02874.jpg: ignoring corrupt image/label: non-normalized or out of bounds coordinates [1.000008]\n",
      "\u001b[34m\u001b[1mtrain: \u001b[0m/home/dani/Desktop/futbol/dataset/images/train/02880.jpg: ignoring corrupt image/label: non-normalized or out of bounds coordinates [1.000014]\n",
      "\u001b[34m\u001b[1mtrain: \u001b[0m/home/dani/Desktop/futbol/dataset/images/train/02891.jpg: ignoring corrupt image/label: non-normalized or out of bounds coordinates [1.000014]\n",
      "\u001b[34m\u001b[1mtrain: \u001b[0m/home/dani/Desktop/futbol/dataset/images/train/03067.jpg: ignoring corrupt image/label: non-normalized or out of bounds coordinates [1.000008]\n",
      "\u001b[34m\u001b[1mtrain: \u001b[0m/home/dani/Desktop/futbol/dataset/images/train/03105.jpg: ignoring corrupt image/label: non-normalized or out of bounds coordinates [1.000008]\n",
      "\u001b[34m\u001b[1mtrain: \u001b[0m/home/dani/Desktop/futbol/dataset/images/train/03200.jpg: ignoring corrupt image/label: non-normalized or out of bounds coordinates [1.001273]\n",
      "\u001b[34m\u001b[1mtrain: \u001b[0m/home/dani/Desktop/futbol/dataset/images/train/03212.jpg: ignoring corrupt image/label: non-normalized or out of bounds coordinates [1.000008]\n",
      "\u001b[34m\u001b[1mtrain: \u001b[0m/home/dani/Desktop/futbol/dataset/images/train/03294.jpg: ignoring corrupt image/label: non-normalized or out of bounds coordinates [1.000008]\n",
      "\u001b[34m\u001b[1mtrain: \u001b[0m/home/dani/Desktop/futbol/dataset/images/train/03297.jpg: ignoring corrupt image/label: non-normalized or out of bounds coordinates [1.000008 1.000008]\n",
      "\u001b[34m\u001b[1mtrain: \u001b[0m/home/dani/Desktop/futbol/dataset/images/train/03323.jpg: ignoring corrupt image/label: non-normalized or out of bounds coordinates [1.000017]\n",
      "\u001b[34m\u001b[1mtrain: \u001b[0m/home/dani/Desktop/futbol/dataset/images/train/03326.jpg: ignoring corrupt image/label: non-normalized or out of bounds coordinates [1.000017]\n",
      "\u001b[34m\u001b[1mtrain: \u001b[0m/home/dani/Desktop/futbol/dataset/images/train/03458.jpg: ignoring corrupt image/label: non-normalized or out of bounds coordinates [1.000014]\n",
      "\u001b[34m\u001b[1mtrain: \u001b[0m/home/dani/Desktop/futbol/dataset/images/train/03540.jpg: ignoring corrupt image/label: non-normalized or out of bounds coordinates [1.000008]\n",
      "\u001b[34m\u001b[1mtrain: \u001b[0m/home/dani/Desktop/futbol/dataset/images/train/03619.jpg: ignoring corrupt image/label: non-normalized or out of bounds coordinates [1.000014]\n",
      "\u001b[34m\u001b[1mtrain: \u001b[0m/home/dani/Desktop/futbol/dataset/images/train/03645.jpg: ignoring corrupt image/label: non-normalized or out of bounds coordinates [1.000008]\n",
      "\u001b[34m\u001b[1mtrain: \u001b[0m/home/dani/Desktop/futbol/dataset/images/train/03708.jpg: ignoring corrupt image/label: non-normalized or out of bounds coordinates [1.000016]\n",
      "\u001b[34m\u001b[1mtrain: \u001b[0m/home/dani/Desktop/futbol/dataset/images/train/03748.jpg: ignoring corrupt image/label: non-normalized or out of bounds coordinates [1.000014]\n",
      "\u001b[34m\u001b[1mtrain: \u001b[0m/home/dani/Desktop/futbol/dataset/images/train/03864.jpg: ignoring corrupt image/label: non-normalized or out of bounds coordinates [1.000014]\n",
      "\u001b[34m\u001b[1mtrain: \u001b[0m/home/dani/Desktop/futbol/dataset/images/train/03869.jpg: ignoring corrupt image/label: non-normalized or out of bounds coordinates [1.000014]\n",
      "\u001b[34m\u001b[1mtrain: \u001b[0m/home/dani/Desktop/futbol/dataset/images/train/03967.jpg: ignoring corrupt image/label: non-normalized or out of bounds coordinates [1.000008]\n",
      "\u001b[34m\u001b[1mtrain: \u001b[0m/home/dani/Desktop/futbol/dataset/images/train/04004.jpg: ignoring corrupt image/label: non-normalized or out of bounds coordinates [1.000014]\n",
      "\u001b[34m\u001b[1mtrain: \u001b[0m/home/dani/Desktop/futbol/dataset/images/train/04103.jpg: ignoring corrupt image/label: non-normalized or out of bounds coordinates [1.000014]\n",
      "\u001b[34m\u001b[1mtrain: \u001b[0m/home/dani/Desktop/futbol/dataset/images/train/04107.jpg: ignoring corrupt image/label: non-normalized or out of bounds coordinates [1.000014]\n",
      "\u001b[34m\u001b[1mtrain: \u001b[0m/home/dani/Desktop/futbol/dataset/images/train/04269.jpg: ignoring corrupt image/label: non-normalized or out of bounds coordinates [1.000008]\n",
      "\u001b[34m\u001b[1mtrain: \u001b[0m/home/dani/Desktop/futbol/dataset/images/train/04321.jpg: ignoring corrupt image/label: non-normalized or out of bounds coordinates [1.000008]\n",
      "\u001b[34m\u001b[1mtrain: \u001b[0m/home/dani/Desktop/futbol/dataset/images/train/04384.jpg: ignoring corrupt image/label: non-normalized or out of bounds coordinates [1.000008]\n",
      "\u001b[34m\u001b[1mtrain: \u001b[0m/home/dani/Desktop/futbol/dataset/images/train/04480.jpg: ignoring corrupt image/label: non-normalized or out of bounds coordinates [1.000008]\n",
      "\u001b[34m\u001b[1mtrain: \u001b[0m/home/dani/Desktop/futbol/dataset/images/train/04496.jpg: ignoring corrupt image/label: non-normalized or out of bounds coordinates [1.000008]\n",
      "\u001b[34m\u001b[1mtrain: \u001b[0m/home/dani/Desktop/futbol/dataset/images/train/04551.jpg: ignoring corrupt image/label: non-normalized or out of bounds coordinates [1.000008]\n",
      "\u001b[34m\u001b[1mtrain: \u001b[0m/home/dani/Desktop/futbol/dataset/images/train/04558.jpg: ignoring corrupt image/label: non-normalized or out of bounds coordinates [1.000008]\n",
      "\u001b[34m\u001b[1mtrain: \u001b[0m/home/dani/Desktop/futbol/dataset/images/train/04570.jpg: ignoring corrupt image/label: non-normalized or out of bounds coordinates [1.000016]\n",
      "\u001b[34m\u001b[1mtrain: \u001b[0m/home/dani/Desktop/futbol/dataset/images/train/04578.jpg: ignoring corrupt image/label: non-normalized or out of bounds coordinates [1.008891]\n",
      "\u001b[34m\u001b[1mtrain: \u001b[0m/home/dani/Desktop/futbol/dataset/images/train/04587.jpg: ignoring corrupt image/label: non-normalized or out of bounds coordinates [1.000016 1.000016]\n",
      "\u001b[34m\u001b[1mtrain: \u001b[0m/home/dani/Desktop/futbol/dataset/images/train/04592.jpg: ignoring corrupt image/label: non-normalized or out of bounds coordinates [1.000008]\n",
      "\u001b[34m\u001b[1mtrain: \u001b[0m/home/dani/Desktop/futbol/dataset/images/train/04593.jpg: ignoring corrupt image/label: non-normalized or out of bounds coordinates [1.000016]\n",
      "\u001b[34m\u001b[1mtrain: \u001b[0m/home/dani/Desktop/futbol/dataset/images/train/04594.jpg: ignoring corrupt image/label: non-normalized or out of bounds coordinates [1.000016]\n",
      "\u001b[34m\u001b[1mtrain: \u001b[0m/home/dani/Desktop/futbol/dataset/images/train/04599.jpg: ignoring corrupt image/label: non-normalized or out of bounds coordinates [1.000016]\n",
      "\u001b[34m\u001b[1mtrain: \u001b[0m/home/dani/Desktop/futbol/dataset/images/train/04601.jpg: ignoring corrupt image/label: non-normalized or out of bounds coordinates [1.000016 1.000008]\n",
      "\u001b[34m\u001b[1mtrain: \u001b[0m/home/dani/Desktop/futbol/dataset/images/train/04605.jpg: ignoring corrupt image/label: non-normalized or out of bounds coordinates [1.000016]\n",
      "\u001b[34m\u001b[1mtrain: \u001b[0m/home/dani/Desktop/futbol/dataset/images/train/04616.jpg: ignoring corrupt image/label: non-normalized or out of bounds coordinates [1.000016]\n",
      "\u001b[34m\u001b[1mtrain: \u001b[0m/home/dani/Desktop/futbol/dataset/images/train/04617.jpg: ignoring corrupt image/label: non-normalized or out of bounds coordinates [1.000016 1.000016 1.000016]\n",
      "\u001b[34m\u001b[1mtrain: \u001b[0m/home/dani/Desktop/futbol/dataset/images/train/04619.jpg: ignoring corrupt image/label: non-normalized or out of bounds coordinates [1.000008]\n",
      "\u001b[34m\u001b[1mtrain: \u001b[0m/home/dani/Desktop/futbol/dataset/images/train/04621.jpg: ignoring corrupt image/label: non-normalized or out of bounds coordinates [1.000016]\n",
      "\u001b[34m\u001b[1mtrain: \u001b[0m/home/dani/Desktop/futbol/dataset/images/train/04667.jpg: ignoring corrupt image/label: non-normalized or out of bounds coordinates [1.000016]\n",
      "\u001b[34m\u001b[1mtrain: \u001b[0m/home/dani/Desktop/futbol/dataset/images/train/04672.jpg: ignoring corrupt image/label: non-normalized or out of bounds coordinates [1.000008]\n",
      "\u001b[34m\u001b[1mtrain: \u001b[0m/home/dani/Desktop/futbol/dataset/images/train/04715.jpg: ignoring corrupt image/label: non-normalized or out of bounds coordinates [1.000008]\n",
      "\u001b[34m\u001b[1mtrain: \u001b[0m/home/dani/Desktop/futbol/dataset/images/train/04728.jpg: ignoring corrupt image/label: non-normalized or out of bounds coordinates [1.000008]\n",
      "\u001b[34m\u001b[1mtrain: \u001b[0m/home/dani/Desktop/futbol/dataset/images/train/04733.jpg: ignoring corrupt image/label: non-normalized or out of bounds coordinates [1.000008]\n",
      "\u001b[34m\u001b[1mtrain: \u001b[0m/home/dani/Desktop/futbol/dataset/images/train/04745.jpg: ignoring corrupt image/label: non-normalized or out of bounds coordinates [1.000008]\n",
      "\u001b[34m\u001b[1mtrain: \u001b[0m/home/dani/Desktop/futbol/dataset/images/train/04806.jpg: ignoring corrupt image/label: non-normalized or out of bounds coordinates [1.000008]\n",
      "\u001b[34m\u001b[1mtrain: \u001b[0m/home/dani/Desktop/futbol/dataset/images/train/04926.jpg: ignoring corrupt image/label: non-normalized or out of bounds coordinates [1.000014]\n",
      "\u001b[34m\u001b[1mtrain: \u001b[0m/home/dani/Desktop/futbol/dataset/images/train/05000.jpg: ignoring corrupt image/label: non-normalized or out of bounds coordinates [1.000008]\n",
      "\u001b[34m\u001b[1mtrain: \u001b[0m/home/dani/Desktop/futbol/dataset/images/train/05130.jpg: ignoring corrupt image/label: non-normalized or out of bounds coordinates [1.000008]\n",
      "\u001b[34m\u001b[1mtrain: \u001b[0m/home/dani/Desktop/futbol/dataset/images/train/05137.jpg: ignoring corrupt image/label: non-normalized or out of bounds coordinates [1.000008]\n",
      "\u001b[34m\u001b[1mtrain: \u001b[0m/home/dani/Desktop/futbol/dataset/images/train/05140.jpg: ignoring corrupt image/label: non-normalized or out of bounds coordinates [1.000008]\n",
      "\u001b[34m\u001b[1mtrain: \u001b[0m/home/dani/Desktop/futbol/dataset/images/train/05162.jpg: ignoring corrupt image/label: non-normalized or out of bounds coordinates [1.000016]\n",
      "\u001b[34m\u001b[1mtrain: \u001b[0m/home/dani/Desktop/futbol/dataset/images/train/05183.jpg: ignoring corrupt image/label: non-normalized or out of bounds coordinates [1.000008]\n",
      "\u001b[34m\u001b[1mtrain: \u001b[0m/home/dani/Desktop/futbol/dataset/images/train/05196.jpg: ignoring corrupt image/label: non-normalized or out of bounds coordinates [1.000014]\n",
      "\u001b[34m\u001b[1mtrain: \u001b[0m/home/dani/Desktop/futbol/dataset/images/train/05227.jpg: ignoring corrupt image/label: non-normalized or out of bounds coordinates [1.000016]\n",
      "\u001b[34m\u001b[1mtrain: \u001b[0m/home/dani/Desktop/futbol/dataset/images/train/05230.jpg: ignoring corrupt image/label: non-normalized or out of bounds coordinates [1.000008]\n",
      "\u001b[34m\u001b[1mtrain: \u001b[0m/home/dani/Desktop/futbol/dataset/images/train/05257.jpg: ignoring corrupt image/label: non-normalized or out of bounds coordinates [1.000016 1.000016]\n",
      "\u001b[34m\u001b[1mtrain: \u001b[0m/home/dani/Desktop/futbol/dataset/images/train/05259.jpg: ignoring corrupt image/label: non-normalized or out of bounds coordinates [1.000008]\n",
      "\u001b[34m\u001b[1mtrain: \u001b[0m/home/dani/Desktop/futbol/dataset/images/train/05263.jpg: ignoring corrupt image/label: non-normalized or out of bounds coordinates [1.000016 1.000016]\n",
      "\u001b[34m\u001b[1mtrain: \u001b[0m/home/dani/Desktop/futbol/dataset/images/train/05291.jpg: ignoring corrupt image/label: non-normalized or out of bounds coordinates [1.000014]\n",
      "\u001b[34m\u001b[1mtrain: \u001b[0m/home/dani/Desktop/futbol/dataset/images/train/05419.jpg: ignoring corrupt image/label: non-normalized or out of bounds coordinates [1.000014]\n",
      "\u001b[34m\u001b[1mtrain: \u001b[0m/home/dani/Desktop/futbol/dataset/images/train/05442.jpg: ignoring corrupt image/label: non-normalized or out of bounds coordinates [1.000014]\n",
      "\u001b[34m\u001b[1mtrain: \u001b[0m/home/dani/Desktop/futbol/dataset/images/train/05466.jpg: ignoring corrupt image/label: non-normalized or out of bounds coordinates [1.000014]\n",
      "\u001b[34m\u001b[1mtrain: \u001b[0m/home/dani/Desktop/futbol/dataset/images/train/05496.jpg: ignoring corrupt image/label: non-normalized or out of bounds coordinates [1.000014]\n",
      "\u001b[34m\u001b[1mtrain: \u001b[0m/home/dani/Desktop/futbol/dataset/images/train/05502.jpg: ignoring corrupt image/label: non-normalized or out of bounds coordinates [1.000014]\n",
      "\u001b[34m\u001b[1mtrain: \u001b[0m/home/dani/Desktop/futbol/dataset/images/train/05523.jpg: ignoring corrupt image/label: non-normalized or out of bounds coordinates [1.000014]\n",
      "\u001b[34m\u001b[1mtrain: \u001b[0m/home/dani/Desktop/futbol/dataset/images/train/05525.jpg: ignoring corrupt image/label: non-normalized or out of bounds coordinates [1.000014]\n",
      "\u001b[34m\u001b[1mtrain: \u001b[0m/home/dani/Desktop/futbol/dataset/images/train/05532.jpg: ignoring corrupt image/label: non-normalized or out of bounds coordinates [1.000014]\n",
      "\u001b[34m\u001b[1mtrain: \u001b[0m/home/dani/Desktop/futbol/dataset/images/train/05583.jpg: ignoring corrupt image/label: non-normalized or out of bounds coordinates [1.000008]\n",
      "\u001b[34m\u001b[1mtrain: \u001b[0m/home/dani/Desktop/futbol/dataset/images/train/05597.jpg: ignoring corrupt image/label: non-normalized or out of bounds coordinates [1.000016]\n",
      "\u001b[34m\u001b[1mtrain: \u001b[0m/home/dani/Desktop/futbol/dataset/images/train/05606.jpg: ignoring corrupt image/label: non-normalized or out of bounds coordinates [1.000008]\n",
      "\u001b[34m\u001b[1mtrain: \u001b[0m/home/dani/Desktop/futbol/dataset/images/train/05686.jpg: ignoring corrupt image/label: non-normalized or out of bounds coordinates [1.000008]\n",
      "\u001b[34m\u001b[1mtrain: \u001b[0m/home/dani/Desktop/futbol/dataset/images/train/05736.jpg: ignoring corrupt image/label: non-normalized or out of bounds coordinates [1.000008]\n",
      "\u001b[34m\u001b[1mtrain: \u001b[0m/home/dani/Desktop/futbol/dataset/images/train/05754.jpg: ignoring corrupt image/label: non-normalized or out of bounds coordinates [1.000008]\n",
      "\u001b[34m\u001b[1mtrain: \u001b[0m/home/dani/Desktop/futbol/dataset/images/train/05755.jpg: ignoring corrupt image/label: non-normalized or out of bounds coordinates [1.000014]\n",
      "\u001b[34m\u001b[1mtrain: \u001b[0m/home/dani/Desktop/futbol/dataset/images/train/05757.jpg: ignoring corrupt image/label: non-normalized or out of bounds coordinates [1.000014]\n",
      "\u001b[34m\u001b[1mtrain: \u001b[0m/home/dani/Desktop/futbol/dataset/images/train/05758.jpg: ignoring corrupt image/label: non-normalized or out of bounds coordinates [1.000014]\n",
      "\u001b[34m\u001b[1mtrain: \u001b[0m/home/dani/Desktop/futbol/dataset/images/train/05763.jpg: ignoring corrupt image/label: non-normalized or out of bounds coordinates [1.000014]\n",
      "\u001b[34m\u001b[1mtrain: \u001b[0m/home/dani/Desktop/futbol/dataset/images/train/05769.jpg: ignoring corrupt image/label: non-normalized or out of bounds coordinates [1.000014]\n",
      "\u001b[34m\u001b[1mtrain: \u001b[0m/home/dani/Desktop/futbol/dataset/images/train/05780.jpg: ignoring corrupt image/label: non-normalized or out of bounds coordinates [1.000014]\n",
      "\u001b[34m\u001b[1mtrain: \u001b[0m/home/dani/Desktop/futbol/dataset/images/train/05796.jpg: ignoring corrupt image/label: non-normalized or out of bounds coordinates [1.003389]\n",
      "\u001b[34m\u001b[1mtrain: \u001b[0m/home/dani/Desktop/futbol/dataset/images/train/05804.jpg: ignoring corrupt image/label: non-normalized or out of bounds coordinates [1.000014]\n",
      "\u001b[34m\u001b[1mtrain: \u001b[0m/home/dani/Desktop/futbol/dataset/images/train/05807.jpg: ignoring corrupt image/label: non-normalized or out of bounds coordinates [1.000014]\n",
      "\u001b[34m\u001b[1mtrain: \u001b[0m/home/dani/Desktop/futbol/dataset/images/train/05833.jpg: ignoring corrupt image/label: non-normalized or out of bounds coordinates [1.000014]\n",
      "\u001b[34m\u001b[1mtrain: \u001b[0m/home/dani/Desktop/futbol/dataset/images/train/06095.jpg: ignoring corrupt image/label: non-normalized or out of bounds coordinates [1.000014]\n",
      "\u001b[34m\u001b[1mtrain: \u001b[0m/home/dani/Desktop/futbol/dataset/images/train/06181.jpg: ignoring corrupt image/label: non-normalized or out of bounds coordinates [1.000009]\n",
      "\u001b[34m\u001b[1mtrain: \u001b[0m/home/dani/Desktop/futbol/dataset/images/train/06183.jpg: ignoring corrupt image/label: non-normalized or out of bounds coordinates [1.000009]\n",
      "\u001b[34m\u001b[1mtrain: \u001b[0m/home/dani/Desktop/futbol/dataset/images/train/06188.jpg: ignoring corrupt image/label: non-normalized or out of bounds coordinates [1.000009]\n",
      "\u001b[34m\u001b[1mtrain: \u001b[0m/home/dani/Desktop/futbol/dataset/images/train/06206.jpg: ignoring corrupt image/label: non-normalized or out of bounds coordinates [1.000008]\n",
      "\u001b[34m\u001b[1mtrain: \u001b[0m/home/dani/Desktop/futbol/dataset/images/train/06248.jpg: ignoring corrupt image/label: non-normalized or out of bounds coordinates [1.000009]\n",
      "\u001b[34m\u001b[1mtrain: \u001b[0m/home/dani/Desktop/futbol/dataset/images/train/06249.jpg: ignoring corrupt image/label: non-normalized or out of bounds coordinates [1.000009]\n",
      "\u001b[34m\u001b[1mtrain: \u001b[0m/home/dani/Desktop/futbol/dataset/images/train/06259.jpg: ignoring corrupt image/label: non-normalized or out of bounds coordinates [1.000009]\n",
      "\u001b[34m\u001b[1mtrain: \u001b[0m/home/dani/Desktop/futbol/dataset/images/train/06283.jpg: ignoring corrupt image/label: non-normalized or out of bounds coordinates [1.000009]\n",
      "\u001b[34m\u001b[1mtrain: \u001b[0m/home/dani/Desktop/futbol/dataset/images/train/06286.jpg: ignoring corrupt image/label: non-normalized or out of bounds coordinates [1.000009]\n",
      "\u001b[34m\u001b[1mtrain: \u001b[0m/home/dani/Desktop/futbol/dataset/images/train/06290.jpg: ignoring corrupt image/label: non-normalized or out of bounds coordinates [1.000009]\n",
      "\u001b[34m\u001b[1mtrain: \u001b[0m/home/dani/Desktop/futbol/dataset/images/train/06299.jpg: ignoring corrupt image/label: non-normalized or out of bounds coordinates [1.000014]\n",
      "\u001b[34m\u001b[1mtrain: \u001b[0m/home/dani/Desktop/futbol/dataset/images/train/06325.jpg: ignoring corrupt image/label: non-normalized or out of bounds coordinates [1.000014]\n",
      "\u001b[34m\u001b[1mtrain: \u001b[0m/home/dani/Desktop/futbol/dataset/images/train/06326.jpg: ignoring corrupt image/label: non-normalized or out of bounds coordinates [1.000014]\n",
      "\u001b[34m\u001b[1mtrain: \u001b[0m/home/dani/Desktop/futbol/dataset/images/train/06331.jpg: ignoring corrupt image/label: non-normalized or out of bounds coordinates [1.000014]\n",
      "\u001b[34m\u001b[1mtrain: \u001b[0m/home/dani/Desktop/futbol/dataset/images/train/06433.jpg: ignoring corrupt image/label: non-normalized or out of bounds coordinates [1.000005 1.000005]\n",
      "\u001b[34m\u001b[1mtrain: \u001b[0m/home/dani/Desktop/futbol/dataset/images/train/06458.jpg: ignoring corrupt image/label: non-normalized or out of bounds coordinates [1.00001]\n",
      "\u001b[34m\u001b[1mtrain: \u001b[0m/home/dani/Desktop/futbol/dataset/images/train/06472.jpg: ignoring corrupt image/label: non-normalized or out of bounds coordinates [1.000008]\n",
      "\u001b[34m\u001b[1mtrain: \u001b[0m/home/dani/Desktop/futbol/dataset/images/train/06479.jpg: ignoring corrupt image/label: non-normalized or out of bounds coordinates [1.000008]\n",
      "\u001b[34m\u001b[1mtrain: \u001b[0m/home/dani/Desktop/futbol/dataset/images/train/06496.jpg: ignoring corrupt image/label: non-normalized or out of bounds coordinates [1.000014]\n",
      "\u001b[34m\u001b[1mtrain: \u001b[0m/home/dani/Desktop/futbol/dataset/images/train/06499.jpg: ignoring corrupt image/label: non-normalized or out of bounds coordinates [1.000014]\n",
      "\u001b[34m\u001b[1mtrain: \u001b[0m/home/dani/Desktop/futbol/dataset/images/train/06503.jpg: ignoring corrupt image/label: non-normalized or out of bounds coordinates [1.000014]\n",
      "\u001b[34m\u001b[1mtrain: \u001b[0m/home/dani/Desktop/futbol/dataset/images/train/06506.jpg: ignoring corrupt image/label: non-normalized or out of bounds coordinates [1.000014]\n",
      "\u001b[34m\u001b[1mtrain: \u001b[0m/home/dani/Desktop/futbol/dataset/images/train/06527.jpg: ignoring corrupt image/label: non-normalized or out of bounds coordinates [1.000014]\n",
      "\u001b[34m\u001b[1mtrain: \u001b[0m/home/dani/Desktop/futbol/dataset/images/train/06536.jpg: ignoring corrupt image/label: non-normalized or out of bounds coordinates [1.000014]\n",
      "\u001b[34m\u001b[1mtrain: \u001b[0m/home/dani/Desktop/futbol/dataset/images/train/06562.jpg: ignoring corrupt image/label: non-normalized or out of bounds coordinates [1.000014]\n",
      "\u001b[34m\u001b[1mtrain: \u001b[0m/home/dani/Desktop/futbol/dataset/images/train/06644.jpg: ignoring corrupt image/label: non-normalized or out of bounds coordinates [1.000005]\n",
      "\u001b[34m\u001b[1mtrain: \u001b[0m/home/dani/Desktop/futbol/dataset/images/train/06656.jpg: ignoring corrupt image/label: non-normalized or out of bounds coordinates [1.000009]\n",
      "\u001b[34m\u001b[1mtrain: \u001b[0m/home/dani/Desktop/futbol/dataset/images/train/06661.jpg: ignoring corrupt image/label: non-normalized or out of bounds coordinates [1.000005]\n",
      "\u001b[34m\u001b[1mtrain: \u001b[0m/home/dani/Desktop/futbol/dataset/images/train/06727.jpg: ignoring corrupt image/label: non-normalized or out of bounds coordinates [1.000014]\n",
      "\u001b[34m\u001b[1mtrain: \u001b[0m/home/dani/Desktop/futbol/dataset/images/train/06754.jpg: ignoring corrupt image/label: non-normalized or out of bounds coordinates [1.000014]\n",
      "\u001b[34m\u001b[1mtrain: \u001b[0m/home/dani/Desktop/futbol/dataset/images/train/06978.jpg: ignoring corrupt image/label: non-normalized or out of bounds coordinates [1.000014]\n",
      "\u001b[34m\u001b[1mtrain: \u001b[0m/home/dani/Desktop/futbol/dataset/images/train/07006.jpg: ignoring corrupt image/label: non-normalized or out of bounds coordinates [1.000014]\n",
      "\u001b[34m\u001b[1mtrain: \u001b[0m/home/dani/Desktop/futbol/dataset/images/train/07026.jpg: ignoring corrupt image/label: non-normalized or out of bounds coordinates [1.000014]\n",
      "\u001b[34m\u001b[1mtrain: \u001b[0m/home/dani/Desktop/futbol/dataset/images/train/07028.jpg: ignoring corrupt image/label: non-normalized or out of bounds coordinates [1.000014]\n",
      "\u001b[34m\u001b[1mtrain: \u001b[0m/home/dani/Desktop/futbol/dataset/images/train/07038.jpg: ignoring corrupt image/label: non-normalized or out of bounds coordinates [1.000016 1.000016 1.000016]\n",
      "\u001b[34m\u001b[1mtrain: \u001b[0m/home/dani/Desktop/futbol/dataset/images/train/07040.jpg: ignoring corrupt image/label: non-normalized or out of bounds coordinates [1.000016]\n",
      "\u001b[34m\u001b[1mtrain: \u001b[0m/home/dani/Desktop/futbol/dataset/images/train/07064.jpg: ignoring corrupt image/label: non-normalized or out of bounds coordinates [1.000008]\n",
      "\u001b[34m\u001b[1mtrain: \u001b[0m/home/dani/Desktop/futbol/dataset/images/train/07222.jpg: ignoring corrupt image/label: non-normalized or out of bounds coordinates [1.000014]\n",
      "\u001b[34m\u001b[1mtrain: \u001b[0m/home/dani/Desktop/futbol/dataset/images/train/07227.jpg: ignoring corrupt image/label: non-normalized or out of bounds coordinates [1.000014]\n",
      "\u001b[34m\u001b[1mtrain: \u001b[0m/home/dani/Desktop/futbol/dataset/images/train/07231.jpg: ignoring corrupt image/label: non-normalized or out of bounds coordinates [1.000014]\n",
      "\u001b[34m\u001b[1mtrain: \u001b[0m/home/dani/Desktop/futbol/dataset/images/train/07238.jpg: ignoring corrupt image/label: non-normalized or out of bounds coordinates [1.000014 1.000014]\n",
      "\u001b[34m\u001b[1mtrain: \u001b[0m/home/dani/Desktop/futbol/dataset/images/train/07317.jpg: ignoring corrupt image/label: non-normalized or out of bounds coordinates [1.000014]\n",
      "\u001b[34m\u001b[1mtrain: \u001b[0m/home/dani/Desktop/futbol/dataset/images/train/07343.jpg: ignoring corrupt image/label: non-normalized or out of bounds coordinates [1.000014]\n",
      "\u001b[34m\u001b[1mtrain: \u001b[0m/home/dani/Desktop/futbol/dataset/images/train/07344.jpg: ignoring corrupt image/label: non-normalized or out of bounds coordinates [1.000014]\n",
      "\u001b[34m\u001b[1mtrain: \u001b[0m/home/dani/Desktop/futbol/dataset/images/train/07350.jpg: ignoring corrupt image/label: non-normalized or out of bounds coordinates [1.000014]\n",
      "\u001b[34m\u001b[1mtrain: \u001b[0m/home/dani/Desktop/futbol/dataset/images/train/07364.jpg: ignoring corrupt image/label: non-normalized or out of bounds coordinates [1.000008]\n",
      "\u001b[34m\u001b[1mtrain: \u001b[0m/home/dani/Desktop/futbol/dataset/images/train/07366.jpg: ignoring corrupt image/label: non-normalized or out of bounds coordinates [1.000016 1.000016]\n",
      "\u001b[34m\u001b[1mtrain: \u001b[0m/home/dani/Desktop/futbol/dataset/images/train/07368.jpg: ignoring corrupt image/label: non-normalized or out of bounds coordinates [1.000016 1.000016]\n",
      "\u001b[34m\u001b[1mtrain: \u001b[0m/home/dani/Desktop/futbol/dataset/images/train/07370.jpg: ignoring corrupt image/label: non-normalized or out of bounds coordinates [1.000016 1.000016 1.000016]\n",
      "\u001b[34m\u001b[1mtrain: \u001b[0m/home/dani/Desktop/futbol/dataset/images/train/07372.jpg: ignoring corrupt image/label: non-normalized or out of bounds coordinates [1.000016]\n",
      "\u001b[34m\u001b[1mtrain: \u001b[0m/home/dani/Desktop/futbol/dataset/images/train/07379.jpg: ignoring corrupt image/label: non-normalized or out of bounds coordinates [1.000016]\n",
      "\u001b[34m\u001b[1mtrain: \u001b[0m/home/dani/Desktop/futbol/dataset/images/train/07391.jpg: ignoring corrupt image/label: non-normalized or out of bounds coordinates [1.000016 1.000016]\n",
      "\u001b[34m\u001b[1mtrain: \u001b[0m/home/dani/Desktop/futbol/dataset/images/train/07411.jpg: ignoring corrupt image/label: non-normalized or out of bounds coordinates [1.000016 1.000016 1.000016]\n",
      "\u001b[34m\u001b[1mtrain: \u001b[0m/home/dani/Desktop/futbol/dataset/images/train/07419.jpg: ignoring corrupt image/label: non-normalized or out of bounds coordinates [1.000016 1.000016]\n",
      "\u001b[34m\u001b[1mtrain: \u001b[0m/home/dani/Desktop/futbol/dataset/images/train/07507.jpg: ignoring corrupt image/label: non-normalized or out of bounds coordinates [1.004555]\n",
      "\u001b[34m\u001b[1mtrain: \u001b[0m/home/dani/Desktop/futbol/dataset/images/train/07572.jpg: ignoring corrupt image/label: non-normalized or out of bounds coordinates [1.002556]\n",
      "\u001b[34m\u001b[1mtrain: \u001b[0m/home/dani/Desktop/futbol/dataset/images/train/07614.jpg: ignoring corrupt image/label: non-normalized or out of bounds coordinates [1.000008]\n",
      "\u001b[34m\u001b[1mtrain: \u001b[0m/home/dani/Desktop/futbol/dataset/images/train/07739.jpg: ignoring corrupt image/label: non-normalized or out of bounds coordinates [1.000014]\n",
      "\u001b[34m\u001b[1mtrain: \u001b[0m/home/dani/Desktop/futbol/dataset/images/train/07769.jpg: ignoring corrupt image/label: non-normalized or out of bounds coordinates [1.000014]\n",
      "\u001b[34m\u001b[1mtrain: \u001b[0m/home/dani/Desktop/futbol/dataset/images/train/07779.jpg: ignoring corrupt image/label: non-normalized or out of bounds coordinates [1.000008]\n",
      "\u001b[34m\u001b[1mtrain: \u001b[0m/home/dani/Desktop/futbol/dataset/images/train/07797.jpg: ignoring corrupt image/label: non-normalized or out of bounds coordinates [1.000008]\n",
      "\u001b[34m\u001b[1mtrain: \u001b[0m/home/dani/Desktop/futbol/dataset/images/train/07806.jpg: ignoring corrupt image/label: non-normalized or out of bounds coordinates [1.000008]\n",
      "\u001b[34m\u001b[1mtrain: \u001b[0m/home/dani/Desktop/futbol/dataset/images/train/07822.jpg: ignoring corrupt image/label: non-normalized or out of bounds coordinates [1.000014]\n",
      "\u001b[34m\u001b[1mtrain: \u001b[0m/home/dani/Desktop/futbol/dataset/images/train/07833.jpg: ignoring corrupt image/label: non-normalized or out of bounds coordinates [1.000014]\n",
      "\u001b[34m\u001b[1mtrain: \u001b[0m/home/dani/Desktop/futbol/dataset/images/train/08045.jpg: ignoring corrupt image/label: non-normalized or out of bounds coordinates [1.000014]\n",
      "\u001b[34m\u001b[1mtrain: \u001b[0m/home/dani/Desktop/futbol/dataset/images/train/08058.jpg: ignoring corrupt image/label: non-normalized or out of bounds coordinates [1.000014]\n",
      "\u001b[34m\u001b[1mtrain: \u001b[0m/home/dani/Desktop/futbol/dataset/images/train/08243.jpg: ignoring corrupt image/label: non-normalized or out of bounds coordinates [1.000009]\n",
      "\u001b[34m\u001b[1mtrain: \u001b[0m/home/dani/Desktop/futbol/dataset/images/train/08410.jpg: ignoring corrupt image/label: non-normalized or out of bounds coordinates [1.001219]\n",
      "\u001b[34m\u001b[1mtrain: \u001b[0m/home/dani/Desktop/futbol/dataset/images/train/08426.jpg: ignoring corrupt image/label: non-normalized or out of bounds coordinates [1.001227]\n",
      "\u001b[34m\u001b[1mtrain: \u001b[0m/home/dani/Desktop/futbol/dataset/images/train/08454.jpg: ignoring corrupt image/label: non-normalized or out of bounds coordinates [1.000014]\n",
      "\u001b[34m\u001b[1mtrain: \u001b[0m/home/dani/Desktop/futbol/dataset/images/train/08497.jpg: ignoring corrupt image/label: non-normalized or out of bounds coordinates [1.000008]\n",
      "\u001b[34m\u001b[1mtrain: \u001b[0m/home/dani/Desktop/futbol/dataset/images/train/08538.jpg: ignoring corrupt image/label: non-normalized or out of bounds coordinates [1.000014]\n",
      "\u001b[34m\u001b[1mtrain: \u001b[0m/home/dani/Desktop/futbol/dataset/images/train/08688.jpg: ignoring corrupt image/label: non-normalized or out of bounds coordinates [1.000008]\n",
      "\u001b[34m\u001b[1mtrain: \u001b[0m/home/dani/Desktop/futbol/dataset/images/train/08810.jpg: ignoring corrupt image/label: non-normalized or out of bounds coordinates [1.00001]\n",
      "\u001b[34m\u001b[1mtrain: \u001b[0m/home/dani/Desktop/futbol/dataset/images/train/08976.jpg: ignoring corrupt image/label: non-normalized or out of bounds coordinates [1.000009]\n",
      "\u001b[34m\u001b[1mtrain: \u001b[0m/home/dani/Desktop/futbol/dataset/images/train/08981.jpg: ignoring corrupt image/label: non-normalized or out of bounds coordinates [1.000009]\n",
      "\u001b[34m\u001b[1mtrain: \u001b[0m/home/dani/Desktop/futbol/dataset/images/train/09020.jpg: ignoring corrupt image/label: non-normalized or out of bounds coordinates [1.000009]\n",
      "\u001b[34m\u001b[1mtrain: \u001b[0m/home/dani/Desktop/futbol/dataset/images/train/09069.jpg: ignoring corrupt image/label: non-normalized or out of bounds coordinates [1.000009]\n",
      "\u001b[34m\u001b[1mtrain: \u001b[0m/home/dani/Desktop/futbol/dataset/images/train/09071.jpg: ignoring corrupt image/label: non-normalized or out of bounds coordinates [1.000009]\n",
      "\u001b[34m\u001b[1mtrain: \u001b[0m/home/dani/Desktop/futbol/dataset/images/train/09081.jpg: ignoring corrupt image/label: non-normalized or out of bounds coordinates [1.000009]\n",
      "\u001b[34m\u001b[1mtrain: \u001b[0m/home/dani/Desktop/futbol/dataset/images/train/09173.jpg: ignoring corrupt image/label: non-normalized or out of bounds coordinates [1.000014]\n",
      "\u001b[34m\u001b[1mtrain: \u001b[0m/home/dani/Desktop/futbol/dataset/images/train/09194.jpg: ignoring corrupt image/label: non-normalized or out of bounds coordinates [1.000014]\n",
      "\u001b[34m\u001b[1mtrain: \u001b[0m/home/dani/Desktop/futbol/dataset/images/train/09261.jpg: ignoring corrupt image/label: non-normalized or out of bounds coordinates [1.000014]\n",
      "\u001b[34m\u001b[1mtrain: \u001b[0m/home/dani/Desktop/futbol/dataset/images/train/09323.jpg: ignoring corrupt image/label: non-normalized or out of bounds coordinates [1.000014]\n",
      "\u001b[34m\u001b[1mtrain: \u001b[0m/home/dani/Desktop/futbol/dataset/images/train/09419.jpg: ignoring corrupt image/label: non-normalized or out of bounds coordinates [1.068984]\n",
      "\u001b[34m\u001b[1mtrain: \u001b[0m/home/dani/Desktop/futbol/dataset/images/train/09574.jpg: ignoring corrupt image/label: non-normalized or out of bounds coordinates [1.000014]\n",
      "\u001b[34m\u001b[1mtrain: \u001b[0m/home/dani/Desktop/futbol/dataset/images/train/09644.jpg: ignoring corrupt image/label: non-normalized or out of bounds coordinates [1.000005]\n",
      "\u001b[34m\u001b[1mtrain: \u001b[0m/home/dani/Desktop/futbol/dataset/images/train/09846.jpg: ignoring corrupt image/label: non-normalized or out of bounds coordinates [1.000005]\n",
      "\u001b[34m\u001b[1mtrain: \u001b[0m/home/dani/Desktop/futbol/dataset/images/train/09857.jpg: ignoring corrupt image/label: non-normalized or out of bounds coordinates [1.000005]\n",
      "\u001b[34m\u001b[1mtrain: \u001b[0m/home/dani/Desktop/futbol/dataset/images/train/09888.jpg: ignoring corrupt image/label: non-normalized or out of bounds coordinates [1.000005]\n",
      "\u001b[34m\u001b[1mtrain: \u001b[0m/home/dani/Desktop/futbol/dataset/images/train/09892.jpg: ignoring corrupt image/label: non-normalized or out of bounds coordinates [1.000005]\n",
      "\u001b[34m\u001b[1mtrain: \u001b[0m/home/dani/Desktop/futbol/dataset/images/train/09898.jpg: ignoring corrupt image/label: non-normalized or out of bounds coordinates [1.000016]\n",
      "\u001b[34m\u001b[1mtrain: \u001b[0m/home/dani/Desktop/futbol/dataset/images/train/09948.jpg: ignoring corrupt image/label: non-normalized or out of bounds coordinates [1.000005]\n",
      "\u001b[34m\u001b[1mtrain: \u001b[0m/home/dani/Desktop/futbol/dataset/images/train/10129.jpg: ignoring corrupt image/label: non-normalized or out of bounds coordinates [1.000009]\n",
      "\u001b[34m\u001b[1mtrain: \u001b[0m/home/dani/Desktop/futbol/dataset/images/train/10140.jpg: ignoring corrupt image/label: non-normalized or out of bounds coordinates [1.000005]\n",
      "\u001b[34m\u001b[1mtrain: \u001b[0m/home/dani/Desktop/futbol/dataset/images/train/10182.jpg: ignoring corrupt image/label: non-normalized or out of bounds coordinates [1.000005]\n",
      "\u001b[34m\u001b[1mtrain: \u001b[0m/home/dani/Desktop/futbol/dataset/images/train/10189.jpg: ignoring corrupt image/label: non-normalized or out of bounds coordinates [1.000021 1.00001 ]\n",
      "\u001b[34m\u001b[1mtrain: \u001b[0m/home/dani/Desktop/futbol/dataset/images/train/10205.jpg: ignoring corrupt image/label: non-normalized or out of bounds coordinates [1.000005 1.000021]\n",
      "\u001b[34m\u001b[1mtrain: \u001b[0m/home/dani/Desktop/futbol/dataset/images/train/10214.jpg: ignoring corrupt image/label: non-normalized or out of bounds coordinates [1.000021]\n",
      "\u001b[34m\u001b[1mtrain: \u001b[0m/home/dani/Desktop/futbol/dataset/images/train/10215.jpg: ignoring corrupt image/label: non-normalized or out of bounds coordinates [1.000021]\n",
      "\u001b[34m\u001b[1mtrain: \u001b[0m/home/dani/Desktop/futbol/dataset/images/train/10225.jpg: ignoring corrupt image/label: non-normalized or out of bounds coordinates [1.000021 1.000021]\n",
      "\u001b[34m\u001b[1mtrain: \u001b[0m/home/dani/Desktop/futbol/dataset/images/train/10238.jpg: ignoring corrupt image/label: non-normalized or out of bounds coordinates [1.000009]\n",
      "\u001b[34m\u001b[1mtrain: \u001b[0m/home/dani/Desktop/futbol/dataset/images/train/10239.jpg: ignoring corrupt image/label: non-normalized or out of bounds coordinates [1.000021]\n",
      "\u001b[34m\u001b[1mtrain: \u001b[0m/home/dani/Desktop/futbol/dataset/images/train/10315.jpg: ignoring corrupt image/label: non-normalized or out of bounds coordinates [1.000008]\n",
      "\u001b[34m\u001b[1mtrain: \u001b[0m/home/dani/Desktop/futbol/dataset/images/train/10516.jpg: ignoring corrupt image/label: non-normalized or out of bounds coordinates [1.000005 1.001338]\n",
      "\u001b[34m\u001b[1mtrain: \u001b[0m/home/dani/Desktop/futbol/dataset/images/train/10577.jpg: ignoring corrupt image/label: non-normalized or out of bounds coordinates [1.000009]\n",
      "\u001b[34m\u001b[1mtrain: \u001b[0m/home/dani/Desktop/futbol/dataset/images/train/10597.jpg: ignoring corrupt image/label: non-normalized or out of bounds coordinates [1.000005]\n",
      "\u001b[34m\u001b[1mtrain: \u001b[0m/home/dani/Desktop/futbol/dataset/images/train/10658.jpg: ignoring corrupt image/label: non-normalized or out of bounds coordinates [1.000005]\n",
      "\u001b[34m\u001b[1mtrain: \u001b[0m/home/dani/Desktop/futbol/dataset/images/train/10699.jpg: ignoring corrupt image/label: non-normalized or out of bounds coordinates [1.00001]\n",
      "\u001b[34m\u001b[1mtrain: \u001b[0m/home/dani/Desktop/futbol/dataset/images/train/10704.jpg: ignoring corrupt image/label: non-normalized or out of bounds coordinates [1.00001 1.00001]\n",
      "\u001b[34m\u001b[1mtrain: \u001b[0m/home/dani/Desktop/futbol/dataset/images/train/10707.jpg: ignoring corrupt image/label: non-normalized or out of bounds coordinates [1.00001]\n",
      "\u001b[34m\u001b[1mtrain: \u001b[0m/home/dani/Desktop/futbol/dataset/images/train/10712.jpg: ignoring corrupt image/label: non-normalized or out of bounds coordinates [1.00001]\n",
      "\u001b[34m\u001b[1mtrain: \u001b[0m/home/dani/Desktop/futbol/dataset/images/train/10755.jpg: ignoring corrupt image/label: non-normalized or out of bounds coordinates [1.000005]\n",
      "\u001b[34m\u001b[1mtrain: \u001b[0m/home/dani/Desktop/futbol/dataset/images/train/10758.jpg: ignoring corrupt image/label: non-normalized or out of bounds coordinates [1.000005]\n",
      "\u001b[34m\u001b[1mtrain: \u001b[0m/home/dani/Desktop/futbol/dataset/images/train/10766.jpg: ignoring corrupt image/label: non-normalized or out of bounds coordinates [1.000005]\n",
      "\u001b[34m\u001b[1mtrain: \u001b[0m/home/dani/Desktop/futbol/dataset/images/train/10839.jpg: ignoring corrupt image/label: non-normalized or out of bounds coordinates [1.003284]\n",
      "\u001b[34m\u001b[1mtrain: \u001b[0m/home/dani/Desktop/futbol/dataset/images/train/10875.jpg: ignoring corrupt image/label: non-normalized or out of bounds coordinates [1.000009]\n",
      "\u001b[34m\u001b[1mtrain: \u001b[0m/home/dani/Desktop/futbol/dataset/images/train/10877.jpg: ignoring corrupt image/label: non-normalized or out of bounds coordinates [1.000009]\n",
      "\u001b[34m\u001b[1mtrain: \u001b[0m/home/dani/Desktop/futbol/dataset/images/train/10900.jpg: ignoring corrupt image/label: non-normalized or out of bounds coordinates [1.000009]\n",
      "\u001b[34m\u001b[1mtrain: \u001b[0m/home/dani/Desktop/futbol/dataset/images/train/10908.jpg: ignoring corrupt image/label: non-normalized or out of bounds coordinates [1.000009]\n",
      "\u001b[34m\u001b[1mtrain: \u001b[0m/home/dani/Desktop/futbol/dataset/images/train/10923.jpg: ignoring corrupt image/label: non-normalized or out of bounds coordinates [1.000009]\n",
      "\u001b[34m\u001b[1mtrain: \u001b[0m/home/dani/Desktop/futbol/dataset/images/train/10939.jpg: ignoring corrupt image/label: non-normalized or out of bounds coordinates [1.000009]\n",
      "\u001b[34m\u001b[1mtrain: \u001b[0m/home/dani/Desktop/futbol/dataset/images/train/10942.jpg: ignoring corrupt image/label: non-normalized or out of bounds coordinates [1.000009]\n",
      "\u001b[34m\u001b[1mtrain: \u001b[0m/home/dani/Desktop/futbol/dataset/images/train/10994.jpg: ignoring corrupt image/label: non-normalized or out of bounds coordinates [1.002453]\n",
      "\u001b[34m\u001b[1mtrain: \u001b[0m/home/dani/Desktop/futbol/dataset/images/train/11030.jpg: ignoring corrupt image/label: non-normalized or out of bounds coordinates [1.000009]\n",
      "\u001b[34m\u001b[1mtrain: \u001b[0m/home/dani/Desktop/futbol/dataset/images/train/11039.jpg: ignoring corrupt image/label: non-normalized or out of bounds coordinates [1.000009]\n",
      "\u001b[34m\u001b[1mtrain: \u001b[0m/home/dani/Desktop/futbol/dataset/images/train/11051.jpg: ignoring corrupt image/label: non-normalized or out of bounds coordinates [1.000005]\n",
      "\u001b[34m\u001b[1mtrain: \u001b[0m/home/dani/Desktop/futbol/dataset/images/train/11061.jpg: ignoring corrupt image/label: non-normalized or out of bounds coordinates [1.000009]\n",
      "\u001b[34m\u001b[1mtrain: \u001b[0m/home/dani/Desktop/futbol/dataset/images/train/11063.jpg: ignoring corrupt image/label: non-normalized or out of bounds coordinates [1.000009]\n",
      "\u001b[34m\u001b[1mtrain: \u001b[0m/home/dani/Desktop/futbol/dataset/images/train/11083.jpg: ignoring corrupt image/label: non-normalized or out of bounds coordinates [1.000009]\n",
      "\u001b[34m\u001b[1mtrain: \u001b[0m/home/dani/Desktop/futbol/dataset/images/train/11133.jpg: ignoring corrupt image/label: non-normalized or out of bounds coordinates [1.000005]\n",
      "\u001b[34m\u001b[1mtrain: \u001b[0m/home/dani/Desktop/futbol/dataset/images/train/11183.jpg: ignoring corrupt image/label: non-normalized or out of bounds coordinates [1.000009]\n",
      "\u001b[34m\u001b[1mtrain: \u001b[0m/home/dani/Desktop/futbol/dataset/images/train/11251.jpg: ignoring corrupt image/label: non-normalized or out of bounds coordinates [1.000005]\n",
      "\u001b[34m\u001b[1mtrain: \u001b[0m/home/dani/Desktop/futbol/dataset/images/train/11315.jpg: ignoring corrupt image/label: non-normalized or out of bounds coordinates [1.000014]\n",
      "\u001b[34m\u001b[1mtrain: \u001b[0m/home/dani/Desktop/futbol/dataset/images/train/11341.jpg: ignoring corrupt image/label: non-normalized or out of bounds coordinates [1.000014]\n",
      "\u001b[34m\u001b[1mtrain: \u001b[0m/home/dani/Desktop/futbol/dataset/images/train/11398.jpg: ignoring corrupt image/label: non-normalized or out of bounds coordinates [1.000014]\n",
      "\u001b[34m\u001b[1mtrain: \u001b[0m/home/dani/Desktop/futbol/dataset/images/train/11443.jpg: ignoring corrupt image/label: non-normalized or out of bounds coordinates [1.002121]\n",
      "\u001b[34m\u001b[1mtrain: \u001b[0m/home/dani/Desktop/futbol/dataset/images/train/11652.jpg: ignoring corrupt image/label: non-normalized or out of bounds coordinates [1.000203]\n",
      "\u001b[34m\u001b[1mtrain: \u001b[0m/home/dani/Desktop/futbol/dataset/images/train/11658.jpg: ignoring corrupt image/label: non-normalized or out of bounds coordinates [1.000008]\n",
      "\u001b[34m\u001b[1mtrain: \u001b[0m/home/dani/Desktop/futbol/dataset/images/train/11713.jpg: ignoring corrupt image/label: non-normalized or out of bounds coordinates [1.000008]\n",
      "\u001b[34m\u001b[1mtrain: \u001b[0m/home/dani/Desktop/futbol/dataset/images/train/11728.jpg: ignoring corrupt image/label: non-normalized or out of bounds coordinates [1.000008]\n",
      "\u001b[34m\u001b[1mtrain: \u001b[0m/home/dani/Desktop/futbol/dataset/images/train/11732.jpg: ignoring corrupt image/label: non-normalized or out of bounds coordinates [1.000008]\n",
      "\u001b[34m\u001b[1mtrain: \u001b[0m/home/dani/Desktop/futbol/dataset/images/train/11745.jpg: ignoring corrupt image/label: non-normalized or out of bounds coordinates [1.000005 1.000005]\n",
      "\u001b[34m\u001b[1mtrain: \u001b[0m/home/dani/Desktop/futbol/dataset/images/train/11746.jpg: ignoring corrupt image/label: non-normalized or out of bounds coordinates [1.000005]\n",
      "\u001b[34m\u001b[1mtrain: \u001b[0m/home/dani/Desktop/futbol/dataset/images/train/11894.jpg: ignoring corrupt image/label: non-normalized or out of bounds coordinates [1.000008]\n",
      "\u001b[34m\u001b[1mtrain: \u001b[0m/home/dani/Desktop/futbol/dataset/images/train/11988.jpg: ignoring corrupt image/label: non-normalized or out of bounds coordinates [1.000014]\n",
      "\u001b[34m\u001b[1mtrain: \u001b[0m/home/dani/Desktop/futbol/dataset/images/train/12058.jpg: ignoring corrupt image/label: non-normalized or out of bounds coordinates [1.000008]\n",
      "\u001b[34m\u001b[1mtrain: \u001b[0m/home/dani/Desktop/futbol/dataset/images/train/12213.jpg: ignoring corrupt image/label: non-normalized or out of bounds coordinates [1.00001]\n",
      "\u001b[34m\u001b[1mtrain: \u001b[0m/home/dani/Desktop/futbol/dataset/images/train/12241.jpg: ignoring corrupt image/label: non-normalized or out of bounds coordinates [1.00001]\n",
      "\u001b[34m\u001b[1mtrain: \u001b[0m/home/dani/Desktop/futbol/dataset/images/train/12320.jpg: ignoring corrupt image/label: non-normalized or out of bounds coordinates [1.000005]\n",
      "\u001b[34m\u001b[1mtrain: \u001b[0m/home/dani/Desktop/futbol/dataset/images/train/12325.jpg: ignoring corrupt image/label: non-normalized or out of bounds coordinates [1.000005]\n",
      "\u001b[34m\u001b[1mtrain: \u001b[0m/home/dani/Desktop/futbol/dataset/images/train/12486.jpg: ignoring corrupt image/label: non-normalized or out of bounds coordinates [1.000005]\n",
      "\u001b[34m\u001b[1mtrain: \u001b[0m/home/dani/Desktop/futbol/dataset/images/train/12661.jpg: ignoring corrupt image/label: non-normalized or out of bounds coordinates [1.000009]\n",
      "\u001b[34m\u001b[1mtrain: \u001b[0m/home/dani/Desktop/futbol/dataset/images/train/12684.jpg: ignoring corrupt image/label: non-normalized or out of bounds coordinates [1.000009]\n",
      "\u001b[34m\u001b[1mtrain: \u001b[0m/home/dani/Desktop/futbol/dataset/images/train/12688.jpg: ignoring corrupt image/label: non-normalized or out of bounds coordinates [1.000009]\n",
      "\u001b[34m\u001b[1mtrain: \u001b[0m/home/dani/Desktop/futbol/dataset/images/train/12791.jpg: ignoring corrupt image/label: non-normalized or out of bounds coordinates [1.000021]\n",
      "\u001b[34m\u001b[1mtrain: \u001b[0m/home/dani/Desktop/futbol/dataset/images/train/12813.jpg: ignoring corrupt image/label: non-normalized or out of bounds coordinates [1.000021]\n",
      "\u001b[34m\u001b[1mtrain: \u001b[0m/home/dani/Desktop/futbol/dataset/images/train/12850.jpg: ignoring corrupt image/label: non-normalized or out of bounds coordinates [1.000005]\n",
      "\u001b[34m\u001b[1mtrain: \u001b[0m/home/dani/Desktop/futbol/dataset/images/train/12853.jpg: ignoring corrupt image/label: non-normalized or out of bounds coordinates [1.000009]\n",
      "\u001b[34m\u001b[1mtrain: \u001b[0m/home/dani/Desktop/futbol/dataset/images/train/12875.jpg: ignoring corrupt image/label: non-normalized or out of bounds coordinates [1.000009]\n",
      "\u001b[34m\u001b[1mtrain: \u001b[0m/home/dani/Desktop/futbol/dataset/images/train/12895.jpg: ignoring corrupt image/label: non-normalized or out of bounds coordinates [1.000009]\n",
      "\u001b[34m\u001b[1mtrain: \u001b[0m/home/dani/Desktop/futbol/dataset/images/train/12933.jpg: ignoring corrupt image/label: non-normalized or out of bounds coordinates [1.000009]\n",
      "\u001b[34m\u001b[1mtrain: \u001b[0m/home/dani/Desktop/futbol/dataset/images/train/12975.jpg: ignoring corrupt image/label: non-normalized or out of bounds coordinates [1.000009]\n",
      "\u001b[34m\u001b[1mtrain: \u001b[0m/home/dani/Desktop/futbol/dataset/images/train/12986.jpg: ignoring corrupt image/label: non-normalized or out of bounds coordinates [1.000009]\n",
      "\u001b[34m\u001b[1mtrain: \u001b[0m/home/dani/Desktop/futbol/dataset/images/train/12989.jpg: ignoring corrupt image/label: non-normalized or out of bounds coordinates [1.000009]\n",
      "\u001b[34m\u001b[1mtrain: \u001b[0m/home/dani/Desktop/futbol/dataset/images/train/13091.jpg: ignoring corrupt image/label: non-normalized or out of bounds coordinates [1.000009]\n",
      "\u001b[34m\u001b[1mtrain: \u001b[0m/home/dani/Desktop/futbol/dataset/images/train/13101.jpg: ignoring corrupt image/label: non-normalized or out of bounds coordinates [1.000009]\n",
      "\u001b[34m\u001b[1mtrain: \u001b[0m/home/dani/Desktop/futbol/dataset/images/train/13139.jpg: ignoring corrupt image/label: non-normalized or out of bounds coordinates [1.000009]\n",
      "\u001b[34m\u001b[1mtrain: \u001b[0m/home/dani/Desktop/futbol/dataset/images/train/13147.jpg: ignoring corrupt image/label: non-normalized or out of bounds coordinates [1.000005]\n",
      "\u001b[34m\u001b[1mtrain: \u001b[0m/home/dani/Desktop/futbol/dataset/images/train/13183.jpg: ignoring corrupt image/label: non-normalized or out of bounds coordinates [1.000005]\n",
      "\u001b[34m\u001b[1mtrain: \u001b[0m/home/dani/Desktop/futbol/dataset/images/train/13194.jpg: ignoring corrupt image/label: non-normalized or out of bounds coordinates [1.000005]\n",
      "\u001b[34m\u001b[1mtrain: \u001b[0m/home/dani/Desktop/futbol/dataset/images/train/13221.jpg: ignoring corrupt image/label: non-normalized or out of bounds coordinates [1.000005]\n",
      "\u001b[34m\u001b[1mtrain: \u001b[0m/home/dani/Desktop/futbol/dataset/images/train/13232.jpg: ignoring corrupt image/label: non-normalized or out of bounds coordinates [1.000005]\n",
      "\u001b[34m\u001b[1mtrain: \u001b[0m/home/dani/Desktop/futbol/dataset/images/train/13251.jpg: ignoring corrupt image/label: non-normalized or out of bounds coordinates [1.00001]\n",
      "\u001b[34m\u001b[1mtrain: \u001b[0m/home/dani/Desktop/futbol/dataset/images/train/13267.jpg: ignoring corrupt image/label: non-normalized or out of bounds coordinates [1.000005]\n",
      "\u001b[34m\u001b[1mtrain: \u001b[0m/home/dani/Desktop/futbol/dataset/images/train/13268.jpg: ignoring corrupt image/label: non-normalized or out of bounds coordinates [1.00001]\n",
      "\u001b[34m\u001b[1mtrain: \u001b[0m/home/dani/Desktop/futbol/dataset/images/train/13384.jpg: ignoring corrupt image/label: non-normalized or out of bounds coordinates [1.000009]\n",
      "\u001b[34m\u001b[1mtrain: \u001b[0m/home/dani/Desktop/futbol/dataset/images/train/13401.jpg: ignoring corrupt image/label: non-normalized or out of bounds coordinates [1.000005]\n",
      "\u001b[34m\u001b[1mtrain: \u001b[0m/home/dani/Desktop/futbol/dataset/images/train/13417.jpg: ignoring corrupt image/label: non-normalized or out of bounds coordinates [1.000005]\n",
      "\u001b[34m\u001b[1mtrain: \u001b[0m/home/dani/Desktop/futbol/dataset/images/train/13432.jpg: ignoring corrupt image/label: non-normalized or out of bounds coordinates [1.000005]\n",
      "\u001b[34m\u001b[1mtrain: \u001b[0m/home/dani/Desktop/futbol/dataset/images/train/13497.jpg: ignoring corrupt image/label: non-normalized or out of bounds coordinates [1.000005]\n",
      "\u001b[34m\u001b[1mtrain: \u001b[0m/home/dani/Desktop/futbol/dataset/images/train/13516.jpg: ignoring corrupt image/label: non-normalized or out of bounds coordinates [1.000005]\n",
      "\u001b[34m\u001b[1mtrain: \u001b[0m/home/dani/Desktop/futbol/dataset/images/train/13528.jpg: ignoring corrupt image/label: non-normalized or out of bounds coordinates [1.000005]\n",
      "\u001b[34m\u001b[1mtrain: \u001b[0m/home/dani/Desktop/futbol/dataset/images/train/13585.jpg: ignoring corrupt image/label: non-normalized or out of bounds coordinates [1.001229]\n",
      "\u001b[34m\u001b[1mtrain: \u001b[0m/home/dani/Desktop/futbol/dataset/images/train/13594.jpg: ignoring corrupt image/label: non-normalized or out of bounds coordinates [1.002464 1.00001 ]\n",
      "\u001b[34m\u001b[1mtrain: \u001b[0m/home/dani/Desktop/futbol/dataset/images/train/13610.jpg: ignoring corrupt image/label: non-normalized or out of bounds coordinates [1.000009]\n",
      "\u001b[34m\u001b[1mtrain: \u001b[0m/home/dani/Desktop/futbol/dataset/images/train/13617.jpg: ignoring corrupt image/label: non-normalized or out of bounds coordinates [1.013065]\n",
      "\u001b[34m\u001b[1mtrain: \u001b[0m/home/dani/Desktop/futbol/dataset/images/train/13643.jpg: ignoring corrupt image/label: non-normalized or out of bounds coordinates [1.000009]\n",
      "\u001b[34m\u001b[1mtrain: \u001b[0m/home/dani/Desktop/futbol/dataset/images/train/13646.jpg: ignoring corrupt image/label: non-normalized or out of bounds coordinates [1.000009]\n",
      "\u001b[34m\u001b[1mtrain: \u001b[0m/home/dani/Desktop/futbol/dataset/images/train/13652.jpg: ignoring corrupt image/label: non-normalized or out of bounds coordinates [1.000009]\n",
      "\u001b[34m\u001b[1mtrain: \u001b[0m/home/dani/Desktop/futbol/dataset/images/train/13661.jpg: ignoring corrupt image/label: non-normalized or out of bounds coordinates [1.000009]\n",
      "\u001b[34m\u001b[1mtrain: \u001b[0m/home/dani/Desktop/futbol/dataset/images/train/13809.jpg: ignoring corrupt image/label: non-normalized or out of bounds coordinates [1.000365]\n",
      "\u001b[34m\u001b[1mtrain: \u001b[0m/home/dani/Desktop/futbol/dataset/images/train/13813.jpg: ignoring corrupt image/label: non-normalized or out of bounds coordinates [1.001104]\n",
      "\u001b[34m\u001b[1mtrain: \u001b[0m/home/dani/Desktop/futbol/dataset/images/train/13826.jpg: ignoring corrupt image/label: non-normalized or out of bounds coordinates [1.003703]\n",
      "\u001b[34m\u001b[1mtrain: \u001b[0m/home/dani/Desktop/futbol/dataset/images/train/13893.jpg: ignoring corrupt image/label: non-normalized or out of bounds coordinates [1.000021]\n",
      "\u001b[34m\u001b[1mtrain: \u001b[0m/home/dani/Desktop/futbol/dataset/images/train/13905.jpg: ignoring corrupt image/label: non-normalized or out of bounds coordinates [1.000005]\n",
      "\u001b[34m\u001b[1mtrain: \u001b[0m/home/dani/Desktop/futbol/dataset/images/train/13988.jpg: ignoring corrupt image/label: non-normalized or out of bounds coordinates [1.000009]\n",
      "\u001b[34m\u001b[1mtrain: \u001b[0m/home/dani/Desktop/futbol/dataset/images/train/14016.jpg: ignoring corrupt image/label: non-normalized or out of bounds coordinates [1.000005]\n",
      "\u001b[34m\u001b[1mtrain: \u001b[0m/home/dani/Desktop/futbol/dataset/images/train/14023.jpg: ignoring corrupt image/label: non-normalized or out of bounds coordinates [1.000005]\n",
      "\u001b[34m\u001b[1mtrain: \u001b[0m/home/dani/Desktop/futbol/dataset/images/train/14120.jpg: ignoring corrupt image/label: non-normalized or out of bounds coordinates [1.000005]\n",
      "\u001b[34m\u001b[1mtrain: \u001b[0m/home/dani/Desktop/futbol/dataset/images/train/14122.jpg: ignoring corrupt image/label: non-normalized or out of bounds coordinates [1.001062]\n",
      "\u001b[34m\u001b[1mtrain: \u001b[0m/home/dani/Desktop/futbol/dataset/images/train/14164.jpg: ignoring corrupt image/label: non-normalized or out of bounds coordinates [1.001583]\n",
      "\u001b[34m\u001b[1mtrain: \u001b[0m/home/dani/Desktop/futbol/dataset/images/train/14176.jpg: ignoring corrupt image/label: non-normalized or out of bounds coordinates [1.000009]\n",
      "\u001b[34m\u001b[1mtrain: \u001b[0m/home/dani/Desktop/futbol/dataset/images/train/14179.jpg: ignoring corrupt image/label: non-normalized or out of bounds coordinates [1.000009]\n",
      "\u001b[34m\u001b[1mtrain: \u001b[0m/home/dani/Desktop/futbol/dataset/images/train/14190.jpg: ignoring corrupt image/label: non-normalized or out of bounds coordinates [1.000009]\n",
      "\u001b[34m\u001b[1mtrain: \u001b[0m/home/dani/Desktop/futbol/dataset/images/train/14201.jpg: ignoring corrupt image/label: non-normalized or out of bounds coordinates [1.000009]\n",
      "\u001b[34m\u001b[1mtrain: \u001b[0m/home/dani/Desktop/futbol/dataset/images/train/14223.jpg: ignoring corrupt image/label: non-normalized or out of bounds coordinates [1.000005]\n",
      "\u001b[34m\u001b[1mtrain: \u001b[0m/home/dani/Desktop/futbol/dataset/images/train/14224.jpg: ignoring corrupt image/label: non-normalized or out of bounds coordinates [1.000005]\n",
      "\u001b[34m\u001b[1mtrain: \u001b[0m/home/dani/Desktop/futbol/dataset/images/train/14322.jpg: ignoring corrupt image/label: non-normalized or out of bounds coordinates [1.000005]\n",
      "\u001b[34m\u001b[1mtrain: \u001b[0m/home/dani/Desktop/futbol/dataset/images/train/14324.jpg: ignoring corrupt image/label: non-normalized or out of bounds coordinates [1.00001]\n",
      "\u001b[34m\u001b[1mtrain: \u001b[0m/home/dani/Desktop/futbol/dataset/images/train/14335.jpg: ignoring corrupt image/label: non-normalized or out of bounds coordinates [1.000005]\n",
      "\u001b[34m\u001b[1mtrain: \u001b[0m/home/dani/Desktop/futbol/dataset/images/train/14336.jpg: ignoring corrupt image/label: non-normalized or out of bounds coordinates [1.000005]\n",
      "\u001b[34m\u001b[1mtrain: \u001b[0m/home/dani/Desktop/futbol/dataset/images/train/14447.jpg: ignoring corrupt image/label: non-normalized or out of bounds coordinates [1.000005]\n",
      "\u001b[34m\u001b[1mtrain: \u001b[0m/home/dani/Desktop/futbol/dataset/images/train/14508.jpg: ignoring corrupt image/label: non-normalized or out of bounds coordinates [1.000005]\n"
     ]
    },
    {
     "name": "stderr",
     "output_type": "stream",
     "text": [
      "\n"
     ]
    },
    {
     "name": "stdout",
     "output_type": "stream",
     "text": [
      "\u001b[34m\u001b[1mtrain: \u001b[0mNew cache created: /home/dani/Desktop/futbol/dataset/labels/train.cache\n",
      "\u001b[34m\u001b[1mval: \u001b[0mFast image access ✅ (ping: 0.0±0.0 ms, read: 2376.9±1286.2 MB/s, size: 141.3 KB)\n"
     ]
    },
    {
     "name": "stderr",
     "output_type": "stream",
     "text": [
      "\u001b[34m\u001b[1mval: \u001b[0mScanning /home/dani/Desktop/futbol/dataset/labels/valid... 2796 images, 0 backgrounds, 82 corrupt: 100%|██████████| 2796/2796 [00:01<00:00, 2654.04it/s]"
     ]
    },
    {
     "name": "stdout",
     "output_type": "stream",
     "text": [
      "\u001b[34m\u001b[1mval: \u001b[0m/home/dani/Desktop/futbol/dataset/images/valid/00089.jpg: ignoring corrupt image/label: non-normalized or out of bounds coordinates [1.000008]\n",
      "\u001b[34m\u001b[1mval: \u001b[0m/home/dani/Desktop/futbol/dataset/images/valid/00113.jpg: ignoring corrupt image/label: non-normalized or out of bounds coordinates [1.000008]\n",
      "\u001b[34m\u001b[1mval: \u001b[0m/home/dani/Desktop/futbol/dataset/images/valid/00114.jpg: ignoring corrupt image/label: non-normalized or out of bounds coordinates [1.000008]\n",
      "\u001b[34m\u001b[1mval: \u001b[0m/home/dani/Desktop/futbol/dataset/images/valid/00129.jpg: ignoring corrupt image/label: non-normalized or out of bounds coordinates [1.000014]\n",
      "\u001b[34m\u001b[1mval: \u001b[0m/home/dani/Desktop/futbol/dataset/images/valid/00132.jpg: ignoring corrupt image/label: non-normalized or out of bounds coordinates [1.000227]\n",
      "\u001b[34m\u001b[1mval: \u001b[0m/home/dani/Desktop/futbol/dataset/images/valid/00133.jpg: ignoring corrupt image/label: non-normalized or out of bounds coordinates [1.000014]\n",
      "\u001b[34m\u001b[1mval: \u001b[0m/home/dani/Desktop/futbol/dataset/images/valid/00145.jpg: ignoring corrupt image/label: non-normalized or out of bounds coordinates [1.000008 1.000008 1.000008]\n",
      "\u001b[34m\u001b[1mval: \u001b[0m/home/dani/Desktop/futbol/dataset/images/valid/00170.jpg: ignoring corrupt image/label: non-normalized or out of bounds coordinates [1.000014]\n",
      "\u001b[34m\u001b[1mval: \u001b[0m/home/dani/Desktop/futbol/dataset/images/valid/00194.jpg: ignoring corrupt image/label: non-normalized or out of bounds coordinates [1.000014]\n",
      "\u001b[34m\u001b[1mval: \u001b[0m/home/dani/Desktop/futbol/dataset/images/valid/00281.jpg: ignoring corrupt image/label: non-normalized or out of bounds coordinates [1.000014]\n",
      "\u001b[34m\u001b[1mval: \u001b[0m/home/dani/Desktop/futbol/dataset/images/valid/00303.jpg: ignoring corrupt image/label: non-normalized or out of bounds coordinates [1.000014]\n",
      "\u001b[34m\u001b[1mval: \u001b[0m/home/dani/Desktop/futbol/dataset/images/valid/00327.jpg: ignoring corrupt image/label: non-normalized or out of bounds coordinates [1.000008]\n",
      "\u001b[34m\u001b[1mval: \u001b[0m/home/dani/Desktop/futbol/dataset/images/valid/00331.jpg: ignoring corrupt image/label: non-normalized or out of bounds coordinates [1.000008]\n",
      "\u001b[34m\u001b[1mval: \u001b[0m/home/dani/Desktop/futbol/dataset/images/valid/00476.jpg: ignoring corrupt image/label: non-normalized or out of bounds coordinates [1.000014]\n",
      "\u001b[34m\u001b[1mval: \u001b[0m/home/dani/Desktop/futbol/dataset/images/valid/00488.jpg: ignoring corrupt image/label: non-normalized or out of bounds coordinates [1.000014]\n",
      "\u001b[34m\u001b[1mval: \u001b[0m/home/dani/Desktop/futbol/dataset/images/valid/00548.jpg: ignoring corrupt image/label: non-normalized or out of bounds coordinates [1.000008]\n",
      "\u001b[34m\u001b[1mval: \u001b[0m/home/dani/Desktop/futbol/dataset/images/valid/00552.jpg: ignoring corrupt image/label: non-normalized or out of bounds coordinates [1.000008]\n",
      "\u001b[34m\u001b[1mval: \u001b[0m/home/dani/Desktop/futbol/dataset/images/valid/00628.jpg: ignoring corrupt image/label: non-normalized or out of bounds coordinates [1.000014]\n",
      "\u001b[34m\u001b[1mval: \u001b[0m/home/dani/Desktop/futbol/dataset/images/valid/00632.jpg: ignoring corrupt image/label: non-normalized or out of bounds coordinates [1.000014]\n",
      "\u001b[34m\u001b[1mval: \u001b[0m/home/dani/Desktop/futbol/dataset/images/valid/00682.jpg: ignoring corrupt image/label: non-normalized or out of bounds coordinates [1.000014]\n",
      "\u001b[34m\u001b[1mval: \u001b[0m/home/dani/Desktop/futbol/dataset/images/valid/00782.jpg: ignoring corrupt image/label: non-normalized or out of bounds coordinates [1.000014]\n",
      "\u001b[34m\u001b[1mval: \u001b[0m/home/dani/Desktop/futbol/dataset/images/valid/00805.jpg: ignoring corrupt image/label: non-normalized or out of bounds coordinates [1.008847]\n",
      "\u001b[34m\u001b[1mval: \u001b[0m/home/dani/Desktop/futbol/dataset/images/valid/00807.jpg: ignoring corrupt image/label: non-normalized or out of bounds coordinates [1.000014]\n",
      "\u001b[34m\u001b[1mval: \u001b[0m/home/dani/Desktop/futbol/dataset/images/valid/00947.jpg: ignoring corrupt image/label: non-normalized or out of bounds coordinates [1.003536]\n",
      "\u001b[34m\u001b[1mval: \u001b[0m/home/dani/Desktop/futbol/dataset/images/valid/01015.jpg: ignoring corrupt image/label: non-normalized or out of bounds coordinates [1.267639]\n",
      "\u001b[34m\u001b[1mval: \u001b[0m/home/dani/Desktop/futbol/dataset/images/valid/01030.jpg: ignoring corrupt image/label: non-normalized or out of bounds coordinates [1.000008]\n",
      "\u001b[34m\u001b[1mval: \u001b[0m/home/dani/Desktop/futbol/dataset/images/valid/01066.jpg: ignoring corrupt image/label: non-normalized or out of bounds coordinates [1.000008 1.000008]\n",
      "\u001b[34m\u001b[1mval: \u001b[0m/home/dani/Desktop/futbol/dataset/images/valid/01139.jpg: ignoring corrupt image/label: non-normalized or out of bounds coordinates [1.000008]\n",
      "\u001b[34m\u001b[1mval: \u001b[0m/home/dani/Desktop/futbol/dataset/images/valid/01177.jpg: ignoring corrupt image/label: non-normalized or out of bounds coordinates [1.000008]\n",
      "\u001b[34m\u001b[1mval: \u001b[0m/home/dani/Desktop/futbol/dataset/images/valid/01193.jpg: ignoring corrupt image/label: non-normalized or out of bounds coordinates [1.000016 1.000016]\n",
      "\u001b[34m\u001b[1mval: \u001b[0m/home/dani/Desktop/futbol/dataset/images/valid/01197.jpg: ignoring corrupt image/label: non-normalized or out of bounds coordinates [1.000016 1.000016]\n",
      "\u001b[34m\u001b[1mval: \u001b[0m/home/dani/Desktop/futbol/dataset/images/valid/01200.jpg: ignoring corrupt image/label: non-normalized or out of bounds coordinates [1.000016 1.000016]\n",
      "\u001b[34m\u001b[1mval: \u001b[0m/home/dani/Desktop/futbol/dataset/images/valid/01211.jpg: ignoring corrupt image/label: non-normalized or out of bounds coordinates [1.000014]\n",
      "\u001b[34m\u001b[1mval: \u001b[0m/home/dani/Desktop/futbol/dataset/images/valid/01212.jpg: ignoring corrupt image/label: non-normalized or out of bounds coordinates [1.000014]\n",
      "\u001b[34m\u001b[1mval: \u001b[0m/home/dani/Desktop/futbol/dataset/images/valid/01232.jpg: ignoring corrupt image/label: non-normalized or out of bounds coordinates [1.000014]\n",
      "\u001b[34m\u001b[1mval: \u001b[0m/home/dani/Desktop/futbol/dataset/images/valid/01268.jpg: ignoring corrupt image/label: non-normalized or out of bounds coordinates [1.000014]\n",
      "\u001b[34m\u001b[1mval: \u001b[0m/home/dani/Desktop/futbol/dataset/images/valid/01353.jpg: ignoring corrupt image/label: non-normalized or out of bounds coordinates [1.000014]\n",
      "\u001b[34m\u001b[1mval: \u001b[0m/home/dani/Desktop/futbol/dataset/images/valid/01358.jpg: ignoring corrupt image/label: non-normalized or out of bounds coordinates [1.000014]\n",
      "\u001b[34m\u001b[1mval: \u001b[0m/home/dani/Desktop/futbol/dataset/images/valid/01362.jpg: ignoring corrupt image/label: non-normalized or out of bounds coordinates [1.008094]\n",
      "\u001b[34m\u001b[1mval: \u001b[0m/home/dani/Desktop/futbol/dataset/images/valid/01430.jpg: ignoring corrupt image/label: non-normalized or out of bounds coordinates [1.000009]\n",
      "\u001b[34m\u001b[1mval: \u001b[0m/home/dani/Desktop/futbol/dataset/images/valid/01469.jpg: ignoring corrupt image/label: non-normalized or out of bounds coordinates [1.000009]\n",
      "\u001b[34m\u001b[1mval: \u001b[0m/home/dani/Desktop/futbol/dataset/images/valid/01488.jpg: ignoring corrupt image/label: non-normalized or out of bounds coordinates [1.000009]\n",
      "\u001b[34m\u001b[1mval: \u001b[0m/home/dani/Desktop/futbol/dataset/images/valid/01489.jpg: ignoring corrupt image/label: non-normalized or out of bounds coordinates [1.000009]\n",
      "\u001b[34m\u001b[1mval: \u001b[0m/home/dani/Desktop/futbol/dataset/images/valid/01499.jpg: ignoring corrupt image/label: non-normalized or out of bounds coordinates [1.000009]\n",
      "\u001b[34m\u001b[1mval: \u001b[0m/home/dani/Desktop/futbol/dataset/images/valid/01508.jpg: ignoring corrupt image/label: non-normalized or out of bounds coordinates [1.000009]\n",
      "\u001b[34m\u001b[1mval: \u001b[0m/home/dani/Desktop/futbol/dataset/images/valid/01534.jpg: ignoring corrupt image/label: non-normalized or out of bounds coordinates [1.000009]\n",
      "\u001b[34m\u001b[1mval: \u001b[0m/home/dani/Desktop/futbol/dataset/images/valid/01562.jpg: ignoring corrupt image/label: non-normalized or out of bounds coordinates [1.000005]\n",
      "\u001b[34m\u001b[1mval: \u001b[0m/home/dani/Desktop/futbol/dataset/images/valid/01585.jpg: ignoring corrupt image/label: non-normalized or out of bounds coordinates [1.000005]\n",
      "\u001b[34m\u001b[1mval: \u001b[0m/home/dani/Desktop/futbol/dataset/images/valid/01589.jpg: ignoring corrupt image/label: non-normalized or out of bounds coordinates [1.000005]\n",
      "\u001b[34m\u001b[1mval: \u001b[0m/home/dani/Desktop/futbol/dataset/images/valid/01639.jpg: ignoring corrupt image/label: non-normalized or out of bounds coordinates [1.000005]\n",
      "\u001b[34m\u001b[1mval: \u001b[0m/home/dani/Desktop/futbol/dataset/images/valid/01666.jpg: ignoring corrupt image/label: non-normalized or out of bounds coordinates [1.000008]\n",
      "\u001b[34m\u001b[1mval: \u001b[0m/home/dani/Desktop/futbol/dataset/images/valid/01794.jpg: ignoring corrupt image/label: non-normalized or out of bounds coordinates [1.001172]\n",
      "\u001b[34m\u001b[1mval: \u001b[0m/home/dani/Desktop/futbol/dataset/images/valid/01902.jpg: ignoring corrupt image/label: non-normalized or out of bounds coordinates [1.000005]\n",
      "\u001b[34m\u001b[1mval: \u001b[0m/home/dani/Desktop/futbol/dataset/images/valid/01914.jpg: ignoring corrupt image/label: non-normalized or out of bounds coordinates [1.000009]\n",
      "\u001b[34m\u001b[1mval: \u001b[0m/home/dani/Desktop/futbol/dataset/images/valid/01941.jpg: ignoring corrupt image/label: non-normalized or out of bounds coordinates [1.000009]\n",
      "\u001b[34m\u001b[1mval: \u001b[0m/home/dani/Desktop/futbol/dataset/images/valid/02003.jpg: ignoring corrupt image/label: non-normalized or out of bounds coordinates [1.000005]\n",
      "\u001b[34m\u001b[1mval: \u001b[0m/home/dani/Desktop/futbol/dataset/images/valid/02044.jpg: ignoring corrupt image/label: non-normalized or out of bounds coordinates [1.000906]\n",
      "\u001b[34m\u001b[1mval: \u001b[0m/home/dani/Desktop/futbol/dataset/images/valid/02060.jpg: ignoring corrupt image/label: non-normalized or out of bounds coordinates [1.000009]\n",
      "\u001b[34m\u001b[1mval: \u001b[0m/home/dani/Desktop/futbol/dataset/images/valid/02077.jpg: ignoring corrupt image/label: non-normalized or out of bounds coordinates [1.000009]\n",
      "\u001b[34m\u001b[1mval: \u001b[0m/home/dani/Desktop/futbol/dataset/images/valid/02152.jpg: ignoring corrupt image/label: non-normalized or out of bounds coordinates [1.000008]\n",
      "\u001b[34m\u001b[1mval: \u001b[0m/home/dani/Desktop/futbol/dataset/images/valid/02197.jpg: ignoring corrupt image/label: non-normalized or out of bounds coordinates [1.000008]\n",
      "\u001b[34m\u001b[1mval: \u001b[0m/home/dani/Desktop/futbol/dataset/images/valid/02245.jpg: ignoring corrupt image/label: non-normalized or out of bounds coordinates [1.002023]\n",
      "\u001b[34m\u001b[1mval: \u001b[0m/home/dani/Desktop/futbol/dataset/images/valid/02281.jpg: ignoring corrupt image/label: non-normalized or out of bounds coordinates [1.000008]\n",
      "\u001b[34m\u001b[1mval: \u001b[0m/home/dani/Desktop/futbol/dataset/images/valid/02283.jpg: ignoring corrupt image/label: non-normalized or out of bounds coordinates [1.000014]\n",
      "\u001b[34m\u001b[1mval: \u001b[0m/home/dani/Desktop/futbol/dataset/images/valid/02287.jpg: ignoring corrupt image/label: non-normalized or out of bounds coordinates [1.000008]\n",
      "\u001b[34m\u001b[1mval: \u001b[0m/home/dani/Desktop/futbol/dataset/images/valid/02321.jpg: ignoring corrupt image/label: non-normalized or out of bounds coordinates [1.000014]\n",
      "\u001b[34m\u001b[1mval: \u001b[0m/home/dani/Desktop/futbol/dataset/images/valid/02328.jpg: ignoring corrupt image/label: non-normalized or out of bounds coordinates [1.000014]\n",
      "\u001b[34m\u001b[1mval: \u001b[0m/home/dani/Desktop/futbol/dataset/images/valid/02359.jpg: ignoring corrupt image/label: non-normalized or out of bounds coordinates [1.000008]\n",
      "\u001b[34m\u001b[1mval: \u001b[0m/home/dani/Desktop/futbol/dataset/images/valid/02374.jpg: ignoring corrupt image/label: non-normalized or out of bounds coordinates [1.000008]\n",
      "\u001b[34m\u001b[1mval: \u001b[0m/home/dani/Desktop/futbol/dataset/images/valid/02472.jpg: ignoring corrupt image/label: non-normalized or out of bounds coordinates [1.000014]\n",
      "\u001b[34m\u001b[1mval: \u001b[0m/home/dani/Desktop/futbol/dataset/images/valid/02522.jpg: ignoring corrupt image/label: non-normalized or out of bounds coordinates [1.000005]\n",
      "\u001b[34m\u001b[1mval: \u001b[0m/home/dani/Desktop/futbol/dataset/images/valid/02524.jpg: ignoring corrupt image/label: non-normalized or out of bounds coordinates [1.000021]\n",
      "\u001b[34m\u001b[1mval: \u001b[0m/home/dani/Desktop/futbol/dataset/images/valid/02547.jpg: ignoring corrupt image/label: non-normalized or out of bounds coordinates [1.000021]\n",
      "\u001b[34m\u001b[1mval: \u001b[0m/home/dani/Desktop/futbol/dataset/images/valid/02548.jpg: ignoring corrupt image/label: non-normalized or out of bounds coordinates [1.000005]\n",
      "\u001b[34m\u001b[1mval: \u001b[0m/home/dani/Desktop/futbol/dataset/images/valid/02561.jpg: ignoring corrupt image/label: non-normalized or out of bounds coordinates [1.000005]\n",
      "\u001b[34m\u001b[1mval: \u001b[0m/home/dani/Desktop/futbol/dataset/images/valid/02564.jpg: ignoring corrupt image/label: non-normalized or out of bounds coordinates [1.000005]\n",
      "\u001b[34m\u001b[1mval: \u001b[0m/home/dani/Desktop/futbol/dataset/images/valid/02565.jpg: ignoring corrupt image/label: non-normalized or out of bounds coordinates [1.000021]\n",
      "\u001b[34m\u001b[1mval: \u001b[0m/home/dani/Desktop/futbol/dataset/images/valid/02602.jpg: ignoring corrupt image/label: non-normalized or out of bounds coordinates [1.000009]\n",
      "\u001b[34m\u001b[1mval: \u001b[0m/home/dani/Desktop/futbol/dataset/images/valid/02647.jpg: ignoring corrupt image/label: non-normalized or out of bounds coordinates [1.000005]\n",
      "\u001b[34m\u001b[1mval: \u001b[0m/home/dani/Desktop/futbol/dataset/images/valid/02656.jpg: ignoring corrupt image/label: non-normalized or out of bounds coordinates [1.00001]\n",
      "\u001b[34m\u001b[1mval: \u001b[0m/home/dani/Desktop/futbol/dataset/images/valid/02737.jpg: ignoring corrupt image/label: non-normalized or out of bounds coordinates [1.000005]\n",
      "\u001b[34m\u001b[1mval: \u001b[0m/home/dani/Desktop/futbol/dataset/images/valid/02781.jpg: ignoring corrupt image/label: non-normalized or out of bounds coordinates [1.000009]\n",
      "\u001b[34m\u001b[1mval: \u001b[0mNew cache created: /home/dani/Desktop/futbol/dataset/labels/valid.cache\n"
     ]
    },
    {
     "name": "stderr",
     "output_type": "stream",
     "text": [
      "\n"
     ]
    },
    {
     "name": "stdout",
     "output_type": "stream",
     "text": [
      "Plotting labels to /home/dani/Desktop/futbol/runs/detect/train3/labels.jpg... \n",
      "\u001b[34m\u001b[1moptimizer:\u001b[0m 'optimizer=auto' found, ignoring 'lr0=0.01' and 'momentum=0.937' and determining best 'optimizer', 'lr0' and 'momentum' automatically... \n",
      "\u001b[34m\u001b[1moptimizer:\u001b[0m SGD(lr=0.01, momentum=0.9) with parameter groups 57 weight(decay=0.0), 64 weight(decay=0.0005), 63 bias(decay=0.0)\n",
      "Image sizes 640 train, 640 val\n",
      "Using 8 dataloader workers\n",
      "Logging results to \u001b[1m/home/dani/Desktop/futbol/runs/detect/train3\u001b[0m\n",
      "Starting training for 50 epochs...\n",
      "\n",
      "      Epoch    GPU_mem   box_loss   cls_loss   dfl_loss  Instances       Size\n"
     ]
    },
    {
     "name": "stderr",
     "output_type": "stream",
     "text": [
      "       1/50      2.08G      1.437      1.883      1.247        122        640: 100%|██████████| 884/884 [01:42<00:00,  8.63it/s]\n",
      "                 Class     Images  Instances      Box(P          R      mAP50  mAP50-95): 100%|██████████| 85/85 [00:09<00:00,  8.79it/s]\n"
     ]
    },
    {
     "name": "stdout",
     "output_type": "stream",
     "text": [
      "                   all       2714      26158       0.89      0.462      0.532      0.405\n",
      "\n",
      "      Epoch    GPU_mem   box_loss   cls_loss   dfl_loss  Instances       Size\n"
     ]
    },
    {
     "name": "stderr",
     "output_type": "stream",
     "text": [
      "       2/50      2.21G      1.124       1.08      1.049        135        640: 100%|██████████| 884/884 [01:39<00:00,  8.87it/s]\n",
      "                 Class     Images  Instances      Box(P          R      mAP50  mAP50-95): 100%|██████████| 85/85 [00:08<00:00, 10.08it/s]\n"
     ]
    },
    {
     "name": "stdout",
     "output_type": "stream",
     "text": [
      "                   all       2714      26158      0.893      0.502       0.56      0.435\n",
      "\n",
      "      Epoch    GPU_mem   box_loss   cls_loss   dfl_loss  Instances       Size\n"
     ]
    },
    {
     "name": "stderr",
     "output_type": "stream",
     "text": [
      "       3/50      2.23G      1.095     0.9924       1.03        100        640: 100%|██████████| 884/884 [01:39<00:00,  8.90it/s]\n",
      "                 Class     Images  Instances      Box(P          R      mAP50  mAP50-95): 100%|██████████| 85/85 [00:08<00:00, 10.04it/s]\n"
     ]
    },
    {
     "name": "stdout",
     "output_type": "stream",
     "text": [
      "                   all       2714      26158      0.903      0.505      0.572      0.443\n",
      "\n",
      "      Epoch    GPU_mem   box_loss   cls_loss   dfl_loss  Instances       Size\n"
     ]
    },
    {
     "name": "stderr",
     "output_type": "stream",
     "text": [
      "       4/50      2.24G      1.046     0.9044      1.014         82        640: 100%|██████████| 884/884 [01:37<00:00,  9.06it/s]\n",
      "                 Class     Images  Instances      Box(P          R      mAP50  mAP50-95): 100%|██████████| 85/85 [00:07<00:00, 10.69it/s]\n"
     ]
    },
    {
     "name": "stdout",
     "output_type": "stream",
     "text": [
      "                   all       2714      26158      0.905      0.538      0.594      0.466\n",
      "\n",
      "      Epoch    GPU_mem   box_loss   cls_loss   dfl_loss  Instances       Size\n"
     ]
    },
    {
     "name": "stderr",
     "output_type": "stream",
     "text": [
      "       5/50      2.24G      0.974       0.81     0.9906        121        640: 100%|██████████| 884/884 [01:37<00:00,  9.08it/s]\n",
      "                 Class     Images  Instances      Box(P          R      mAP50  mAP50-95): 100%|██████████| 85/85 [00:07<00:00, 10.67it/s]\n"
     ]
    },
    {
     "name": "stdout",
     "output_type": "stream",
     "text": [
      "                   all       2714      26158      0.932      0.539      0.602      0.483\n",
      "\n",
      "      Epoch    GPU_mem   box_loss   cls_loss   dfl_loss  Instances       Size\n"
     ]
    },
    {
     "name": "stderr",
     "output_type": "stream",
     "text": [
      "       6/50      2.25G      0.934     0.7583     0.9776         84        640: 100%|██████████| 884/884 [01:38<00:00,  8.98it/s]\n",
      "                 Class     Images  Instances      Box(P          R      mAP50  mAP50-95): 100%|██████████| 85/85 [00:07<00:00, 10.73it/s]\n"
     ]
    },
    {
     "name": "stdout",
     "output_type": "stream",
     "text": [
      "                   all       2714      26158      0.921       0.56      0.615      0.498\n",
      "\n",
      "      Epoch    GPU_mem   box_loss   cls_loss   dfl_loss  Instances       Size\n"
     ]
    },
    {
     "name": "stderr",
     "output_type": "stream",
     "text": [
      "       7/50      2.26G     0.8976     0.7132     0.9661         90        640: 100%|██████████| 884/884 [01:38<00:00,  8.98it/s]\n",
      "                 Class     Images  Instances      Box(P          R      mAP50  mAP50-95): 100%|██████████| 85/85 [00:09<00:00,  9.40it/s]"
     ]
    },
    {
     "name": "stdout",
     "output_type": "stream",
     "text": [
      "                   all       2714      26158      0.922      0.554      0.614      0.498\n"
     ]
    },
    {
     "name": "stderr",
     "output_type": "stream",
     "text": [
      "\n"
     ]
    },
    {
     "name": "stdout",
     "output_type": "stream",
     "text": [
      "\n",
      "      Epoch    GPU_mem   box_loss   cls_loss   dfl_loss  Instances       Size\n"
     ]
    },
    {
     "name": "stderr",
     "output_type": "stream",
     "text": [
      "       8/50      2.27G     0.8794     0.6884     0.9598        111        640: 100%|██████████| 884/884 [01:38<00:00,  8.95it/s]\n",
      "                 Class     Images  Instances      Box(P          R      mAP50  mAP50-95): 100%|██████████| 85/85 [00:08<00:00, 10.20it/s]\n"
     ]
    },
    {
     "name": "stdout",
     "output_type": "stream",
     "text": [
      "                   all       2714      26158      0.936      0.563      0.619      0.507\n",
      "\n",
      "      Epoch    GPU_mem   box_loss   cls_loss   dfl_loss  Instances       Size\n"
     ]
    },
    {
     "name": "stderr",
     "output_type": "stream",
     "text": [
      "       9/50      2.28G       0.86     0.6701     0.9543         83        640: 100%|██████████| 884/884 [01:38<00:00,  8.98it/s]\n",
      "                 Class     Images  Instances      Box(P          R      mAP50  mAP50-95): 100%|██████████| 85/85 [00:07<00:00, 10.65it/s]\n"
     ]
    },
    {
     "name": "stdout",
     "output_type": "stream",
     "text": [
      "                   all       2714      26158      0.929       0.57      0.627      0.512\n",
      "\n",
      "      Epoch    GPU_mem   box_loss   cls_loss   dfl_loss  Instances       Size\n"
     ]
    },
    {
     "name": "stderr",
     "output_type": "stream",
     "text": [
      "      10/50      2.29G      0.843     0.6501     0.9471         83        640: 100%|██████████| 884/884 [01:38<00:00,  8.96it/s]\n",
      "                 Class     Images  Instances      Box(P          R      mAP50  mAP50-95): 100%|██████████| 85/85 [00:07<00:00, 10.68it/s]\n"
     ]
    },
    {
     "name": "stdout",
     "output_type": "stream",
     "text": [
      "                   all       2714      26158      0.937      0.569      0.625      0.517\n",
      "\n",
      "      Epoch    GPU_mem   box_loss   cls_loss   dfl_loss  Instances       Size\n"
     ]
    },
    {
     "name": "stderr",
     "output_type": "stream",
     "text": [
      "      11/50       2.3G     0.8284     0.6351     0.9449         96        640: 100%|██████████| 884/884 [01:37<00:00,  9.08it/s]\n",
      "                 Class     Images  Instances      Box(P          R      mAP50  mAP50-95): 100%|██████████| 85/85 [00:08<00:00, 10.51it/s]\n"
     ]
    },
    {
     "name": "stdout",
     "output_type": "stream",
     "text": [
      "                   all       2714      26158       0.91      0.579      0.629      0.519\n",
      "\n",
      "      Epoch    GPU_mem   box_loss   cls_loss   dfl_loss  Instances       Size\n"
     ]
    },
    {
     "name": "stderr",
     "output_type": "stream",
     "text": [
      "      12/50      2.31G     0.8181     0.6231     0.9393        128        640: 100%|██████████| 884/884 [01:38<00:00,  8.99it/s]\n",
      "                 Class     Images  Instances      Box(P          R      mAP50  mAP50-95): 100%|██████████| 85/85 [00:07<00:00, 10.66it/s]\n"
     ]
    },
    {
     "name": "stdout",
     "output_type": "stream",
     "text": [
      "                   all       2714      26158      0.928      0.574      0.633      0.525\n",
      "\n",
      "      Epoch    GPU_mem   box_loss   cls_loss   dfl_loss  Instances       Size\n"
     ]
    },
    {
     "name": "stderr",
     "output_type": "stream",
     "text": [
      "      13/50      2.32G      0.806     0.6102     0.9353         69        640: 100%|██████████| 884/884 [01:39<00:00,  8.89it/s]\n",
      "                 Class     Images  Instances      Box(P          R      mAP50  mAP50-95): 100%|██████████| 85/85 [00:08<00:00, 10.60it/s]\n"
     ]
    },
    {
     "name": "stdout",
     "output_type": "stream",
     "text": [
      "                   all       2714      26158      0.926      0.584      0.636      0.528\n",
      "\n",
      "      Epoch    GPU_mem   box_loss   cls_loss   dfl_loss  Instances       Size\n"
     ]
    },
    {
     "name": "stderr",
     "output_type": "stream",
     "text": [
      "      14/50      2.33G     0.7943     0.5979     0.9314        141        640: 100%|██████████| 884/884 [01:39<00:00,  8.90it/s]\n",
      "                 Class     Images  Instances      Box(P          R      mAP50  mAP50-95): 100%|██████████| 85/85 [00:08<00:00, 10.39it/s]\n"
     ]
    },
    {
     "name": "stdout",
     "output_type": "stream",
     "text": [
      "                   all       2714      26158       0.94      0.575      0.636       0.53\n",
      "\n",
      "      Epoch    GPU_mem   box_loss   cls_loss   dfl_loss  Instances       Size\n"
     ]
    },
    {
     "name": "stderr",
     "output_type": "stream",
     "text": [
      "      15/50      2.35G     0.7836     0.5855     0.9291         86        640: 100%|██████████| 884/884 [01:37<00:00,  9.05it/s]\n",
      "                 Class     Images  Instances      Box(P          R      mAP50  mAP50-95): 100%|██████████| 85/85 [00:08<00:00,  9.84it/s]"
     ]
    },
    {
     "name": "stdout",
     "output_type": "stream",
     "text": [
      "                   all       2714      26158      0.934      0.578      0.634      0.528\n"
     ]
    },
    {
     "name": "stderr",
     "output_type": "stream",
     "text": [
      "\n"
     ]
    },
    {
     "name": "stdout",
     "output_type": "stream",
     "text": [
      "\n",
      "      Epoch    GPU_mem   box_loss   cls_loss   dfl_loss  Instances       Size\n"
     ]
    },
    {
     "name": "stderr",
     "output_type": "stream",
     "text": [
      "      16/50      2.36G     0.7796     0.5799     0.9266         74        640: 100%|██████████| 884/884 [01:38<00:00,  8.99it/s]\n",
      "                 Class     Images  Instances      Box(P          R      mAP50  mAP50-95): 100%|██████████| 85/85 [00:07<00:00, 10.68it/s]\n"
     ]
    },
    {
     "name": "stdout",
     "output_type": "stream",
     "text": [
      "                   all       2714      26158       0.93      0.587       0.64      0.536\n",
      "\n",
      "      Epoch    GPU_mem   box_loss   cls_loss   dfl_loss  Instances       Size\n"
     ]
    },
    {
     "name": "stderr",
     "output_type": "stream",
     "text": [
      "      17/50      2.37G     0.7712     0.5721     0.9263        111        640: 100%|██████████| 884/884 [01:38<00:00,  8.94it/s]\n",
      "                 Class     Images  Instances      Box(P          R      mAP50  mAP50-95): 100%|██████████| 85/85 [00:07<00:00, 10.63it/s]\n"
     ]
    },
    {
     "name": "stdout",
     "output_type": "stream",
     "text": [
      "                   all       2714      26158      0.933      0.586      0.638      0.537\n",
      "\n",
      "      Epoch    GPU_mem   box_loss   cls_loss   dfl_loss  Instances       Size\n"
     ]
    },
    {
     "name": "stderr",
     "output_type": "stream",
     "text": [
      "      18/50      2.38G     0.7638      0.564     0.9211         95        640: 100%|██████████| 884/884 [01:38<00:00,  8.96it/s]\n",
      "                 Class     Images  Instances      Box(P          R      mAP50  mAP50-95): 100%|██████████| 85/85 [00:08<00:00, 10.44it/s]\n"
     ]
    },
    {
     "name": "stdout",
     "output_type": "stream",
     "text": [
      "                   all       2714      26158      0.934      0.583      0.641      0.539\n",
      "\n",
      "      Epoch    GPU_mem   box_loss   cls_loss   dfl_loss  Instances       Size\n"
     ]
    },
    {
     "name": "stderr",
     "output_type": "stream",
     "text": [
      "      19/50      2.39G     0.7614     0.5605     0.9224        118        640: 100%|██████████| 884/884 [01:39<00:00,  8.90it/s]\n",
      "                 Class     Images  Instances      Box(P          R      mAP50  mAP50-95): 100%|██████████| 85/85 [00:08<00:00, 10.00it/s]\n"
     ]
    },
    {
     "name": "stdout",
     "output_type": "stream",
     "text": [
      "                   all       2714      26158      0.921      0.596      0.643       0.54\n",
      "\n",
      "      Epoch    GPU_mem   box_loss   cls_loss   dfl_loss  Instances       Size\n"
     ]
    },
    {
     "name": "stderr",
     "output_type": "stream",
     "text": [
      "      20/50       2.4G     0.7521     0.5519     0.9183        103        640: 100%|██████████| 884/884 [01:38<00:00,  8.97it/s]\n",
      "                 Class     Images  Instances      Box(P          R      mAP50  mAP50-95): 100%|██████████| 85/85 [00:08<00:00, 10.11it/s]\n"
     ]
    },
    {
     "name": "stdout",
     "output_type": "stream",
     "text": [
      "                   all       2714      26158       0.92      0.592      0.641      0.539\n",
      "\n",
      "      Epoch    GPU_mem   box_loss   cls_loss   dfl_loss  Instances       Size\n"
     ]
    },
    {
     "name": "stderr",
     "output_type": "stream",
     "text": [
      "      21/50      2.41G     0.7466     0.5462     0.9161        105        640: 100%|██████████| 884/884 [01:37<00:00,  9.03it/s]\n",
      "                 Class     Images  Instances      Box(P          R      mAP50  mAP50-95): 100%|██████████| 85/85 [00:08<00:00, 10.53it/s]\n"
     ]
    },
    {
     "name": "stdout",
     "output_type": "stream",
     "text": [
      "                   all       2714      26158      0.921      0.598      0.643      0.541\n",
      "\n",
      "      Epoch    GPU_mem   box_loss   cls_loss   dfl_loss  Instances       Size\n"
     ]
    },
    {
     "name": "stderr",
     "output_type": "stream",
     "text": [
      "      22/50      2.42G     0.7444     0.5421     0.9142        112        640: 100%|██████████| 884/884 [01:38<00:00,  9.00it/s]\n",
      "                 Class     Images  Instances      Box(P          R      mAP50  mAP50-95): 100%|██████████| 85/85 [00:07<00:00, 10.70it/s]\n"
     ]
    },
    {
     "name": "stdout",
     "output_type": "stream",
     "text": [
      "                   all       2714      26158       0.94      0.588      0.645      0.544\n",
      "\n",
      "      Epoch    GPU_mem   box_loss   cls_loss   dfl_loss  Instances       Size\n"
     ]
    },
    {
     "name": "stderr",
     "output_type": "stream",
     "text": [
      "      23/50      2.44G     0.7351     0.5332     0.9143        119        640: 100%|██████████| 884/884 [01:38<00:00,  9.01it/s]\n",
      "                 Class     Images  Instances      Box(P          R      mAP50  mAP50-95): 100%|██████████| 85/85 [00:07<00:00, 10.69it/s]\n"
     ]
    },
    {
     "name": "stdout",
     "output_type": "stream",
     "text": [
      "                   all       2714      26158      0.938      0.593      0.647      0.545\n",
      "\n",
      "      Epoch    GPU_mem   box_loss   cls_loss   dfl_loss  Instances       Size\n"
     ]
    },
    {
     "name": "stderr",
     "output_type": "stream",
     "text": [
      "      24/50      2.45G     0.7305     0.5313     0.9136         99        640: 100%|██████████| 884/884 [01:37<00:00,  9.02it/s]\n",
      "                 Class     Images  Instances      Box(P          R      mAP50  mAP50-95): 100%|██████████| 85/85 [00:08<00:00,  9.48it/s]\n"
     ]
    },
    {
     "name": "stdout",
     "output_type": "stream",
     "text": [
      "                   all       2714      26158      0.933      0.594      0.645      0.546\n",
      "\n",
      "      Epoch    GPU_mem   box_loss   cls_loss   dfl_loss  Instances       Size\n"
     ]
    },
    {
     "name": "stderr",
     "output_type": "stream",
     "text": [
      "      25/50      2.46G     0.7283     0.5262     0.9109        116        640: 100%|██████████| 884/884 [01:38<00:00,  8.94it/s]\n",
      "                 Class     Images  Instances      Box(P          R      mAP50  mAP50-95): 100%|██████████| 85/85 [00:08<00:00,  9.76it/s]\n"
     ]
    },
    {
     "name": "stdout",
     "output_type": "stream",
     "text": [
      "                   all       2714      26158      0.944      0.589       0.65      0.548\n",
      "\n",
      "      Epoch    GPU_mem   box_loss   cls_loss   dfl_loss  Instances       Size\n"
     ]
    },
    {
     "name": "stderr",
     "output_type": "stream",
     "text": [
      "      26/50      2.47G     0.7273     0.5256     0.9116         71        640: 100%|██████████| 884/884 [01:38<00:00,  8.95it/s]\n",
      "                 Class     Images  Instances      Box(P          R      mAP50  mAP50-95): 100%|██████████| 85/85 [00:09<00:00,  9.43it/s]"
     ]
    },
    {
     "name": "stdout",
     "output_type": "stream",
     "text": [
      "                   all       2714      26158      0.935      0.592      0.649      0.549\n"
     ]
    },
    {
     "name": "stderr",
     "output_type": "stream",
     "text": [
      "\n"
     ]
    },
    {
     "name": "stdout",
     "output_type": "stream",
     "text": [
      "\n",
      "      Epoch    GPU_mem   box_loss   cls_loss   dfl_loss  Instances       Size\n"
     ]
    },
    {
     "name": "stderr",
     "output_type": "stream",
     "text": [
      "      27/50      2.48G     0.7215      0.519     0.9084         81        640: 100%|██████████| 884/884 [01:38<00:00,  8.98it/s]\n",
      "                 Class     Images  Instances      Box(P          R      mAP50  mAP50-95): 100%|██████████| 85/85 [00:08<00:00,  9.98it/s]"
     ]
    },
    {
     "name": "stdout",
     "output_type": "stream",
     "text": [
      "                   all       2714      26158      0.938      0.597      0.652      0.552\n"
     ]
    },
    {
     "name": "stderr",
     "output_type": "stream",
     "text": [
      "\n"
     ]
    },
    {
     "name": "stdout",
     "output_type": "stream",
     "text": [
      "\n",
      "      Epoch    GPU_mem   box_loss   cls_loss   dfl_loss  Instances       Size\n"
     ]
    },
    {
     "name": "stderr",
     "output_type": "stream",
     "text": [
      "      28/50      2.49G     0.7141     0.5117     0.9073         82        640: 100%|██████████| 884/884 [01:38<00:00,  9.01it/s]\n",
      "                 Class     Images  Instances      Box(P          R      mAP50  mAP50-95): 100%|██████████| 85/85 [00:08<00:00, 10.53it/s]"
     ]
    },
    {
     "name": "stdout",
     "output_type": "stream",
     "text": [
      "                   all       2714      26158      0.925      0.604      0.651      0.551\n"
     ]
    },
    {
     "name": "stderr",
     "output_type": "stream",
     "text": [
      "\n"
     ]
    },
    {
     "name": "stdout",
     "output_type": "stream",
     "text": [
      "\n",
      "      Epoch    GPU_mem   box_loss   cls_loss   dfl_loss  Instances       Size\n"
     ]
    },
    {
     "name": "stderr",
     "output_type": "stream",
     "text": [
      "      29/50       2.5G     0.7106     0.5089     0.9051        105        640: 100%|██████████| 884/884 [01:36<00:00,  9.16it/s]\n",
      "                 Class     Images  Instances      Box(P          R      mAP50  mAP50-95): 100%|██████████| 85/85 [00:08<00:00, 10.61it/s]\n"
     ]
    },
    {
     "name": "stdout",
     "output_type": "stream",
     "text": [
      "                   all       2714      26158      0.934      0.596      0.651      0.552\n",
      "\n",
      "      Epoch    GPU_mem   box_loss   cls_loss   dfl_loss  Instances       Size\n"
     ]
    },
    {
     "name": "stderr",
     "output_type": "stream",
     "text": [
      "      30/50      2.52G     0.7105     0.5082     0.9057         76        640: 100%|██████████| 884/884 [01:37<00:00,  9.07it/s]\n",
      "                 Class     Images  Instances      Box(P          R      mAP50  mAP50-95): 100%|██████████| 85/85 [00:07<00:00, 11.23it/s]\n"
     ]
    },
    {
     "name": "stdout",
     "output_type": "stream",
     "text": [
      "                   all       2714      26158      0.932        0.6      0.651      0.553\n",
      "\n",
      "      Epoch    GPU_mem   box_loss   cls_loss   dfl_loss  Instances       Size\n"
     ]
    },
    {
     "name": "stderr",
     "output_type": "stream",
     "text": [
      "      31/50      2.53G     0.7021     0.5011     0.9025        100        640: 100%|██████████| 884/884 [01:33<00:00,  9.43it/s]\n",
      "                 Class     Images  Instances      Box(P          R      mAP50  mAP50-95): 100%|██████████| 85/85 [00:07<00:00, 11.23it/s]\n"
     ]
    },
    {
     "name": "stdout",
     "output_type": "stream",
     "text": [
      "                   all       2714      26158      0.912      0.604       0.65      0.551\n",
      "\n",
      "      Epoch    GPU_mem   box_loss   cls_loss   dfl_loss  Instances       Size\n"
     ]
    },
    {
     "name": "stderr",
     "output_type": "stream",
     "text": [
      "      32/50      2.54G      0.702     0.4996     0.9039         86        640: 100%|██████████| 884/884 [01:34<00:00,  9.33it/s]\n",
      "                 Class     Images  Instances      Box(P          R      mAP50  mAP50-95): 100%|██████████| 85/85 [00:07<00:00, 10.92it/s]\n"
     ]
    },
    {
     "name": "stdout",
     "output_type": "stream",
     "text": [
      "                   all       2714      26158      0.921      0.608      0.652      0.554\n",
      "\n",
      "      Epoch    GPU_mem   box_loss   cls_loss   dfl_loss  Instances       Size\n"
     ]
    },
    {
     "name": "stderr",
     "output_type": "stream",
     "text": [
      "      33/50      2.55G     0.6984     0.4954     0.9011        144        640: 100%|██████████| 884/884 [01:36<00:00,  9.19it/s]\n",
      "                 Class     Images  Instances      Box(P          R      mAP50  mAP50-95): 100%|██████████| 85/85 [00:08<00:00, 10.45it/s]\n"
     ]
    },
    {
     "name": "stdout",
     "output_type": "stream",
     "text": [
      "                   all       2714      26158      0.928      0.603      0.652      0.552\n",
      "\n",
      "      Epoch    GPU_mem   box_loss   cls_loss   dfl_loss  Instances       Size\n"
     ]
    },
    {
     "name": "stderr",
     "output_type": "stream",
     "text": [
      "      34/50      2.56G     0.6925      0.491     0.9004        126        640: 100%|██████████| 884/884 [02:46<00:00,  5.30it/s]\n",
      "                 Class     Images  Instances      Box(P          R      mAP50  mAP50-95): 100%|██████████| 85/85 [00:34<00:00,  2.46it/s]"
     ]
    },
    {
     "name": "stdout",
     "output_type": "stream",
     "text": [
      "                   all       2714      26158      0.922      0.607      0.653      0.554\n",
      "\n",
      "      Epoch    GPU_mem   box_loss   cls_loss   dfl_loss  Instances       Size\n"
     ]
    },
    {
     "name": "stderr",
     "output_type": "stream",
     "text": [
      "\n",
      "      35/50      2.57G     0.6903     0.4878     0.9007        104        640: 100%|██████████| 884/884 [02:50<00:00,  5.18it/s]\n",
      "                 Class     Images  Instances      Box(P          R      mAP50  mAP50-95): 100%|██████████| 85/85 [00:35<00:00,  2.38it/s]"
     ]
    },
    {
     "name": "stdout",
     "output_type": "stream",
     "text": [
      "                   all       2714      26158      0.925      0.607      0.655      0.557\n",
      "\n",
      "      Epoch    GPU_mem   box_loss   cls_loss   dfl_loss  Instances       Size\n"
     ]
    },
    {
     "name": "stderr",
     "output_type": "stream",
     "text": [
      "\n",
      "      36/50      2.58G     0.6875     0.4832     0.8983        123        640: 100%|██████████| 884/884 [02:50<00:00,  5.17it/s]\n",
      "                 Class     Images  Instances      Box(P          R      mAP50  mAP50-95): 100%|██████████| 85/85 [00:35<00:00,  2.39it/s]"
     ]
    },
    {
     "name": "stdout",
     "output_type": "stream",
     "text": [
      "                   all       2714      26158      0.934      0.604      0.655      0.557\n",
      "\n",
      "      Epoch    GPU_mem   box_loss   cls_loss   dfl_loss  Instances       Size\n"
     ]
    },
    {
     "name": "stderr",
     "output_type": "stream",
     "text": [
      "\n",
      "      37/50      2.59G     0.6828     0.4802     0.8968         77        640: 100%|██████████| 884/884 [02:50<00:00,  5.20it/s]\n",
      "                 Class     Images  Instances      Box(P          R      mAP50  mAP50-95): 100%|██████████| 85/85 [00:35<00:00,  2.40it/s]"
     ]
    },
    {
     "name": "stdout",
     "output_type": "stream",
     "text": [
      "                   all       2714      26158      0.932      0.605      0.655      0.557\n",
      "\n",
      "      Epoch    GPU_mem   box_loss   cls_loss   dfl_loss  Instances       Size\n"
     ]
    },
    {
     "name": "stderr",
     "output_type": "stream",
     "text": [
      "\n",
      "      38/50      2.61G     0.6746     0.4742     0.8938        104        640: 100%|██████████| 884/884 [02:49<00:00,  5.21it/s]\n",
      "                 Class     Images  Instances      Box(P          R      mAP50  mAP50-95): 100%|██████████| 85/85 [00:35<00:00,  2.40it/s]"
     ]
    },
    {
     "name": "stdout",
     "output_type": "stream",
     "text": [
      "                   all       2714      26158      0.933      0.604      0.653      0.555\n",
      "\n",
      "      Epoch    GPU_mem   box_loss   cls_loss   dfl_loss  Instances       Size\n"
     ]
    },
    {
     "name": "stderr",
     "output_type": "stream",
     "text": [
      "\n",
      "      39/50      2.62G      0.675     0.4732     0.8948        131        640: 100%|██████████| 884/884 [02:50<00:00,  5.18it/s]\n",
      "                 Class     Images  Instances      Box(P          R      mAP50  mAP50-95): 100%|██████████| 85/85 [00:35<00:00,  2.37it/s]"
     ]
    },
    {
     "name": "stdout",
     "output_type": "stream",
     "text": [
      "                   all       2714      26158      0.927      0.609      0.656      0.558\n",
      "\n",
      "      Epoch    GPU_mem   box_loss   cls_loss   dfl_loss  Instances       Size\n"
     ]
    },
    {
     "name": "stderr",
     "output_type": "stream",
     "text": [
      "\n",
      "      40/50      2.63G     0.6692     0.4691     0.8937        103        640: 100%|██████████| 884/884 [02:51<00:00,  5.17it/s]\n",
      "                 Class     Images  Instances      Box(P          R      mAP50  mAP50-95): 100%|██████████| 85/85 [00:35<00:00,  2.40it/s]"
     ]
    },
    {
     "name": "stdout",
     "output_type": "stream",
     "text": [
      "                   all       2714      26158      0.931      0.607      0.656      0.557\n",
      "Closing dataloader mosaic\n"
     ]
    },
    {
     "name": "stderr",
     "output_type": "stream",
     "text": [
      "\n"
     ]
    },
    {
     "name": "stdout",
     "output_type": "stream",
     "text": [
      "\n",
      "      Epoch    GPU_mem   box_loss   cls_loss   dfl_loss  Instances       Size\n"
     ]
    },
    {
     "name": "stderr",
     "output_type": "stream",
     "text": [
      "      41/50      2.64G     0.6582      0.436     0.8766         44        640: 100%|██████████| 884/884 [02:48<00:00,  5.24it/s]\n",
      "                 Class     Images  Instances      Box(P          R      mAP50  mAP50-95): 100%|██████████| 85/85 [00:35<00:00,  2.37it/s]"
     ]
    },
    {
     "name": "stdout",
     "output_type": "stream",
     "text": [
      "                   all       2714      26158      0.931      0.607      0.655      0.557\n",
      "\n",
      "      Epoch    GPU_mem   box_loss   cls_loss   dfl_loss  Instances       Size\n"
     ]
    },
    {
     "name": "stderr",
     "output_type": "stream",
     "text": [
      "\n",
      "      42/50      2.64G     0.6457     0.4218     0.8726        119        640:  87%|████████▋ | 768/884 [01:52<00:12,  9.10it/s]Exception in thread Thread-72 (_pin_memory_loop):\n",
      "Traceback (most recent call last):\n",
      "  File \"/usr/lib/python3.12/threading.py\", line 1073, in _bootstrap_inner\n",
      "    self.run()\n",
      "  File \"/home/dani/Desktop/futbol/.venv/lib/python3.12/site-packages/ipykernel/ipkernel.py\", line 766, in run_closure\n",
      "    _threading_Thread_run(self)\n",
      "  File \"/usr/lib/python3.12/threading.py\", line 1010, in run\n",
      "    self._target(*self._args, **self._kwargs)\n",
      "  File \"/home/dani/Desktop/futbol/.venv/lib/python3.12/site-packages/torch/utils/data/_utils/pin_memory.py\", line 61, in _pin_memory_loop\n",
      "    do_one_step()\n",
      "  File \"/home/dani/Desktop/futbol/.venv/lib/python3.12/site-packages/torch/utils/data/_utils/pin_memory.py\", line 37, in do_one_step\n",
      "    r = in_queue.get(timeout=MP_STATUS_CHECK_INTERVAL)\n",
      "      42/50      2.64G     0.6457     0.4218     0.8726        119        640:  87%|████████▋ | 768/884 [01:52<00:17,  6.81it/s]\n",
      "^\n",
      "  File \"/usr/lib/python3.12/multiprocessing/queues.py\", line 122, in get\n",
      "    return _ForkingPickler.loads(res)\n",
      "           ^^^^^^^^^^^^^^^^^^^^^^^^^^\n",
      "  File \"/home/dani/Desktop/futbol/.venv/lib/python3.12/site-packages/torch/multiprocessing/reductions.py\", line 541, in rebuild_storage_fd\n",
      "    fd = df.detach()\n",
      "         ^^^^^^^^^^^\n",
      "  File \"/usr/lib/python3.12/multiprocessing/resource_sharer.py\", line 57, in detach\n",
      "    with _resource_sharer.get_connection(self._id) as conn:\n",
      "         ^^^^^^^^^^^^^^^^^^^^^^^^^^^^^^^^^^^^^^^^^\n",
      "  File \"/usr/lib/python3.12/multiprocessing/resource_sharer.py\", line 86, in get_connection\n",
      "    c = Client(address, authkey=process.current_process().authkey)\n",
      "        ^^^^^^^^^^^^^^^^^^^^^^^^^^^^^^^^^^^^^^^^^^^^^^^^^^^^^^^^^^\n",
      "  File \"/usr/lib/python3.12/multiprocessing/connection.py\", line 519, in Client\n",
      "    c = SocketClient(address)\n",
      "        ^^^^^^^^^^^^^^^^^^^^^\n",
      "  File \"/usr/lib/python3.12/multiprocessing/connection.py\", line 647, in SocketClient\n",
      "    s.connect(address)\n",
      "FileNotFoundError: [Errno 2] No such file or directory\n"
     ]
    },
    {
     "ename": "KeyboardInterrupt",
     "evalue": "",
     "output_type": "error",
     "traceback": [
      "\u001b[31m---------------------------------------------------------------------------\u001b[39m",
      "\u001b[31mKeyboardInterrupt\u001b[39m                         Traceback (most recent call last)",
      "\u001b[36mCell\u001b[39m\u001b[36m \u001b[39m\u001b[32mIn[20]\u001b[39m\u001b[32m, line 6\u001b[39m\n\u001b[32m      4\u001b[39m model = YOLO(\u001b[33m'\u001b[39m\u001b[33myolov8n.pt\u001b[39m\u001b[33m'\u001b[39m)  \n\u001b[32m      5\u001b[39m \u001b[38;5;66;03m# Entrenar (fine-tune) con tus datos\u001b[39;00m\n\u001b[32m----> \u001b[39m\u001b[32m6\u001b[39m \u001b[43mmodel\u001b[49m\u001b[43m.\u001b[49m\u001b[43mtrain\u001b[49m\u001b[43m(\u001b[49m\u001b[43mdata\u001b[49m\u001b[43m=\u001b[49m\u001b[33;43m'\u001b[39;49m\u001b[33;43mline_dataset.yaml\u001b[39;49m\u001b[33;43m'\u001b[39;49m\u001b[43m,\u001b[49m\u001b[43m \u001b[49m\u001b[43mepochs\u001b[49m\u001b[43m=\u001b[49m\u001b[32;43m50\u001b[39;49m\u001b[43m,\u001b[49m\u001b[43m \u001b[49m\u001b[43mimgsz\u001b[49m\u001b[43m=\u001b[49m\u001b[32;43m640\u001b[39;49m\u001b[43m,\u001b[49m\u001b[43m \u001b[49m\u001b[43mbatch\u001b[49m\u001b[43m=\u001b[49m\u001b[32;43m16\u001b[39;49m\u001b[43m)\u001b[49m\n",
      "\u001b[36mFile \u001b[39m\u001b[32m~/Desktop/futbol/.venv/lib/python3.12/site-packages/ultralytics/engine/model.py:796\u001b[39m, in \u001b[36mModel.train\u001b[39m\u001b[34m(self, trainer, **kwargs)\u001b[39m\n\u001b[32m    793\u001b[39m     \u001b[38;5;28mself\u001b[39m.model = \u001b[38;5;28mself\u001b[39m.trainer.model\n\u001b[32m    795\u001b[39m \u001b[38;5;28mself\u001b[39m.trainer.hub_session = \u001b[38;5;28mself\u001b[39m.session  \u001b[38;5;66;03m# attach optional HUB session\u001b[39;00m\n\u001b[32m--> \u001b[39m\u001b[32m796\u001b[39m \u001b[38;5;28;43mself\u001b[39;49m\u001b[43m.\u001b[49m\u001b[43mtrainer\u001b[49m\u001b[43m.\u001b[49m\u001b[43mtrain\u001b[49m\u001b[43m(\u001b[49m\u001b[43m)\u001b[49m\n\u001b[32m    797\u001b[39m \u001b[38;5;66;03m# Update model and cfg after training\u001b[39;00m\n\u001b[32m    798\u001b[39m \u001b[38;5;28;01mif\u001b[39;00m RANK \u001b[38;5;129;01min\u001b[39;00m {-\u001b[32m1\u001b[39m, \u001b[32m0\u001b[39m}:\n",
      "\u001b[36mFile \u001b[39m\u001b[32m~/Desktop/futbol/.venv/lib/python3.12/site-packages/ultralytics/engine/trainer.py:211\u001b[39m, in \u001b[36mBaseTrainer.train\u001b[39m\u001b[34m(self)\u001b[39m\n\u001b[32m    208\u001b[39m         ddp_cleanup(\u001b[38;5;28mself\u001b[39m, \u001b[38;5;28mstr\u001b[39m(file))\n\u001b[32m    210\u001b[39m \u001b[38;5;28;01melse\u001b[39;00m:\n\u001b[32m--> \u001b[39m\u001b[32m211\u001b[39m     \u001b[38;5;28;43mself\u001b[39;49m\u001b[43m.\u001b[49m\u001b[43m_do_train\u001b[49m\u001b[43m(\u001b[49m\u001b[43mworld_size\u001b[49m\u001b[43m)\u001b[49m\n",
      "\u001b[36mFile \u001b[39m\u001b[32m~/Desktop/futbol/.venv/lib/python3.12/site-packages/ultralytics/engine/trainer.py:390\u001b[39m, in \u001b[36mBaseTrainer._do_train\u001b[39m\u001b[34m(self, world_size)\u001b[39m\n\u001b[32m    388\u001b[39m \u001b[38;5;28;01mwith\u001b[39;00m autocast(\u001b[38;5;28mself\u001b[39m.amp):\n\u001b[32m    389\u001b[39m     batch = \u001b[38;5;28mself\u001b[39m.preprocess_batch(batch)\n\u001b[32m--> \u001b[39m\u001b[32m390\u001b[39m     loss, \u001b[38;5;28mself\u001b[39m.loss_items = \u001b[38;5;28;43mself\u001b[39;49m\u001b[43m.\u001b[49m\u001b[43mmodel\u001b[49m\u001b[43m(\u001b[49m\u001b[43mbatch\u001b[49m\u001b[43m)\u001b[49m\n\u001b[32m    391\u001b[39m     \u001b[38;5;28mself\u001b[39m.loss = loss.sum()\n\u001b[32m    392\u001b[39m     \u001b[38;5;28;01mif\u001b[39;00m RANK != -\u001b[32m1\u001b[39m:\n",
      "\u001b[36mFile \u001b[39m\u001b[32m~/Desktop/futbol/.venv/lib/python3.12/site-packages/torch/nn/modules/module.py:1751\u001b[39m, in \u001b[36mModule._wrapped_call_impl\u001b[39m\u001b[34m(self, *args, **kwargs)\u001b[39m\n\u001b[32m   1749\u001b[39m     \u001b[38;5;28;01mreturn\u001b[39;00m \u001b[38;5;28mself\u001b[39m._compiled_call_impl(*args, **kwargs)  \u001b[38;5;66;03m# type: ignore[misc]\u001b[39;00m\n\u001b[32m   1750\u001b[39m \u001b[38;5;28;01melse\u001b[39;00m:\n\u001b[32m-> \u001b[39m\u001b[32m1751\u001b[39m     \u001b[38;5;28;01mreturn\u001b[39;00m \u001b[38;5;28;43mself\u001b[39;49m\u001b[43m.\u001b[49m\u001b[43m_call_impl\u001b[49m\u001b[43m(\u001b[49m\u001b[43m*\u001b[49m\u001b[43margs\u001b[49m\u001b[43m,\u001b[49m\u001b[43m \u001b[49m\u001b[43m*\u001b[49m\u001b[43m*\u001b[49m\u001b[43mkwargs\u001b[49m\u001b[43m)\u001b[49m\n",
      "\u001b[36mFile \u001b[39m\u001b[32m~/Desktop/futbol/.venv/lib/python3.12/site-packages/torch/nn/modules/module.py:1762\u001b[39m, in \u001b[36mModule._call_impl\u001b[39m\u001b[34m(self, *args, **kwargs)\u001b[39m\n\u001b[32m   1757\u001b[39m \u001b[38;5;66;03m# If we don't have any hooks, we want to skip the rest of the logic in\u001b[39;00m\n\u001b[32m   1758\u001b[39m \u001b[38;5;66;03m# this function, and just call forward.\u001b[39;00m\n\u001b[32m   1759\u001b[39m \u001b[38;5;28;01mif\u001b[39;00m \u001b[38;5;129;01mnot\u001b[39;00m (\u001b[38;5;28mself\u001b[39m._backward_hooks \u001b[38;5;129;01mor\u001b[39;00m \u001b[38;5;28mself\u001b[39m._backward_pre_hooks \u001b[38;5;129;01mor\u001b[39;00m \u001b[38;5;28mself\u001b[39m._forward_hooks \u001b[38;5;129;01mor\u001b[39;00m \u001b[38;5;28mself\u001b[39m._forward_pre_hooks\n\u001b[32m   1760\u001b[39m         \u001b[38;5;129;01mor\u001b[39;00m _global_backward_pre_hooks \u001b[38;5;129;01mor\u001b[39;00m _global_backward_hooks\n\u001b[32m   1761\u001b[39m         \u001b[38;5;129;01mor\u001b[39;00m _global_forward_hooks \u001b[38;5;129;01mor\u001b[39;00m _global_forward_pre_hooks):\n\u001b[32m-> \u001b[39m\u001b[32m1762\u001b[39m     \u001b[38;5;28;01mreturn\u001b[39;00m \u001b[43mforward_call\u001b[49m\u001b[43m(\u001b[49m\u001b[43m*\u001b[49m\u001b[43margs\u001b[49m\u001b[43m,\u001b[49m\u001b[43m \u001b[49m\u001b[43m*\u001b[49m\u001b[43m*\u001b[49m\u001b[43mkwargs\u001b[49m\u001b[43m)\u001b[49m\n\u001b[32m   1764\u001b[39m result = \u001b[38;5;28;01mNone\u001b[39;00m\n\u001b[32m   1765\u001b[39m called_always_called_hooks = \u001b[38;5;28mset\u001b[39m()\n",
      "\u001b[36mFile \u001b[39m\u001b[32m~/Desktop/futbol/.venv/lib/python3.12/site-packages/ultralytics/nn/tasks.py:114\u001b[39m, in \u001b[36mBaseModel.forward\u001b[39m\u001b[34m(self, x, *args, **kwargs)\u001b[39m\n\u001b[32m    100\u001b[39m \u001b[38;5;250m\u001b[39m\u001b[33;03m\"\"\"\u001b[39;00m\n\u001b[32m    101\u001b[39m \u001b[33;03mPerform forward pass of the model for either training or inference.\u001b[39;00m\n\u001b[32m    102\u001b[39m \n\u001b[32m   (...)\u001b[39m\u001b[32m    111\u001b[39m \u001b[33;03m    (torch.Tensor): Loss if x is a dict (training), or network predictions (inference).\u001b[39;00m\n\u001b[32m    112\u001b[39m \u001b[33;03m\"\"\"\u001b[39;00m\n\u001b[32m    113\u001b[39m \u001b[38;5;28;01mif\u001b[39;00m \u001b[38;5;28misinstance\u001b[39m(x, \u001b[38;5;28mdict\u001b[39m):  \u001b[38;5;66;03m# for cases of training and validating while training.\u001b[39;00m\n\u001b[32m--> \u001b[39m\u001b[32m114\u001b[39m     \u001b[38;5;28;01mreturn\u001b[39;00m \u001b[38;5;28;43mself\u001b[39;49m\u001b[43m.\u001b[49m\u001b[43mloss\u001b[49m\u001b[43m(\u001b[49m\u001b[43mx\u001b[49m\u001b[43m,\u001b[49m\u001b[43m \u001b[49m\u001b[43m*\u001b[49m\u001b[43margs\u001b[49m\u001b[43m,\u001b[49m\u001b[43m \u001b[49m\u001b[43m*\u001b[49m\u001b[43m*\u001b[49m\u001b[43mkwargs\u001b[49m\u001b[43m)\u001b[49m\n\u001b[32m    115\u001b[39m \u001b[38;5;28;01mreturn\u001b[39;00m \u001b[38;5;28mself\u001b[39m.predict(x, *args, **kwargs)\n",
      "\u001b[36mFile \u001b[39m\u001b[32m~/Desktop/futbol/.venv/lib/python3.12/site-packages/ultralytics/nn/tasks.py:314\u001b[39m, in \u001b[36mBaseModel.loss\u001b[39m\u001b[34m(self, batch, preds)\u001b[39m\n\u001b[32m    311\u001b[39m     \u001b[38;5;28mself\u001b[39m.criterion = \u001b[38;5;28mself\u001b[39m.init_criterion()\n\u001b[32m    313\u001b[39m preds = \u001b[38;5;28mself\u001b[39m.forward(batch[\u001b[33m\"\u001b[39m\u001b[33mimg\u001b[39m\u001b[33m\"\u001b[39m]) \u001b[38;5;28;01mif\u001b[39;00m preds \u001b[38;5;129;01mis\u001b[39;00m \u001b[38;5;28;01mNone\u001b[39;00m \u001b[38;5;28;01melse\u001b[39;00m preds\n\u001b[32m--> \u001b[39m\u001b[32m314\u001b[39m \u001b[38;5;28;01mreturn\u001b[39;00m \u001b[38;5;28;43mself\u001b[39;49m\u001b[43m.\u001b[49m\u001b[43mcriterion\u001b[49m\u001b[43m(\u001b[49m\u001b[43mpreds\u001b[49m\u001b[43m,\u001b[49m\u001b[43m \u001b[49m\u001b[43mbatch\u001b[49m\u001b[43m)\u001b[49m\n",
      "\u001b[36mFile \u001b[39m\u001b[32m~/Desktop/futbol/.venv/lib/python3.12/site-packages/ultralytics/utils/loss.py:227\u001b[39m, in \u001b[36mv8DetectionLoss.__call__\u001b[39m\u001b[34m(self, preds, batch)\u001b[39m\n\u001b[32m    225\u001b[39m dtype = pred_scores.dtype\n\u001b[32m    226\u001b[39m batch_size = pred_scores.shape[\u001b[32m0\u001b[39m]\n\u001b[32m--> \u001b[39m\u001b[32m227\u001b[39m imgsz = \u001b[43mtorch\u001b[49m\u001b[43m.\u001b[49m\u001b[43mtensor\u001b[49m\u001b[43m(\u001b[49m\u001b[43mfeats\u001b[49m\u001b[43m[\u001b[49m\u001b[32;43m0\u001b[39;49m\u001b[43m]\u001b[49m\u001b[43m.\u001b[49m\u001b[43mshape\u001b[49m\u001b[43m[\u001b[49m\u001b[32;43m2\u001b[39;49m\u001b[43m:\u001b[49m\u001b[43m]\u001b[49m\u001b[43m,\u001b[49m\u001b[43m \u001b[49m\u001b[43mdevice\u001b[49m\u001b[43m=\u001b[49m\u001b[38;5;28;43mself\u001b[39;49m\u001b[43m.\u001b[49m\u001b[43mdevice\u001b[49m\u001b[43m,\u001b[49m\u001b[43m \u001b[49m\u001b[43mdtype\u001b[49m\u001b[43m=\u001b[49m\u001b[43mdtype\u001b[49m\u001b[43m)\u001b[49m * \u001b[38;5;28mself\u001b[39m.stride[\u001b[32m0\u001b[39m]  \u001b[38;5;66;03m# image size (h,w)\u001b[39;00m\n\u001b[32m    228\u001b[39m anchor_points, stride_tensor = make_anchors(feats, \u001b[38;5;28mself\u001b[39m.stride, \u001b[32m0.5\u001b[39m)\n\u001b[32m    230\u001b[39m \u001b[38;5;66;03m# Targets\u001b[39;00m\n",
      "\u001b[31mKeyboardInterrupt\u001b[39m: "
     ]
    }
   ],
   "source": [
    "from ultralytics import YOLO\n",
    "\n",
    "# Cargar un modelo base\n",
    "model = YOLO('yolov8n.pt')  \n",
    "# Entrenar (fine-tune) con tus datos\n",
    "model.train(data='line_dataset.yaml', epochs=50, imgsz=640, batch=16)"
   ]
  },
  {
   "cell_type": "code",
   "execution_count": 21,
   "id": "b6f8d248",
   "metadata": {},
   "outputs": [],
   "source": [
    "#guardar el modelo\n",
    "model.save(\"yolov8n_line.pt\")"
   ]
  },
  {
   "cell_type": "code",
   "execution_count": null,
   "id": "c839ae3f",
   "metadata": {},
   "outputs": [
    {
     "name": "stdout",
     "output_type": "stream",
     "text": [
      "\n",
      "image 1/1 /home/dani/Desktop/futbol/example.jpg: 416x640 2 field_lines, 11.2ms\n",
      "Speed: 2.1ms preprocess, 11.2ms inference, 14.3ms postprocess per image at shape (1, 3, 416, 640)\n",
      "Results saved to \u001b[1mdataset/predictions/example2\u001b[0m\n",
      "1 label saved to dataset/predictions/example2/labels\n"
     ]
    }
   ],
   "source": [
    "from ultralytics import YOLO\n",
    "import cv2\n",
    "\n",
    "#cargar el modelo\n",
    "model = YOLO(\"yolov8n_line.pt\")\n",
    "# Realizar inferencia a la imagen example.jpg\n",
    "results = model.predict(source=\"example.jpg\", save=True, save_txt=True, project=\"dataset/predictions\", name=\"example\")\n",
    "# Mostrar resultados\n",
    "for result in results:\n",
    "    # Mostrar la imagen con las detecciones\n",
    "    cv2.imshow(\"Detecciones\", result.plot())\n",
    "    cv2.waitKey(0)  # Esperar a que se presione una tecla\n",
    "    cv2.destroyAllWindows()"
   ]
  }
 ],
 "metadata": {
  "kernelspec": {
   "display_name": ".venv",
   "language": "python",
   "name": "python3"
  },
  "language_info": {
   "codemirror_mode": {
    "name": "ipython",
    "version": 3
   },
   "file_extension": ".py",
   "mimetype": "text/x-python",
   "name": "python",
   "nbconvert_exporter": "python",
   "pygments_lexer": "ipython3",
   "version": "3.12.3"
  }
 },
 "nbformat": 4,
 "nbformat_minor": 5
}
