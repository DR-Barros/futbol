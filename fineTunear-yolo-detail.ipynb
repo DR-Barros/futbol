{
 "cells": [
  {
   "cell_type": "markdown",
   "id": "089318ab",
   "metadata": {},
   "source": [
    "## Crear Dataset en el formato necesario"
   ]
  },
  {
   "cell_type": "code",
   "execution_count": 1,
   "id": "c0ff665d",
   "metadata": {},
   "outputs": [
    {
     "name": "stdout",
     "output_type": "stream",
     "text": [
      "Imágenes copiadas correctamente.\n"
     ]
    }
   ],
   "source": [
    "import os\n",
    "import shutil\n",
    "\n",
    "from_folder = \"SoccerNet/calibration\"\n",
    "to_folder = \"dataset-det/images\"\n",
    "\n",
    "# Crear la carpeta destino si no existe\n",
    "os.makedirs(to_folder, exist_ok=True)\n",
    "\n",
    "# Iterar sobre cada subcarpeta\n",
    "dirs = os.listdir(from_folder)\n",
    "for dir_name in dirs:\n",
    "    subfolder_path = os.path.join(from_folder, dir_name)\n",
    "    to_folder_path = os.path.join(to_folder, dir_name)\n",
    "    if not os.path.isdir(subfolder_path):\n",
    "        continue  # Saltar si no es carpeta\n",
    "    \n",
    "    if not os.path.exists(to_folder_path):\n",
    "        os.makedirs(to_folder_path)\n",
    "\n",
    "    # Listar todas las imágenes en la subcarpeta\n",
    "    images = [img for img in os.listdir(subfolder_path) if img.endswith(\".jpg\") or img.endswith(\".png\")]\n",
    "\n",
    "    # Copiar las imágenes a la carpeta destino\n",
    "    for img in images:\n",
    "        src_path = os.path.join(subfolder_path, img)\n",
    "        dst_path = os.path.join(to_folder_path, img)\n",
    "        shutil.copy(src_path, dst_path)\n",
    "\n",
    "print(\"Imágenes copiadas correctamente.\")"
   ]
  },
  {
   "cell_type": "code",
   "execution_count": 1,
   "id": "0f9b26cb",
   "metadata": {},
   "outputs": [
    {
     "name": "stdout",
     "output_type": "stream",
     "text": [
      "Nombre de archivo no numérico: match_info.json\n",
      "Nombre de archivo no numérico: match_info.json\n",
      "Nombre de archivo no numérico: match_info.json\n",
      "Etiquetas generadas correctamente.\n"
     ]
    }
   ],
   "source": [
    "import os\n",
    "import sys\n",
    "import json\n",
    "from_folder = \"SoccerNet/calibration\"\n",
    "labels_folder = \"dataset-det/labels\"\n",
    "\n",
    "# Diccionario para mapear etiquetas a IDs\n",
    "class_mapping = {\n",
    "    \"Goal right crossbar\": 0,\n",
    "    \"Goal right post left\": 1,\n",
    "    \"Goal right post right\": 2,\n",
    "    \"Goal left post left\": 3,\n",
    "    \"Goal left post left \": 4,\n",
    "    \"Goal left post left\": 5,\n",
    "    \"Goal left post right\": 6,\n",
    "    \"Goal left crossbar\": 7,\n",
    "    \"Small rect. right main\": 8,\n",
    "    \"Small rect. right top\": 9,\n",
    "    \"Side line right\": 10,\n",
    "    \"Side line top\": 11,\n",
    "    \"Side line bottom\": 12,\n",
    "    \"Big rect. right top\": 13,\n",
    "    \"Big rect. right main\": 14,\n",
    "    \"Circle right\": 15,\n",
    "    \"Side line left\": 16,\n",
    "    \"Big rect. left top\": 17,\n",
    "    \"Big rect. left bottom\": 18,\n",
    "    \"Big rect. left main\": 19,\n",
    "    \"Big rect. right bottom\": 20,\n",
    "    \"Small rect. right bottom\": 21,\n",
    "    \"Small rect. left top\": 22,\n",
    "    \"Small rect. left bottom\": 23,\n",
    "    \"Small rect. left main\": 24,\n",
    "    \"Circle left\": 25,\n",
    "    \"Circle central\": 26,\n",
    "    \"Middle line\": 27,\n",
    "    \"Line unknown\": 28,\n",
    "    \"Goal unknown\": 29,\n",
    "}\n",
    "\n",
    "# Función auxiliar para obtener el bounding box\n",
    "def get_bbox_from_points(points):\n",
    "    xs = [p[\"x\"] for p in points]\n",
    "    ys = [p[\"y\"] for p in points]\n",
    "    x_min, x_max = min(xs), max(xs)\n",
    "    y_min, y_max = min(ys), max(ys)\n",
    "    x_center = (x_min + x_max) / 2\n",
    "    y_center = (y_min + y_max) / 2\n",
    "    width = x_max - x_min\n",
    "    height = y_max - y_min\n",
    "    return x_center, y_center, width, height\n",
    "\n",
    "# Crear la carpeta destino si no existe\n",
    "os.makedirs(labels_folder, exist_ok=True)\n",
    "\n",
    "# Iterar sobre cada subcarpeta\n",
    "dirs = os.listdir(from_folder)\n",
    "for dir_name in dirs:\n",
    "    subfolder_path = os.path.join(from_folder, dir_name)\n",
    "    to_folder_path = os.path.join(labels_folder, dir_name)\n",
    "    if not os.path.isdir(subfolder_path):\n",
    "        continue  # Saltar si no es carpeta\n",
    "    \n",
    "    if not os.path.exists(to_folder_path):\n",
    "        os.makedirs(to_folder_path)\n",
    "\n",
    "    #listar todos los json\n",
    "    jsons = [json for json in os.listdir(subfolder_path) if json.endswith(\".json\")]\n",
    "\n",
    "    for j in jsons:\n",
    "        #si el nombre del archivo no es numérico, saltar\n",
    "        if not j[:-5].isdigit():\n",
    "            print(f\"Nombre de archivo no numérico: {j}\")\n",
    "            continue\n",
    "        with open(os.path.join(subfolder_path, j), \"r\") as f:\n",
    "            try:\n",
    "                data = json.load(f)\n",
    "            except Exception as e:\n",
    "                print(f\"Error al cargar el archivo JSON {j}: {e}\")\n",
    "                continue\n",
    "            label_txt = os.path.join(to_folder_path, j.replace(\".json\", \".txt\"))\n",
    "            with open(label_txt, \"w\") as label_file:\n",
    "                for label, points in data.items():\n",
    "                    if label not in class_mapping:\n",
    "                        print(f\"Etiqueta desconocida: {label} en {j}\")\n",
    "                    if label not in class_mapping or len(points) < 2:\n",
    "                        continue\n",
    "                    class_id = class_mapping[label]\n",
    "                    x_c, y_c, w, h = get_bbox_from_points(points)\n",
    "                    label_file.write(f\"{class_id} {x_c:.6f} {y_c:.6f} {w:.6f} {h:.6f}\\n\")\n",
    "print(\"Etiquetas generadas correctamente.\")"
   ]
  },
  {
   "cell_type": "markdown",
   "id": "e9a52fac",
   "metadata": {},
   "source": [
    "# Finetunear Modelo"
   ]
  },
  {
   "cell_type": "code",
   "execution_count": 2,
   "id": "94941a22",
   "metadata": {},
   "outputs": [
    {
     "name": "stdout",
     "output_type": "stream",
     "text": [
      "New https://pypi.org/project/ultralytics/8.3.142 available 😃 Update with 'pip install -U ultralytics'\n",
      "Ultralytics 8.3.141 🚀 Python-3.12.3 torch-2.7.0+cu126 CUDA:0 (NVIDIA GeForce RTX 4060, 7911MiB)\n",
      "\u001b[34m\u001b[1mengine/trainer: \u001b[0magnostic_nms=False, amp=True, augment=False, auto_augment=randaugment, batch=16, bgr=0.0, box=7.5, cache=False, cfg=None, classes=None, close_mosaic=10, cls=0.5, conf=None, copy_paste=0.0, copy_paste_mode=flip, cos_lr=False, cutmix=0.0, data=line_dataset_detail.yaml, degrees=0.0, deterministic=True, device=None, dfl=1.5, dnn=False, dropout=0.0, dynamic=False, embed=None, epochs=50, erasing=0.4, exist_ok=False, fliplr=0.5, flipud=0.0, format=torchscript, fraction=1.0, freeze=None, half=False, hsv_h=0.015, hsv_s=0.7, hsv_v=0.4, imgsz=640, int8=False, iou=0.7, keras=False, kobj=1.0, line_width=None, lr0=0.01, lrf=0.01, mask_ratio=4, max_det=300, mixup=0.0, mode=train, model=yolov8n.pt, momentum=0.937, mosaic=1.0, multi_scale=False, name=train6, nbs=64, nms=False, opset=None, optimize=False, optimizer=auto, overlap_mask=True, patience=100, perspective=0.0, plots=True, pose=12.0, pretrained=True, profile=False, project=None, rect=False, resume=False, retina_masks=False, save=True, save_conf=False, save_crop=False, save_dir=/home/dani/Desktop/futbol/runs/detect/train6, save_frames=False, save_json=False, save_period=-1, save_txt=False, scale=0.5, seed=0, shear=0.0, show=False, show_boxes=True, show_conf=True, show_labels=True, simplify=True, single_cls=False, source=None, split=val, stream_buffer=False, task=detect, time=None, tracker=botsort.yaml, translate=0.1, val=True, verbose=True, vid_stride=1, visualize=False, warmup_bias_lr=0.1, warmup_epochs=3.0, warmup_momentum=0.8, weight_decay=0.0005, workers=8, workspace=None\n",
      "Overriding model.yaml nc=80 with nc=30\n",
      "\n",
      "                   from  n    params  module                                       arguments                     \n",
      "  0                  -1  1       464  ultralytics.nn.modules.conv.Conv             [3, 16, 3, 2]                 \n",
      "  1                  -1  1      4672  ultralytics.nn.modules.conv.Conv             [16, 32, 3, 2]                \n",
      "  2                  -1  1      7360  ultralytics.nn.modules.block.C2f             [32, 32, 1, True]             \n",
      "  3                  -1  1     18560  ultralytics.nn.modules.conv.Conv             [32, 64, 3, 2]                \n",
      "  4                  -1  2     49664  ultralytics.nn.modules.block.C2f             [64, 64, 2, True]             \n",
      "  5                  -1  1     73984  ultralytics.nn.modules.conv.Conv             [64, 128, 3, 2]               \n",
      "  6                  -1  2    197632  ultralytics.nn.modules.block.C2f             [128, 128, 2, True]           \n",
      "  7                  -1  1    295424  ultralytics.nn.modules.conv.Conv             [128, 256, 3, 2]              \n",
      "  8                  -1  1    460288  ultralytics.nn.modules.block.C2f             [256, 256, 1, True]           \n",
      "  9                  -1  1    164608  ultralytics.nn.modules.block.SPPF            [256, 256, 5]                 \n",
      " 10                  -1  1         0  torch.nn.modules.upsampling.Upsample         [None, 2, 'nearest']          \n",
      " 11             [-1, 6]  1         0  ultralytics.nn.modules.conv.Concat           [1]                           \n",
      " 12                  -1  1    148224  ultralytics.nn.modules.block.C2f             [384, 128, 1]                 \n",
      " 13                  -1  1         0  torch.nn.modules.upsampling.Upsample         [None, 2, 'nearest']          \n",
      " 14             [-1, 4]  1         0  ultralytics.nn.modules.conv.Concat           [1]                           \n",
      " 15                  -1  1     37248  ultralytics.nn.modules.block.C2f             [192, 64, 1]                  \n",
      " 16                  -1  1     36992  ultralytics.nn.modules.conv.Conv             [64, 64, 3, 2]                \n",
      " 17            [-1, 12]  1         0  ultralytics.nn.modules.conv.Concat           [1]                           \n",
      " 18                  -1  1    123648  ultralytics.nn.modules.block.C2f             [192, 128, 1]                 \n",
      " 19                  -1  1    147712  ultralytics.nn.modules.conv.Conv             [128, 128, 3, 2]              \n",
      " 20             [-1, 9]  1         0  ultralytics.nn.modules.conv.Concat           [1]                           \n",
      " 21                  -1  1    493056  ultralytics.nn.modules.block.C2f             [384, 256, 1]                 \n",
      " 22        [15, 18, 21]  1    757162  ultralytics.nn.modules.head.Detect           [30, [64, 128, 256]]          \n",
      "Model summary: 129 layers, 3,016,698 parameters, 3,016,682 gradients, 8.2 GFLOPs\n",
      "\n",
      "Transferred 319/355 items from pretrained weights\n",
      "Freezing layer 'model.22.dfl.conv.weight'\n",
      "\u001b[34m\u001b[1mAMP: \u001b[0mrunning Automatic Mixed Precision (AMP) checks...\n",
      "\u001b[34m\u001b[1mAMP: \u001b[0mchecks passed ✅\n",
      "\u001b[34m\u001b[1mtrain: \u001b[0mFast image access ✅ (ping: 0.0±0.0 ms, read: 4192.7±865.6 MB/s, size: 162.6 KB)\n"
     ]
    },
    {
     "name": "stderr",
     "output_type": "stream",
     "text": [
      "\u001b[34m\u001b[1mtrain: \u001b[0mScanning /home/dani/Desktop/futbol/dataset-det/labels/train... 14513 images, 0 backgrounds, 379 corrupt: 100%|██████████| 14513/14513 [00:04<00:00, 3158.12it/s]"
     ]
    },
    {
     "name": "stdout",
     "output_type": "stream",
     "text": [
      "\u001b[34m\u001b[1mtrain: \u001b[0m/home/dani/Desktop/futbol/dataset-det/images/train/00005.jpg: ignoring corrupt image/label: non-normalized or out of bounds coordinates [1.000009]\n",
      "\u001b[34m\u001b[1mtrain: \u001b[0m/home/dani/Desktop/futbol/dataset-det/images/train/00009.jpg: ignoring corrupt image/label: non-normalized or out of bounds coordinates [1.000009]\n",
      "\u001b[34m\u001b[1mtrain: \u001b[0m/home/dani/Desktop/futbol/dataset-det/images/train/00019.jpg: ignoring corrupt image/label: non-normalized or out of bounds coordinates [1.000005]\n",
      "\u001b[34m\u001b[1mtrain: \u001b[0m/home/dani/Desktop/futbol/dataset-det/images/train/00026.jpg: ignoring corrupt image/label: non-normalized or out of bounds coordinates [1.000009]\n",
      "\u001b[34m\u001b[1mtrain: \u001b[0m/home/dani/Desktop/futbol/dataset-det/images/train/00042.jpg: ignoring corrupt image/label: non-normalized or out of bounds coordinates [1.000009]\n",
      "\u001b[34m\u001b[1mtrain: \u001b[0m/home/dani/Desktop/futbol/dataset-det/images/train/00332.jpg: ignoring corrupt image/label: non-normalized or out of bounds coordinates [1.000014]\n",
      "\u001b[34m\u001b[1mtrain: \u001b[0m/home/dani/Desktop/futbol/dataset-det/images/train/00460.jpg: ignoring corrupt image/label: non-normalized or out of bounds coordinates [1.000014]\n",
      "\u001b[34m\u001b[1mtrain: \u001b[0m/home/dani/Desktop/futbol/dataset-det/images/train/00466.jpg: ignoring corrupt image/label: non-normalized or out of bounds coordinates [1.000008]\n",
      "\u001b[34m\u001b[1mtrain: \u001b[0m/home/dani/Desktop/futbol/dataset-det/images/train/00522.jpg: ignoring corrupt image/label: non-normalized or out of bounds coordinates [1.000008]\n",
      "\u001b[34m\u001b[1mtrain: \u001b[0m/home/dani/Desktop/futbol/dataset-det/images/train/00527.jpg: ignoring corrupt image/label: non-normalized or out of bounds coordinates [1.000008]\n",
      "\u001b[34m\u001b[1mtrain: \u001b[0m/home/dani/Desktop/futbol/dataset-det/images/train/00535.jpg: ignoring corrupt image/label: non-normalized or out of bounds coordinates [1.000008]\n",
      "\u001b[34m\u001b[1mtrain: \u001b[0m/home/dani/Desktop/futbol/dataset-det/images/train/00566.jpg: ignoring corrupt image/label: non-normalized or out of bounds coordinates [1.000008]\n",
      "\u001b[34m\u001b[1mtrain: \u001b[0m/home/dani/Desktop/futbol/dataset-det/images/train/00589.jpg: ignoring corrupt image/label: non-normalized or out of bounds coordinates [1.000014]\n",
      "\u001b[34m\u001b[1mtrain: \u001b[0m/home/dani/Desktop/futbol/dataset-det/images/train/00605.jpg: ignoring corrupt image/label: non-normalized or out of bounds coordinates [1.000014]\n",
      "\u001b[34m\u001b[1mtrain: \u001b[0m/home/dani/Desktop/futbol/dataset-det/images/train/00649.jpg: ignoring corrupt image/label: non-normalized or out of bounds coordinates [1.000014]\n",
      "\u001b[34m\u001b[1mtrain: \u001b[0m/home/dani/Desktop/futbol/dataset-det/images/train/00683.jpg: ignoring corrupt image/label: non-normalized or out of bounds coordinates [1.000008]\n",
      "\u001b[34m\u001b[1mtrain: \u001b[0m/home/dani/Desktop/futbol/dataset-det/images/train/00751.jpg: ignoring corrupt image/label: non-normalized or out of bounds coordinates [1.000014]\n",
      "\u001b[34m\u001b[1mtrain: \u001b[0m/home/dani/Desktop/futbol/dataset-det/images/train/00777.jpg: ignoring corrupt image/label: non-normalized or out of bounds coordinates [1.000014]\n",
      "\u001b[34m\u001b[1mtrain: \u001b[0m/home/dani/Desktop/futbol/dataset-det/images/train/00788.jpg: ignoring corrupt image/label: non-normalized or out of bounds coordinates [1.000008]\n",
      "\u001b[34m\u001b[1mtrain: \u001b[0m/home/dani/Desktop/futbol/dataset-det/images/train/00938.jpg: ignoring corrupt image/label: non-normalized or out of bounds coordinates [1.000014]\n",
      "\u001b[34m\u001b[1mtrain: \u001b[0m/home/dani/Desktop/futbol/dataset-det/images/train/01012.jpg: ignoring corrupt image/label: non-normalized or out of bounds coordinates [1.000008]\n",
      "\u001b[34m\u001b[1mtrain: \u001b[0m/home/dani/Desktop/futbol/dataset-det/images/train/01016.jpg: ignoring corrupt image/label: non-normalized or out of bounds coordinates [1.002391]\n",
      "\u001b[34m\u001b[1mtrain: \u001b[0m/home/dani/Desktop/futbol/dataset-det/images/train/01028.jpg: ignoring corrupt image/label: non-normalized or out of bounds coordinates [1.000008]\n",
      "\u001b[34m\u001b[1mtrain: \u001b[0m/home/dani/Desktop/futbol/dataset-det/images/train/01100.jpg: ignoring corrupt image/label: non-normalized or out of bounds coordinates [1.000023]\n",
      "\u001b[34m\u001b[1mtrain: \u001b[0m/home/dani/Desktop/futbol/dataset-det/images/train/01127.jpg: ignoring corrupt image/label: non-normalized or out of bounds coordinates [1.000023]\n",
      "\u001b[34m\u001b[1mtrain: \u001b[0m/home/dani/Desktop/futbol/dataset-det/images/train/01136.jpg: ignoring corrupt image/label: non-normalized or out of bounds coordinates [1.000023]\n",
      "\u001b[34m\u001b[1mtrain: \u001b[0m/home/dani/Desktop/futbol/dataset-det/images/train/01139.jpg: ignoring corrupt image/label: non-normalized or out of bounds coordinates [1.000023]\n",
      "\u001b[34m\u001b[1mtrain: \u001b[0m/home/dani/Desktop/futbol/dataset-det/images/train/01140.jpg: ignoring corrupt image/label: non-normalized or out of bounds coordinates [1.000023]\n",
      "\u001b[34m\u001b[1mtrain: \u001b[0m/home/dani/Desktop/futbol/dataset-det/images/train/01142.jpg: ignoring corrupt image/label: non-normalized or out of bounds coordinates [1.000023 1.00103 ]\n",
      "\u001b[34m\u001b[1mtrain: \u001b[0m/home/dani/Desktop/futbol/dataset-det/images/train/01144.jpg: ignoring corrupt image/label: non-normalized or out of bounds coordinates [1.000023 1.000023]\n",
      "\u001b[34m\u001b[1mtrain: \u001b[0m/home/dani/Desktop/futbol/dataset-det/images/train/01147.jpg: ignoring corrupt image/label: non-normalized or out of bounds coordinates [1.000023 1.000023]\n",
      "\u001b[34m\u001b[1mtrain: \u001b[0m/home/dani/Desktop/futbol/dataset-det/images/train/01157.jpg: ignoring corrupt image/label: non-normalized or out of bounds coordinates [1.000008]\n",
      "\u001b[34m\u001b[1mtrain: \u001b[0m/home/dani/Desktop/futbol/dataset-det/images/train/01172.jpg: ignoring corrupt image/label: non-normalized or out of bounds coordinates [1.000008]\n",
      "\u001b[34m\u001b[1mtrain: \u001b[0m/home/dani/Desktop/futbol/dataset-det/images/train/01174.jpg: ignoring corrupt image/label: non-normalized or out of bounds coordinates [1.000008]\n",
      "\u001b[34m\u001b[1mtrain: \u001b[0m/home/dani/Desktop/futbol/dataset-det/images/train/01175.jpg: ignoring corrupt image/label: non-normalized or out of bounds coordinates [1.000008]\n",
      "\u001b[34m\u001b[1mtrain: \u001b[0m/home/dani/Desktop/futbol/dataset-det/images/train/01201.jpg: ignoring corrupt image/label: non-normalized or out of bounds coordinates [1.000014]\n",
      "\u001b[34m\u001b[1mtrain: \u001b[0m/home/dani/Desktop/futbol/dataset-det/images/train/01221.jpg: ignoring corrupt image/label: non-normalized or out of bounds coordinates [1.000008]\n",
      "\u001b[34m\u001b[1mtrain: \u001b[0m/home/dani/Desktop/futbol/dataset-det/images/train/01243.jpg: ignoring corrupt image/label: non-normalized or out of bounds coordinates [1.000414]\n",
      "\u001b[34m\u001b[1mtrain: \u001b[0m/home/dani/Desktop/futbol/dataset-det/images/train/01270.jpg: ignoring corrupt image/label: non-normalized or out of bounds coordinates [1.000014]\n",
      "\u001b[34m\u001b[1mtrain: \u001b[0m/home/dani/Desktop/futbol/dataset-det/images/train/01286.jpg: ignoring corrupt image/label: non-normalized or out of bounds coordinates [1.000008]\n",
      "\u001b[34m\u001b[1mtrain: \u001b[0m/home/dani/Desktop/futbol/dataset-det/images/train/01435.jpg: ignoring corrupt image/label: non-normalized or out of bounds coordinates [1.000016]\n",
      "\u001b[34m\u001b[1mtrain: \u001b[0m/home/dani/Desktop/futbol/dataset-det/images/train/01449.jpg: ignoring corrupt image/label: non-normalized or out of bounds coordinates [1.000014]\n",
      "\u001b[34m\u001b[1mtrain: \u001b[0m/home/dani/Desktop/futbol/dataset-det/images/train/01468.jpg: ignoring corrupt image/label: non-normalized or out of bounds coordinates [1.000014]\n",
      "\u001b[34m\u001b[1mtrain: \u001b[0m/home/dani/Desktop/futbol/dataset-det/images/train/01476.jpg: ignoring corrupt image/label: non-normalized or out of bounds coordinates [1.000014]\n",
      "\u001b[34m\u001b[1mtrain: \u001b[0m/home/dani/Desktop/futbol/dataset-det/images/train/01541.jpg: ignoring corrupt image/label: non-normalized or out of bounds coordinates [1.000014]\n",
      "\u001b[34m\u001b[1mtrain: \u001b[0m/home/dani/Desktop/futbol/dataset-det/images/train/01594.jpg: ignoring corrupt image/label: non-normalized or out of bounds coordinates [1.000008]\n",
      "\u001b[34m\u001b[1mtrain: \u001b[0m/home/dani/Desktop/futbol/dataset-det/images/train/01629.jpg: ignoring corrupt image/label: non-normalized or out of bounds coordinates [1.004514]\n",
      "\u001b[34m\u001b[1mtrain: \u001b[0m/home/dani/Desktop/futbol/dataset-det/images/train/01633.jpg: ignoring corrupt image/label: non-normalized or out of bounds coordinates [1.0365]\n",
      "\u001b[34m\u001b[1mtrain: \u001b[0m/home/dani/Desktop/futbol/dataset-det/images/train/01635.jpg: ignoring corrupt image/label: non-normalized or out of bounds coordinates [1.000008]\n",
      "\u001b[34m\u001b[1mtrain: \u001b[0m/home/dani/Desktop/futbol/dataset-det/images/train/01640.jpg: ignoring corrupt image/label: negative label values [-0.001139]\n",
      "\u001b[34m\u001b[1mtrain: \u001b[0m/home/dani/Desktop/futbol/dataset-det/images/train/01648.jpg: ignoring corrupt image/label: non-normalized or out of bounds coordinates [1.000014]\n",
      "\u001b[34m\u001b[1mtrain: \u001b[0m/home/dani/Desktop/futbol/dataset-det/images/train/01651.jpg: ignoring corrupt image/label: non-normalized or out of bounds coordinates [1.000014]\n",
      "\u001b[34m\u001b[1mtrain: \u001b[0m/home/dani/Desktop/futbol/dataset-det/images/train/01656.jpg: ignoring corrupt image/label: non-normalized or out of bounds coordinates [1.000008 1.000008]\n",
      "\u001b[34m\u001b[1mtrain: \u001b[0m/home/dani/Desktop/futbol/dataset-det/images/train/01678.jpg: ignoring corrupt image/label: non-normalized or out of bounds coordinates [1.000014]\n",
      "\u001b[34m\u001b[1mtrain: \u001b[0m/home/dani/Desktop/futbol/dataset-det/images/train/01683.jpg: ignoring corrupt image/label: non-normalized or out of bounds coordinates [1.000014]\n",
      "\u001b[34m\u001b[1mtrain: \u001b[0m/home/dani/Desktop/futbol/dataset-det/images/train/01689.jpg: ignoring corrupt image/label: non-normalized or out of bounds coordinates [1.000014]\n",
      "\u001b[34m\u001b[1mtrain: \u001b[0m/home/dani/Desktop/futbol/dataset-det/images/train/01692.jpg: ignoring corrupt image/label: non-normalized or out of bounds coordinates [1.000014]\n",
      "\u001b[34m\u001b[1mtrain: \u001b[0m/home/dani/Desktop/futbol/dataset-det/images/train/01693.jpg: ignoring corrupt image/label: non-normalized or out of bounds coordinates [1.000014]\n",
      "\u001b[34m\u001b[1mtrain: \u001b[0m/home/dani/Desktop/futbol/dataset-det/images/train/01707.jpg: ignoring corrupt image/label: non-normalized or out of bounds coordinates [1.000014]\n",
      "\u001b[34m\u001b[1mtrain: \u001b[0m/home/dani/Desktop/futbol/dataset-det/images/train/01750.jpg: ignoring corrupt image/label: non-normalized or out of bounds coordinates [1.000008]\n",
      "\u001b[34m\u001b[1mtrain: \u001b[0m/home/dani/Desktop/futbol/dataset-det/images/train/01899.jpg: ignoring corrupt image/label: non-normalized or out of bounds coordinates [1.000014]\n",
      "\u001b[34m\u001b[1mtrain: \u001b[0m/home/dani/Desktop/futbol/dataset-det/images/train/01971.jpg: ignoring corrupt image/label: non-normalized or out of bounds coordinates [1.000016]\n",
      "\u001b[34m\u001b[1mtrain: \u001b[0m/home/dani/Desktop/futbol/dataset-det/images/train/01975.jpg: ignoring corrupt image/label: non-normalized or out of bounds coordinates [1.000008]\n",
      "\u001b[34m\u001b[1mtrain: \u001b[0m/home/dani/Desktop/futbol/dataset-det/images/train/02016.jpg: ignoring corrupt image/label: non-normalized or out of bounds coordinates [1.000008]\n",
      "\u001b[34m\u001b[1mtrain: \u001b[0m/home/dani/Desktop/futbol/dataset-det/images/train/02022.jpg: ignoring corrupt image/label: non-normalized or out of bounds coordinates [1.000014]\n",
      "\u001b[34m\u001b[1mtrain: \u001b[0m/home/dani/Desktop/futbol/dataset-det/images/train/02521.jpg: ignoring corrupt image/label: non-normalized or out of bounds coordinates [1.000008]\n",
      "\u001b[34m\u001b[1mtrain: \u001b[0m/home/dani/Desktop/futbol/dataset-det/images/train/02526.jpg: ignoring corrupt image/label: non-normalized or out of bounds coordinates [1.000008 1.000008 1.000008]\n",
      "\u001b[34m\u001b[1mtrain: \u001b[0m/home/dani/Desktop/futbol/dataset-det/images/train/02530.jpg: ignoring corrupt image/label: non-normalized or out of bounds coordinates [1.000008]\n",
      "\u001b[34m\u001b[1mtrain: \u001b[0m/home/dani/Desktop/futbol/dataset-det/images/train/02604.jpg: ignoring corrupt image/label: non-normalized or out of bounds coordinates [1.000014]\n",
      "\u001b[34m\u001b[1mtrain: \u001b[0m/home/dani/Desktop/futbol/dataset-det/images/train/02643.jpg: ignoring corrupt image/label: non-normalized or out of bounds coordinates [1.000008]\n",
      "\u001b[34m\u001b[1mtrain: \u001b[0m/home/dani/Desktop/futbol/dataset-det/images/train/02670.jpg: ignoring corrupt image/label: non-normalized or out of bounds coordinates [1.011789]\n",
      "\u001b[34m\u001b[1mtrain: \u001b[0m/home/dani/Desktop/futbol/dataset-det/images/train/02819.jpg: ignoring corrupt image/label: non-normalized or out of bounds coordinates [1.000008]\n",
      "\u001b[34m\u001b[1mtrain: \u001b[0m/home/dani/Desktop/futbol/dataset-det/images/train/02844.jpg: ignoring corrupt image/label: non-normalized or out of bounds coordinates [1.000008]\n",
      "\u001b[34m\u001b[1mtrain: \u001b[0m/home/dani/Desktop/futbol/dataset-det/images/train/02845.jpg: ignoring corrupt image/label: non-normalized or out of bounds coordinates [1.000008]\n",
      "\u001b[34m\u001b[1mtrain: \u001b[0m/home/dani/Desktop/futbol/dataset-det/images/train/02847.jpg: ignoring corrupt image/label: non-normalized or out of bounds coordinates [1.000008]\n",
      "\u001b[34m\u001b[1mtrain: \u001b[0m/home/dani/Desktop/futbol/dataset-det/images/train/02855.jpg: ignoring corrupt image/label: non-normalized or out of bounds coordinates [1.000008]\n",
      "\u001b[34m\u001b[1mtrain: \u001b[0m/home/dani/Desktop/futbol/dataset-det/images/train/02874.jpg: ignoring corrupt image/label: non-normalized or out of bounds coordinates [1.000008]\n",
      "\u001b[34m\u001b[1mtrain: \u001b[0m/home/dani/Desktop/futbol/dataset-det/images/train/02880.jpg: ignoring corrupt image/label: non-normalized or out of bounds coordinates [1.000014]\n",
      "\u001b[34m\u001b[1mtrain: \u001b[0m/home/dani/Desktop/futbol/dataset-det/images/train/02891.jpg: ignoring corrupt image/label: non-normalized or out of bounds coordinates [1.000014]\n",
      "\u001b[34m\u001b[1mtrain: \u001b[0m/home/dani/Desktop/futbol/dataset-det/images/train/03067.jpg: ignoring corrupt image/label: non-normalized or out of bounds coordinates [1.000008]\n",
      "\u001b[34m\u001b[1mtrain: \u001b[0m/home/dani/Desktop/futbol/dataset-det/images/train/03105.jpg: ignoring corrupt image/label: non-normalized or out of bounds coordinates [1.000008]\n",
      "\u001b[34m\u001b[1mtrain: \u001b[0m/home/dani/Desktop/futbol/dataset-det/images/train/03200.jpg: ignoring corrupt image/label: non-normalized or out of bounds coordinates [1.001273]\n",
      "\u001b[34m\u001b[1mtrain: \u001b[0m/home/dani/Desktop/futbol/dataset-det/images/train/03212.jpg: ignoring corrupt image/label: non-normalized or out of bounds coordinates [1.000008]\n",
      "\u001b[34m\u001b[1mtrain: \u001b[0m/home/dani/Desktop/futbol/dataset-det/images/train/03294.jpg: ignoring corrupt image/label: non-normalized or out of bounds coordinates [1.000008]\n",
      "\u001b[34m\u001b[1mtrain: \u001b[0m/home/dani/Desktop/futbol/dataset-det/images/train/03297.jpg: ignoring corrupt image/label: non-normalized or out of bounds coordinates [1.000008 1.000008]\n",
      "\u001b[34m\u001b[1mtrain: \u001b[0m/home/dani/Desktop/futbol/dataset-det/images/train/03323.jpg: ignoring corrupt image/label: non-normalized or out of bounds coordinates [1.000017]\n",
      "\u001b[34m\u001b[1mtrain: \u001b[0m/home/dani/Desktop/futbol/dataset-det/images/train/03326.jpg: ignoring corrupt image/label: non-normalized or out of bounds coordinates [1.000017]\n",
      "\u001b[34m\u001b[1mtrain: \u001b[0m/home/dani/Desktop/futbol/dataset-det/images/train/03458.jpg: ignoring corrupt image/label: non-normalized or out of bounds coordinates [1.000014]\n",
      "\u001b[34m\u001b[1mtrain: \u001b[0m/home/dani/Desktop/futbol/dataset-det/images/train/03540.jpg: ignoring corrupt image/label: non-normalized or out of bounds coordinates [1.000008]\n",
      "\u001b[34m\u001b[1mtrain: \u001b[0m/home/dani/Desktop/futbol/dataset-det/images/train/03619.jpg: ignoring corrupt image/label: non-normalized or out of bounds coordinates [1.000014]\n",
      "\u001b[34m\u001b[1mtrain: \u001b[0m/home/dani/Desktop/futbol/dataset-det/images/train/03645.jpg: ignoring corrupt image/label: non-normalized or out of bounds coordinates [1.000008]\n",
      "\u001b[34m\u001b[1mtrain: \u001b[0m/home/dani/Desktop/futbol/dataset-det/images/train/03708.jpg: ignoring corrupt image/label: non-normalized or out of bounds coordinates [1.000016]\n",
      "\u001b[34m\u001b[1mtrain: \u001b[0m/home/dani/Desktop/futbol/dataset-det/images/train/03748.jpg: ignoring corrupt image/label: non-normalized or out of bounds coordinates [1.000014]\n",
      "\u001b[34m\u001b[1mtrain: \u001b[0m/home/dani/Desktop/futbol/dataset-det/images/train/03864.jpg: ignoring corrupt image/label: non-normalized or out of bounds coordinates [1.000014]\n",
      "\u001b[34m\u001b[1mtrain: \u001b[0m/home/dani/Desktop/futbol/dataset-det/images/train/03869.jpg: ignoring corrupt image/label: non-normalized or out of bounds coordinates [1.000014]\n",
      "\u001b[34m\u001b[1mtrain: \u001b[0m/home/dani/Desktop/futbol/dataset-det/images/train/03967.jpg: ignoring corrupt image/label: non-normalized or out of bounds coordinates [1.000008]\n",
      "\u001b[34m\u001b[1mtrain: \u001b[0m/home/dani/Desktop/futbol/dataset-det/images/train/04004.jpg: ignoring corrupt image/label: non-normalized or out of bounds coordinates [1.000014]\n",
      "\u001b[34m\u001b[1mtrain: \u001b[0m/home/dani/Desktop/futbol/dataset-det/images/train/04103.jpg: ignoring corrupt image/label: non-normalized or out of bounds coordinates [1.000014]\n",
      "\u001b[34m\u001b[1mtrain: \u001b[0m/home/dani/Desktop/futbol/dataset-det/images/train/04107.jpg: ignoring corrupt image/label: non-normalized or out of bounds coordinates [1.000014]\n",
      "\u001b[34m\u001b[1mtrain: \u001b[0m/home/dani/Desktop/futbol/dataset-det/images/train/04269.jpg: ignoring corrupt image/label: non-normalized or out of bounds coordinates [1.000008]\n",
      "\u001b[34m\u001b[1mtrain: \u001b[0m/home/dani/Desktop/futbol/dataset-det/images/train/04321.jpg: ignoring corrupt image/label: non-normalized or out of bounds coordinates [1.000008]\n",
      "\u001b[34m\u001b[1mtrain: \u001b[0m/home/dani/Desktop/futbol/dataset-det/images/train/04384.jpg: ignoring corrupt image/label: non-normalized or out of bounds coordinates [1.000008]\n",
      "\u001b[34m\u001b[1mtrain: \u001b[0m/home/dani/Desktop/futbol/dataset-det/images/train/04480.jpg: ignoring corrupt image/label: non-normalized or out of bounds coordinates [1.000008]\n",
      "\u001b[34m\u001b[1mtrain: \u001b[0m/home/dani/Desktop/futbol/dataset-det/images/train/04496.jpg: ignoring corrupt image/label: non-normalized or out of bounds coordinates [1.000008]\n",
      "\u001b[34m\u001b[1mtrain: \u001b[0m/home/dani/Desktop/futbol/dataset-det/images/train/04551.jpg: ignoring corrupt image/label: non-normalized or out of bounds coordinates [1.000008]\n",
      "\u001b[34m\u001b[1mtrain: \u001b[0m/home/dani/Desktop/futbol/dataset-det/images/train/04558.jpg: ignoring corrupt image/label: non-normalized or out of bounds coordinates [1.000008]\n",
      "\u001b[34m\u001b[1mtrain: \u001b[0m/home/dani/Desktop/futbol/dataset-det/images/train/04570.jpg: ignoring corrupt image/label: non-normalized or out of bounds coordinates [1.000016]\n",
      "\u001b[34m\u001b[1mtrain: \u001b[0m/home/dani/Desktop/futbol/dataset-det/images/train/04578.jpg: ignoring corrupt image/label: non-normalized or out of bounds coordinates [1.008891]\n",
      "\u001b[34m\u001b[1mtrain: \u001b[0m/home/dani/Desktop/futbol/dataset-det/images/train/04587.jpg: ignoring corrupt image/label: non-normalized or out of bounds coordinates [1.000016 1.000016]\n",
      "\u001b[34m\u001b[1mtrain: \u001b[0m/home/dani/Desktop/futbol/dataset-det/images/train/04592.jpg: ignoring corrupt image/label: non-normalized or out of bounds coordinates [1.000008]\n",
      "\u001b[34m\u001b[1mtrain: \u001b[0m/home/dani/Desktop/futbol/dataset-det/images/train/04593.jpg: ignoring corrupt image/label: non-normalized or out of bounds coordinates [1.000016]\n",
      "\u001b[34m\u001b[1mtrain: \u001b[0m/home/dani/Desktop/futbol/dataset-det/images/train/04594.jpg: ignoring corrupt image/label: non-normalized or out of bounds coordinates [1.000016]\n",
      "\u001b[34m\u001b[1mtrain: \u001b[0m/home/dani/Desktop/futbol/dataset-det/images/train/04599.jpg: ignoring corrupt image/label: non-normalized or out of bounds coordinates [1.000016]\n",
      "\u001b[34m\u001b[1mtrain: \u001b[0m/home/dani/Desktop/futbol/dataset-det/images/train/04601.jpg: ignoring corrupt image/label: non-normalized or out of bounds coordinates [1.000016 1.000008]\n",
      "\u001b[34m\u001b[1mtrain: \u001b[0m/home/dani/Desktop/futbol/dataset-det/images/train/04605.jpg: ignoring corrupt image/label: non-normalized or out of bounds coordinates [1.000016]\n",
      "\u001b[34m\u001b[1mtrain: \u001b[0m/home/dani/Desktop/futbol/dataset-det/images/train/04616.jpg: ignoring corrupt image/label: non-normalized or out of bounds coordinates [1.000016]\n",
      "\u001b[34m\u001b[1mtrain: \u001b[0m/home/dani/Desktop/futbol/dataset-det/images/train/04617.jpg: ignoring corrupt image/label: non-normalized or out of bounds coordinates [1.000016 1.000016 1.000016]\n",
      "\u001b[34m\u001b[1mtrain: \u001b[0m/home/dani/Desktop/futbol/dataset-det/images/train/04619.jpg: ignoring corrupt image/label: non-normalized or out of bounds coordinates [1.000008]\n",
      "\u001b[34m\u001b[1mtrain: \u001b[0m/home/dani/Desktop/futbol/dataset-det/images/train/04621.jpg: ignoring corrupt image/label: non-normalized or out of bounds coordinates [1.000016]\n",
      "\u001b[34m\u001b[1mtrain: \u001b[0m/home/dani/Desktop/futbol/dataset-det/images/train/04667.jpg: ignoring corrupt image/label: non-normalized or out of bounds coordinates [1.000016]\n",
      "\u001b[34m\u001b[1mtrain: \u001b[0m/home/dani/Desktop/futbol/dataset-det/images/train/04672.jpg: ignoring corrupt image/label: non-normalized or out of bounds coordinates [1.000008]\n",
      "\u001b[34m\u001b[1mtrain: \u001b[0m/home/dani/Desktop/futbol/dataset-det/images/train/04715.jpg: ignoring corrupt image/label: non-normalized or out of bounds coordinates [1.000008]\n",
      "\u001b[34m\u001b[1mtrain: \u001b[0m/home/dani/Desktop/futbol/dataset-det/images/train/04728.jpg: ignoring corrupt image/label: non-normalized or out of bounds coordinates [1.000008]\n",
      "\u001b[34m\u001b[1mtrain: \u001b[0m/home/dani/Desktop/futbol/dataset-det/images/train/04733.jpg: ignoring corrupt image/label: non-normalized or out of bounds coordinates [1.000008]\n",
      "\u001b[34m\u001b[1mtrain: \u001b[0m/home/dani/Desktop/futbol/dataset-det/images/train/04745.jpg: ignoring corrupt image/label: non-normalized or out of bounds coordinates [1.000008]\n",
      "\u001b[34m\u001b[1mtrain: \u001b[0m/home/dani/Desktop/futbol/dataset-det/images/train/04806.jpg: ignoring corrupt image/label: non-normalized or out of bounds coordinates [1.000008]\n",
      "\u001b[34m\u001b[1mtrain: \u001b[0m/home/dani/Desktop/futbol/dataset-det/images/train/04926.jpg: ignoring corrupt image/label: non-normalized or out of bounds coordinates [1.000014]\n",
      "\u001b[34m\u001b[1mtrain: \u001b[0m/home/dani/Desktop/futbol/dataset-det/images/train/05000.jpg: ignoring corrupt image/label: non-normalized or out of bounds coordinates [1.000008]\n",
      "\u001b[34m\u001b[1mtrain: \u001b[0m/home/dani/Desktop/futbol/dataset-det/images/train/05130.jpg: ignoring corrupt image/label: non-normalized or out of bounds coordinates [1.000008]\n",
      "\u001b[34m\u001b[1mtrain: \u001b[0m/home/dani/Desktop/futbol/dataset-det/images/train/05137.jpg: ignoring corrupt image/label: non-normalized or out of bounds coordinates [1.000008]\n",
      "\u001b[34m\u001b[1mtrain: \u001b[0m/home/dani/Desktop/futbol/dataset-det/images/train/05140.jpg: ignoring corrupt image/label: non-normalized or out of bounds coordinates [1.000008]\n",
      "\u001b[34m\u001b[1mtrain: \u001b[0m/home/dani/Desktop/futbol/dataset-det/images/train/05162.jpg: ignoring corrupt image/label: non-normalized or out of bounds coordinates [1.000016]\n",
      "\u001b[34m\u001b[1mtrain: \u001b[0m/home/dani/Desktop/futbol/dataset-det/images/train/05183.jpg: ignoring corrupt image/label: non-normalized or out of bounds coordinates [1.000008]\n",
      "\u001b[34m\u001b[1mtrain: \u001b[0m/home/dani/Desktop/futbol/dataset-det/images/train/05196.jpg: ignoring corrupt image/label: non-normalized or out of bounds coordinates [1.000014]\n",
      "\u001b[34m\u001b[1mtrain: \u001b[0m/home/dani/Desktop/futbol/dataset-det/images/train/05227.jpg: ignoring corrupt image/label: non-normalized or out of bounds coordinates [1.000016]\n",
      "\u001b[34m\u001b[1mtrain: \u001b[0m/home/dani/Desktop/futbol/dataset-det/images/train/05230.jpg: ignoring corrupt image/label: non-normalized or out of bounds coordinates [1.000008]\n",
      "\u001b[34m\u001b[1mtrain: \u001b[0m/home/dani/Desktop/futbol/dataset-det/images/train/05257.jpg: ignoring corrupt image/label: non-normalized or out of bounds coordinates [1.000016 1.000016]\n",
      "\u001b[34m\u001b[1mtrain: \u001b[0m/home/dani/Desktop/futbol/dataset-det/images/train/05259.jpg: ignoring corrupt image/label: non-normalized or out of bounds coordinates [1.000008]\n",
      "\u001b[34m\u001b[1mtrain: \u001b[0m/home/dani/Desktop/futbol/dataset-det/images/train/05263.jpg: ignoring corrupt image/label: non-normalized or out of bounds coordinates [1.000016 1.000016]\n",
      "\u001b[34m\u001b[1mtrain: \u001b[0m/home/dani/Desktop/futbol/dataset-det/images/train/05291.jpg: ignoring corrupt image/label: non-normalized or out of bounds coordinates [1.000014]\n",
      "\u001b[34m\u001b[1mtrain: \u001b[0m/home/dani/Desktop/futbol/dataset-det/images/train/05419.jpg: ignoring corrupt image/label: non-normalized or out of bounds coordinates [1.000014]\n",
      "\u001b[34m\u001b[1mtrain: \u001b[0m/home/dani/Desktop/futbol/dataset-det/images/train/05442.jpg: ignoring corrupt image/label: non-normalized or out of bounds coordinates [1.000014]\n",
      "\u001b[34m\u001b[1mtrain: \u001b[0m/home/dani/Desktop/futbol/dataset-det/images/train/05466.jpg: ignoring corrupt image/label: non-normalized or out of bounds coordinates [1.000014]\n",
      "\u001b[34m\u001b[1mtrain: \u001b[0m/home/dani/Desktop/futbol/dataset-det/images/train/05496.jpg: ignoring corrupt image/label: non-normalized or out of bounds coordinates [1.000014]\n",
      "\u001b[34m\u001b[1mtrain: \u001b[0m/home/dani/Desktop/futbol/dataset-det/images/train/05502.jpg: ignoring corrupt image/label: non-normalized or out of bounds coordinates [1.000014]\n",
      "\u001b[34m\u001b[1mtrain: \u001b[0m/home/dani/Desktop/futbol/dataset-det/images/train/05523.jpg: ignoring corrupt image/label: non-normalized or out of bounds coordinates [1.000014]\n",
      "\u001b[34m\u001b[1mtrain: \u001b[0m/home/dani/Desktop/futbol/dataset-det/images/train/05525.jpg: ignoring corrupt image/label: non-normalized or out of bounds coordinates [1.000014]\n",
      "\u001b[34m\u001b[1mtrain: \u001b[0m/home/dani/Desktop/futbol/dataset-det/images/train/05532.jpg: ignoring corrupt image/label: non-normalized or out of bounds coordinates [1.000014]\n",
      "\u001b[34m\u001b[1mtrain: \u001b[0m/home/dani/Desktop/futbol/dataset-det/images/train/05583.jpg: ignoring corrupt image/label: non-normalized or out of bounds coordinates [1.000008]\n",
      "\u001b[34m\u001b[1mtrain: \u001b[0m/home/dani/Desktop/futbol/dataset-det/images/train/05597.jpg: ignoring corrupt image/label: non-normalized or out of bounds coordinates [1.000016]\n",
      "\u001b[34m\u001b[1mtrain: \u001b[0m/home/dani/Desktop/futbol/dataset-det/images/train/05606.jpg: ignoring corrupt image/label: non-normalized or out of bounds coordinates [1.000008]\n",
      "\u001b[34m\u001b[1mtrain: \u001b[0m/home/dani/Desktop/futbol/dataset-det/images/train/05686.jpg: ignoring corrupt image/label: non-normalized or out of bounds coordinates [1.000008]\n",
      "\u001b[34m\u001b[1mtrain: \u001b[0m/home/dani/Desktop/futbol/dataset-det/images/train/05736.jpg: ignoring corrupt image/label: non-normalized or out of bounds coordinates [1.000008]\n",
      "\u001b[34m\u001b[1mtrain: \u001b[0m/home/dani/Desktop/futbol/dataset-det/images/train/05754.jpg: ignoring corrupt image/label: non-normalized or out of bounds coordinates [1.000008]\n",
      "\u001b[34m\u001b[1mtrain: \u001b[0m/home/dani/Desktop/futbol/dataset-det/images/train/05755.jpg: ignoring corrupt image/label: non-normalized or out of bounds coordinates [1.000014]\n",
      "\u001b[34m\u001b[1mtrain: \u001b[0m/home/dani/Desktop/futbol/dataset-det/images/train/05757.jpg: ignoring corrupt image/label: non-normalized or out of bounds coordinates [1.000014]\n",
      "\u001b[34m\u001b[1mtrain: \u001b[0m/home/dani/Desktop/futbol/dataset-det/images/train/05758.jpg: ignoring corrupt image/label: non-normalized or out of bounds coordinates [1.000014]\n",
      "\u001b[34m\u001b[1mtrain: \u001b[0m/home/dani/Desktop/futbol/dataset-det/images/train/05763.jpg: ignoring corrupt image/label: non-normalized or out of bounds coordinates [1.000014]\n",
      "\u001b[34m\u001b[1mtrain: \u001b[0m/home/dani/Desktop/futbol/dataset-det/images/train/05769.jpg: ignoring corrupt image/label: non-normalized or out of bounds coordinates [1.000014]\n",
      "\u001b[34m\u001b[1mtrain: \u001b[0m/home/dani/Desktop/futbol/dataset-det/images/train/05780.jpg: ignoring corrupt image/label: non-normalized or out of bounds coordinates [1.000014]\n",
      "\u001b[34m\u001b[1mtrain: \u001b[0m/home/dani/Desktop/futbol/dataset-det/images/train/05796.jpg: ignoring corrupt image/label: non-normalized or out of bounds coordinates [1.003389]\n",
      "\u001b[34m\u001b[1mtrain: \u001b[0m/home/dani/Desktop/futbol/dataset-det/images/train/05804.jpg: ignoring corrupt image/label: non-normalized or out of bounds coordinates [1.000014]\n",
      "\u001b[34m\u001b[1mtrain: \u001b[0m/home/dani/Desktop/futbol/dataset-det/images/train/05807.jpg: ignoring corrupt image/label: non-normalized or out of bounds coordinates [1.000014]\n",
      "\u001b[34m\u001b[1mtrain: \u001b[0m/home/dani/Desktop/futbol/dataset-det/images/train/05833.jpg: ignoring corrupt image/label: non-normalized or out of bounds coordinates [1.000014]\n",
      "\u001b[34m\u001b[1mtrain: \u001b[0m/home/dani/Desktop/futbol/dataset-det/images/train/06095.jpg: ignoring corrupt image/label: non-normalized or out of bounds coordinates [1.000014]\n",
      "\u001b[34m\u001b[1mtrain: \u001b[0m/home/dani/Desktop/futbol/dataset-det/images/train/06181.jpg: ignoring corrupt image/label: non-normalized or out of bounds coordinates [1.000009]\n",
      "\u001b[34m\u001b[1mtrain: \u001b[0m/home/dani/Desktop/futbol/dataset-det/images/train/06183.jpg: ignoring corrupt image/label: non-normalized or out of bounds coordinates [1.000009]\n",
      "\u001b[34m\u001b[1mtrain: \u001b[0m/home/dani/Desktop/futbol/dataset-det/images/train/06188.jpg: ignoring corrupt image/label: non-normalized or out of bounds coordinates [1.000009]\n",
      "\u001b[34m\u001b[1mtrain: \u001b[0m/home/dani/Desktop/futbol/dataset-det/images/train/06206.jpg: ignoring corrupt image/label: non-normalized or out of bounds coordinates [1.000008]\n",
      "\u001b[34m\u001b[1mtrain: \u001b[0m/home/dani/Desktop/futbol/dataset-det/images/train/06248.jpg: ignoring corrupt image/label: non-normalized or out of bounds coordinates [1.000009]\n",
      "\u001b[34m\u001b[1mtrain: \u001b[0m/home/dani/Desktop/futbol/dataset-det/images/train/06249.jpg: ignoring corrupt image/label: non-normalized or out of bounds coordinates [1.000009]\n",
      "\u001b[34m\u001b[1mtrain: \u001b[0m/home/dani/Desktop/futbol/dataset-det/images/train/06259.jpg: ignoring corrupt image/label: non-normalized or out of bounds coordinates [1.000009]\n",
      "\u001b[34m\u001b[1mtrain: \u001b[0m/home/dani/Desktop/futbol/dataset-det/images/train/06283.jpg: ignoring corrupt image/label: non-normalized or out of bounds coordinates [1.000009]\n",
      "\u001b[34m\u001b[1mtrain: \u001b[0m/home/dani/Desktop/futbol/dataset-det/images/train/06286.jpg: ignoring corrupt image/label: non-normalized or out of bounds coordinates [1.000009]\n",
      "\u001b[34m\u001b[1mtrain: \u001b[0m/home/dani/Desktop/futbol/dataset-det/images/train/06290.jpg: ignoring corrupt image/label: non-normalized or out of bounds coordinates [1.000009]\n",
      "\u001b[34m\u001b[1mtrain: \u001b[0m/home/dani/Desktop/futbol/dataset-det/images/train/06299.jpg: ignoring corrupt image/label: non-normalized or out of bounds coordinates [1.000014]\n",
      "\u001b[34m\u001b[1mtrain: \u001b[0m/home/dani/Desktop/futbol/dataset-det/images/train/06325.jpg: ignoring corrupt image/label: non-normalized or out of bounds coordinates [1.000014]\n",
      "\u001b[34m\u001b[1mtrain: \u001b[0m/home/dani/Desktop/futbol/dataset-det/images/train/06326.jpg: ignoring corrupt image/label: non-normalized or out of bounds coordinates [1.000014]\n",
      "\u001b[34m\u001b[1mtrain: \u001b[0m/home/dani/Desktop/futbol/dataset-det/images/train/06331.jpg: ignoring corrupt image/label: non-normalized or out of bounds coordinates [1.000014]\n",
      "\u001b[34m\u001b[1mtrain: \u001b[0m/home/dani/Desktop/futbol/dataset-det/images/train/06433.jpg: ignoring corrupt image/label: non-normalized or out of bounds coordinates [1.000005 1.000005]\n",
      "\u001b[34m\u001b[1mtrain: \u001b[0m/home/dani/Desktop/futbol/dataset-det/images/train/06458.jpg: ignoring corrupt image/label: non-normalized or out of bounds coordinates [1.00001]\n",
      "\u001b[34m\u001b[1mtrain: \u001b[0m/home/dani/Desktop/futbol/dataset-det/images/train/06472.jpg: ignoring corrupt image/label: non-normalized or out of bounds coordinates [1.000008]\n",
      "\u001b[34m\u001b[1mtrain: \u001b[0m/home/dani/Desktop/futbol/dataset-det/images/train/06479.jpg: ignoring corrupt image/label: non-normalized or out of bounds coordinates [1.000008]\n",
      "\u001b[34m\u001b[1mtrain: \u001b[0m/home/dani/Desktop/futbol/dataset-det/images/train/06496.jpg: ignoring corrupt image/label: non-normalized or out of bounds coordinates [1.000014]\n",
      "\u001b[34m\u001b[1mtrain: \u001b[0m/home/dani/Desktop/futbol/dataset-det/images/train/06499.jpg: ignoring corrupt image/label: non-normalized or out of bounds coordinates [1.000014]\n",
      "\u001b[34m\u001b[1mtrain: \u001b[0m/home/dani/Desktop/futbol/dataset-det/images/train/06503.jpg: ignoring corrupt image/label: non-normalized or out of bounds coordinates [1.000014]\n",
      "\u001b[34m\u001b[1mtrain: \u001b[0m/home/dani/Desktop/futbol/dataset-det/images/train/06506.jpg: ignoring corrupt image/label: non-normalized or out of bounds coordinates [1.000014]\n",
      "\u001b[34m\u001b[1mtrain: \u001b[0m/home/dani/Desktop/futbol/dataset-det/images/train/06527.jpg: ignoring corrupt image/label: non-normalized or out of bounds coordinates [1.000014]\n",
      "\u001b[34m\u001b[1mtrain: \u001b[0m/home/dani/Desktop/futbol/dataset-det/images/train/06536.jpg: ignoring corrupt image/label: non-normalized or out of bounds coordinates [1.000014]\n",
      "\u001b[34m\u001b[1mtrain: \u001b[0m/home/dani/Desktop/futbol/dataset-det/images/train/06562.jpg: ignoring corrupt image/label: non-normalized or out of bounds coordinates [1.000014]\n",
      "\u001b[34m\u001b[1mtrain: \u001b[0m/home/dani/Desktop/futbol/dataset-det/images/train/06644.jpg: ignoring corrupt image/label: non-normalized or out of bounds coordinates [1.000005]\n",
      "\u001b[34m\u001b[1mtrain: \u001b[0m/home/dani/Desktop/futbol/dataset-det/images/train/06656.jpg: ignoring corrupt image/label: non-normalized or out of bounds coordinates [1.000009]\n",
      "\u001b[34m\u001b[1mtrain: \u001b[0m/home/dani/Desktop/futbol/dataset-det/images/train/06661.jpg: ignoring corrupt image/label: non-normalized or out of bounds coordinates [1.000005]\n",
      "\u001b[34m\u001b[1mtrain: \u001b[0m/home/dani/Desktop/futbol/dataset-det/images/train/06727.jpg: ignoring corrupt image/label: non-normalized or out of bounds coordinates [1.000014]\n",
      "\u001b[34m\u001b[1mtrain: \u001b[0m/home/dani/Desktop/futbol/dataset-det/images/train/06754.jpg: ignoring corrupt image/label: non-normalized or out of bounds coordinates [1.000014]\n",
      "\u001b[34m\u001b[1mtrain: \u001b[0m/home/dani/Desktop/futbol/dataset-det/images/train/06978.jpg: ignoring corrupt image/label: non-normalized or out of bounds coordinates [1.000014]\n",
      "\u001b[34m\u001b[1mtrain: \u001b[0m/home/dani/Desktop/futbol/dataset-det/images/train/07006.jpg: ignoring corrupt image/label: non-normalized or out of bounds coordinates [1.000014]\n",
      "\u001b[34m\u001b[1mtrain: \u001b[0m/home/dani/Desktop/futbol/dataset-det/images/train/07026.jpg: ignoring corrupt image/label: non-normalized or out of bounds coordinates [1.000014]\n",
      "\u001b[34m\u001b[1mtrain: \u001b[0m/home/dani/Desktop/futbol/dataset-det/images/train/07028.jpg: ignoring corrupt image/label: non-normalized or out of bounds coordinates [1.000014]\n",
      "\u001b[34m\u001b[1mtrain: \u001b[0m/home/dani/Desktop/futbol/dataset-det/images/train/07038.jpg: ignoring corrupt image/label: non-normalized or out of bounds coordinates [1.000016 1.000016 1.000016]\n",
      "\u001b[34m\u001b[1mtrain: \u001b[0m/home/dani/Desktop/futbol/dataset-det/images/train/07040.jpg: ignoring corrupt image/label: non-normalized or out of bounds coordinates [1.000016]\n",
      "\u001b[34m\u001b[1mtrain: \u001b[0m/home/dani/Desktop/futbol/dataset-det/images/train/07064.jpg: ignoring corrupt image/label: non-normalized or out of bounds coordinates [1.000008]\n",
      "\u001b[34m\u001b[1mtrain: \u001b[0m/home/dani/Desktop/futbol/dataset-det/images/train/07222.jpg: ignoring corrupt image/label: non-normalized or out of bounds coordinates [1.000014]\n",
      "\u001b[34m\u001b[1mtrain: \u001b[0m/home/dani/Desktop/futbol/dataset-det/images/train/07227.jpg: ignoring corrupt image/label: non-normalized or out of bounds coordinates [1.000014]\n",
      "\u001b[34m\u001b[1mtrain: \u001b[0m/home/dani/Desktop/futbol/dataset-det/images/train/07231.jpg: ignoring corrupt image/label: non-normalized or out of bounds coordinates [1.000014]\n",
      "\u001b[34m\u001b[1mtrain: \u001b[0m/home/dani/Desktop/futbol/dataset-det/images/train/07238.jpg: ignoring corrupt image/label: non-normalized or out of bounds coordinates [1.000014 1.000014]\n",
      "\u001b[34m\u001b[1mtrain: \u001b[0m/home/dani/Desktop/futbol/dataset-det/images/train/07317.jpg: ignoring corrupt image/label: non-normalized or out of bounds coordinates [1.000014]\n",
      "\u001b[34m\u001b[1mtrain: \u001b[0m/home/dani/Desktop/futbol/dataset-det/images/train/07343.jpg: ignoring corrupt image/label: non-normalized or out of bounds coordinates [1.000014]\n",
      "\u001b[34m\u001b[1mtrain: \u001b[0m/home/dani/Desktop/futbol/dataset-det/images/train/07344.jpg: ignoring corrupt image/label: non-normalized or out of bounds coordinates [1.000014]\n",
      "\u001b[34m\u001b[1mtrain: \u001b[0m/home/dani/Desktop/futbol/dataset-det/images/train/07350.jpg: ignoring corrupt image/label: non-normalized or out of bounds coordinates [1.000014]\n",
      "\u001b[34m\u001b[1mtrain: \u001b[0m/home/dani/Desktop/futbol/dataset-det/images/train/07364.jpg: ignoring corrupt image/label: non-normalized or out of bounds coordinates [1.000008]\n",
      "\u001b[34m\u001b[1mtrain: \u001b[0m/home/dani/Desktop/futbol/dataset-det/images/train/07366.jpg: ignoring corrupt image/label: non-normalized or out of bounds coordinates [1.000016 1.000016]\n",
      "\u001b[34m\u001b[1mtrain: \u001b[0m/home/dani/Desktop/futbol/dataset-det/images/train/07368.jpg: ignoring corrupt image/label: non-normalized or out of bounds coordinates [1.000016 1.000016]\n",
      "\u001b[34m\u001b[1mtrain: \u001b[0m/home/dani/Desktop/futbol/dataset-det/images/train/07370.jpg: ignoring corrupt image/label: non-normalized or out of bounds coordinates [1.000016 1.000016 1.000016]\n",
      "\u001b[34m\u001b[1mtrain: \u001b[0m/home/dani/Desktop/futbol/dataset-det/images/train/07372.jpg: ignoring corrupt image/label: non-normalized or out of bounds coordinates [1.000016]\n",
      "\u001b[34m\u001b[1mtrain: \u001b[0m/home/dani/Desktop/futbol/dataset-det/images/train/07379.jpg: ignoring corrupt image/label: non-normalized or out of bounds coordinates [1.000016]\n",
      "\u001b[34m\u001b[1mtrain: \u001b[0m/home/dani/Desktop/futbol/dataset-det/images/train/07391.jpg: ignoring corrupt image/label: non-normalized or out of bounds coordinates [1.000016 1.000016]\n",
      "\u001b[34m\u001b[1mtrain: \u001b[0m/home/dani/Desktop/futbol/dataset-det/images/train/07411.jpg: ignoring corrupt image/label: non-normalized or out of bounds coordinates [1.000016 1.000016 1.000016]\n",
      "\u001b[34m\u001b[1mtrain: \u001b[0m/home/dani/Desktop/futbol/dataset-det/images/train/07419.jpg: ignoring corrupt image/label: non-normalized or out of bounds coordinates [1.000016 1.000016]\n",
      "\u001b[34m\u001b[1mtrain: \u001b[0m/home/dani/Desktop/futbol/dataset-det/images/train/07507.jpg: ignoring corrupt image/label: non-normalized or out of bounds coordinates [1.004555]\n",
      "\u001b[34m\u001b[1mtrain: \u001b[0m/home/dani/Desktop/futbol/dataset-det/images/train/07572.jpg: ignoring corrupt image/label: non-normalized or out of bounds coordinates [1.002556]\n",
      "\u001b[34m\u001b[1mtrain: \u001b[0m/home/dani/Desktop/futbol/dataset-det/images/train/07614.jpg: ignoring corrupt image/label: non-normalized or out of bounds coordinates [1.000008]\n",
      "\u001b[34m\u001b[1mtrain: \u001b[0m/home/dani/Desktop/futbol/dataset-det/images/train/07739.jpg: ignoring corrupt image/label: non-normalized or out of bounds coordinates [1.000014]\n",
      "\u001b[34m\u001b[1mtrain: \u001b[0m/home/dani/Desktop/futbol/dataset-det/images/train/07769.jpg: ignoring corrupt image/label: non-normalized or out of bounds coordinates [1.000014]\n",
      "\u001b[34m\u001b[1mtrain: \u001b[0m/home/dani/Desktop/futbol/dataset-det/images/train/07779.jpg: ignoring corrupt image/label: non-normalized or out of bounds coordinates [1.000008]\n",
      "\u001b[34m\u001b[1mtrain: \u001b[0m/home/dani/Desktop/futbol/dataset-det/images/train/07797.jpg: ignoring corrupt image/label: non-normalized or out of bounds coordinates [1.000008]\n",
      "\u001b[34m\u001b[1mtrain: \u001b[0m/home/dani/Desktop/futbol/dataset-det/images/train/07806.jpg: ignoring corrupt image/label: non-normalized or out of bounds coordinates [1.000008]\n",
      "\u001b[34m\u001b[1mtrain: \u001b[0m/home/dani/Desktop/futbol/dataset-det/images/train/07822.jpg: ignoring corrupt image/label: non-normalized or out of bounds coordinates [1.000014]\n",
      "\u001b[34m\u001b[1mtrain: \u001b[0m/home/dani/Desktop/futbol/dataset-det/images/train/07833.jpg: ignoring corrupt image/label: non-normalized or out of bounds coordinates [1.000014]\n",
      "\u001b[34m\u001b[1mtrain: \u001b[0m/home/dani/Desktop/futbol/dataset-det/images/train/08045.jpg: ignoring corrupt image/label: non-normalized or out of bounds coordinates [1.000014]\n",
      "\u001b[34m\u001b[1mtrain: \u001b[0m/home/dani/Desktop/futbol/dataset-det/images/train/08058.jpg: ignoring corrupt image/label: non-normalized or out of bounds coordinates [1.000014]\n",
      "\u001b[34m\u001b[1mtrain: \u001b[0m/home/dani/Desktop/futbol/dataset-det/images/train/08243.jpg: ignoring corrupt image/label: non-normalized or out of bounds coordinates [1.000009]\n",
      "\u001b[34m\u001b[1mtrain: \u001b[0m/home/dani/Desktop/futbol/dataset-det/images/train/08410.jpg: ignoring corrupt image/label: non-normalized or out of bounds coordinates [1.001219]\n",
      "\u001b[34m\u001b[1mtrain: \u001b[0m/home/dani/Desktop/futbol/dataset-det/images/train/08426.jpg: ignoring corrupt image/label: non-normalized or out of bounds coordinates [1.001227]\n",
      "\u001b[34m\u001b[1mtrain: \u001b[0m/home/dani/Desktop/futbol/dataset-det/images/train/08454.jpg: ignoring corrupt image/label: non-normalized or out of bounds coordinates [1.000014]\n",
      "\u001b[34m\u001b[1mtrain: \u001b[0m/home/dani/Desktop/futbol/dataset-det/images/train/08497.jpg: ignoring corrupt image/label: non-normalized or out of bounds coordinates [1.000008]\n",
      "\u001b[34m\u001b[1mtrain: \u001b[0m/home/dani/Desktop/futbol/dataset-det/images/train/08538.jpg: ignoring corrupt image/label: non-normalized or out of bounds coordinates [1.000014]\n",
      "\u001b[34m\u001b[1mtrain: \u001b[0m/home/dani/Desktop/futbol/dataset-det/images/train/08688.jpg: ignoring corrupt image/label: non-normalized or out of bounds coordinates [1.000008]\n",
      "\u001b[34m\u001b[1mtrain: \u001b[0m/home/dani/Desktop/futbol/dataset-det/images/train/08810.jpg: ignoring corrupt image/label: non-normalized or out of bounds coordinates [1.00001]\n",
      "\u001b[34m\u001b[1mtrain: \u001b[0m/home/dani/Desktop/futbol/dataset-det/images/train/08976.jpg: ignoring corrupt image/label: non-normalized or out of bounds coordinates [1.000009]\n",
      "\u001b[34m\u001b[1mtrain: \u001b[0m/home/dani/Desktop/futbol/dataset-det/images/train/08981.jpg: ignoring corrupt image/label: non-normalized or out of bounds coordinates [1.000009]\n",
      "\u001b[34m\u001b[1mtrain: \u001b[0m/home/dani/Desktop/futbol/dataset-det/images/train/09020.jpg: ignoring corrupt image/label: non-normalized or out of bounds coordinates [1.000009]\n",
      "\u001b[34m\u001b[1mtrain: \u001b[0m/home/dani/Desktop/futbol/dataset-det/images/train/09069.jpg: ignoring corrupt image/label: non-normalized or out of bounds coordinates [1.000009]\n",
      "\u001b[34m\u001b[1mtrain: \u001b[0m/home/dani/Desktop/futbol/dataset-det/images/train/09071.jpg: ignoring corrupt image/label: non-normalized or out of bounds coordinates [1.000009]\n",
      "\u001b[34m\u001b[1mtrain: \u001b[0m/home/dani/Desktop/futbol/dataset-det/images/train/09081.jpg: ignoring corrupt image/label: non-normalized or out of bounds coordinates [1.000009]\n",
      "\u001b[34m\u001b[1mtrain: \u001b[0m/home/dani/Desktop/futbol/dataset-det/images/train/09173.jpg: ignoring corrupt image/label: non-normalized or out of bounds coordinates [1.000014]\n",
      "\u001b[34m\u001b[1mtrain: \u001b[0m/home/dani/Desktop/futbol/dataset-det/images/train/09194.jpg: ignoring corrupt image/label: non-normalized or out of bounds coordinates [1.000014]\n",
      "\u001b[34m\u001b[1mtrain: \u001b[0m/home/dani/Desktop/futbol/dataset-det/images/train/09261.jpg: ignoring corrupt image/label: non-normalized or out of bounds coordinates [1.000014]\n",
      "\u001b[34m\u001b[1mtrain: \u001b[0m/home/dani/Desktop/futbol/dataset-det/images/train/09323.jpg: ignoring corrupt image/label: non-normalized or out of bounds coordinates [1.000014]\n",
      "\u001b[34m\u001b[1mtrain: \u001b[0m/home/dani/Desktop/futbol/dataset-det/images/train/09419.jpg: ignoring corrupt image/label: non-normalized or out of bounds coordinates [1.068984]\n",
      "\u001b[34m\u001b[1mtrain: \u001b[0m/home/dani/Desktop/futbol/dataset-det/images/train/09574.jpg: ignoring corrupt image/label: non-normalized or out of bounds coordinates [1.000014]\n",
      "\u001b[34m\u001b[1mtrain: \u001b[0m/home/dani/Desktop/futbol/dataset-det/images/train/09644.jpg: ignoring corrupt image/label: non-normalized or out of bounds coordinates [1.000005]\n",
      "\u001b[34m\u001b[1mtrain: \u001b[0m/home/dani/Desktop/futbol/dataset-det/images/train/09846.jpg: ignoring corrupt image/label: non-normalized or out of bounds coordinates [1.000005]\n",
      "\u001b[34m\u001b[1mtrain: \u001b[0m/home/dani/Desktop/futbol/dataset-det/images/train/09857.jpg: ignoring corrupt image/label: non-normalized or out of bounds coordinates [1.000005]\n",
      "\u001b[34m\u001b[1mtrain: \u001b[0m/home/dani/Desktop/futbol/dataset-det/images/train/09888.jpg: ignoring corrupt image/label: non-normalized or out of bounds coordinates [1.000005]\n",
      "\u001b[34m\u001b[1mtrain: \u001b[0m/home/dani/Desktop/futbol/dataset-det/images/train/09892.jpg: ignoring corrupt image/label: non-normalized or out of bounds coordinates [1.000005]\n",
      "\u001b[34m\u001b[1mtrain: \u001b[0m/home/dani/Desktop/futbol/dataset-det/images/train/09898.jpg: ignoring corrupt image/label: non-normalized or out of bounds coordinates [1.000016]\n",
      "\u001b[34m\u001b[1mtrain: \u001b[0m/home/dani/Desktop/futbol/dataset-det/images/train/09948.jpg: ignoring corrupt image/label: non-normalized or out of bounds coordinates [1.000005]\n",
      "\u001b[34m\u001b[1mtrain: \u001b[0m/home/dani/Desktop/futbol/dataset-det/images/train/10129.jpg: ignoring corrupt image/label: non-normalized or out of bounds coordinates [1.000009]\n",
      "\u001b[34m\u001b[1mtrain: \u001b[0m/home/dani/Desktop/futbol/dataset-det/images/train/10140.jpg: ignoring corrupt image/label: non-normalized or out of bounds coordinates [1.000005]\n",
      "\u001b[34m\u001b[1mtrain: \u001b[0m/home/dani/Desktop/futbol/dataset-det/images/train/10182.jpg: ignoring corrupt image/label: non-normalized or out of bounds coordinates [1.000005]\n",
      "\u001b[34m\u001b[1mtrain: \u001b[0m/home/dani/Desktop/futbol/dataset-det/images/train/10189.jpg: ignoring corrupt image/label: non-normalized or out of bounds coordinates [1.000021 1.00001 ]\n",
      "\u001b[34m\u001b[1mtrain: \u001b[0m/home/dani/Desktop/futbol/dataset-det/images/train/10205.jpg: ignoring corrupt image/label: non-normalized or out of bounds coordinates [1.000005 1.000021]\n",
      "\u001b[34m\u001b[1mtrain: \u001b[0m/home/dani/Desktop/futbol/dataset-det/images/train/10214.jpg: ignoring corrupt image/label: non-normalized or out of bounds coordinates [1.000021]\n",
      "\u001b[34m\u001b[1mtrain: \u001b[0m/home/dani/Desktop/futbol/dataset-det/images/train/10215.jpg: ignoring corrupt image/label: non-normalized or out of bounds coordinates [1.000021]\n",
      "\u001b[34m\u001b[1mtrain: \u001b[0m/home/dani/Desktop/futbol/dataset-det/images/train/10225.jpg: ignoring corrupt image/label: non-normalized or out of bounds coordinates [1.000021 1.000021]\n",
      "\u001b[34m\u001b[1mtrain: \u001b[0m/home/dani/Desktop/futbol/dataset-det/images/train/10238.jpg: ignoring corrupt image/label: non-normalized or out of bounds coordinates [1.000009]\n",
      "\u001b[34m\u001b[1mtrain: \u001b[0m/home/dani/Desktop/futbol/dataset-det/images/train/10239.jpg: ignoring corrupt image/label: non-normalized or out of bounds coordinates [1.000021]\n",
      "\u001b[34m\u001b[1mtrain: \u001b[0m/home/dani/Desktop/futbol/dataset-det/images/train/10315.jpg: ignoring corrupt image/label: non-normalized or out of bounds coordinates [1.000008]\n",
      "\u001b[34m\u001b[1mtrain: \u001b[0m/home/dani/Desktop/futbol/dataset-det/images/train/10516.jpg: ignoring corrupt image/label: non-normalized or out of bounds coordinates [1.000005 1.001338]\n",
      "\u001b[34m\u001b[1mtrain: \u001b[0m/home/dani/Desktop/futbol/dataset-det/images/train/10577.jpg: ignoring corrupt image/label: non-normalized or out of bounds coordinates [1.000009]\n",
      "\u001b[34m\u001b[1mtrain: \u001b[0m/home/dani/Desktop/futbol/dataset-det/images/train/10597.jpg: ignoring corrupt image/label: non-normalized or out of bounds coordinates [1.000005]\n",
      "\u001b[34m\u001b[1mtrain: \u001b[0m/home/dani/Desktop/futbol/dataset-det/images/train/10658.jpg: ignoring corrupt image/label: non-normalized or out of bounds coordinates [1.000005]\n",
      "\u001b[34m\u001b[1mtrain: \u001b[0m/home/dani/Desktop/futbol/dataset-det/images/train/10699.jpg: ignoring corrupt image/label: non-normalized or out of bounds coordinates [1.00001]\n",
      "\u001b[34m\u001b[1mtrain: \u001b[0m/home/dani/Desktop/futbol/dataset-det/images/train/10704.jpg: ignoring corrupt image/label: non-normalized or out of bounds coordinates [1.00001 1.00001]\n",
      "\u001b[34m\u001b[1mtrain: \u001b[0m/home/dani/Desktop/futbol/dataset-det/images/train/10707.jpg: ignoring corrupt image/label: non-normalized or out of bounds coordinates [1.00001]\n",
      "\u001b[34m\u001b[1mtrain: \u001b[0m/home/dani/Desktop/futbol/dataset-det/images/train/10712.jpg: ignoring corrupt image/label: non-normalized or out of bounds coordinates [1.00001]\n",
      "\u001b[34m\u001b[1mtrain: \u001b[0m/home/dani/Desktop/futbol/dataset-det/images/train/10755.jpg: ignoring corrupt image/label: non-normalized or out of bounds coordinates [1.000005]\n",
      "\u001b[34m\u001b[1mtrain: \u001b[0m/home/dani/Desktop/futbol/dataset-det/images/train/10758.jpg: ignoring corrupt image/label: non-normalized or out of bounds coordinates [1.000005]\n",
      "\u001b[34m\u001b[1mtrain: \u001b[0m/home/dani/Desktop/futbol/dataset-det/images/train/10766.jpg: ignoring corrupt image/label: non-normalized or out of bounds coordinates [1.000005]\n",
      "\u001b[34m\u001b[1mtrain: \u001b[0m/home/dani/Desktop/futbol/dataset-det/images/train/10839.jpg: ignoring corrupt image/label: non-normalized or out of bounds coordinates [1.003284]\n",
      "\u001b[34m\u001b[1mtrain: \u001b[0m/home/dani/Desktop/futbol/dataset-det/images/train/10875.jpg: ignoring corrupt image/label: non-normalized or out of bounds coordinates [1.000009]\n",
      "\u001b[34m\u001b[1mtrain: \u001b[0m/home/dani/Desktop/futbol/dataset-det/images/train/10877.jpg: ignoring corrupt image/label: non-normalized or out of bounds coordinates [1.000009]\n",
      "\u001b[34m\u001b[1mtrain: \u001b[0m/home/dani/Desktop/futbol/dataset-det/images/train/10900.jpg: ignoring corrupt image/label: non-normalized or out of bounds coordinates [1.000009]\n",
      "\u001b[34m\u001b[1mtrain: \u001b[0m/home/dani/Desktop/futbol/dataset-det/images/train/10908.jpg: ignoring corrupt image/label: non-normalized or out of bounds coordinates [1.000009]\n",
      "\u001b[34m\u001b[1mtrain: \u001b[0m/home/dani/Desktop/futbol/dataset-det/images/train/10923.jpg: ignoring corrupt image/label: non-normalized or out of bounds coordinates [1.000009]\n",
      "\u001b[34m\u001b[1mtrain: \u001b[0m/home/dani/Desktop/futbol/dataset-det/images/train/10939.jpg: ignoring corrupt image/label: non-normalized or out of bounds coordinates [1.000009]\n",
      "\u001b[34m\u001b[1mtrain: \u001b[0m/home/dani/Desktop/futbol/dataset-det/images/train/10942.jpg: ignoring corrupt image/label: non-normalized or out of bounds coordinates [1.000009]\n",
      "\u001b[34m\u001b[1mtrain: \u001b[0m/home/dani/Desktop/futbol/dataset-det/images/train/10994.jpg: ignoring corrupt image/label: non-normalized or out of bounds coordinates [1.002453]\n",
      "\u001b[34m\u001b[1mtrain: \u001b[0m/home/dani/Desktop/futbol/dataset-det/images/train/11030.jpg: ignoring corrupt image/label: non-normalized or out of bounds coordinates [1.000009]\n",
      "\u001b[34m\u001b[1mtrain: \u001b[0m/home/dani/Desktop/futbol/dataset-det/images/train/11039.jpg: ignoring corrupt image/label: non-normalized or out of bounds coordinates [1.000009]\n",
      "\u001b[34m\u001b[1mtrain: \u001b[0m/home/dani/Desktop/futbol/dataset-det/images/train/11051.jpg: ignoring corrupt image/label: non-normalized or out of bounds coordinates [1.000005]\n",
      "\u001b[34m\u001b[1mtrain: \u001b[0m/home/dani/Desktop/futbol/dataset-det/images/train/11061.jpg: ignoring corrupt image/label: non-normalized or out of bounds coordinates [1.000009]\n",
      "\u001b[34m\u001b[1mtrain: \u001b[0m/home/dani/Desktop/futbol/dataset-det/images/train/11063.jpg: ignoring corrupt image/label: non-normalized or out of bounds coordinates [1.000009]\n",
      "\u001b[34m\u001b[1mtrain: \u001b[0m/home/dani/Desktop/futbol/dataset-det/images/train/11083.jpg: ignoring corrupt image/label: non-normalized or out of bounds coordinates [1.000009]\n",
      "\u001b[34m\u001b[1mtrain: \u001b[0m/home/dani/Desktop/futbol/dataset-det/images/train/11133.jpg: ignoring corrupt image/label: non-normalized or out of bounds coordinates [1.000005]\n",
      "\u001b[34m\u001b[1mtrain: \u001b[0m/home/dani/Desktop/futbol/dataset-det/images/train/11183.jpg: ignoring corrupt image/label: non-normalized or out of bounds coordinates [1.000009]\n",
      "\u001b[34m\u001b[1mtrain: \u001b[0m/home/dani/Desktop/futbol/dataset-det/images/train/11251.jpg: ignoring corrupt image/label: non-normalized or out of bounds coordinates [1.000005]\n",
      "\u001b[34m\u001b[1mtrain: \u001b[0m/home/dani/Desktop/futbol/dataset-det/images/train/11315.jpg: ignoring corrupt image/label: non-normalized or out of bounds coordinates [1.000014]\n",
      "\u001b[34m\u001b[1mtrain: \u001b[0m/home/dani/Desktop/futbol/dataset-det/images/train/11341.jpg: ignoring corrupt image/label: non-normalized or out of bounds coordinates [1.000014]\n",
      "\u001b[34m\u001b[1mtrain: \u001b[0m/home/dani/Desktop/futbol/dataset-det/images/train/11398.jpg: ignoring corrupt image/label: non-normalized or out of bounds coordinates [1.000014]\n",
      "\u001b[34m\u001b[1mtrain: \u001b[0m/home/dani/Desktop/futbol/dataset-det/images/train/11443.jpg: ignoring corrupt image/label: non-normalized or out of bounds coordinates [1.002121]\n",
      "\u001b[34m\u001b[1mtrain: \u001b[0m/home/dani/Desktop/futbol/dataset-det/images/train/11652.jpg: ignoring corrupt image/label: non-normalized or out of bounds coordinates [1.000203]\n",
      "\u001b[34m\u001b[1mtrain: \u001b[0m/home/dani/Desktop/futbol/dataset-det/images/train/11658.jpg: ignoring corrupt image/label: non-normalized or out of bounds coordinates [1.000008]\n",
      "\u001b[34m\u001b[1mtrain: \u001b[0m/home/dani/Desktop/futbol/dataset-det/images/train/11713.jpg: ignoring corrupt image/label: non-normalized or out of bounds coordinates [1.000008]\n",
      "\u001b[34m\u001b[1mtrain: \u001b[0m/home/dani/Desktop/futbol/dataset-det/images/train/11728.jpg: ignoring corrupt image/label: non-normalized or out of bounds coordinates [1.000008]\n",
      "\u001b[34m\u001b[1mtrain: \u001b[0m/home/dani/Desktop/futbol/dataset-det/images/train/11732.jpg: ignoring corrupt image/label: non-normalized or out of bounds coordinates [1.000008]\n",
      "\u001b[34m\u001b[1mtrain: \u001b[0m/home/dani/Desktop/futbol/dataset-det/images/train/11745.jpg: ignoring corrupt image/label: non-normalized or out of bounds coordinates [1.000005 1.000005]\n",
      "\u001b[34m\u001b[1mtrain: \u001b[0m/home/dani/Desktop/futbol/dataset-det/images/train/11746.jpg: ignoring corrupt image/label: non-normalized or out of bounds coordinates [1.000005]\n",
      "\u001b[34m\u001b[1mtrain: \u001b[0m/home/dani/Desktop/futbol/dataset-det/images/train/11894.jpg: ignoring corrupt image/label: non-normalized or out of bounds coordinates [1.000008]\n",
      "\u001b[34m\u001b[1mtrain: \u001b[0m/home/dani/Desktop/futbol/dataset-det/images/train/11988.jpg: ignoring corrupt image/label: non-normalized or out of bounds coordinates [1.000014]\n",
      "\u001b[34m\u001b[1mtrain: \u001b[0m/home/dani/Desktop/futbol/dataset-det/images/train/12058.jpg: ignoring corrupt image/label: non-normalized or out of bounds coordinates [1.000008]\n",
      "\u001b[34m\u001b[1mtrain: \u001b[0m/home/dani/Desktop/futbol/dataset-det/images/train/12213.jpg: ignoring corrupt image/label: non-normalized or out of bounds coordinates [1.00001]\n",
      "\u001b[34m\u001b[1mtrain: \u001b[0m/home/dani/Desktop/futbol/dataset-det/images/train/12241.jpg: ignoring corrupt image/label: non-normalized or out of bounds coordinates [1.00001]\n",
      "\u001b[34m\u001b[1mtrain: \u001b[0m/home/dani/Desktop/futbol/dataset-det/images/train/12320.jpg: ignoring corrupt image/label: non-normalized or out of bounds coordinates [1.000005]\n",
      "\u001b[34m\u001b[1mtrain: \u001b[0m/home/dani/Desktop/futbol/dataset-det/images/train/12325.jpg: ignoring corrupt image/label: non-normalized or out of bounds coordinates [1.000005]\n",
      "\u001b[34m\u001b[1mtrain: \u001b[0m/home/dani/Desktop/futbol/dataset-det/images/train/12486.jpg: ignoring corrupt image/label: non-normalized or out of bounds coordinates [1.000005]\n",
      "\u001b[34m\u001b[1mtrain: \u001b[0m/home/dani/Desktop/futbol/dataset-det/images/train/12661.jpg: ignoring corrupt image/label: non-normalized or out of bounds coordinates [1.000009]\n",
      "\u001b[34m\u001b[1mtrain: \u001b[0m/home/dani/Desktop/futbol/dataset-det/images/train/12684.jpg: ignoring corrupt image/label: non-normalized or out of bounds coordinates [1.000009]\n",
      "\u001b[34m\u001b[1mtrain: \u001b[0m/home/dani/Desktop/futbol/dataset-det/images/train/12688.jpg: ignoring corrupt image/label: non-normalized or out of bounds coordinates [1.000009]\n",
      "\u001b[34m\u001b[1mtrain: \u001b[0m/home/dani/Desktop/futbol/dataset-det/images/train/12791.jpg: ignoring corrupt image/label: non-normalized or out of bounds coordinates [1.000021]\n",
      "\u001b[34m\u001b[1mtrain: \u001b[0m/home/dani/Desktop/futbol/dataset-det/images/train/12813.jpg: ignoring corrupt image/label: non-normalized or out of bounds coordinates [1.000021]\n",
      "\u001b[34m\u001b[1mtrain: \u001b[0m/home/dani/Desktop/futbol/dataset-det/images/train/12850.jpg: ignoring corrupt image/label: non-normalized or out of bounds coordinates [1.000005]\n",
      "\u001b[34m\u001b[1mtrain: \u001b[0m/home/dani/Desktop/futbol/dataset-det/images/train/12853.jpg: ignoring corrupt image/label: non-normalized or out of bounds coordinates [1.000009]\n",
      "\u001b[34m\u001b[1mtrain: \u001b[0m/home/dani/Desktop/futbol/dataset-det/images/train/12875.jpg: ignoring corrupt image/label: non-normalized or out of bounds coordinates [1.000009]\n",
      "\u001b[34m\u001b[1mtrain: \u001b[0m/home/dani/Desktop/futbol/dataset-det/images/train/12895.jpg: ignoring corrupt image/label: non-normalized or out of bounds coordinates [1.000009]\n",
      "\u001b[34m\u001b[1mtrain: \u001b[0m/home/dani/Desktop/futbol/dataset-det/images/train/12933.jpg: ignoring corrupt image/label: non-normalized or out of bounds coordinates [1.000009]\n",
      "\u001b[34m\u001b[1mtrain: \u001b[0m/home/dani/Desktop/futbol/dataset-det/images/train/12975.jpg: ignoring corrupt image/label: non-normalized or out of bounds coordinates [1.000009]\n",
      "\u001b[34m\u001b[1mtrain: \u001b[0m/home/dani/Desktop/futbol/dataset-det/images/train/12986.jpg: ignoring corrupt image/label: non-normalized or out of bounds coordinates [1.000009]\n",
      "\u001b[34m\u001b[1mtrain: \u001b[0m/home/dani/Desktop/futbol/dataset-det/images/train/12989.jpg: ignoring corrupt image/label: non-normalized or out of bounds coordinates [1.000009]\n",
      "\u001b[34m\u001b[1mtrain: \u001b[0m/home/dani/Desktop/futbol/dataset-det/images/train/13091.jpg: ignoring corrupt image/label: non-normalized or out of bounds coordinates [1.000009]\n",
      "\u001b[34m\u001b[1mtrain: \u001b[0m/home/dani/Desktop/futbol/dataset-det/images/train/13101.jpg: ignoring corrupt image/label: non-normalized or out of bounds coordinates [1.000009]\n",
      "\u001b[34m\u001b[1mtrain: \u001b[0m/home/dani/Desktop/futbol/dataset-det/images/train/13139.jpg: ignoring corrupt image/label: non-normalized or out of bounds coordinates [1.000009]\n",
      "\u001b[34m\u001b[1mtrain: \u001b[0m/home/dani/Desktop/futbol/dataset-det/images/train/13147.jpg: ignoring corrupt image/label: non-normalized or out of bounds coordinates [1.000005]\n",
      "\u001b[34m\u001b[1mtrain: \u001b[0m/home/dani/Desktop/futbol/dataset-det/images/train/13183.jpg: ignoring corrupt image/label: non-normalized or out of bounds coordinates [1.000005]\n",
      "\u001b[34m\u001b[1mtrain: \u001b[0m/home/dani/Desktop/futbol/dataset-det/images/train/13194.jpg: ignoring corrupt image/label: non-normalized or out of bounds coordinates [1.000005]\n",
      "\u001b[34m\u001b[1mtrain: \u001b[0m/home/dani/Desktop/futbol/dataset-det/images/train/13221.jpg: ignoring corrupt image/label: non-normalized or out of bounds coordinates [1.000005]\n",
      "\u001b[34m\u001b[1mtrain: \u001b[0m/home/dani/Desktop/futbol/dataset-det/images/train/13232.jpg: ignoring corrupt image/label: non-normalized or out of bounds coordinates [1.000005]\n",
      "\u001b[34m\u001b[1mtrain: \u001b[0m/home/dani/Desktop/futbol/dataset-det/images/train/13251.jpg: ignoring corrupt image/label: non-normalized or out of bounds coordinates [1.00001]\n",
      "\u001b[34m\u001b[1mtrain: \u001b[0m/home/dani/Desktop/futbol/dataset-det/images/train/13267.jpg: ignoring corrupt image/label: non-normalized or out of bounds coordinates [1.000005]\n",
      "\u001b[34m\u001b[1mtrain: \u001b[0m/home/dani/Desktop/futbol/dataset-det/images/train/13268.jpg: ignoring corrupt image/label: non-normalized or out of bounds coordinates [1.00001]\n",
      "\u001b[34m\u001b[1mtrain: \u001b[0m/home/dani/Desktop/futbol/dataset-det/images/train/13384.jpg: ignoring corrupt image/label: non-normalized or out of bounds coordinates [1.000009]\n",
      "\u001b[34m\u001b[1mtrain: \u001b[0m/home/dani/Desktop/futbol/dataset-det/images/train/13401.jpg: ignoring corrupt image/label: non-normalized or out of bounds coordinates [1.000005]\n",
      "\u001b[34m\u001b[1mtrain: \u001b[0m/home/dani/Desktop/futbol/dataset-det/images/train/13417.jpg: ignoring corrupt image/label: non-normalized or out of bounds coordinates [1.000005]\n",
      "\u001b[34m\u001b[1mtrain: \u001b[0m/home/dani/Desktop/futbol/dataset-det/images/train/13432.jpg: ignoring corrupt image/label: non-normalized or out of bounds coordinates [1.000005]\n",
      "\u001b[34m\u001b[1mtrain: \u001b[0m/home/dani/Desktop/futbol/dataset-det/images/train/13497.jpg: ignoring corrupt image/label: non-normalized or out of bounds coordinates [1.000005]\n",
      "\u001b[34m\u001b[1mtrain: \u001b[0m/home/dani/Desktop/futbol/dataset-det/images/train/13516.jpg: ignoring corrupt image/label: non-normalized or out of bounds coordinates [1.000005]\n",
      "\u001b[34m\u001b[1mtrain: \u001b[0m/home/dani/Desktop/futbol/dataset-det/images/train/13528.jpg: ignoring corrupt image/label: non-normalized or out of bounds coordinates [1.000005]\n",
      "\u001b[34m\u001b[1mtrain: \u001b[0m/home/dani/Desktop/futbol/dataset-det/images/train/13585.jpg: ignoring corrupt image/label: non-normalized or out of bounds coordinates [1.001229]\n",
      "\u001b[34m\u001b[1mtrain: \u001b[0m/home/dani/Desktop/futbol/dataset-det/images/train/13594.jpg: ignoring corrupt image/label: non-normalized or out of bounds coordinates [1.002464 1.00001 ]\n",
      "\u001b[34m\u001b[1mtrain: \u001b[0m/home/dani/Desktop/futbol/dataset-det/images/train/13610.jpg: ignoring corrupt image/label: non-normalized or out of bounds coordinates [1.000009]\n",
      "\u001b[34m\u001b[1mtrain: \u001b[0m/home/dani/Desktop/futbol/dataset-det/images/train/13617.jpg: ignoring corrupt image/label: non-normalized or out of bounds coordinates [1.013065]\n",
      "\u001b[34m\u001b[1mtrain: \u001b[0m/home/dani/Desktop/futbol/dataset-det/images/train/13643.jpg: ignoring corrupt image/label: non-normalized or out of bounds coordinates [1.000009]\n",
      "\u001b[34m\u001b[1mtrain: \u001b[0m/home/dani/Desktop/futbol/dataset-det/images/train/13646.jpg: ignoring corrupt image/label: non-normalized or out of bounds coordinates [1.000009]\n",
      "\u001b[34m\u001b[1mtrain: \u001b[0m/home/dani/Desktop/futbol/dataset-det/images/train/13652.jpg: ignoring corrupt image/label: non-normalized or out of bounds coordinates [1.000009]\n",
      "\u001b[34m\u001b[1mtrain: \u001b[0m/home/dani/Desktop/futbol/dataset-det/images/train/13661.jpg: ignoring corrupt image/label: non-normalized or out of bounds coordinates [1.000009]\n",
      "\u001b[34m\u001b[1mtrain: \u001b[0m/home/dani/Desktop/futbol/dataset-det/images/train/13809.jpg: ignoring corrupt image/label: non-normalized or out of bounds coordinates [1.000365]\n",
      "\u001b[34m\u001b[1mtrain: \u001b[0m/home/dani/Desktop/futbol/dataset-det/images/train/13813.jpg: ignoring corrupt image/label: non-normalized or out of bounds coordinates [1.001104]\n",
      "\u001b[34m\u001b[1mtrain: \u001b[0m/home/dani/Desktop/futbol/dataset-det/images/train/13826.jpg: ignoring corrupt image/label: non-normalized or out of bounds coordinates [1.003703]\n",
      "\u001b[34m\u001b[1mtrain: \u001b[0m/home/dani/Desktop/futbol/dataset-det/images/train/13893.jpg: ignoring corrupt image/label: non-normalized or out of bounds coordinates [1.000021]\n",
      "\u001b[34m\u001b[1mtrain: \u001b[0m/home/dani/Desktop/futbol/dataset-det/images/train/13905.jpg: ignoring corrupt image/label: non-normalized or out of bounds coordinates [1.000005]\n",
      "\u001b[34m\u001b[1mtrain: \u001b[0m/home/dani/Desktop/futbol/dataset-det/images/train/13988.jpg: ignoring corrupt image/label: non-normalized or out of bounds coordinates [1.000009]\n",
      "\u001b[34m\u001b[1mtrain: \u001b[0m/home/dani/Desktop/futbol/dataset-det/images/train/14016.jpg: ignoring corrupt image/label: non-normalized or out of bounds coordinates [1.000005]\n",
      "\u001b[34m\u001b[1mtrain: \u001b[0m/home/dani/Desktop/futbol/dataset-det/images/train/14023.jpg: ignoring corrupt image/label: non-normalized or out of bounds coordinates [1.000005]\n",
      "\u001b[34m\u001b[1mtrain: \u001b[0m/home/dani/Desktop/futbol/dataset-det/images/train/14120.jpg: ignoring corrupt image/label: non-normalized or out of bounds coordinates [1.000005]\n",
      "\u001b[34m\u001b[1mtrain: \u001b[0m/home/dani/Desktop/futbol/dataset-det/images/train/14122.jpg: ignoring corrupt image/label: non-normalized or out of bounds coordinates [1.001062]\n",
      "\u001b[34m\u001b[1mtrain: \u001b[0m/home/dani/Desktop/futbol/dataset-det/images/train/14164.jpg: ignoring corrupt image/label: non-normalized or out of bounds coordinates [1.001583]\n",
      "\u001b[34m\u001b[1mtrain: \u001b[0m/home/dani/Desktop/futbol/dataset-det/images/train/14176.jpg: ignoring corrupt image/label: non-normalized or out of bounds coordinates [1.000009]\n",
      "\u001b[34m\u001b[1mtrain: \u001b[0m/home/dani/Desktop/futbol/dataset-det/images/train/14179.jpg: ignoring corrupt image/label: non-normalized or out of bounds coordinates [1.000009]\n",
      "\u001b[34m\u001b[1mtrain: \u001b[0m/home/dani/Desktop/futbol/dataset-det/images/train/14190.jpg: ignoring corrupt image/label: non-normalized or out of bounds coordinates [1.000009]\n",
      "\u001b[34m\u001b[1mtrain: \u001b[0m/home/dani/Desktop/futbol/dataset-det/images/train/14201.jpg: ignoring corrupt image/label: non-normalized or out of bounds coordinates [1.000009]\n",
      "\u001b[34m\u001b[1mtrain: \u001b[0m/home/dani/Desktop/futbol/dataset-det/images/train/14223.jpg: ignoring corrupt image/label: non-normalized or out of bounds coordinates [1.000005]\n",
      "\u001b[34m\u001b[1mtrain: \u001b[0m/home/dani/Desktop/futbol/dataset-det/images/train/14224.jpg: ignoring corrupt image/label: non-normalized or out of bounds coordinates [1.000005]\n",
      "\u001b[34m\u001b[1mtrain: \u001b[0m/home/dani/Desktop/futbol/dataset-det/images/train/14322.jpg: ignoring corrupt image/label: non-normalized or out of bounds coordinates [1.000005]\n",
      "\u001b[34m\u001b[1mtrain: \u001b[0m/home/dani/Desktop/futbol/dataset-det/images/train/14324.jpg: ignoring corrupt image/label: non-normalized or out of bounds coordinates [1.00001]\n",
      "\u001b[34m\u001b[1mtrain: \u001b[0m/home/dani/Desktop/futbol/dataset-det/images/train/14335.jpg: ignoring corrupt image/label: non-normalized or out of bounds coordinates [1.000005]\n",
      "\u001b[34m\u001b[1mtrain: \u001b[0m/home/dani/Desktop/futbol/dataset-det/images/train/14336.jpg: ignoring corrupt image/label: non-normalized or out of bounds coordinates [1.000005]\n",
      "\u001b[34m\u001b[1mtrain: \u001b[0m/home/dani/Desktop/futbol/dataset-det/images/train/14447.jpg: ignoring corrupt image/label: non-normalized or out of bounds coordinates [1.000005]\n",
      "\u001b[34m\u001b[1mtrain: \u001b[0m/home/dani/Desktop/futbol/dataset-det/images/train/14508.jpg: ignoring corrupt image/label: non-normalized or out of bounds coordinates [1.000005]\n"
     ]
    },
    {
     "name": "stderr",
     "output_type": "stream",
     "text": [
      "\n"
     ]
    },
    {
     "name": "stdout",
     "output_type": "stream",
     "text": [
      "\u001b[34m\u001b[1mtrain: \u001b[0mNew cache created: /home/dani/Desktop/futbol/dataset-det/labels/train.cache\n",
      "\u001b[34m\u001b[1mval: \u001b[0mFast image access ✅ (ping: 0.0±0.0 ms, read: 2372.7±1208.9 MB/s, size: 141.3 KB)\n"
     ]
    },
    {
     "name": "stderr",
     "output_type": "stream",
     "text": [
      "\u001b[34m\u001b[1mval: \u001b[0mScanning /home/dani/Desktop/futbol/dataset-det/labels/valid... 2796 images, 0 backgrounds, 82 corrupt: 100%|██████████| 2796/2796 [00:01<00:00, 2105.50it/s]"
     ]
    },
    {
     "name": "stdout",
     "output_type": "stream",
     "text": [
      "\u001b[34m\u001b[1mval: \u001b[0m/home/dani/Desktop/futbol/dataset-det/images/valid/00089.jpg: ignoring corrupt image/label: non-normalized or out of bounds coordinates [1.000008]\n",
      "\u001b[34m\u001b[1mval: \u001b[0m/home/dani/Desktop/futbol/dataset-det/images/valid/00113.jpg: ignoring corrupt image/label: non-normalized or out of bounds coordinates [1.000008]\n",
      "\u001b[34m\u001b[1mval: \u001b[0m/home/dani/Desktop/futbol/dataset-det/images/valid/00114.jpg: ignoring corrupt image/label: non-normalized or out of bounds coordinates [1.000008]\n",
      "\u001b[34m\u001b[1mval: \u001b[0m/home/dani/Desktop/futbol/dataset-det/images/valid/00129.jpg: ignoring corrupt image/label: non-normalized or out of bounds coordinates [1.000014]\n",
      "\u001b[34m\u001b[1mval: \u001b[0m/home/dani/Desktop/futbol/dataset-det/images/valid/00132.jpg: ignoring corrupt image/label: non-normalized or out of bounds coordinates [1.000227]\n",
      "\u001b[34m\u001b[1mval: \u001b[0m/home/dani/Desktop/futbol/dataset-det/images/valid/00133.jpg: ignoring corrupt image/label: non-normalized or out of bounds coordinates [1.000014]\n",
      "\u001b[34m\u001b[1mval: \u001b[0m/home/dani/Desktop/futbol/dataset-det/images/valid/00145.jpg: ignoring corrupt image/label: non-normalized or out of bounds coordinates [1.000008 1.000008 1.000008]\n",
      "\u001b[34m\u001b[1mval: \u001b[0m/home/dani/Desktop/futbol/dataset-det/images/valid/00170.jpg: ignoring corrupt image/label: non-normalized or out of bounds coordinates [1.000014]\n",
      "\u001b[34m\u001b[1mval: \u001b[0m/home/dani/Desktop/futbol/dataset-det/images/valid/00194.jpg: ignoring corrupt image/label: non-normalized or out of bounds coordinates [1.000014]\n",
      "\u001b[34m\u001b[1mval: \u001b[0m/home/dani/Desktop/futbol/dataset-det/images/valid/00281.jpg: ignoring corrupt image/label: non-normalized or out of bounds coordinates [1.000014]\n",
      "\u001b[34m\u001b[1mval: \u001b[0m/home/dani/Desktop/futbol/dataset-det/images/valid/00303.jpg: ignoring corrupt image/label: non-normalized or out of bounds coordinates [1.000014]\n",
      "\u001b[34m\u001b[1mval: \u001b[0m/home/dani/Desktop/futbol/dataset-det/images/valid/00327.jpg: ignoring corrupt image/label: non-normalized or out of bounds coordinates [1.000008]\n",
      "\u001b[34m\u001b[1mval: \u001b[0m/home/dani/Desktop/futbol/dataset-det/images/valid/00331.jpg: ignoring corrupt image/label: non-normalized or out of bounds coordinates [1.000008]\n",
      "\u001b[34m\u001b[1mval: \u001b[0m/home/dani/Desktop/futbol/dataset-det/images/valid/00476.jpg: ignoring corrupt image/label: non-normalized or out of bounds coordinates [1.000014]\n",
      "\u001b[34m\u001b[1mval: \u001b[0m/home/dani/Desktop/futbol/dataset-det/images/valid/00488.jpg: ignoring corrupt image/label: non-normalized or out of bounds coordinates [1.000014]\n",
      "\u001b[34m\u001b[1mval: \u001b[0m/home/dani/Desktop/futbol/dataset-det/images/valid/00548.jpg: ignoring corrupt image/label: non-normalized or out of bounds coordinates [1.000008]\n",
      "\u001b[34m\u001b[1mval: \u001b[0m/home/dani/Desktop/futbol/dataset-det/images/valid/00552.jpg: ignoring corrupt image/label: non-normalized or out of bounds coordinates [1.000008]\n",
      "\u001b[34m\u001b[1mval: \u001b[0m/home/dani/Desktop/futbol/dataset-det/images/valid/00628.jpg: ignoring corrupt image/label: non-normalized or out of bounds coordinates [1.000014]\n",
      "\u001b[34m\u001b[1mval: \u001b[0m/home/dani/Desktop/futbol/dataset-det/images/valid/00632.jpg: ignoring corrupt image/label: non-normalized or out of bounds coordinates [1.000014]\n",
      "\u001b[34m\u001b[1mval: \u001b[0m/home/dani/Desktop/futbol/dataset-det/images/valid/00682.jpg: ignoring corrupt image/label: non-normalized or out of bounds coordinates [1.000014]\n",
      "\u001b[34m\u001b[1mval: \u001b[0m/home/dani/Desktop/futbol/dataset-det/images/valid/00782.jpg: ignoring corrupt image/label: non-normalized or out of bounds coordinates [1.000014]\n",
      "\u001b[34m\u001b[1mval: \u001b[0m/home/dani/Desktop/futbol/dataset-det/images/valid/00805.jpg: ignoring corrupt image/label: non-normalized or out of bounds coordinates [1.008847]\n",
      "\u001b[34m\u001b[1mval: \u001b[0m/home/dani/Desktop/futbol/dataset-det/images/valid/00807.jpg: ignoring corrupt image/label: non-normalized or out of bounds coordinates [1.000014]\n",
      "\u001b[34m\u001b[1mval: \u001b[0m/home/dani/Desktop/futbol/dataset-det/images/valid/00947.jpg: ignoring corrupt image/label: non-normalized or out of bounds coordinates [1.003536]\n",
      "\u001b[34m\u001b[1mval: \u001b[0m/home/dani/Desktop/futbol/dataset-det/images/valid/01015.jpg: ignoring corrupt image/label: non-normalized or out of bounds coordinates [1.267639]\n",
      "\u001b[34m\u001b[1mval: \u001b[0m/home/dani/Desktop/futbol/dataset-det/images/valid/01030.jpg: ignoring corrupt image/label: non-normalized or out of bounds coordinates [1.000008]\n",
      "\u001b[34m\u001b[1mval: \u001b[0m/home/dani/Desktop/futbol/dataset-det/images/valid/01066.jpg: ignoring corrupt image/label: non-normalized or out of bounds coordinates [1.000008 1.000008]\n",
      "\u001b[34m\u001b[1mval: \u001b[0m/home/dani/Desktop/futbol/dataset-det/images/valid/01139.jpg: ignoring corrupt image/label: non-normalized or out of bounds coordinates [1.000008]\n",
      "\u001b[34m\u001b[1mval: \u001b[0m/home/dani/Desktop/futbol/dataset-det/images/valid/01177.jpg: ignoring corrupt image/label: non-normalized or out of bounds coordinates [1.000008]\n",
      "\u001b[34m\u001b[1mval: \u001b[0m/home/dani/Desktop/futbol/dataset-det/images/valid/01193.jpg: ignoring corrupt image/label: non-normalized or out of bounds coordinates [1.000016 1.000016]\n",
      "\u001b[34m\u001b[1mval: \u001b[0m/home/dani/Desktop/futbol/dataset-det/images/valid/01197.jpg: ignoring corrupt image/label: non-normalized or out of bounds coordinates [1.000016 1.000016]\n",
      "\u001b[34m\u001b[1mval: \u001b[0m/home/dani/Desktop/futbol/dataset-det/images/valid/01200.jpg: ignoring corrupt image/label: non-normalized or out of bounds coordinates [1.000016 1.000016]\n",
      "\u001b[34m\u001b[1mval: \u001b[0m/home/dani/Desktop/futbol/dataset-det/images/valid/01211.jpg: ignoring corrupt image/label: non-normalized or out of bounds coordinates [1.000014]\n",
      "\u001b[34m\u001b[1mval: \u001b[0m/home/dani/Desktop/futbol/dataset-det/images/valid/01212.jpg: ignoring corrupt image/label: non-normalized or out of bounds coordinates [1.000014]\n",
      "\u001b[34m\u001b[1mval: \u001b[0m/home/dani/Desktop/futbol/dataset-det/images/valid/01232.jpg: ignoring corrupt image/label: non-normalized or out of bounds coordinates [1.000014]\n",
      "\u001b[34m\u001b[1mval: \u001b[0m/home/dani/Desktop/futbol/dataset-det/images/valid/01268.jpg: ignoring corrupt image/label: non-normalized or out of bounds coordinates [1.000014]\n",
      "\u001b[34m\u001b[1mval: \u001b[0m/home/dani/Desktop/futbol/dataset-det/images/valid/01353.jpg: ignoring corrupt image/label: non-normalized or out of bounds coordinates [1.000014]\n",
      "\u001b[34m\u001b[1mval: \u001b[0m/home/dani/Desktop/futbol/dataset-det/images/valid/01358.jpg: ignoring corrupt image/label: non-normalized or out of bounds coordinates [1.000014]\n",
      "\u001b[34m\u001b[1mval: \u001b[0m/home/dani/Desktop/futbol/dataset-det/images/valid/01362.jpg: ignoring corrupt image/label: non-normalized or out of bounds coordinates [1.008094]\n",
      "\u001b[34m\u001b[1mval: \u001b[0m/home/dani/Desktop/futbol/dataset-det/images/valid/01430.jpg: ignoring corrupt image/label: non-normalized or out of bounds coordinates [1.000009]\n",
      "\u001b[34m\u001b[1mval: \u001b[0m/home/dani/Desktop/futbol/dataset-det/images/valid/01469.jpg: ignoring corrupt image/label: non-normalized or out of bounds coordinates [1.000009]\n",
      "\u001b[34m\u001b[1mval: \u001b[0m/home/dani/Desktop/futbol/dataset-det/images/valid/01488.jpg: ignoring corrupt image/label: non-normalized or out of bounds coordinates [1.000009]\n",
      "\u001b[34m\u001b[1mval: \u001b[0m/home/dani/Desktop/futbol/dataset-det/images/valid/01489.jpg: ignoring corrupt image/label: non-normalized or out of bounds coordinates [1.000009]\n",
      "\u001b[34m\u001b[1mval: \u001b[0m/home/dani/Desktop/futbol/dataset-det/images/valid/01499.jpg: ignoring corrupt image/label: non-normalized or out of bounds coordinates [1.000009]\n",
      "\u001b[34m\u001b[1mval: \u001b[0m/home/dani/Desktop/futbol/dataset-det/images/valid/01508.jpg: ignoring corrupt image/label: non-normalized or out of bounds coordinates [1.000009]\n",
      "\u001b[34m\u001b[1mval: \u001b[0m/home/dani/Desktop/futbol/dataset-det/images/valid/01534.jpg: ignoring corrupt image/label: non-normalized or out of bounds coordinates [1.000009]\n",
      "\u001b[34m\u001b[1mval: \u001b[0m/home/dani/Desktop/futbol/dataset-det/images/valid/01562.jpg: ignoring corrupt image/label: non-normalized or out of bounds coordinates [1.000005]\n",
      "\u001b[34m\u001b[1mval: \u001b[0m/home/dani/Desktop/futbol/dataset-det/images/valid/01585.jpg: ignoring corrupt image/label: non-normalized or out of bounds coordinates [1.000005]\n",
      "\u001b[34m\u001b[1mval: \u001b[0m/home/dani/Desktop/futbol/dataset-det/images/valid/01589.jpg: ignoring corrupt image/label: non-normalized or out of bounds coordinates [1.000005]\n",
      "\u001b[34m\u001b[1mval: \u001b[0m/home/dani/Desktop/futbol/dataset-det/images/valid/01639.jpg: ignoring corrupt image/label: non-normalized or out of bounds coordinates [1.000005]\n",
      "\u001b[34m\u001b[1mval: \u001b[0m/home/dani/Desktop/futbol/dataset-det/images/valid/01666.jpg: ignoring corrupt image/label: non-normalized or out of bounds coordinates [1.000008]\n",
      "\u001b[34m\u001b[1mval: \u001b[0m/home/dani/Desktop/futbol/dataset-det/images/valid/01794.jpg: ignoring corrupt image/label: non-normalized or out of bounds coordinates [1.001172]\n",
      "\u001b[34m\u001b[1mval: \u001b[0m/home/dani/Desktop/futbol/dataset-det/images/valid/01902.jpg: ignoring corrupt image/label: non-normalized or out of bounds coordinates [1.000005]\n",
      "\u001b[34m\u001b[1mval: \u001b[0m/home/dani/Desktop/futbol/dataset-det/images/valid/01914.jpg: ignoring corrupt image/label: non-normalized or out of bounds coordinates [1.000009]\n",
      "\u001b[34m\u001b[1mval: \u001b[0m/home/dani/Desktop/futbol/dataset-det/images/valid/01941.jpg: ignoring corrupt image/label: non-normalized or out of bounds coordinates [1.000009]\n",
      "\u001b[34m\u001b[1mval: \u001b[0m/home/dani/Desktop/futbol/dataset-det/images/valid/02003.jpg: ignoring corrupt image/label: non-normalized or out of bounds coordinates [1.000005]\n",
      "\u001b[34m\u001b[1mval: \u001b[0m/home/dani/Desktop/futbol/dataset-det/images/valid/02044.jpg: ignoring corrupt image/label: non-normalized or out of bounds coordinates [1.000906]\n",
      "\u001b[34m\u001b[1mval: \u001b[0m/home/dani/Desktop/futbol/dataset-det/images/valid/02060.jpg: ignoring corrupt image/label: non-normalized or out of bounds coordinates [1.000009]\n",
      "\u001b[34m\u001b[1mval: \u001b[0m/home/dani/Desktop/futbol/dataset-det/images/valid/02077.jpg: ignoring corrupt image/label: non-normalized or out of bounds coordinates [1.000009]\n",
      "\u001b[34m\u001b[1mval: \u001b[0m/home/dani/Desktop/futbol/dataset-det/images/valid/02152.jpg: ignoring corrupt image/label: non-normalized or out of bounds coordinates [1.000008]\n",
      "\u001b[34m\u001b[1mval: \u001b[0m/home/dani/Desktop/futbol/dataset-det/images/valid/02197.jpg: ignoring corrupt image/label: non-normalized or out of bounds coordinates [1.000008]\n",
      "\u001b[34m\u001b[1mval: \u001b[0m/home/dani/Desktop/futbol/dataset-det/images/valid/02245.jpg: ignoring corrupt image/label: non-normalized or out of bounds coordinates [1.002023]\n",
      "\u001b[34m\u001b[1mval: \u001b[0m/home/dani/Desktop/futbol/dataset-det/images/valid/02281.jpg: ignoring corrupt image/label: non-normalized or out of bounds coordinates [1.000008]\n",
      "\u001b[34m\u001b[1mval: \u001b[0m/home/dani/Desktop/futbol/dataset-det/images/valid/02283.jpg: ignoring corrupt image/label: non-normalized or out of bounds coordinates [1.000014]\n",
      "\u001b[34m\u001b[1mval: \u001b[0m/home/dani/Desktop/futbol/dataset-det/images/valid/02287.jpg: ignoring corrupt image/label: non-normalized or out of bounds coordinates [1.000008]\n",
      "\u001b[34m\u001b[1mval: \u001b[0m/home/dani/Desktop/futbol/dataset-det/images/valid/02321.jpg: ignoring corrupt image/label: non-normalized or out of bounds coordinates [1.000014]\n",
      "\u001b[34m\u001b[1mval: \u001b[0m/home/dani/Desktop/futbol/dataset-det/images/valid/02328.jpg: ignoring corrupt image/label: non-normalized or out of bounds coordinates [1.000014]\n",
      "\u001b[34m\u001b[1mval: \u001b[0m/home/dani/Desktop/futbol/dataset-det/images/valid/02359.jpg: ignoring corrupt image/label: non-normalized or out of bounds coordinates [1.000008]\n",
      "\u001b[34m\u001b[1mval: \u001b[0m/home/dani/Desktop/futbol/dataset-det/images/valid/02374.jpg: ignoring corrupt image/label: non-normalized or out of bounds coordinates [1.000008]\n",
      "\u001b[34m\u001b[1mval: \u001b[0m/home/dani/Desktop/futbol/dataset-det/images/valid/02472.jpg: ignoring corrupt image/label: non-normalized or out of bounds coordinates [1.000014]\n",
      "\u001b[34m\u001b[1mval: \u001b[0m/home/dani/Desktop/futbol/dataset-det/images/valid/02522.jpg: ignoring corrupt image/label: non-normalized or out of bounds coordinates [1.000005]\n",
      "\u001b[34m\u001b[1mval: \u001b[0m/home/dani/Desktop/futbol/dataset-det/images/valid/02524.jpg: ignoring corrupt image/label: non-normalized or out of bounds coordinates [1.000021]\n",
      "\u001b[34m\u001b[1mval: \u001b[0m/home/dani/Desktop/futbol/dataset-det/images/valid/02547.jpg: ignoring corrupt image/label: non-normalized or out of bounds coordinates [1.000021]\n",
      "\u001b[34m\u001b[1mval: \u001b[0m/home/dani/Desktop/futbol/dataset-det/images/valid/02548.jpg: ignoring corrupt image/label: non-normalized or out of bounds coordinates [1.000005]\n",
      "\u001b[34m\u001b[1mval: \u001b[0m/home/dani/Desktop/futbol/dataset-det/images/valid/02561.jpg: ignoring corrupt image/label: non-normalized or out of bounds coordinates [1.000005]\n",
      "\u001b[34m\u001b[1mval: \u001b[0m/home/dani/Desktop/futbol/dataset-det/images/valid/02564.jpg: ignoring corrupt image/label: non-normalized or out of bounds coordinates [1.000005]\n",
      "\u001b[34m\u001b[1mval: \u001b[0m/home/dani/Desktop/futbol/dataset-det/images/valid/02565.jpg: ignoring corrupt image/label: non-normalized or out of bounds coordinates [1.000021]\n",
      "\u001b[34m\u001b[1mval: \u001b[0m/home/dani/Desktop/futbol/dataset-det/images/valid/02602.jpg: ignoring corrupt image/label: non-normalized or out of bounds coordinates [1.000009]\n",
      "\u001b[34m\u001b[1mval: \u001b[0m/home/dani/Desktop/futbol/dataset-det/images/valid/02647.jpg: ignoring corrupt image/label: non-normalized or out of bounds coordinates [1.000005]\n",
      "\u001b[34m\u001b[1mval: \u001b[0m/home/dani/Desktop/futbol/dataset-det/images/valid/02656.jpg: ignoring corrupt image/label: non-normalized or out of bounds coordinates [1.00001]\n",
      "\u001b[34m\u001b[1mval: \u001b[0m/home/dani/Desktop/futbol/dataset-det/images/valid/02737.jpg: ignoring corrupt image/label: non-normalized or out of bounds coordinates [1.000005]\n",
      "\u001b[34m\u001b[1mval: \u001b[0m/home/dani/Desktop/futbol/dataset-det/images/valid/02781.jpg: ignoring corrupt image/label: non-normalized or out of bounds coordinates [1.000009]\n"
     ]
    },
    {
     "name": "stderr",
     "output_type": "stream",
     "text": [
      "\n"
     ]
    },
    {
     "name": "stdout",
     "output_type": "stream",
     "text": [
      "\u001b[34m\u001b[1mval: \u001b[0mNew cache created: /home/dani/Desktop/futbol/dataset-det/labels/valid.cache\n",
      "Plotting labels to /home/dani/Desktop/futbol/runs/detect/train6/labels.jpg... \n",
      "\u001b[34m\u001b[1moptimizer:\u001b[0m 'optimizer=auto' found, ignoring 'lr0=0.01' and 'momentum=0.937' and determining best 'optimizer', 'lr0' and 'momentum' automatically... \n",
      "\u001b[34m\u001b[1moptimizer:\u001b[0m SGD(lr=0.01, momentum=0.9) with parameter groups 57 weight(decay=0.0), 64 weight(decay=0.0005), 63 bias(decay=0.0)\n",
      "Image sizes 640 train, 640 val\n",
      "Using 8 dataloader workers\n",
      "Logging results to \u001b[1m/home/dani/Desktop/futbol/runs/detect/train6\u001b[0m\n",
      "Starting training for 50 epochs...\n",
      "\n",
      "      Epoch    GPU_mem   box_loss   cls_loss   dfl_loss  Instances       Size\n"
     ]
    },
    {
     "name": "stderr",
     "output_type": "stream",
     "text": [
      "       1/50      2.12G      1.501      3.065      1.279        122        640: 100%|██████████| 884/884 [02:53<00:00,  5.10it/s]\n",
      "                 Class     Images  Instances      Box(P          R      mAP50  mAP50-95): 100%|██████████| 85/85 [00:31<00:00,  2.66it/s]\n"
     ]
    },
    {
     "name": "stdout",
     "output_type": "stream",
     "text": [
      "                   all       2714      26158      0.518      0.475       0.33      0.237\n",
      "\n",
      "      Epoch    GPU_mem   box_loss   cls_loss   dfl_loss  Instances       Size\n"
     ]
    },
    {
     "name": "stderr",
     "output_type": "stream",
     "text": [
      "       2/50      2.26G      1.182       1.78      1.076        135        640: 100%|██████████| 884/884 [02:51<00:00,  5.14it/s]\n",
      "                 Class     Images  Instances      Box(P          R      mAP50  mAP50-95): 100%|██████████| 85/85 [00:29<00:00,  2.88it/s]\n"
     ]
    },
    {
     "name": "stdout",
     "output_type": "stream",
     "text": [
      "                   all       2714      26158      0.483      0.534      0.369      0.268\n",
      "\n",
      "      Epoch    GPU_mem   box_loss   cls_loss   dfl_loss  Instances       Size\n"
     ]
    },
    {
     "name": "stderr",
     "output_type": "stream",
     "text": [
      "       3/50      2.27G      1.126      1.623      1.043        100        640: 100%|██████████| 884/884 [02:53<00:00,  5.08it/s]\n",
      "                 Class     Images  Instances      Box(P          R      mAP50  mAP50-95): 100%|██████████| 85/85 [00:27<00:00,  3.14it/s]\n"
     ]
    },
    {
     "name": "stdout",
     "output_type": "stream",
     "text": [
      "                   all       2714      26158      0.484       0.54      0.376      0.272\n",
      "\n",
      "      Epoch    GPU_mem   box_loss   cls_loss   dfl_loss  Instances       Size\n"
     ]
    },
    {
     "name": "stderr",
     "output_type": "stream",
     "text": [
      "       4/50      2.28G      1.066      1.518      1.019         82        640: 100%|██████████| 884/884 [02:54<00:00,  5.08it/s]\n",
      "                 Class     Images  Instances      Box(P          R      mAP50  mAP50-95): 100%|██████████| 85/85 [00:26<00:00,  3.21it/s]\n"
     ]
    },
    {
     "name": "stdout",
     "output_type": "stream",
     "text": [
      "                   all       2714      26158      0.448       0.57      0.388      0.289\n",
      "\n",
      "      Epoch    GPU_mem   box_loss   cls_loss   dfl_loss  Instances       Size\n"
     ]
    },
    {
     "name": "stderr",
     "output_type": "stream",
     "text": [
      "       5/50      2.29G     0.9924      1.418     0.9925        121        640: 100%|██████████| 884/884 [01:50<00:00,  7.98it/s]\n",
      "                 Class     Images  Instances      Box(P          R      mAP50  mAP50-95): 100%|██████████| 85/85 [00:08<00:00, 10.50it/s]\n"
     ]
    },
    {
     "name": "stdout",
     "output_type": "stream",
     "text": [
      "                   all       2714      26158      0.459      0.583      0.403       0.31\n",
      "\n",
      "      Epoch    GPU_mem   box_loss   cls_loss   dfl_loss  Instances       Size\n"
     ]
    },
    {
     "name": "stderr",
     "output_type": "stream",
     "text": [
      "       6/50      2.29G     0.9506      1.349      0.978         84        640: 100%|██████████| 884/884 [01:44<00:00,  8.46it/s]\n",
      "                 Class     Images  Instances      Box(P          R      mAP50  mAP50-95): 100%|██████████| 85/85 [00:07<00:00, 10.63it/s]\n"
     ]
    },
    {
     "name": "stdout",
     "output_type": "stream",
     "text": [
      "                   all       2714      26158      0.469      0.593      0.415       0.32\n",
      "\n",
      "      Epoch    GPU_mem   box_loss   cls_loss   dfl_loss  Instances       Size\n"
     ]
    },
    {
     "name": "stderr",
     "output_type": "stream",
     "text": [
      "       7/50       2.3G      0.913      1.292      0.966         90        640: 100%|██████████| 884/884 [01:39<00:00,  8.90it/s]\n",
      "                 Class     Images  Instances      Box(P          R      mAP50  mAP50-95): 100%|██████████| 85/85 [00:08<00:00, 10.16it/s]\n"
     ]
    },
    {
     "name": "stdout",
     "output_type": "stream",
     "text": [
      "                   all       2714      26158      0.474      0.592      0.414       0.32\n",
      "\n",
      "      Epoch    GPU_mem   box_loss   cls_loss   dfl_loss  Instances       Size\n"
     ]
    },
    {
     "name": "stderr",
     "output_type": "stream",
     "text": [
      "       8/50      2.31G     0.8928      1.253     0.9595        111        640: 100%|██████████| 884/884 [01:37<00:00,  9.03it/s]\n",
      "                 Class     Images  Instances      Box(P          R      mAP50  mAP50-95): 100%|██████████| 85/85 [00:08<00:00,  9.73it/s]\n"
     ]
    },
    {
     "name": "stdout",
     "output_type": "stream",
     "text": [
      "                   all       2714      26158      0.469      0.604      0.411       0.32\n",
      "\n",
      "      Epoch    GPU_mem   box_loss   cls_loss   dfl_loss  Instances       Size\n"
     ]
    },
    {
     "name": "stderr",
     "output_type": "stream",
     "text": [
      "       9/50      2.32G     0.8699      1.225     0.9527         83        640: 100%|██████████| 884/884 [01:39<00:00,  8.84it/s]\n",
      "                 Class     Images  Instances      Box(P          R      mAP50  mAP50-95): 100%|██████████| 85/85 [00:08<00:00, 10.04it/s]\n"
     ]
    },
    {
     "name": "stdout",
     "output_type": "stream",
     "text": [
      "                   all       2714      26158      0.478       0.61      0.418      0.328\n",
      "\n",
      "      Epoch    GPU_mem   box_loss   cls_loss   dfl_loss  Instances       Size\n"
     ]
    },
    {
     "name": "stderr",
     "output_type": "stream",
     "text": [
      "      10/50      2.34G     0.8557      1.198     0.9469         83        640: 100%|██████████| 884/884 [01:39<00:00,  8.93it/s]\n",
      "                 Class     Images  Instances      Box(P          R      mAP50  mAP50-95): 100%|██████████| 85/85 [00:08<00:00,  9.82it/s]\n"
     ]
    },
    {
     "name": "stdout",
     "output_type": "stream",
     "text": [
      "                   all       2714      26158      0.467      0.621      0.417      0.327\n",
      "\n",
      "      Epoch    GPU_mem   box_loss   cls_loss   dfl_loss  Instances       Size\n"
     ]
    },
    {
     "name": "stderr",
     "output_type": "stream",
     "text": [
      "      11/50      2.35G     0.8414      1.176     0.9447         96        640: 100%|██████████| 884/884 [01:39<00:00,  8.92it/s]\n",
      "                 Class     Images  Instances      Box(P          R      mAP50  mAP50-95): 100%|██████████| 85/85 [00:08<00:00, 10.06it/s]\n"
     ]
    },
    {
     "name": "stdout",
     "output_type": "stream",
     "text": [
      "                   all       2714      26158       0.47       0.63      0.438      0.349\n",
      "\n",
      "      Epoch    GPU_mem   box_loss   cls_loss   dfl_loss  Instances       Size\n"
     ]
    },
    {
     "name": "stderr",
     "output_type": "stream",
     "text": [
      "      12/50      2.36G     0.8268      1.161     0.9384        128        640: 100%|██████████| 884/884 [01:38<00:00,  9.01it/s]\n",
      "                 Class     Images  Instances      Box(P          R      mAP50  mAP50-95): 100%|██████████| 85/85 [00:07<00:00, 10.91it/s]\n"
     ]
    },
    {
     "name": "stdout",
     "output_type": "stream",
     "text": [
      "                   all       2714      26158       0.48       0.63      0.427      0.338\n",
      "\n",
      "      Epoch    GPU_mem   box_loss   cls_loss   dfl_loss  Instances       Size\n"
     ]
    },
    {
     "name": "stderr",
     "output_type": "stream",
     "text": [
      "      13/50      2.37G      0.816      1.144     0.9351         69        640: 100%|██████████| 884/884 [01:37<00:00,  9.06it/s]\n",
      "                 Class     Images  Instances      Box(P          R      mAP50  mAP50-95): 100%|██████████| 85/85 [00:07<00:00, 11.30it/s]\n"
     ]
    },
    {
     "name": "stdout",
     "output_type": "stream",
     "text": [
      "                   all       2714      26158      0.482      0.627      0.425      0.336\n",
      "\n",
      "      Epoch    GPU_mem   box_loss   cls_loss   dfl_loss  Instances       Size\n"
     ]
    },
    {
     "name": "stderr",
     "output_type": "stream",
     "text": [
      "      14/50      2.38G      0.804      1.129     0.9311        141        640: 100%|██████████| 884/884 [01:47<00:00,  8.20it/s]\n",
      "                 Class     Images  Instances      Box(P          R      mAP50  mAP50-95): 100%|██████████| 85/85 [00:10<00:00,  7.80it/s]\n"
     ]
    },
    {
     "name": "stdout",
     "output_type": "stream",
     "text": [
      "                   all       2714      26158      0.474      0.636      0.451      0.361\n",
      "\n",
      "      Epoch    GPU_mem   box_loss   cls_loss   dfl_loss  Instances       Size\n"
     ]
    },
    {
     "name": "stderr",
     "output_type": "stream",
     "text": [
      "      15/50      2.39G     0.7935      1.116     0.9281         86        640: 100%|██████████| 884/884 [01:58<00:00,  7.43it/s]\n",
      "                 Class     Images  Instances      Box(P          R      mAP50  mAP50-95): 100%|██████████| 85/85 [00:10<00:00,  7.88it/s]\n"
     ]
    },
    {
     "name": "stdout",
     "output_type": "stream",
     "text": [
      "                   all       2714      26158      0.478       0.64      0.441      0.352\n",
      "\n",
      "      Epoch    GPU_mem   box_loss   cls_loss   dfl_loss  Instances       Size\n"
     ]
    },
    {
     "name": "stderr",
     "output_type": "stream",
     "text": [
      "      16/50       2.4G     0.7876      1.108     0.9258         74        640: 100%|██████████| 884/884 [01:54<00:00,  7.70it/s]\n",
      "                 Class     Images  Instances      Box(P          R      mAP50  mAP50-95): 100%|██████████| 85/85 [00:07<00:00, 10.88it/s]\n"
     ]
    },
    {
     "name": "stdout",
     "output_type": "stream",
     "text": [
      "                   all       2714      26158      0.471      0.643      0.446      0.359\n",
      "\n",
      "      Epoch    GPU_mem   box_loss   cls_loss   dfl_loss  Instances       Size\n"
     ]
    },
    {
     "name": "stderr",
     "output_type": "stream",
     "text": [
      "      17/50      2.41G     0.7804      1.095     0.9253        111        640: 100%|██████████| 884/884 [01:34<00:00,  9.31it/s]\n",
      "                 Class     Images  Instances      Box(P          R      mAP50  mAP50-95): 100%|██████████| 85/85 [00:07<00:00, 11.15it/s]\n"
     ]
    },
    {
     "name": "stdout",
     "output_type": "stream",
     "text": [
      "                   all       2714      26158      0.486      0.628      0.458      0.367\n",
      "\n",
      "      Epoch    GPU_mem   box_loss   cls_loss   dfl_loss  Instances       Size\n"
     ]
    },
    {
     "name": "stderr",
     "output_type": "stream",
     "text": [
      "      18/50      2.42G     0.7782      1.064     0.9223         95        640: 100%|██████████| 884/884 [01:36<00:00,  9.15it/s]\n",
      "                 Class     Images  Instances      Box(P          R      mAP50  mAP50-95): 100%|██████████| 85/85 [00:07<00:00, 11.19it/s]\n"
     ]
    },
    {
     "name": "stdout",
     "output_type": "stream",
     "text": [
      "                   all       2714      26158      0.578        0.6      0.564       0.46\n",
      "\n",
      "      Epoch    GPU_mem   box_loss   cls_loss   dfl_loss  Instances       Size\n"
     ]
    },
    {
     "name": "stderr",
     "output_type": "stream",
     "text": [
      "      19/50      2.44G     0.7807      1.011     0.9247        118        640: 100%|██████████| 884/884 [01:36<00:00,  9.16it/s]\n",
      "                 Class     Images  Instances      Box(P          R      mAP50  mAP50-95): 100%|██████████| 85/85 [00:07<00:00, 11.05it/s]\n"
     ]
    },
    {
     "name": "stdout",
     "output_type": "stream",
     "text": [
      "                   all       2714      26158      0.676      0.573      0.635      0.518\n",
      "\n",
      "      Epoch    GPU_mem   box_loss   cls_loss   dfl_loss  Instances       Size\n"
     ]
    },
    {
     "name": "stderr",
     "output_type": "stream",
     "text": [
      "      20/50      2.45G     0.7731      0.927     0.9215        103        640: 100%|██████████| 884/884 [01:36<00:00,  9.13it/s]\n",
      "                 Class     Images  Instances      Box(P          R      mAP50  mAP50-95): 100%|██████████| 85/85 [00:09<00:00,  9.38it/s]\n"
     ]
    },
    {
     "name": "stdout",
     "output_type": "stream",
     "text": [
      "                   all       2714      26158      0.699      0.593      0.654      0.532\n",
      "\n",
      "      Epoch    GPU_mem   box_loss   cls_loss   dfl_loss  Instances       Size\n"
     ]
    },
    {
     "name": "stderr",
     "output_type": "stream",
     "text": [
      "      21/50      2.46G     0.7686     0.8661       0.92        105        640: 100%|██████████| 884/884 [01:57<00:00,  7.52it/s]\n",
      "                 Class     Images  Instances      Box(P          R      mAP50  mAP50-95): 100%|██████████| 85/85 [00:10<00:00,  8.40it/s]\n"
     ]
    },
    {
     "name": "stdout",
     "output_type": "stream",
     "text": [
      "                   all       2714      26158      0.719      0.605      0.664      0.541\n",
      "\n",
      "      Epoch    GPU_mem   box_loss   cls_loss   dfl_loss  Instances       Size\n"
     ]
    },
    {
     "name": "stderr",
     "output_type": "stream",
     "text": [
      "      22/50      2.47G     0.7652     0.8333     0.9189        112        640: 100%|██████████| 884/884 [01:37<00:00,  9.06it/s]\n",
      "                 Class     Images  Instances      Box(P          R      mAP50  mAP50-95): 100%|██████████| 85/85 [00:07<00:00, 11.04it/s]\n"
     ]
    },
    {
     "name": "stdout",
     "output_type": "stream",
     "text": [
      "                   all       2714      26158      0.739      0.613      0.677      0.549\n",
      "\n",
      "      Epoch    GPU_mem   box_loss   cls_loss   dfl_loss  Instances       Size\n"
     ]
    },
    {
     "name": "stderr",
     "output_type": "stream",
     "text": [
      "      23/50      2.48G      0.755     0.8023     0.9183        119        640: 100%|██████████| 884/884 [01:38<00:00,  8.96it/s]\n",
      "                 Class     Images  Instances      Box(P          R      mAP50  mAP50-95): 100%|██████████| 85/85 [00:07<00:00, 11.11it/s]\n"
     ]
    },
    {
     "name": "stdout",
     "output_type": "stream",
     "text": [
      "                   all       2714      26158      0.756      0.615      0.678      0.551\n",
      "\n",
      "      Epoch    GPU_mem   box_loss   cls_loss   dfl_loss  Instances       Size\n"
     ]
    },
    {
     "name": "stderr",
     "output_type": "stream",
     "text": [
      "      24/50      2.49G     0.7499     0.7784     0.9171         99        640: 100%|██████████| 884/884 [01:37<00:00,  9.04it/s]\n",
      "                 Class     Images  Instances      Box(P          R      mAP50  mAP50-95): 100%|██████████| 85/85 [00:07<00:00, 10.63it/s]\n"
     ]
    },
    {
     "name": "stdout",
     "output_type": "stream",
     "text": [
      "                   all       2714      26158      0.766      0.618      0.687      0.559\n",
      "\n",
      "      Epoch    GPU_mem   box_loss   cls_loss   dfl_loss  Instances       Size\n"
     ]
    },
    {
     "name": "stderr",
     "output_type": "stream",
     "text": [
      "      25/50       2.5G     0.7462     0.7709     0.9144        116        640: 100%|██████████| 884/884 [01:39<00:00,  8.84it/s]\n",
      "                 Class     Images  Instances      Box(P          R      mAP50  mAP50-95): 100%|██████████| 85/85 [00:07<00:00, 10.66it/s]\n"
     ]
    },
    {
     "name": "stdout",
     "output_type": "stream",
     "text": [
      "                   all       2714      26158      0.758      0.628      0.692      0.562\n",
      "\n",
      "      Epoch    GPU_mem   box_loss   cls_loss   dfl_loss  Instances       Size\n"
     ]
    },
    {
     "name": "stderr",
     "output_type": "stream",
     "text": [
      "      26/50      2.51G     0.7455     0.7605     0.9142         71        640: 100%|██████████| 884/884 [01:39<00:00,  8.90it/s]\n",
      "                 Class     Images  Instances      Box(P          R      mAP50  mAP50-95): 100%|██████████| 85/85 [00:07<00:00, 10.76it/s]\n"
     ]
    },
    {
     "name": "stdout",
     "output_type": "stream",
     "text": [
      "                   all       2714      26158      0.765      0.625       0.69      0.563\n",
      "\n",
      "      Epoch    GPU_mem   box_loss   cls_loss   dfl_loss  Instances       Size\n"
     ]
    },
    {
     "name": "stderr",
     "output_type": "stream",
     "text": [
      "      27/50      2.53G     0.7375       0.75     0.9108         81        640: 100%|██████████| 884/884 [01:39<00:00,  8.92it/s]\n",
      "                 Class     Images  Instances      Box(P          R      mAP50  mAP50-95): 100%|██████████| 85/85 [00:07<00:00, 10.66it/s]\n"
     ]
    },
    {
     "name": "stdout",
     "output_type": "stream",
     "text": [
      "                   all       2714      26158      0.776      0.626      0.692      0.565\n",
      "\n",
      "      Epoch    GPU_mem   box_loss   cls_loss   dfl_loss  Instances       Size\n"
     ]
    },
    {
     "name": "stderr",
     "output_type": "stream",
     "text": [
      "      28/50      2.54G     0.7291     0.7303     0.9095         82        640: 100%|██████████| 884/884 [01:38<00:00,  8.94it/s]\n",
      "                 Class     Images  Instances      Box(P          R      mAP50  mAP50-95): 100%|██████████| 85/85 [00:07<00:00, 10.76it/s]\n"
     ]
    },
    {
     "name": "stdout",
     "output_type": "stream",
     "text": [
      "                   all       2714      26158       0.76      0.643        0.7       0.57\n",
      "\n",
      "      Epoch    GPU_mem   box_loss   cls_loss   dfl_loss  Instances       Size\n"
     ]
    },
    {
     "name": "stderr",
     "output_type": "stream",
     "text": [
      "      29/50      2.55G     0.7258     0.7274     0.9081        105        640: 100%|██████████| 884/884 [01:38<00:00,  8.98it/s]\n",
      "                 Class     Images  Instances      Box(P          R      mAP50  mAP50-95): 100%|██████████| 85/85 [00:07<00:00, 10.73it/s]\n"
     ]
    },
    {
     "name": "stdout",
     "output_type": "stream",
     "text": [
      "                   all       2714      26158      0.781       0.64      0.705      0.574\n",
      "\n",
      "      Epoch    GPU_mem   box_loss   cls_loss   dfl_loss  Instances       Size\n"
     ]
    },
    {
     "name": "stderr",
     "output_type": "stream",
     "text": [
      "      30/50      2.56G     0.7256     0.7194     0.9077         76        640: 100%|██████████| 884/884 [01:40<00:00,  8.76it/s]\n",
      "                 Class     Images  Instances      Box(P          R      mAP50  mAP50-95): 100%|██████████| 85/85 [00:08<00:00,  9.57it/s]\n"
     ]
    },
    {
     "name": "stdout",
     "output_type": "stream",
     "text": [
      "                   all       2714      26158      0.761      0.644      0.697       0.57\n",
      "\n",
      "      Epoch    GPU_mem   box_loss   cls_loss   dfl_loss  Instances       Size\n"
     ]
    },
    {
     "name": "stderr",
     "output_type": "stream",
     "text": [
      "      31/50      2.57G     0.7165     0.7085     0.9043        100        640: 100%|██████████| 884/884 [01:43<00:00,  8.51it/s]\n",
      "                 Class     Images  Instances      Box(P          R      mAP50  mAP50-95): 100%|██████████| 85/85 [00:08<00:00, 10.26it/s]"
     ]
    },
    {
     "name": "stdout",
     "output_type": "stream",
     "text": [
      "                   all       2714      26158      0.753      0.651        0.7      0.571\n"
     ]
    },
    {
     "name": "stderr",
     "output_type": "stream",
     "text": [
      "\n"
     ]
    },
    {
     "name": "stdout",
     "output_type": "stream",
     "text": [
      "\n",
      "      Epoch    GPU_mem   box_loss   cls_loss   dfl_loss  Instances       Size\n"
     ]
    },
    {
     "name": "stderr",
     "output_type": "stream",
     "text": [
      "      32/50      2.58G     0.7164     0.7051     0.9059         86        640: 100%|██████████| 884/884 [01:40<00:00,  8.81it/s]\n",
      "                 Class     Images  Instances      Box(P          R      mAP50  mAP50-95): 100%|██████████| 85/85 [00:07<00:00, 10.75it/s]\n"
     ]
    },
    {
     "name": "stdout",
     "output_type": "stream",
     "text": [
      "                   all       2714      26158      0.763      0.655      0.706      0.578\n",
      "\n",
      "      Epoch    GPU_mem   box_loss   cls_loss   dfl_loss  Instances       Size\n"
     ]
    },
    {
     "name": "stderr",
     "output_type": "stream",
     "text": [
      "      33/50      2.59G     0.7117     0.6934     0.9027        144        640: 100%|██████████| 884/884 [01:39<00:00,  8.90it/s]\n",
      "                 Class     Images  Instances      Box(P          R      mAP50  mAP50-95): 100%|██████████| 85/85 [00:07<00:00, 10.80it/s]\n"
     ]
    },
    {
     "name": "stdout",
     "output_type": "stream",
     "text": [
      "                   all       2714      26158      0.766      0.651      0.703      0.576\n",
      "\n",
      "      Epoch    GPU_mem   box_loss   cls_loss   dfl_loss  Instances       Size\n"
     ]
    },
    {
     "name": "stderr",
     "output_type": "stream",
     "text": [
      "      34/50      2.61G     0.7078     0.6917     0.9025        126        640: 100%|██████████| 884/884 [01:39<00:00,  8.92it/s]\n",
      "                 Class     Images  Instances      Box(P          R      mAP50  mAP50-95): 100%|██████████| 85/85 [00:07<00:00, 10.80it/s]\n"
     ]
    },
    {
     "name": "stdout",
     "output_type": "stream",
     "text": [
      "                   all       2714      26158      0.763      0.655      0.704      0.576\n",
      "\n",
      "      Epoch    GPU_mem   box_loss   cls_loss   dfl_loss  Instances       Size\n"
     ]
    },
    {
     "name": "stderr",
     "output_type": "stream",
     "text": [
      "      35/50      2.62G     0.7038     0.6815     0.9024        104        640: 100%|██████████| 884/884 [01:39<00:00,  8.91it/s]\n",
      "                 Class     Images  Instances      Box(P          R      mAP50  mAP50-95): 100%|██████████| 85/85 [00:07<00:00, 10.77it/s]\n"
     ]
    },
    {
     "name": "stdout",
     "output_type": "stream",
     "text": [
      "                   all       2714      26158      0.765      0.656      0.707      0.579\n",
      "\n",
      "      Epoch    GPU_mem   box_loss   cls_loss   dfl_loss  Instances       Size\n"
     ]
    },
    {
     "name": "stderr",
     "output_type": "stream",
     "text": [
      "      36/50      2.63G     0.7004     0.6741        0.9        123        640: 100%|██████████| 884/884 [01:38<00:00,  8.98it/s]\n",
      "                 Class     Images  Instances      Box(P          R      mAP50  mAP50-95): 100%|██████████| 85/85 [00:07<00:00, 10.77it/s]\n"
     ]
    },
    {
     "name": "stdout",
     "output_type": "stream",
     "text": [
      "                   all       2714      26158      0.769      0.656      0.707       0.58\n",
      "\n",
      "      Epoch    GPU_mem   box_loss   cls_loss   dfl_loss  Instances       Size\n"
     ]
    },
    {
     "name": "stderr",
     "output_type": "stream",
     "text": [
      "      37/50      2.64G      0.696      0.668     0.8988         77        640: 100%|██████████| 884/884 [01:38<00:00,  8.97it/s]\n",
      "                 Class     Images  Instances      Box(P          R      mAP50  mAP50-95): 100%|██████████| 85/85 [00:07<00:00, 10.79it/s]\n"
     ]
    },
    {
     "name": "stdout",
     "output_type": "stream",
     "text": [
      "                   all       2714      26158      0.761      0.662      0.708       0.58\n",
      "\n",
      "      Epoch    GPU_mem   box_loss   cls_loss   dfl_loss  Instances       Size\n"
     ]
    },
    {
     "name": "stderr",
     "output_type": "stream",
     "text": [
      "      38/50      2.65G     0.6878     0.6551     0.8955        104        640: 100%|██████████| 884/884 [01:38<00:00,  9.00it/s]\n",
      "                 Class     Images  Instances      Box(P          R      mAP50  mAP50-95): 100%|██████████| 85/85 [00:07<00:00, 10.85it/s]\n"
     ]
    },
    {
     "name": "stdout",
     "output_type": "stream",
     "text": [
      "                   all       2714      26158      0.793      0.667      0.711      0.582\n",
      "\n",
      "      Epoch    GPU_mem   box_loss   cls_loss   dfl_loss  Instances       Size\n"
     ]
    },
    {
     "name": "stderr",
     "output_type": "stream",
     "text": [
      "      39/50      2.66G     0.6866      0.654     0.8966        131        640: 100%|██████████| 884/884 [01:40<00:00,  8.81it/s]\n",
      "                 Class     Images  Instances      Box(P          R      mAP50  mAP50-95): 100%|██████████| 85/85 [00:07<00:00, 10.79it/s]\n"
     ]
    },
    {
     "name": "stdout",
     "output_type": "stream",
     "text": [
      "                   all       2714      26158      0.806      0.662      0.712      0.584\n",
      "\n",
      "      Epoch    GPU_mem   box_loss   cls_loss   dfl_loss  Instances       Size\n"
     ]
    },
    {
     "name": "stderr",
     "output_type": "stream",
     "text": [
      "      40/50      2.67G     0.6814      0.646     0.8955        103        640: 100%|██████████| 884/884 [01:38<00:00,  8.97it/s]\n",
      "                 Class     Images  Instances      Box(P          R      mAP50  mAP50-95): 100%|██████████| 85/85 [00:07<00:00, 10.81it/s]\n"
     ]
    },
    {
     "name": "stdout",
     "output_type": "stream",
     "text": [
      "                   all       2714      26158      0.808      0.662      0.711      0.583\n",
      "Closing dataloader mosaic\n",
      "\n",
      "      Epoch    GPU_mem   box_loss   cls_loss   dfl_loss  Instances       Size\n"
     ]
    },
    {
     "name": "stderr",
     "output_type": "stream",
     "text": [
      "      41/50      2.68G     0.6672     0.6076     0.8788         44        640: 100%|██████████| 884/884 [01:36<00:00,  9.20it/s]\n",
      "                 Class     Images  Instances      Box(P          R      mAP50  mAP50-95): 100%|██████████| 85/85 [00:07<00:00, 10.70it/s]\n"
     ]
    },
    {
     "name": "stdout",
     "output_type": "stream",
     "text": [
      "                   all       2714      26158        0.8      0.663      0.709      0.582\n",
      "\n",
      "      Epoch    GPU_mem   box_loss   cls_loss   dfl_loss  Instances       Size\n"
     ]
    },
    {
     "name": "stderr",
     "output_type": "stream",
     "text": [
      "      42/50       2.7G     0.6557     0.5833     0.8745         53        640: 100%|██████████| 884/884 [01:36<00:00,  9.19it/s]\n",
      "                 Class     Images  Instances      Box(P          R      mAP50  mAP50-95): 100%|██████████| 85/85 [00:08<00:00,  9.73it/s]\n"
     ]
    },
    {
     "name": "stdout",
     "output_type": "stream",
     "text": [
      "                   all       2714      26158      0.797      0.669      0.709      0.583\n",
      "\n",
      "      Epoch    GPU_mem   box_loss   cls_loss   dfl_loss  Instances       Size\n"
     ]
    },
    {
     "name": "stderr",
     "output_type": "stream",
     "text": [
      "      43/50      2.71G     0.6485     0.5717     0.8735         31        640: 100%|██████████| 884/884 [01:35<00:00,  9.22it/s]\n",
      "                 Class     Images  Instances      Box(P          R      mAP50  mAP50-95): 100%|██████████| 85/85 [00:07<00:00, 10.79it/s]\n"
     ]
    },
    {
     "name": "stdout",
     "output_type": "stream",
     "text": [
      "                   all       2714      26158      0.765      0.669      0.712      0.586\n",
      "\n",
      "      Epoch    GPU_mem   box_loss   cls_loss   dfl_loss  Instances       Size\n"
     ]
    },
    {
     "name": "stderr",
     "output_type": "stream",
     "text": [
      "      44/50      2.72G     0.6438     0.5629     0.8724         45        640: 100%|██████████| 884/884 [01:34<00:00,  9.31it/s]\n",
      "                 Class     Images  Instances      Box(P          R      mAP50  mAP50-95): 100%|██████████| 85/85 [00:07<00:00, 10.72it/s]\n"
     ]
    },
    {
     "name": "stdout",
     "output_type": "stream",
     "text": [
      "                   all       2714      26158      0.804      0.669      0.713      0.587\n",
      "\n",
      "      Epoch    GPU_mem   box_loss   cls_loss   dfl_loss  Instances       Size\n"
     ]
    },
    {
     "name": "stderr",
     "output_type": "stream",
     "text": [
      "      45/50      2.73G     0.6367     0.5534      0.871         55        640: 100%|██████████| 884/884 [01:35<00:00,  9.24it/s]\n",
      "                 Class     Images  Instances      Box(P          R      mAP50  mAP50-95): 100%|██████████| 85/85 [00:07<00:00, 10.84it/s]\n"
     ]
    },
    {
     "name": "stdout",
     "output_type": "stream",
     "text": [
      "                   all       2714      26158       0.81       0.67      0.715      0.588\n",
      "\n",
      "      Epoch    GPU_mem   box_loss   cls_loss   dfl_loss  Instances       Size\n"
     ]
    },
    {
     "name": "stderr",
     "output_type": "stream",
     "text": [
      "      46/50      2.74G     0.6313     0.5447     0.8682         43        640: 100%|██████████| 884/884 [01:37<00:00,  9.10it/s]\n",
      "                 Class     Images  Instances      Box(P          R      mAP50  mAP50-95): 100%|██████████| 85/85 [00:07<00:00, 11.23it/s]\n"
     ]
    },
    {
     "name": "stdout",
     "output_type": "stream",
     "text": [
      "                   all       2714      26158      0.806      0.671      0.717       0.59\n",
      "\n",
      "      Epoch    GPU_mem   box_loss   cls_loss   dfl_loss  Instances       Size\n"
     ]
    },
    {
     "name": "stderr",
     "output_type": "stream",
     "text": [
      "      47/50      2.75G     0.6267     0.5385     0.8679         50        640: 100%|██████████| 884/884 [01:32<00:00,  9.53it/s]\n",
      "                 Class     Images  Instances      Box(P          R      mAP50  mAP50-95): 100%|██████████| 85/85 [00:08<00:00, 10.54it/s]\n"
     ]
    },
    {
     "name": "stdout",
     "output_type": "stream",
     "text": [
      "                   all       2714      26158      0.803      0.672      0.716       0.59\n",
      "\n",
      "      Epoch    GPU_mem   box_loss   cls_loss   dfl_loss  Instances       Size\n"
     ]
    },
    {
     "name": "stderr",
     "output_type": "stream",
     "text": [
      "      48/50      2.76G     0.6216     0.5313     0.8667         48        640: 100%|██████████| 884/884 [01:34<00:00,  9.37it/s]\n",
      "                 Class     Images  Instances      Box(P          R      mAP50  mAP50-95): 100%|██████████| 85/85 [00:07<00:00, 11.15it/s]\n"
     ]
    },
    {
     "name": "stdout",
     "output_type": "stream",
     "text": [
      "                   all       2714      26158      0.803      0.673      0.717      0.591\n",
      "\n",
      "      Epoch    GPU_mem   box_loss   cls_loss   dfl_loss  Instances       Size\n"
     ]
    },
    {
     "name": "stderr",
     "output_type": "stream",
     "text": [
      "      49/50      2.78G     0.6146     0.5227     0.8645         49        640: 100%|██████████| 884/884 [01:36<00:00,  9.18it/s]\n",
      "                 Class     Images  Instances      Box(P          R      mAP50  mAP50-95): 100%|██████████| 85/85 [00:07<00:00, 11.08it/s]\n"
     ]
    },
    {
     "name": "stdout",
     "output_type": "stream",
     "text": [
      "                   all       2714      26158      0.804      0.673      0.718      0.592\n",
      "\n",
      "      Epoch    GPU_mem   box_loss   cls_loss   dfl_loss  Instances       Size\n"
     ]
    },
    {
     "name": "stderr",
     "output_type": "stream",
     "text": [
      "      50/50      2.79G     0.6066     0.5154     0.8632         52        640: 100%|██████████| 884/884 [01:39<00:00,  8.92it/s]\n",
      "                 Class     Images  Instances      Box(P          R      mAP50  mAP50-95): 100%|██████████| 85/85 [00:10<00:00,  8.45it/s]"
     ]
    },
    {
     "name": "stdout",
     "output_type": "stream",
     "text": [
      "                   all       2714      26158      0.808      0.673      0.718      0.592\n"
     ]
    },
    {
     "name": "stderr",
     "output_type": "stream",
     "text": [
      "\n"
     ]
    },
    {
     "name": "stdout",
     "output_type": "stream",
     "text": [
      "\n",
      "50 epochs completed in 1.610 hours.\n",
      "Optimizer stripped from /home/dani/Desktop/futbol/runs/detect/train6/weights/last.pt, 6.2MB\n",
      "Optimizer stripped from /home/dani/Desktop/futbol/runs/detect/train6/weights/best.pt, 6.2MB\n",
      "\n",
      "Validating /home/dani/Desktop/futbol/runs/detect/train6/weights/best.pt...\n",
      "Ultralytics 8.3.141 🚀 Python-3.12.3 torch-2.7.0+cu126 CUDA:0 (NVIDIA GeForce RTX 4060, 7911MiB)\n",
      "Model summary (fused): 72 layers, 3,011,498 parameters, 0 gradients, 8.1 GFLOPs\n"
     ]
    },
    {
     "name": "stderr",
     "output_type": "stream",
     "text": [
      "                 Class     Images  Instances      Box(P          R      mAP50  mAP50-95): 100%|██████████| 85/85 [00:13<00:00,  6.48it/s]\n"
     ]
    },
    {
     "name": "stdout",
     "output_type": "stream",
     "text": [
      "                   all       2714      26158      0.808      0.673      0.718      0.592\n",
      "   Goal right crossbar       1102       1102      0.829       0.79      0.818      0.681\n",
      "  Goal right post left       1081       1081      0.621     0.0681      0.142     0.0531\n",
      " Goal right post right        982        982      0.588      0.113      0.213     0.0787\n",
      "   Goal left post left       1009       1009      0.656      0.135      0.239     0.0958\n",
      "  Goal left post right       1110       1110      0.613      0.084      0.169     0.0648\n",
      "    Goal left crossbar       1156       1156      0.851      0.791      0.839      0.691\n",
      "Small rect. right main       1220       1220      0.818      0.835      0.861      0.798\n",
      " Small rect. right top       1102       1102       0.83      0.753       0.81      0.551\n",
      "       Side line right       1253       1253      0.836      0.871      0.897      0.851\n",
      "         Side line top       1679       1679       0.88      0.765      0.832      0.619\n",
      "      Side line bottom        332        332      0.827      0.863      0.914      0.822\n",
      "   Big rect. right top       1022       1022      0.891      0.841      0.886      0.716\n",
      "  Big rect. right main       1164       1164      0.826       0.79      0.834      0.771\n",
      "          Circle right       1079       1079      0.766      0.871      0.899      0.803\n",
      "        Side line left       1282       1282      0.844      0.872      0.907      0.853\n",
      "    Big rect. left top       1028       1028      0.884      0.832      0.867       0.69\n",
      " Big rect. left bottom        710        710      0.825      0.844      0.876      0.767\n",
      "   Big rect. left main       1225       1225       0.84      0.812      0.847      0.771\n",
      "Big rect. right bottom        717        717      0.865      0.861      0.875      0.758\n",
      "Small rect. right bottom        915        915      0.804      0.743      0.803      0.585\n",
      "  Small rect. left top       1104       1104      0.828      0.746      0.809      0.545\n",
      "Small rect. left bottom        959        959      0.799      0.735      0.802      0.596\n",
      " Small rect. left main       1285       1285      0.837      0.843      0.872      0.807\n",
      "           Circle left       1117       1117      0.772      0.858      0.874       0.77\n",
      "        Circle central        319        319      0.915       0.95       0.95      0.867\n",
      "           Middle line        205        205      0.759      0.512      0.556      0.377\n",
      "          Line unknown          1          1          1          0          0          0\n",
      "Speed: 0.2ms preprocess, 0.9ms inference, 0.0ms loss, 0.6ms postprocess per image\n",
      "Results saved to \u001b[1m/home/dani/Desktop/futbol/runs/detect/train6\u001b[0m\n"
     ]
    },
    {
     "data": {
      "text/plain": [
       "ultralytics.utils.metrics.DetMetrics object with attributes:\n",
       "\n",
       "ap_class_index: array([ 0,  1,  2,  4,  6,  7,  8,  9, 10, 11, 12, 13, 14, 15, 16, 17, 18, 19, 20, 21, 22, 23, 24, 25, 26, 27, 28])\n",
       "box: ultralytics.utils.metrics.Metric object\n",
       "confusion_matrix: <ultralytics.utils.metrics.ConfusionMatrix object at 0x71d828b7e420>\n",
       "curves: ['Precision-Recall(B)', 'F1-Confidence(B)', 'Precision-Confidence(B)', 'Recall-Confidence(B)']\n",
       "curves_results: [[array([          0,    0.001001,    0.002002,    0.003003,    0.004004,    0.005005,    0.006006,    0.007007,    0.008008,    0.009009,     0.01001,    0.011011,    0.012012,    0.013013,    0.014014,    0.015015,    0.016016,    0.017017,    0.018018,    0.019019,     0.02002,    0.021021,    0.022022,    0.023023,\n",
       "          0.024024,    0.025025,    0.026026,    0.027027,    0.028028,    0.029029,     0.03003,    0.031031,    0.032032,    0.033033,    0.034034,    0.035035,    0.036036,    0.037037,    0.038038,    0.039039,     0.04004,    0.041041,    0.042042,    0.043043,    0.044044,    0.045045,    0.046046,    0.047047,\n",
       "          0.048048,    0.049049,     0.05005,    0.051051,    0.052052,    0.053053,    0.054054,    0.055055,    0.056056,    0.057057,    0.058058,    0.059059,     0.06006,    0.061061,    0.062062,    0.063063,    0.064064,    0.065065,    0.066066,    0.067067,    0.068068,    0.069069,     0.07007,    0.071071,\n",
       "          0.072072,    0.073073,    0.074074,    0.075075,    0.076076,    0.077077,    0.078078,    0.079079,     0.08008,    0.081081,    0.082082,    0.083083,    0.084084,    0.085085,    0.086086,    0.087087,    0.088088,    0.089089,     0.09009,    0.091091,    0.092092,    0.093093,    0.094094,    0.095095,\n",
       "          0.096096,    0.097097,    0.098098,    0.099099,      0.1001,      0.1011,      0.1021,      0.1031,      0.1041,     0.10511,     0.10611,     0.10711,     0.10811,     0.10911,     0.11011,     0.11111,     0.11211,     0.11311,     0.11411,     0.11512,     0.11612,     0.11712,     0.11812,     0.11912,\n",
       "           0.12012,     0.12112,     0.12212,     0.12312,     0.12412,     0.12513,     0.12613,     0.12713,     0.12813,     0.12913,     0.13013,     0.13113,     0.13213,     0.13313,     0.13413,     0.13514,     0.13614,     0.13714,     0.13814,     0.13914,     0.14014,     0.14114,     0.14214,     0.14314,\n",
       "           0.14414,     0.14515,     0.14615,     0.14715,     0.14815,     0.14915,     0.15015,     0.15115,     0.15215,     0.15315,     0.15415,     0.15516,     0.15616,     0.15716,     0.15816,     0.15916,     0.16016,     0.16116,     0.16216,     0.16316,     0.16416,     0.16517,     0.16617,     0.16717,\n",
       "           0.16817,     0.16917,     0.17017,     0.17117,     0.17217,     0.17317,     0.17417,     0.17518,     0.17618,     0.17718,     0.17818,     0.17918,     0.18018,     0.18118,     0.18218,     0.18318,     0.18418,     0.18519,     0.18619,     0.18719,     0.18819,     0.18919,     0.19019,     0.19119,\n",
       "           0.19219,     0.19319,     0.19419,      0.1952,      0.1962,      0.1972,      0.1982,      0.1992,      0.2002,      0.2012,      0.2022,      0.2032,      0.2042,     0.20521,     0.20621,     0.20721,     0.20821,     0.20921,     0.21021,     0.21121,     0.21221,     0.21321,     0.21421,     0.21522,\n",
       "           0.21622,     0.21722,     0.21822,     0.21922,     0.22022,     0.22122,     0.22222,     0.22322,     0.22422,     0.22523,     0.22623,     0.22723,     0.22823,     0.22923,     0.23023,     0.23123,     0.23223,     0.23323,     0.23423,     0.23524,     0.23624,     0.23724,     0.23824,     0.23924,\n",
       "           0.24024,     0.24124,     0.24224,     0.24324,     0.24424,     0.24525,     0.24625,     0.24725,     0.24825,     0.24925,     0.25025,     0.25125,     0.25225,     0.25325,     0.25425,     0.25526,     0.25626,     0.25726,     0.25826,     0.25926,     0.26026,     0.26126,     0.26226,     0.26326,\n",
       "           0.26426,     0.26527,     0.26627,     0.26727,     0.26827,     0.26927,     0.27027,     0.27127,     0.27227,     0.27327,     0.27427,     0.27528,     0.27628,     0.27728,     0.27828,     0.27928,     0.28028,     0.28128,     0.28228,     0.28328,     0.28428,     0.28529,     0.28629,     0.28729,\n",
       "           0.28829,     0.28929,     0.29029,     0.29129,     0.29229,     0.29329,     0.29429,      0.2953,      0.2963,      0.2973,      0.2983,      0.2993,      0.3003,      0.3013,      0.3023,      0.3033,      0.3043,     0.30531,     0.30631,     0.30731,     0.30831,     0.30931,     0.31031,     0.31131,\n",
       "           0.31231,     0.31331,     0.31431,     0.31532,     0.31632,     0.31732,     0.31832,     0.31932,     0.32032,     0.32132,     0.32232,     0.32332,     0.32432,     0.32533,     0.32633,     0.32733,     0.32833,     0.32933,     0.33033,     0.33133,     0.33233,     0.33333,     0.33433,     0.33534,\n",
       "           0.33634,     0.33734,     0.33834,     0.33934,     0.34034,     0.34134,     0.34234,     0.34334,     0.34434,     0.34535,     0.34635,     0.34735,     0.34835,     0.34935,     0.35035,     0.35135,     0.35235,     0.35335,     0.35435,     0.35536,     0.35636,     0.35736,     0.35836,     0.35936,\n",
       "           0.36036,     0.36136,     0.36236,     0.36336,     0.36436,     0.36537,     0.36637,     0.36737,     0.36837,     0.36937,     0.37037,     0.37137,     0.37237,     0.37337,     0.37437,     0.37538,     0.37638,     0.37738,     0.37838,     0.37938,     0.38038,     0.38138,     0.38238,     0.38338,\n",
       "           0.38438,     0.38539,     0.38639,     0.38739,     0.38839,     0.38939,     0.39039,     0.39139,     0.39239,     0.39339,     0.39439,      0.3954,      0.3964,      0.3974,      0.3984,      0.3994,      0.4004,      0.4014,      0.4024,      0.4034,      0.4044,     0.40541,     0.40641,     0.40741,\n",
       "           0.40841,     0.40941,     0.41041,     0.41141,     0.41241,     0.41341,     0.41441,     0.41542,     0.41642,     0.41742,     0.41842,     0.41942,     0.42042,     0.42142,     0.42242,     0.42342,     0.42442,     0.42543,     0.42643,     0.42743,     0.42843,     0.42943,     0.43043,     0.43143,\n",
       "           0.43243,     0.43343,     0.43443,     0.43544,     0.43644,     0.43744,     0.43844,     0.43944,     0.44044,     0.44144,     0.44244,     0.44344,     0.44444,     0.44545,     0.44645,     0.44745,     0.44845,     0.44945,     0.45045,     0.45145,     0.45245,     0.45345,     0.45445,     0.45546,\n",
       "           0.45646,     0.45746,     0.45846,     0.45946,     0.46046,     0.46146,     0.46246,     0.46346,     0.46446,     0.46547,     0.46647,     0.46747,     0.46847,     0.46947,     0.47047,     0.47147,     0.47247,     0.47347,     0.47447,     0.47548,     0.47648,     0.47748,     0.47848,     0.47948,\n",
       "           0.48048,     0.48148,     0.48248,     0.48348,     0.48448,     0.48549,     0.48649,     0.48749,     0.48849,     0.48949,     0.49049,     0.49149,     0.49249,     0.49349,     0.49449,      0.4955,      0.4965,      0.4975,      0.4985,      0.4995,      0.5005,      0.5015,      0.5025,      0.5035,\n",
       "            0.5045,     0.50551,     0.50651,     0.50751,     0.50851,     0.50951,     0.51051,     0.51151,     0.51251,     0.51351,     0.51451,     0.51552,     0.51652,     0.51752,     0.51852,     0.51952,     0.52052,     0.52152,     0.52252,     0.52352,     0.52452,     0.52553,     0.52653,     0.52753,\n",
       "           0.52853,     0.52953,     0.53053,     0.53153,     0.53253,     0.53353,     0.53453,     0.53554,     0.53654,     0.53754,     0.53854,     0.53954,     0.54054,     0.54154,     0.54254,     0.54354,     0.54454,     0.54555,     0.54655,     0.54755,     0.54855,     0.54955,     0.55055,     0.55155,\n",
       "           0.55255,     0.55355,     0.55455,     0.55556,     0.55656,     0.55756,     0.55856,     0.55956,     0.56056,     0.56156,     0.56256,     0.56356,     0.56456,     0.56557,     0.56657,     0.56757,     0.56857,     0.56957,     0.57057,     0.57157,     0.57257,     0.57357,     0.57457,     0.57558,\n",
       "           0.57658,     0.57758,     0.57858,     0.57958,     0.58058,     0.58158,     0.58258,     0.58358,     0.58458,     0.58559,     0.58659,     0.58759,     0.58859,     0.58959,     0.59059,     0.59159,     0.59259,     0.59359,     0.59459,      0.5956,      0.5966,      0.5976,      0.5986,      0.5996,\n",
       "            0.6006,      0.6016,      0.6026,      0.6036,      0.6046,     0.60561,     0.60661,     0.60761,     0.60861,     0.60961,     0.61061,     0.61161,     0.61261,     0.61361,     0.61461,     0.61562,     0.61662,     0.61762,     0.61862,     0.61962,     0.62062,     0.62162,     0.62262,     0.62362,\n",
       "           0.62462,     0.62563,     0.62663,     0.62763,     0.62863,     0.62963,     0.63063,     0.63163,     0.63263,     0.63363,     0.63463,     0.63564,     0.63664,     0.63764,     0.63864,     0.63964,     0.64064,     0.64164,     0.64264,     0.64364,     0.64464,     0.64565,     0.64665,     0.64765,\n",
       "           0.64865,     0.64965,     0.65065,     0.65165,     0.65265,     0.65365,     0.65465,     0.65566,     0.65666,     0.65766,     0.65866,     0.65966,     0.66066,     0.66166,     0.66266,     0.66366,     0.66466,     0.66567,     0.66667,     0.66767,     0.66867,     0.66967,     0.67067,     0.67167,\n",
       "           0.67267,     0.67367,     0.67467,     0.67568,     0.67668,     0.67768,     0.67868,     0.67968,     0.68068,     0.68168,     0.68268,     0.68368,     0.68468,     0.68569,     0.68669,     0.68769,     0.68869,     0.68969,     0.69069,     0.69169,     0.69269,     0.69369,     0.69469,      0.6957,\n",
       "            0.6967,      0.6977,      0.6987,      0.6997,      0.7007,      0.7017,      0.7027,      0.7037,      0.7047,     0.70571,     0.70671,     0.70771,     0.70871,     0.70971,     0.71071,     0.71171,     0.71271,     0.71371,     0.71471,     0.71572,     0.71672,     0.71772,     0.71872,     0.71972,\n",
       "           0.72072,     0.72172,     0.72272,     0.72372,     0.72472,     0.72573,     0.72673,     0.72773,     0.72873,     0.72973,     0.73073,     0.73173,     0.73273,     0.73373,     0.73473,     0.73574,     0.73674,     0.73774,     0.73874,     0.73974,     0.74074,     0.74174,     0.74274,     0.74374,\n",
       "           0.74474,     0.74575,     0.74675,     0.74775,     0.74875,     0.74975,     0.75075,     0.75175,     0.75275,     0.75375,     0.75475,     0.75576,     0.75676,     0.75776,     0.75876,     0.75976,     0.76076,     0.76176,     0.76276,     0.76376,     0.76476,     0.76577,     0.76677,     0.76777,\n",
       "           0.76877,     0.76977,     0.77077,     0.77177,     0.77277,     0.77377,     0.77477,     0.77578,     0.77678,     0.77778,     0.77878,     0.77978,     0.78078,     0.78178,     0.78278,     0.78378,     0.78478,     0.78579,     0.78679,     0.78779,     0.78879,     0.78979,     0.79079,     0.79179,\n",
       "           0.79279,     0.79379,     0.79479,      0.7958,      0.7968,      0.7978,      0.7988,      0.7998,      0.8008,      0.8018,      0.8028,      0.8038,      0.8048,     0.80581,     0.80681,     0.80781,     0.80881,     0.80981,     0.81081,     0.81181,     0.81281,     0.81381,     0.81481,     0.81582,\n",
       "           0.81682,     0.81782,     0.81882,     0.81982,     0.82082,     0.82182,     0.82282,     0.82382,     0.82482,     0.82583,     0.82683,     0.82783,     0.82883,     0.82983,     0.83083,     0.83183,     0.83283,     0.83383,     0.83483,     0.83584,     0.83684,     0.83784,     0.83884,     0.83984,\n",
       "           0.84084,     0.84184,     0.84284,     0.84384,     0.84484,     0.84585,     0.84685,     0.84785,     0.84885,     0.84985,     0.85085,     0.85185,     0.85285,     0.85385,     0.85485,     0.85586,     0.85686,     0.85786,     0.85886,     0.85986,     0.86086,     0.86186,     0.86286,     0.86386,\n",
       "           0.86486,     0.86587,     0.86687,     0.86787,     0.86887,     0.86987,     0.87087,     0.87187,     0.87287,     0.87387,     0.87487,     0.87588,     0.87688,     0.87788,     0.87888,     0.87988,     0.88088,     0.88188,     0.88288,     0.88388,     0.88488,     0.88589,     0.88689,     0.88789,\n",
       "           0.88889,     0.88989,     0.89089,     0.89189,     0.89289,     0.89389,     0.89489,      0.8959,      0.8969,      0.8979,      0.8989,      0.8999,      0.9009,      0.9019,      0.9029,      0.9039,      0.9049,     0.90591,     0.90691,     0.90791,     0.90891,     0.90991,     0.91091,     0.91191,\n",
       "           0.91291,     0.91391,     0.91491,     0.91592,     0.91692,     0.91792,     0.91892,     0.91992,     0.92092,     0.92192,     0.92292,     0.92392,     0.92492,     0.92593,     0.92693,     0.92793,     0.92893,     0.92993,     0.93093,     0.93193,     0.93293,     0.93393,     0.93493,     0.93594,\n",
       "           0.93694,     0.93794,     0.93894,     0.93994,     0.94094,     0.94194,     0.94294,     0.94394,     0.94494,     0.94595,     0.94695,     0.94795,     0.94895,     0.94995,     0.95095,     0.95195,     0.95295,     0.95395,     0.95495,     0.95596,     0.95696,     0.95796,     0.95896,     0.95996,\n",
       "           0.96096,     0.96196,     0.96296,     0.96396,     0.96496,     0.96597,     0.96697,     0.96797,     0.96897,     0.96997,     0.97097,     0.97197,     0.97297,     0.97397,     0.97497,     0.97598,     0.97698,     0.97798,     0.97898,     0.97998,     0.98098,     0.98198,     0.98298,     0.98398,\n",
       "           0.98498,     0.98599,     0.98699,     0.98799,     0.98899,     0.98999,     0.99099,     0.99199,     0.99299,     0.99399,     0.99499,       0.996,       0.997,       0.998,       0.999,           1]), array([[          1,           1,           1, ...,   0.0024524,   0.0012262,           0],\n",
       "       [          1,           1,     0.91667, ...,  0.00012596,  6.2979e-05,           0],\n",
       "       [          1,           1,           1, ...,  0.00016987,  8.4935e-05,           0],\n",
       "       ...,\n",
       "       [          1,           1,           1, ...,    0.018893,   0.0094464,           0],\n",
       "       [          1,           1,           1, ...,  0.00020619,   0.0001031,           0],\n",
       "       [          0,           0,           0, ...,           0,           0,           0]], shape=(27, 1000)), 'Recall', 'Precision'], [array([          0,    0.001001,    0.002002,    0.003003,    0.004004,    0.005005,    0.006006,    0.007007,    0.008008,    0.009009,     0.01001,    0.011011,    0.012012,    0.013013,    0.014014,    0.015015,    0.016016,    0.017017,    0.018018,    0.019019,     0.02002,    0.021021,    0.022022,    0.023023,\n",
       "          0.024024,    0.025025,    0.026026,    0.027027,    0.028028,    0.029029,     0.03003,    0.031031,    0.032032,    0.033033,    0.034034,    0.035035,    0.036036,    0.037037,    0.038038,    0.039039,     0.04004,    0.041041,    0.042042,    0.043043,    0.044044,    0.045045,    0.046046,    0.047047,\n",
       "          0.048048,    0.049049,     0.05005,    0.051051,    0.052052,    0.053053,    0.054054,    0.055055,    0.056056,    0.057057,    0.058058,    0.059059,     0.06006,    0.061061,    0.062062,    0.063063,    0.064064,    0.065065,    0.066066,    0.067067,    0.068068,    0.069069,     0.07007,    0.071071,\n",
       "          0.072072,    0.073073,    0.074074,    0.075075,    0.076076,    0.077077,    0.078078,    0.079079,     0.08008,    0.081081,    0.082082,    0.083083,    0.084084,    0.085085,    0.086086,    0.087087,    0.088088,    0.089089,     0.09009,    0.091091,    0.092092,    0.093093,    0.094094,    0.095095,\n",
       "          0.096096,    0.097097,    0.098098,    0.099099,      0.1001,      0.1011,      0.1021,      0.1031,      0.1041,     0.10511,     0.10611,     0.10711,     0.10811,     0.10911,     0.11011,     0.11111,     0.11211,     0.11311,     0.11411,     0.11512,     0.11612,     0.11712,     0.11812,     0.11912,\n",
       "           0.12012,     0.12112,     0.12212,     0.12312,     0.12412,     0.12513,     0.12613,     0.12713,     0.12813,     0.12913,     0.13013,     0.13113,     0.13213,     0.13313,     0.13413,     0.13514,     0.13614,     0.13714,     0.13814,     0.13914,     0.14014,     0.14114,     0.14214,     0.14314,\n",
       "           0.14414,     0.14515,     0.14615,     0.14715,     0.14815,     0.14915,     0.15015,     0.15115,     0.15215,     0.15315,     0.15415,     0.15516,     0.15616,     0.15716,     0.15816,     0.15916,     0.16016,     0.16116,     0.16216,     0.16316,     0.16416,     0.16517,     0.16617,     0.16717,\n",
       "           0.16817,     0.16917,     0.17017,     0.17117,     0.17217,     0.17317,     0.17417,     0.17518,     0.17618,     0.17718,     0.17818,     0.17918,     0.18018,     0.18118,     0.18218,     0.18318,     0.18418,     0.18519,     0.18619,     0.18719,     0.18819,     0.18919,     0.19019,     0.19119,\n",
       "           0.19219,     0.19319,     0.19419,      0.1952,      0.1962,      0.1972,      0.1982,      0.1992,      0.2002,      0.2012,      0.2022,      0.2032,      0.2042,     0.20521,     0.20621,     0.20721,     0.20821,     0.20921,     0.21021,     0.21121,     0.21221,     0.21321,     0.21421,     0.21522,\n",
       "           0.21622,     0.21722,     0.21822,     0.21922,     0.22022,     0.22122,     0.22222,     0.22322,     0.22422,     0.22523,     0.22623,     0.22723,     0.22823,     0.22923,     0.23023,     0.23123,     0.23223,     0.23323,     0.23423,     0.23524,     0.23624,     0.23724,     0.23824,     0.23924,\n",
       "           0.24024,     0.24124,     0.24224,     0.24324,     0.24424,     0.24525,     0.24625,     0.24725,     0.24825,     0.24925,     0.25025,     0.25125,     0.25225,     0.25325,     0.25425,     0.25526,     0.25626,     0.25726,     0.25826,     0.25926,     0.26026,     0.26126,     0.26226,     0.26326,\n",
       "           0.26426,     0.26527,     0.26627,     0.26727,     0.26827,     0.26927,     0.27027,     0.27127,     0.27227,     0.27327,     0.27427,     0.27528,     0.27628,     0.27728,     0.27828,     0.27928,     0.28028,     0.28128,     0.28228,     0.28328,     0.28428,     0.28529,     0.28629,     0.28729,\n",
       "           0.28829,     0.28929,     0.29029,     0.29129,     0.29229,     0.29329,     0.29429,      0.2953,      0.2963,      0.2973,      0.2983,      0.2993,      0.3003,      0.3013,      0.3023,      0.3033,      0.3043,     0.30531,     0.30631,     0.30731,     0.30831,     0.30931,     0.31031,     0.31131,\n",
       "           0.31231,     0.31331,     0.31431,     0.31532,     0.31632,     0.31732,     0.31832,     0.31932,     0.32032,     0.32132,     0.32232,     0.32332,     0.32432,     0.32533,     0.32633,     0.32733,     0.32833,     0.32933,     0.33033,     0.33133,     0.33233,     0.33333,     0.33433,     0.33534,\n",
       "           0.33634,     0.33734,     0.33834,     0.33934,     0.34034,     0.34134,     0.34234,     0.34334,     0.34434,     0.34535,     0.34635,     0.34735,     0.34835,     0.34935,     0.35035,     0.35135,     0.35235,     0.35335,     0.35435,     0.35536,     0.35636,     0.35736,     0.35836,     0.35936,\n",
       "           0.36036,     0.36136,     0.36236,     0.36336,     0.36436,     0.36537,     0.36637,     0.36737,     0.36837,     0.36937,     0.37037,     0.37137,     0.37237,     0.37337,     0.37437,     0.37538,     0.37638,     0.37738,     0.37838,     0.37938,     0.38038,     0.38138,     0.38238,     0.38338,\n",
       "           0.38438,     0.38539,     0.38639,     0.38739,     0.38839,     0.38939,     0.39039,     0.39139,     0.39239,     0.39339,     0.39439,      0.3954,      0.3964,      0.3974,      0.3984,      0.3994,      0.4004,      0.4014,      0.4024,      0.4034,      0.4044,     0.40541,     0.40641,     0.40741,\n",
       "           0.40841,     0.40941,     0.41041,     0.41141,     0.41241,     0.41341,     0.41441,     0.41542,     0.41642,     0.41742,     0.41842,     0.41942,     0.42042,     0.42142,     0.42242,     0.42342,     0.42442,     0.42543,     0.42643,     0.42743,     0.42843,     0.42943,     0.43043,     0.43143,\n",
       "           0.43243,     0.43343,     0.43443,     0.43544,     0.43644,     0.43744,     0.43844,     0.43944,     0.44044,     0.44144,     0.44244,     0.44344,     0.44444,     0.44545,     0.44645,     0.44745,     0.44845,     0.44945,     0.45045,     0.45145,     0.45245,     0.45345,     0.45445,     0.45546,\n",
       "           0.45646,     0.45746,     0.45846,     0.45946,     0.46046,     0.46146,     0.46246,     0.46346,     0.46446,     0.46547,     0.46647,     0.46747,     0.46847,     0.46947,     0.47047,     0.47147,     0.47247,     0.47347,     0.47447,     0.47548,     0.47648,     0.47748,     0.47848,     0.47948,\n",
       "           0.48048,     0.48148,     0.48248,     0.48348,     0.48448,     0.48549,     0.48649,     0.48749,     0.48849,     0.48949,     0.49049,     0.49149,     0.49249,     0.49349,     0.49449,      0.4955,      0.4965,      0.4975,      0.4985,      0.4995,      0.5005,      0.5015,      0.5025,      0.5035,\n",
       "            0.5045,     0.50551,     0.50651,     0.50751,     0.50851,     0.50951,     0.51051,     0.51151,     0.51251,     0.51351,     0.51451,     0.51552,     0.51652,     0.51752,     0.51852,     0.51952,     0.52052,     0.52152,     0.52252,     0.52352,     0.52452,     0.52553,     0.52653,     0.52753,\n",
       "           0.52853,     0.52953,     0.53053,     0.53153,     0.53253,     0.53353,     0.53453,     0.53554,     0.53654,     0.53754,     0.53854,     0.53954,     0.54054,     0.54154,     0.54254,     0.54354,     0.54454,     0.54555,     0.54655,     0.54755,     0.54855,     0.54955,     0.55055,     0.55155,\n",
       "           0.55255,     0.55355,     0.55455,     0.55556,     0.55656,     0.55756,     0.55856,     0.55956,     0.56056,     0.56156,     0.56256,     0.56356,     0.56456,     0.56557,     0.56657,     0.56757,     0.56857,     0.56957,     0.57057,     0.57157,     0.57257,     0.57357,     0.57457,     0.57558,\n",
       "           0.57658,     0.57758,     0.57858,     0.57958,     0.58058,     0.58158,     0.58258,     0.58358,     0.58458,     0.58559,     0.58659,     0.58759,     0.58859,     0.58959,     0.59059,     0.59159,     0.59259,     0.59359,     0.59459,      0.5956,      0.5966,      0.5976,      0.5986,      0.5996,\n",
       "            0.6006,      0.6016,      0.6026,      0.6036,      0.6046,     0.60561,     0.60661,     0.60761,     0.60861,     0.60961,     0.61061,     0.61161,     0.61261,     0.61361,     0.61461,     0.61562,     0.61662,     0.61762,     0.61862,     0.61962,     0.62062,     0.62162,     0.62262,     0.62362,\n",
       "           0.62462,     0.62563,     0.62663,     0.62763,     0.62863,     0.62963,     0.63063,     0.63163,     0.63263,     0.63363,     0.63463,     0.63564,     0.63664,     0.63764,     0.63864,     0.63964,     0.64064,     0.64164,     0.64264,     0.64364,     0.64464,     0.64565,     0.64665,     0.64765,\n",
       "           0.64865,     0.64965,     0.65065,     0.65165,     0.65265,     0.65365,     0.65465,     0.65566,     0.65666,     0.65766,     0.65866,     0.65966,     0.66066,     0.66166,     0.66266,     0.66366,     0.66466,     0.66567,     0.66667,     0.66767,     0.66867,     0.66967,     0.67067,     0.67167,\n",
       "           0.67267,     0.67367,     0.67467,     0.67568,     0.67668,     0.67768,     0.67868,     0.67968,     0.68068,     0.68168,     0.68268,     0.68368,     0.68468,     0.68569,     0.68669,     0.68769,     0.68869,     0.68969,     0.69069,     0.69169,     0.69269,     0.69369,     0.69469,      0.6957,\n",
       "            0.6967,      0.6977,      0.6987,      0.6997,      0.7007,      0.7017,      0.7027,      0.7037,      0.7047,     0.70571,     0.70671,     0.70771,     0.70871,     0.70971,     0.71071,     0.71171,     0.71271,     0.71371,     0.71471,     0.71572,     0.71672,     0.71772,     0.71872,     0.71972,\n",
       "           0.72072,     0.72172,     0.72272,     0.72372,     0.72472,     0.72573,     0.72673,     0.72773,     0.72873,     0.72973,     0.73073,     0.73173,     0.73273,     0.73373,     0.73473,     0.73574,     0.73674,     0.73774,     0.73874,     0.73974,     0.74074,     0.74174,     0.74274,     0.74374,\n",
       "           0.74474,     0.74575,     0.74675,     0.74775,     0.74875,     0.74975,     0.75075,     0.75175,     0.75275,     0.75375,     0.75475,     0.75576,     0.75676,     0.75776,     0.75876,     0.75976,     0.76076,     0.76176,     0.76276,     0.76376,     0.76476,     0.76577,     0.76677,     0.76777,\n",
       "           0.76877,     0.76977,     0.77077,     0.77177,     0.77277,     0.77377,     0.77477,     0.77578,     0.77678,     0.77778,     0.77878,     0.77978,     0.78078,     0.78178,     0.78278,     0.78378,     0.78478,     0.78579,     0.78679,     0.78779,     0.78879,     0.78979,     0.79079,     0.79179,\n",
       "           0.79279,     0.79379,     0.79479,      0.7958,      0.7968,      0.7978,      0.7988,      0.7998,      0.8008,      0.8018,      0.8028,      0.8038,      0.8048,     0.80581,     0.80681,     0.80781,     0.80881,     0.80981,     0.81081,     0.81181,     0.81281,     0.81381,     0.81481,     0.81582,\n",
       "           0.81682,     0.81782,     0.81882,     0.81982,     0.82082,     0.82182,     0.82282,     0.82382,     0.82482,     0.82583,     0.82683,     0.82783,     0.82883,     0.82983,     0.83083,     0.83183,     0.83283,     0.83383,     0.83483,     0.83584,     0.83684,     0.83784,     0.83884,     0.83984,\n",
       "           0.84084,     0.84184,     0.84284,     0.84384,     0.84484,     0.84585,     0.84685,     0.84785,     0.84885,     0.84985,     0.85085,     0.85185,     0.85285,     0.85385,     0.85485,     0.85586,     0.85686,     0.85786,     0.85886,     0.85986,     0.86086,     0.86186,     0.86286,     0.86386,\n",
       "           0.86486,     0.86587,     0.86687,     0.86787,     0.86887,     0.86987,     0.87087,     0.87187,     0.87287,     0.87387,     0.87487,     0.87588,     0.87688,     0.87788,     0.87888,     0.87988,     0.88088,     0.88188,     0.88288,     0.88388,     0.88488,     0.88589,     0.88689,     0.88789,\n",
       "           0.88889,     0.88989,     0.89089,     0.89189,     0.89289,     0.89389,     0.89489,      0.8959,      0.8969,      0.8979,      0.8989,      0.8999,      0.9009,      0.9019,      0.9029,      0.9039,      0.9049,     0.90591,     0.90691,     0.90791,     0.90891,     0.90991,     0.91091,     0.91191,\n",
       "           0.91291,     0.91391,     0.91491,     0.91592,     0.91692,     0.91792,     0.91892,     0.91992,     0.92092,     0.92192,     0.92292,     0.92392,     0.92492,     0.92593,     0.92693,     0.92793,     0.92893,     0.92993,     0.93093,     0.93193,     0.93293,     0.93393,     0.93493,     0.93594,\n",
       "           0.93694,     0.93794,     0.93894,     0.93994,     0.94094,     0.94194,     0.94294,     0.94394,     0.94494,     0.94595,     0.94695,     0.94795,     0.94895,     0.94995,     0.95095,     0.95195,     0.95295,     0.95395,     0.95495,     0.95596,     0.95696,     0.95796,     0.95896,     0.95996,\n",
       "           0.96096,     0.96196,     0.96296,     0.96396,     0.96496,     0.96597,     0.96697,     0.96797,     0.96897,     0.96997,     0.97097,     0.97197,     0.97297,     0.97397,     0.97497,     0.97598,     0.97698,     0.97798,     0.97898,     0.97998,     0.98098,     0.98198,     0.98298,     0.98398,\n",
       "           0.98498,     0.98599,     0.98699,     0.98799,     0.98899,     0.98999,     0.99099,     0.99199,     0.99299,     0.99399,     0.99499,       0.996,       0.997,       0.998,       0.999,           1]), array([[    0.28405,     0.28405,     0.35202, ...,           0,           0,           0],\n",
       "       [   0.073765,    0.073765,    0.095028, ...,           0,           0,           0],\n",
       "       [   0.084429,    0.084429,     0.10743, ...,           0,           0,           0],\n",
       "       ...,\n",
       "       [    0.21134,     0.21134,     0.34757, ...,           0,           0,           0],\n",
       "       [   0.063225,    0.063225,    0.095727, ...,           0,           0,           0],\n",
       "       [          0,           0,           0, ...,           0,           0,           0]], shape=(27, 1000)), 'Confidence', 'F1'], [array([          0,    0.001001,    0.002002,    0.003003,    0.004004,    0.005005,    0.006006,    0.007007,    0.008008,    0.009009,     0.01001,    0.011011,    0.012012,    0.013013,    0.014014,    0.015015,    0.016016,    0.017017,    0.018018,    0.019019,     0.02002,    0.021021,    0.022022,    0.023023,\n",
       "          0.024024,    0.025025,    0.026026,    0.027027,    0.028028,    0.029029,     0.03003,    0.031031,    0.032032,    0.033033,    0.034034,    0.035035,    0.036036,    0.037037,    0.038038,    0.039039,     0.04004,    0.041041,    0.042042,    0.043043,    0.044044,    0.045045,    0.046046,    0.047047,\n",
       "          0.048048,    0.049049,     0.05005,    0.051051,    0.052052,    0.053053,    0.054054,    0.055055,    0.056056,    0.057057,    0.058058,    0.059059,     0.06006,    0.061061,    0.062062,    0.063063,    0.064064,    0.065065,    0.066066,    0.067067,    0.068068,    0.069069,     0.07007,    0.071071,\n",
       "          0.072072,    0.073073,    0.074074,    0.075075,    0.076076,    0.077077,    0.078078,    0.079079,     0.08008,    0.081081,    0.082082,    0.083083,    0.084084,    0.085085,    0.086086,    0.087087,    0.088088,    0.089089,     0.09009,    0.091091,    0.092092,    0.093093,    0.094094,    0.095095,\n",
       "          0.096096,    0.097097,    0.098098,    0.099099,      0.1001,      0.1011,      0.1021,      0.1031,      0.1041,     0.10511,     0.10611,     0.10711,     0.10811,     0.10911,     0.11011,     0.11111,     0.11211,     0.11311,     0.11411,     0.11512,     0.11612,     0.11712,     0.11812,     0.11912,\n",
       "           0.12012,     0.12112,     0.12212,     0.12312,     0.12412,     0.12513,     0.12613,     0.12713,     0.12813,     0.12913,     0.13013,     0.13113,     0.13213,     0.13313,     0.13413,     0.13514,     0.13614,     0.13714,     0.13814,     0.13914,     0.14014,     0.14114,     0.14214,     0.14314,\n",
       "           0.14414,     0.14515,     0.14615,     0.14715,     0.14815,     0.14915,     0.15015,     0.15115,     0.15215,     0.15315,     0.15415,     0.15516,     0.15616,     0.15716,     0.15816,     0.15916,     0.16016,     0.16116,     0.16216,     0.16316,     0.16416,     0.16517,     0.16617,     0.16717,\n",
       "           0.16817,     0.16917,     0.17017,     0.17117,     0.17217,     0.17317,     0.17417,     0.17518,     0.17618,     0.17718,     0.17818,     0.17918,     0.18018,     0.18118,     0.18218,     0.18318,     0.18418,     0.18519,     0.18619,     0.18719,     0.18819,     0.18919,     0.19019,     0.19119,\n",
       "           0.19219,     0.19319,     0.19419,      0.1952,      0.1962,      0.1972,      0.1982,      0.1992,      0.2002,      0.2012,      0.2022,      0.2032,      0.2042,     0.20521,     0.20621,     0.20721,     0.20821,     0.20921,     0.21021,     0.21121,     0.21221,     0.21321,     0.21421,     0.21522,\n",
       "           0.21622,     0.21722,     0.21822,     0.21922,     0.22022,     0.22122,     0.22222,     0.22322,     0.22422,     0.22523,     0.22623,     0.22723,     0.22823,     0.22923,     0.23023,     0.23123,     0.23223,     0.23323,     0.23423,     0.23524,     0.23624,     0.23724,     0.23824,     0.23924,\n",
       "           0.24024,     0.24124,     0.24224,     0.24324,     0.24424,     0.24525,     0.24625,     0.24725,     0.24825,     0.24925,     0.25025,     0.25125,     0.25225,     0.25325,     0.25425,     0.25526,     0.25626,     0.25726,     0.25826,     0.25926,     0.26026,     0.26126,     0.26226,     0.26326,\n",
       "           0.26426,     0.26527,     0.26627,     0.26727,     0.26827,     0.26927,     0.27027,     0.27127,     0.27227,     0.27327,     0.27427,     0.27528,     0.27628,     0.27728,     0.27828,     0.27928,     0.28028,     0.28128,     0.28228,     0.28328,     0.28428,     0.28529,     0.28629,     0.28729,\n",
       "           0.28829,     0.28929,     0.29029,     0.29129,     0.29229,     0.29329,     0.29429,      0.2953,      0.2963,      0.2973,      0.2983,      0.2993,      0.3003,      0.3013,      0.3023,      0.3033,      0.3043,     0.30531,     0.30631,     0.30731,     0.30831,     0.30931,     0.31031,     0.31131,\n",
       "           0.31231,     0.31331,     0.31431,     0.31532,     0.31632,     0.31732,     0.31832,     0.31932,     0.32032,     0.32132,     0.32232,     0.32332,     0.32432,     0.32533,     0.32633,     0.32733,     0.32833,     0.32933,     0.33033,     0.33133,     0.33233,     0.33333,     0.33433,     0.33534,\n",
       "           0.33634,     0.33734,     0.33834,     0.33934,     0.34034,     0.34134,     0.34234,     0.34334,     0.34434,     0.34535,     0.34635,     0.34735,     0.34835,     0.34935,     0.35035,     0.35135,     0.35235,     0.35335,     0.35435,     0.35536,     0.35636,     0.35736,     0.35836,     0.35936,\n",
       "           0.36036,     0.36136,     0.36236,     0.36336,     0.36436,     0.36537,     0.36637,     0.36737,     0.36837,     0.36937,     0.37037,     0.37137,     0.37237,     0.37337,     0.37437,     0.37538,     0.37638,     0.37738,     0.37838,     0.37938,     0.38038,     0.38138,     0.38238,     0.38338,\n",
       "           0.38438,     0.38539,     0.38639,     0.38739,     0.38839,     0.38939,     0.39039,     0.39139,     0.39239,     0.39339,     0.39439,      0.3954,      0.3964,      0.3974,      0.3984,      0.3994,      0.4004,      0.4014,      0.4024,      0.4034,      0.4044,     0.40541,     0.40641,     0.40741,\n",
       "           0.40841,     0.40941,     0.41041,     0.41141,     0.41241,     0.41341,     0.41441,     0.41542,     0.41642,     0.41742,     0.41842,     0.41942,     0.42042,     0.42142,     0.42242,     0.42342,     0.42442,     0.42543,     0.42643,     0.42743,     0.42843,     0.42943,     0.43043,     0.43143,\n",
       "           0.43243,     0.43343,     0.43443,     0.43544,     0.43644,     0.43744,     0.43844,     0.43944,     0.44044,     0.44144,     0.44244,     0.44344,     0.44444,     0.44545,     0.44645,     0.44745,     0.44845,     0.44945,     0.45045,     0.45145,     0.45245,     0.45345,     0.45445,     0.45546,\n",
       "           0.45646,     0.45746,     0.45846,     0.45946,     0.46046,     0.46146,     0.46246,     0.46346,     0.46446,     0.46547,     0.46647,     0.46747,     0.46847,     0.46947,     0.47047,     0.47147,     0.47247,     0.47347,     0.47447,     0.47548,     0.47648,     0.47748,     0.47848,     0.47948,\n",
       "           0.48048,     0.48148,     0.48248,     0.48348,     0.48448,     0.48549,     0.48649,     0.48749,     0.48849,     0.48949,     0.49049,     0.49149,     0.49249,     0.49349,     0.49449,      0.4955,      0.4965,      0.4975,      0.4985,      0.4995,      0.5005,      0.5015,      0.5025,      0.5035,\n",
       "            0.5045,     0.50551,     0.50651,     0.50751,     0.50851,     0.50951,     0.51051,     0.51151,     0.51251,     0.51351,     0.51451,     0.51552,     0.51652,     0.51752,     0.51852,     0.51952,     0.52052,     0.52152,     0.52252,     0.52352,     0.52452,     0.52553,     0.52653,     0.52753,\n",
       "           0.52853,     0.52953,     0.53053,     0.53153,     0.53253,     0.53353,     0.53453,     0.53554,     0.53654,     0.53754,     0.53854,     0.53954,     0.54054,     0.54154,     0.54254,     0.54354,     0.54454,     0.54555,     0.54655,     0.54755,     0.54855,     0.54955,     0.55055,     0.55155,\n",
       "           0.55255,     0.55355,     0.55455,     0.55556,     0.55656,     0.55756,     0.55856,     0.55956,     0.56056,     0.56156,     0.56256,     0.56356,     0.56456,     0.56557,     0.56657,     0.56757,     0.56857,     0.56957,     0.57057,     0.57157,     0.57257,     0.57357,     0.57457,     0.57558,\n",
       "           0.57658,     0.57758,     0.57858,     0.57958,     0.58058,     0.58158,     0.58258,     0.58358,     0.58458,     0.58559,     0.58659,     0.58759,     0.58859,     0.58959,     0.59059,     0.59159,     0.59259,     0.59359,     0.59459,      0.5956,      0.5966,      0.5976,      0.5986,      0.5996,\n",
       "            0.6006,      0.6016,      0.6026,      0.6036,      0.6046,     0.60561,     0.60661,     0.60761,     0.60861,     0.60961,     0.61061,     0.61161,     0.61261,     0.61361,     0.61461,     0.61562,     0.61662,     0.61762,     0.61862,     0.61962,     0.62062,     0.62162,     0.62262,     0.62362,\n",
       "           0.62462,     0.62563,     0.62663,     0.62763,     0.62863,     0.62963,     0.63063,     0.63163,     0.63263,     0.63363,     0.63463,     0.63564,     0.63664,     0.63764,     0.63864,     0.63964,     0.64064,     0.64164,     0.64264,     0.64364,     0.64464,     0.64565,     0.64665,     0.64765,\n",
       "           0.64865,     0.64965,     0.65065,     0.65165,     0.65265,     0.65365,     0.65465,     0.65566,     0.65666,     0.65766,     0.65866,     0.65966,     0.66066,     0.66166,     0.66266,     0.66366,     0.66466,     0.66567,     0.66667,     0.66767,     0.66867,     0.66967,     0.67067,     0.67167,\n",
       "           0.67267,     0.67367,     0.67467,     0.67568,     0.67668,     0.67768,     0.67868,     0.67968,     0.68068,     0.68168,     0.68268,     0.68368,     0.68468,     0.68569,     0.68669,     0.68769,     0.68869,     0.68969,     0.69069,     0.69169,     0.69269,     0.69369,     0.69469,      0.6957,\n",
       "            0.6967,      0.6977,      0.6987,      0.6997,      0.7007,      0.7017,      0.7027,      0.7037,      0.7047,     0.70571,     0.70671,     0.70771,     0.70871,     0.70971,     0.71071,     0.71171,     0.71271,     0.71371,     0.71471,     0.71572,     0.71672,     0.71772,     0.71872,     0.71972,\n",
       "           0.72072,     0.72172,     0.72272,     0.72372,     0.72472,     0.72573,     0.72673,     0.72773,     0.72873,     0.72973,     0.73073,     0.73173,     0.73273,     0.73373,     0.73473,     0.73574,     0.73674,     0.73774,     0.73874,     0.73974,     0.74074,     0.74174,     0.74274,     0.74374,\n",
       "           0.74474,     0.74575,     0.74675,     0.74775,     0.74875,     0.74975,     0.75075,     0.75175,     0.75275,     0.75375,     0.75475,     0.75576,     0.75676,     0.75776,     0.75876,     0.75976,     0.76076,     0.76176,     0.76276,     0.76376,     0.76476,     0.76577,     0.76677,     0.76777,\n",
       "           0.76877,     0.76977,     0.77077,     0.77177,     0.77277,     0.77377,     0.77477,     0.77578,     0.77678,     0.77778,     0.77878,     0.77978,     0.78078,     0.78178,     0.78278,     0.78378,     0.78478,     0.78579,     0.78679,     0.78779,     0.78879,     0.78979,     0.79079,     0.79179,\n",
       "           0.79279,     0.79379,     0.79479,      0.7958,      0.7968,      0.7978,      0.7988,      0.7998,      0.8008,      0.8018,      0.8028,      0.8038,      0.8048,     0.80581,     0.80681,     0.80781,     0.80881,     0.80981,     0.81081,     0.81181,     0.81281,     0.81381,     0.81481,     0.81582,\n",
       "           0.81682,     0.81782,     0.81882,     0.81982,     0.82082,     0.82182,     0.82282,     0.82382,     0.82482,     0.82583,     0.82683,     0.82783,     0.82883,     0.82983,     0.83083,     0.83183,     0.83283,     0.83383,     0.83483,     0.83584,     0.83684,     0.83784,     0.83884,     0.83984,\n",
       "           0.84084,     0.84184,     0.84284,     0.84384,     0.84484,     0.84585,     0.84685,     0.84785,     0.84885,     0.84985,     0.85085,     0.85185,     0.85285,     0.85385,     0.85485,     0.85586,     0.85686,     0.85786,     0.85886,     0.85986,     0.86086,     0.86186,     0.86286,     0.86386,\n",
       "           0.86486,     0.86587,     0.86687,     0.86787,     0.86887,     0.86987,     0.87087,     0.87187,     0.87287,     0.87387,     0.87487,     0.87588,     0.87688,     0.87788,     0.87888,     0.87988,     0.88088,     0.88188,     0.88288,     0.88388,     0.88488,     0.88589,     0.88689,     0.88789,\n",
       "           0.88889,     0.88989,     0.89089,     0.89189,     0.89289,     0.89389,     0.89489,      0.8959,      0.8969,      0.8979,      0.8989,      0.8999,      0.9009,      0.9019,      0.9029,      0.9039,      0.9049,     0.90591,     0.90691,     0.90791,     0.90891,     0.90991,     0.91091,     0.91191,\n",
       "           0.91291,     0.91391,     0.91491,     0.91592,     0.91692,     0.91792,     0.91892,     0.91992,     0.92092,     0.92192,     0.92292,     0.92392,     0.92492,     0.92593,     0.92693,     0.92793,     0.92893,     0.92993,     0.93093,     0.93193,     0.93293,     0.93393,     0.93493,     0.93594,\n",
       "           0.93694,     0.93794,     0.93894,     0.93994,     0.94094,     0.94194,     0.94294,     0.94394,     0.94494,     0.94595,     0.94695,     0.94795,     0.94895,     0.94995,     0.95095,     0.95195,     0.95295,     0.95395,     0.95495,     0.95596,     0.95696,     0.95796,     0.95896,     0.95996,\n",
       "           0.96096,     0.96196,     0.96296,     0.96396,     0.96496,     0.96597,     0.96697,     0.96797,     0.96897,     0.96997,     0.97097,     0.97197,     0.97297,     0.97397,     0.97497,     0.97598,     0.97698,     0.97798,     0.97898,     0.97998,     0.98098,     0.98198,     0.98298,     0.98398,\n",
       "           0.98498,     0.98599,     0.98699,     0.98799,     0.98899,     0.98999,     0.99099,     0.99199,     0.99299,     0.99399,     0.99499,       0.996,       0.997,       0.998,       0.999,           1]), array([[    0.17007,     0.17007,     0.22128, ...,           1,           1,           1],\n",
       "       [   0.041323,    0.041323,    0.055221, ...,           1,           1,           1],\n",
       "       [   0.046573,    0.046573,     0.06107, ...,           1,           1,           1],\n",
       "       ...,\n",
       "       [    0.11833,     0.11833,     0.21119, ...,           1,           1,           1],\n",
       "       [   0.033158,    0.033158,    0.051499, ...,           1,           1,           1],\n",
       "       [          0,           0,           1, ...,           1,           1,           1]], shape=(27, 1000)), 'Confidence', 'Precision'], [array([          0,    0.001001,    0.002002,    0.003003,    0.004004,    0.005005,    0.006006,    0.007007,    0.008008,    0.009009,     0.01001,    0.011011,    0.012012,    0.013013,    0.014014,    0.015015,    0.016016,    0.017017,    0.018018,    0.019019,     0.02002,    0.021021,    0.022022,    0.023023,\n",
       "          0.024024,    0.025025,    0.026026,    0.027027,    0.028028,    0.029029,     0.03003,    0.031031,    0.032032,    0.033033,    0.034034,    0.035035,    0.036036,    0.037037,    0.038038,    0.039039,     0.04004,    0.041041,    0.042042,    0.043043,    0.044044,    0.045045,    0.046046,    0.047047,\n",
       "          0.048048,    0.049049,     0.05005,    0.051051,    0.052052,    0.053053,    0.054054,    0.055055,    0.056056,    0.057057,    0.058058,    0.059059,     0.06006,    0.061061,    0.062062,    0.063063,    0.064064,    0.065065,    0.066066,    0.067067,    0.068068,    0.069069,     0.07007,    0.071071,\n",
       "          0.072072,    0.073073,    0.074074,    0.075075,    0.076076,    0.077077,    0.078078,    0.079079,     0.08008,    0.081081,    0.082082,    0.083083,    0.084084,    0.085085,    0.086086,    0.087087,    0.088088,    0.089089,     0.09009,    0.091091,    0.092092,    0.093093,    0.094094,    0.095095,\n",
       "          0.096096,    0.097097,    0.098098,    0.099099,      0.1001,      0.1011,      0.1021,      0.1031,      0.1041,     0.10511,     0.10611,     0.10711,     0.10811,     0.10911,     0.11011,     0.11111,     0.11211,     0.11311,     0.11411,     0.11512,     0.11612,     0.11712,     0.11812,     0.11912,\n",
       "           0.12012,     0.12112,     0.12212,     0.12312,     0.12412,     0.12513,     0.12613,     0.12713,     0.12813,     0.12913,     0.13013,     0.13113,     0.13213,     0.13313,     0.13413,     0.13514,     0.13614,     0.13714,     0.13814,     0.13914,     0.14014,     0.14114,     0.14214,     0.14314,\n",
       "           0.14414,     0.14515,     0.14615,     0.14715,     0.14815,     0.14915,     0.15015,     0.15115,     0.15215,     0.15315,     0.15415,     0.15516,     0.15616,     0.15716,     0.15816,     0.15916,     0.16016,     0.16116,     0.16216,     0.16316,     0.16416,     0.16517,     0.16617,     0.16717,\n",
       "           0.16817,     0.16917,     0.17017,     0.17117,     0.17217,     0.17317,     0.17417,     0.17518,     0.17618,     0.17718,     0.17818,     0.17918,     0.18018,     0.18118,     0.18218,     0.18318,     0.18418,     0.18519,     0.18619,     0.18719,     0.18819,     0.18919,     0.19019,     0.19119,\n",
       "           0.19219,     0.19319,     0.19419,      0.1952,      0.1962,      0.1972,      0.1982,      0.1992,      0.2002,      0.2012,      0.2022,      0.2032,      0.2042,     0.20521,     0.20621,     0.20721,     0.20821,     0.20921,     0.21021,     0.21121,     0.21221,     0.21321,     0.21421,     0.21522,\n",
       "           0.21622,     0.21722,     0.21822,     0.21922,     0.22022,     0.22122,     0.22222,     0.22322,     0.22422,     0.22523,     0.22623,     0.22723,     0.22823,     0.22923,     0.23023,     0.23123,     0.23223,     0.23323,     0.23423,     0.23524,     0.23624,     0.23724,     0.23824,     0.23924,\n",
       "           0.24024,     0.24124,     0.24224,     0.24324,     0.24424,     0.24525,     0.24625,     0.24725,     0.24825,     0.24925,     0.25025,     0.25125,     0.25225,     0.25325,     0.25425,     0.25526,     0.25626,     0.25726,     0.25826,     0.25926,     0.26026,     0.26126,     0.26226,     0.26326,\n",
       "           0.26426,     0.26527,     0.26627,     0.26727,     0.26827,     0.26927,     0.27027,     0.27127,     0.27227,     0.27327,     0.27427,     0.27528,     0.27628,     0.27728,     0.27828,     0.27928,     0.28028,     0.28128,     0.28228,     0.28328,     0.28428,     0.28529,     0.28629,     0.28729,\n",
       "           0.28829,     0.28929,     0.29029,     0.29129,     0.29229,     0.29329,     0.29429,      0.2953,      0.2963,      0.2973,      0.2983,      0.2993,      0.3003,      0.3013,      0.3023,      0.3033,      0.3043,     0.30531,     0.30631,     0.30731,     0.30831,     0.30931,     0.31031,     0.31131,\n",
       "           0.31231,     0.31331,     0.31431,     0.31532,     0.31632,     0.31732,     0.31832,     0.31932,     0.32032,     0.32132,     0.32232,     0.32332,     0.32432,     0.32533,     0.32633,     0.32733,     0.32833,     0.32933,     0.33033,     0.33133,     0.33233,     0.33333,     0.33433,     0.33534,\n",
       "           0.33634,     0.33734,     0.33834,     0.33934,     0.34034,     0.34134,     0.34234,     0.34334,     0.34434,     0.34535,     0.34635,     0.34735,     0.34835,     0.34935,     0.35035,     0.35135,     0.35235,     0.35335,     0.35435,     0.35536,     0.35636,     0.35736,     0.35836,     0.35936,\n",
       "           0.36036,     0.36136,     0.36236,     0.36336,     0.36436,     0.36537,     0.36637,     0.36737,     0.36837,     0.36937,     0.37037,     0.37137,     0.37237,     0.37337,     0.37437,     0.37538,     0.37638,     0.37738,     0.37838,     0.37938,     0.38038,     0.38138,     0.38238,     0.38338,\n",
       "           0.38438,     0.38539,     0.38639,     0.38739,     0.38839,     0.38939,     0.39039,     0.39139,     0.39239,     0.39339,     0.39439,      0.3954,      0.3964,      0.3974,      0.3984,      0.3994,      0.4004,      0.4014,      0.4024,      0.4034,      0.4044,     0.40541,     0.40641,     0.40741,\n",
       "           0.40841,     0.40941,     0.41041,     0.41141,     0.41241,     0.41341,     0.41441,     0.41542,     0.41642,     0.41742,     0.41842,     0.41942,     0.42042,     0.42142,     0.42242,     0.42342,     0.42442,     0.42543,     0.42643,     0.42743,     0.42843,     0.42943,     0.43043,     0.43143,\n",
       "           0.43243,     0.43343,     0.43443,     0.43544,     0.43644,     0.43744,     0.43844,     0.43944,     0.44044,     0.44144,     0.44244,     0.44344,     0.44444,     0.44545,     0.44645,     0.44745,     0.44845,     0.44945,     0.45045,     0.45145,     0.45245,     0.45345,     0.45445,     0.45546,\n",
       "           0.45646,     0.45746,     0.45846,     0.45946,     0.46046,     0.46146,     0.46246,     0.46346,     0.46446,     0.46547,     0.46647,     0.46747,     0.46847,     0.46947,     0.47047,     0.47147,     0.47247,     0.47347,     0.47447,     0.47548,     0.47648,     0.47748,     0.47848,     0.47948,\n",
       "           0.48048,     0.48148,     0.48248,     0.48348,     0.48448,     0.48549,     0.48649,     0.48749,     0.48849,     0.48949,     0.49049,     0.49149,     0.49249,     0.49349,     0.49449,      0.4955,      0.4965,      0.4975,      0.4985,      0.4995,      0.5005,      0.5015,      0.5025,      0.5035,\n",
       "            0.5045,     0.50551,     0.50651,     0.50751,     0.50851,     0.50951,     0.51051,     0.51151,     0.51251,     0.51351,     0.51451,     0.51552,     0.51652,     0.51752,     0.51852,     0.51952,     0.52052,     0.52152,     0.52252,     0.52352,     0.52452,     0.52553,     0.52653,     0.52753,\n",
       "           0.52853,     0.52953,     0.53053,     0.53153,     0.53253,     0.53353,     0.53453,     0.53554,     0.53654,     0.53754,     0.53854,     0.53954,     0.54054,     0.54154,     0.54254,     0.54354,     0.54454,     0.54555,     0.54655,     0.54755,     0.54855,     0.54955,     0.55055,     0.55155,\n",
       "           0.55255,     0.55355,     0.55455,     0.55556,     0.55656,     0.55756,     0.55856,     0.55956,     0.56056,     0.56156,     0.56256,     0.56356,     0.56456,     0.56557,     0.56657,     0.56757,     0.56857,     0.56957,     0.57057,     0.57157,     0.57257,     0.57357,     0.57457,     0.57558,\n",
       "           0.57658,     0.57758,     0.57858,     0.57958,     0.58058,     0.58158,     0.58258,     0.58358,     0.58458,     0.58559,     0.58659,     0.58759,     0.58859,     0.58959,     0.59059,     0.59159,     0.59259,     0.59359,     0.59459,      0.5956,      0.5966,      0.5976,      0.5986,      0.5996,\n",
       "            0.6006,      0.6016,      0.6026,      0.6036,      0.6046,     0.60561,     0.60661,     0.60761,     0.60861,     0.60961,     0.61061,     0.61161,     0.61261,     0.61361,     0.61461,     0.61562,     0.61662,     0.61762,     0.61862,     0.61962,     0.62062,     0.62162,     0.62262,     0.62362,\n",
       "           0.62462,     0.62563,     0.62663,     0.62763,     0.62863,     0.62963,     0.63063,     0.63163,     0.63263,     0.63363,     0.63463,     0.63564,     0.63664,     0.63764,     0.63864,     0.63964,     0.64064,     0.64164,     0.64264,     0.64364,     0.64464,     0.64565,     0.64665,     0.64765,\n",
       "           0.64865,     0.64965,     0.65065,     0.65165,     0.65265,     0.65365,     0.65465,     0.65566,     0.65666,     0.65766,     0.65866,     0.65966,     0.66066,     0.66166,     0.66266,     0.66366,     0.66466,     0.66567,     0.66667,     0.66767,     0.66867,     0.66967,     0.67067,     0.67167,\n",
       "           0.67267,     0.67367,     0.67467,     0.67568,     0.67668,     0.67768,     0.67868,     0.67968,     0.68068,     0.68168,     0.68268,     0.68368,     0.68468,     0.68569,     0.68669,     0.68769,     0.68869,     0.68969,     0.69069,     0.69169,     0.69269,     0.69369,     0.69469,      0.6957,\n",
       "            0.6967,      0.6977,      0.6987,      0.6997,      0.7007,      0.7017,      0.7027,      0.7037,      0.7047,     0.70571,     0.70671,     0.70771,     0.70871,     0.70971,     0.71071,     0.71171,     0.71271,     0.71371,     0.71471,     0.71572,     0.71672,     0.71772,     0.71872,     0.71972,\n",
       "           0.72072,     0.72172,     0.72272,     0.72372,     0.72472,     0.72573,     0.72673,     0.72773,     0.72873,     0.72973,     0.73073,     0.73173,     0.73273,     0.73373,     0.73473,     0.73574,     0.73674,     0.73774,     0.73874,     0.73974,     0.74074,     0.74174,     0.74274,     0.74374,\n",
       "           0.74474,     0.74575,     0.74675,     0.74775,     0.74875,     0.74975,     0.75075,     0.75175,     0.75275,     0.75375,     0.75475,     0.75576,     0.75676,     0.75776,     0.75876,     0.75976,     0.76076,     0.76176,     0.76276,     0.76376,     0.76476,     0.76577,     0.76677,     0.76777,\n",
       "           0.76877,     0.76977,     0.77077,     0.77177,     0.77277,     0.77377,     0.77477,     0.77578,     0.77678,     0.77778,     0.77878,     0.77978,     0.78078,     0.78178,     0.78278,     0.78378,     0.78478,     0.78579,     0.78679,     0.78779,     0.78879,     0.78979,     0.79079,     0.79179,\n",
       "           0.79279,     0.79379,     0.79479,      0.7958,      0.7968,      0.7978,      0.7988,      0.7998,      0.8008,      0.8018,      0.8028,      0.8038,      0.8048,     0.80581,     0.80681,     0.80781,     0.80881,     0.80981,     0.81081,     0.81181,     0.81281,     0.81381,     0.81481,     0.81582,\n",
       "           0.81682,     0.81782,     0.81882,     0.81982,     0.82082,     0.82182,     0.82282,     0.82382,     0.82482,     0.82583,     0.82683,     0.82783,     0.82883,     0.82983,     0.83083,     0.83183,     0.83283,     0.83383,     0.83483,     0.83584,     0.83684,     0.83784,     0.83884,     0.83984,\n",
       "           0.84084,     0.84184,     0.84284,     0.84384,     0.84484,     0.84585,     0.84685,     0.84785,     0.84885,     0.84985,     0.85085,     0.85185,     0.85285,     0.85385,     0.85485,     0.85586,     0.85686,     0.85786,     0.85886,     0.85986,     0.86086,     0.86186,     0.86286,     0.86386,\n",
       "           0.86486,     0.86587,     0.86687,     0.86787,     0.86887,     0.86987,     0.87087,     0.87187,     0.87287,     0.87387,     0.87487,     0.87588,     0.87688,     0.87788,     0.87888,     0.87988,     0.88088,     0.88188,     0.88288,     0.88388,     0.88488,     0.88589,     0.88689,     0.88789,\n",
       "           0.88889,     0.88989,     0.89089,     0.89189,     0.89289,     0.89389,     0.89489,      0.8959,      0.8969,      0.8979,      0.8989,      0.8999,      0.9009,      0.9019,      0.9029,      0.9039,      0.9049,     0.90591,     0.90691,     0.90791,     0.90891,     0.90991,     0.91091,     0.91191,\n",
       "           0.91291,     0.91391,     0.91491,     0.91592,     0.91692,     0.91792,     0.91892,     0.91992,     0.92092,     0.92192,     0.92292,     0.92392,     0.92492,     0.92593,     0.92693,     0.92793,     0.92893,     0.92993,     0.93093,     0.93193,     0.93293,     0.93393,     0.93493,     0.93594,\n",
       "           0.93694,     0.93794,     0.93894,     0.93994,     0.94094,     0.94194,     0.94294,     0.94394,     0.94494,     0.94595,     0.94695,     0.94795,     0.94895,     0.94995,     0.95095,     0.95195,     0.95295,     0.95395,     0.95495,     0.95596,     0.95696,     0.95796,     0.95896,     0.95996,\n",
       "           0.96096,     0.96196,     0.96296,     0.96396,     0.96496,     0.96597,     0.96697,     0.96797,     0.96897,     0.96997,     0.97097,     0.97197,     0.97297,     0.97397,     0.97497,     0.97598,     0.97698,     0.97798,     0.97898,     0.97998,     0.98098,     0.98198,     0.98298,     0.98398,\n",
       "           0.98498,     0.98599,     0.98699,     0.98799,     0.98899,     0.98999,     0.99099,     0.99199,     0.99299,     0.99399,     0.99499,       0.996,       0.997,       0.998,       0.999,           1]), array([[    0.86116,     0.86116,     0.86025, ...,           0,           0,           0],\n",
       "       [     0.3432,      0.3432,     0.34043, ...,           0,           0,           0],\n",
       "       [    0.45112,     0.45112,     0.44603, ...,           0,           0,           0],\n",
       "       ...,\n",
       "       [    0.98746,     0.98746,     0.98119, ...,           0,           0,           0],\n",
       "       [    0.67805,     0.67805,     0.67805, ...,           0,           0,           0],\n",
       "       [          0,           0,           0, ...,           0,           0,           0]], shape=(27, 1000)), 'Confidence', 'Recall']]\n",
       "fitness: np.float64(0.6045052841110358)\n",
       "keys: ['metrics/precision(B)', 'metrics/recall(B)', 'metrics/mAP50(B)', 'metrics/mAP50-95(B)']\n",
       "maps: array([    0.68082,    0.053067,    0.078657,     0.59187,    0.095755,     0.59187,    0.064798,     0.69067,     0.79797,     0.55119,     0.85085,     0.61942,     0.82188,     0.71598,     0.77061,     0.80269,     0.85341,     0.69038,     0.76749,     0.77065,     0.75799,     0.58511,     0.54454,      0.5959,\n",
       "           0.80665,     0.77039,     0.86686,     0.37686,           0,     0.59187])\n",
       "names: {0: 'Goal right crossbar', 1: 'Goal right post left', 2: 'Goal right post right', 3: 'Goal left post left', 4: 'Goal left post left', 5: 'Goal left post left', 6: 'Goal left post right', 7: 'Goal left crossbar', 8: 'Small rect. right main', 9: 'Small rect. right top', 10: 'Side line right', 11: 'Side line top', 12: 'Side line bottom', 13: 'Big rect. right top', 14: 'Big rect. right main', 15: 'Circle right', 16: 'Side line left', 17: 'Big rect. left top', 18: 'Big rect. left bottom', 19: 'Big rect. left main', 20: 'Big rect. right bottom', 21: 'Small rect. right bottom', 22: 'Small rect. left top', 23: 'Small rect. left bottom', 24: 'Small rect. left main', 25: 'Circle left', 26: 'Circle central', 27: 'Middle line', 28: 'Line unknown', 29: 'Goal unknown'}\n",
       "plot: True\n",
       "results_dict: {'metrics/precision(B)': np.float64(0.807542505360157), 'metrics/recall(B)': np.float64(0.6732520451343795), 'metrics/mAP50(B)': np.float64(0.7181915873860811), 'metrics/mAP50-95(B)': np.float64(0.5918734726360307), 'fitness': np.float64(0.6045052841110358)}\n",
       "save_dir: PosixPath('/home/dani/Desktop/futbol/runs/detect/train6')\n",
       "speed: {'preprocess': 0.18432361348620235, 'inference': 0.9412626849658132, 'loss': 0.00034405305769652066, 'postprocess': 0.611851140381299}\n",
       "task: 'detect'"
      ]
     },
     "execution_count": 2,
     "metadata": {},
     "output_type": "execute_result"
    }
   ],
   "source": [
    "from ultralytics import YOLO\n",
    "\n",
    "# Cargar un modelo base\n",
    "model = YOLO('yolov8n.pt')  \n",
    "# Entrenar (fine-tune) con tus datos\n",
    "model.train(data='line_dataset_detail.yaml', epochs=50, imgsz=640, batch=16)"
   ]
  },
  {
   "cell_type": "code",
   "execution_count": 3,
   "id": "b6f8d248",
   "metadata": {},
   "outputs": [],
   "source": [
    "#guardar el modelo\n",
    "model.save(\"yolov8n_line_detail.pt\")"
   ]
  }
 ],
 "metadata": {
  "kernelspec": {
   "display_name": ".venv",
   "language": "python",
   "name": "python3"
  },
  "language_info": {
   "codemirror_mode": {
    "name": "ipython",
    "version": 3
   },
   "file_extension": ".py",
   "mimetype": "text/x-python",
   "name": "python",
   "nbconvert_exporter": "python",
   "pygments_lexer": "ipython3",
   "version": "3.12.3"
  }
 },
 "nbformat": 4,
 "nbformat_minor": 5
}
