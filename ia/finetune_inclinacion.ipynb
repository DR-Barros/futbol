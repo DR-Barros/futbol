{
 "cells": [
  {
   "cell_type": "markdown",
   "id": "089318ab",
   "metadata": {},
   "source": [
    "## Crear Dataset en el formato necesario"
   ]
  },
  {
   "cell_type": "code",
   "execution_count": 2,
   "id": "c0ff665d",
   "metadata": {},
   "outputs": [
    {
     "name": "stdout",
     "output_type": "stream",
     "text": [
      "Imágenes copiadas correctamente.\n"
     ]
    }
   ],
   "source": [
    "import os\n",
    "import shutil\n",
    "\n",
    "from_folder = \"SoccerNet/calibration\"\n",
    "to_folder = \"dataset-det2/images\"\n",
    "\n",
    "# Crear la carpeta destino si no existe\n",
    "os.makedirs(to_folder, exist_ok=True)\n",
    "\n",
    "# Iterar sobre cada subcarpeta\n",
    "dirs = os.listdir(from_folder)\n",
    "for dir_name in dirs:\n",
    "    subfolder_path = os.path.join(from_folder, dir_name)\n",
    "    to_folder_path = os.path.join(to_folder, dir_name)\n",
    "    if not os.path.isdir(subfolder_path):\n",
    "        continue  # Saltar si no es carpeta\n",
    "    \n",
    "    if not os.path.exists(to_folder_path):\n",
    "        os.makedirs(to_folder_path)\n",
    "\n",
    "    # Listar todas las imágenes en la subcarpeta\n",
    "    images = [img for img in os.listdir(subfolder_path) if img.endswith(\".jpg\") or img.endswith(\".png\")]\n",
    "\n",
    "    # Copiar las imágenes a la carpeta destino\n",
    "    for img in images:\n",
    "        src_path = os.path.join(subfolder_path, img)\n",
    "        dst_path = os.path.join(to_folder_path, img)\n",
    "        shutil.copy(src_path, dst_path)\n",
    "\n",
    "print(\"Imágenes copiadas correctamente.\")"
   ]
  },
  {
   "cell_type": "code",
   "execution_count": 3,
   "id": "0f9b26cb",
   "metadata": {},
   "outputs": [
    {
     "name": "stdout",
     "output_type": "stream",
     "text": [
      "Nombre de archivo no numérico: match_info.json\n",
      "Nombre de archivo no numérico: match_info.json\n",
      "Nombre de archivo no numérico: match_info.json\n",
      "Etiquetas generadas correctamente.\n"
     ]
    }
   ],
   "source": [
    "import os\n",
    "import sys\n",
    "import json\n",
    "import numpy as np\n",
    "from_folder = \"SoccerNet/calibration\"\n",
    "labels_folder = \"dataset-det2/labels\"\n",
    "\n",
    "# Función auxiliar para obtener el bounding box\n",
    "def get_bbox_from_points(points):\n",
    "    xs = [max(0, min(1, p[\"x\"])) for p in points]\n",
    "    ys = [max(0, min(1, p[\"y\"])) for p in points]\n",
    "    x_min, x_max = min(xs), max(xs)\n",
    "    y_min, y_max = min(ys), max(ys)\n",
    "    x_center = (x_min + x_max) / 2\n",
    "    y_center = (y_min + y_max) / 2\n",
    "    width = x_max - x_min\n",
    "    height = y_max - y_min\n",
    "    #si tiene 2 puntos calculamos el angulo\n",
    "    pos = 0 #0 izquierda, 1 derecha\n",
    "    if len(points) == 2:\n",
    "        x1, y1 = points[0][\"x\"], points[0][\"y\"]\n",
    "        x2, y2 = points[1][\"x\"], points[1][\"y\"]\n",
    "\n",
    "        # Ordenar: y1 debe ser la parte inferior, y2 la parte superior\n",
    "        if y1 < y2:\n",
    "            x1, y1, x2, y2 = x2, y2, x1, y1\n",
    "\n",
    "        # Si la parte superior (x2) está más a la derecha que la inferior (x1)\n",
    "        if x2 > x1:\n",
    "            pos = 1  # inclinación hacia la derecha\n",
    "        else:\n",
    "            pos = 2  # inclinación hacia la izquierda\n",
    "    return x_center, y_center, width, height, pos\n",
    "\n",
    "# Crear la carpeta destino si no existe\n",
    "os.makedirs(labels_folder, exist_ok=True)\n",
    "\n",
    "# Iterar sobre cada subcarpeta\n",
    "dirs = os.listdir(from_folder)\n",
    "for dir_name in dirs:\n",
    "    subfolder_path = os.path.join(from_folder, dir_name)\n",
    "    to_folder_path = os.path.join(labels_folder, dir_name)\n",
    "    if not os.path.isdir(subfolder_path):\n",
    "        continue  # Saltar si no es carpeta\n",
    "    \n",
    "    if not os.path.exists(to_folder_path):\n",
    "        os.makedirs(to_folder_path)\n",
    "\n",
    "    #listar todos los json\n",
    "    jsons = [json for json in os.listdir(subfolder_path) if json.endswith(\".json\")]\n",
    "\n",
    "    for j in jsons:\n",
    "        #si el nombre del archivo no es numérico, saltar\n",
    "        if not j[:-5].isdigit():\n",
    "            print(f\"Nombre de archivo no numérico: {j}\")\n",
    "            continue\n",
    "        with open(os.path.join(subfolder_path, j), \"r\") as f:\n",
    "            try:\n",
    "                data = json.load(f)\n",
    "            except Exception as e:\n",
    "                print(f\"Error al cargar el archivo JSON {j}: {e}\")\n",
    "                continue\n",
    "            label_txt = os.path.join(to_folder_path, j.replace(\".json\", \".txt\"))\n",
    "            with open(label_txt, \"w\") as label_file:\n",
    "                for label, points in data.items():\n",
    "                    x_c, y_c, w, h, pos = get_bbox_from_points(points)\n",
    "                    label_file.write(f\"{pos} {x_c} {y_c} {w} {h}\\n\")\n",
    "print(\"Etiquetas generadas correctamente.\")"
   ]
  },
  {
   "cell_type": "markdown",
   "id": "e9a52fac",
   "metadata": {},
   "source": [
    "# Finetunear Modelo"
   ]
  },
  {
   "cell_type": "code",
   "execution_count": null,
   "id": "94941a22",
   "metadata": {},
   "outputs": [],
   "source": [
    "from ultralytics import YOLO\n",
    "\n",
    "# Cargar un modelo base\n",
    "model = YOLO('yolov8n_line_detail.pt')  \n",
    "# Entrenar (fine-tune) con tus datos\n",
    "model.train(data='line_dataset_detail2.yaml', epochs=50, imgsz=640, batch=16, device=\"cuda\", fliplr=0.0,\n",
    "    flipud=0.0)  # Ajusta los parámetros según tus necesidades"
   ]
  },
  {
   "cell_type": "code",
   "execution_count": 5,
   "id": "b6f8d248",
   "metadata": {},
   "outputs": [],
   "source": [
    "#guardar el modelo\n",
    "model.save(\"yolo11n_inclinacion.pt\")"
   ]
  }
 ],
 "metadata": {
  "kernelspec": {
   "display_name": ".venv",
   "language": "python",
   "name": "python3"
  },
  "language_info": {
   "codemirror_mode": {
    "name": "ipython",
    "version": 3
   },
   "file_extension": ".py",
   "mimetype": "text/x-python",
   "name": "python",
   "nbconvert_exporter": "python",
   "pygments_lexer": "ipython3",
   "version": "3.12.3"
  }
 },
 "nbformat": 4,
 "nbformat_minor": 5
}
