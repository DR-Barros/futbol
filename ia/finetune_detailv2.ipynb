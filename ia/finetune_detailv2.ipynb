{
 "cells": [
  {
   "cell_type": "code",
   "execution_count": 1,
   "id": "a097ffc7",
   "metadata": {},
   "outputs": [],
   "source": [
    "import cv2\n",
    "import json\n",
    "import numpy as np\n",
    "\n",
    "# Cargar la imagen\n",
    "image = cv2.imread(\"SoccerNet/calibration/test/00000.jpg\")  # Reemplaza con tu ruta\n",
    "height, width = image.shape[:2]\n",
    "\n",
    "# Cargar JSON desde archivo\n",
    "with open('SoccerNet/calibration/test/00000.json', 'r') as f:\n",
    "    data = json.load(f)\n",
    "\n",
    "\"\"\" # Dibujar líneas\n",
    "for name, points in data.items():\n",
    "    color = (0, 255, 0)  # Verde\n",
    "    thickness = 2\n",
    "\n",
    "    # Convertir puntos normalizados a pixeles\n",
    "    pts = [(int(p[\"x\"] * width), int(p[\"y\"] * height)) for p in points]\n",
    "\n",
    "    if len(pts) == 2:\n",
    "        cv2.line(image, pts[0], pts[1], color, thickness)\n",
    "    elif len(pts) > 2:\n",
    "        cv2.polylines(image, [np.array(pts)], isClosed=False, color=color, thickness=thickness) \"\"\"\n",
    "\n",
    "# Mostrar imagen\n",
    "cv2.imshow(\"Líneas\", image)\n",
    "cv2.waitKey(0)\n",
    "cv2.destroyAllWindows()\n"
   ]
  },
  {
   "cell_type": "markdown",
   "id": "089318ab",
   "metadata": {},
   "source": [
    "## Crear Dataset en el formato necesario"
   ]
  },
  {
   "cell_type": "code",
   "execution_count": 3,
   "id": "c0ff665d",
   "metadata": {},
   "outputs": [
    {
     "name": "stdout",
     "output_type": "stream",
     "text": [
      "Imágenes copiadas correctamente.\n"
     ]
    }
   ],
   "source": [
    "import os\n",
    "import shutil\n",
    "\n",
    "from_folder = \"SoccerNet/calibration\"\n",
    "to_folder = \"dataset-det2/images\"\n",
    "\n",
    "# Crear la carpeta destino si no existe\n",
    "os.makedirs(to_folder, exist_ok=True)\n",
    "\n",
    "# Iterar sobre cada subcarpeta\n",
    "dirs = os.listdir(from_folder)\n",
    "for dir_name in dirs:\n",
    "    subfolder_path = os.path.join(from_folder, dir_name)\n",
    "    to_folder_path = os.path.join(to_folder, dir_name)\n",
    "    if not os.path.isdir(subfolder_path):\n",
    "        continue  # Saltar si no es carpeta\n",
    "    \n",
    "    if not os.path.exists(to_folder_path):\n",
    "        os.makedirs(to_folder_path)\n",
    "\n",
    "    # Listar todas las imágenes en la subcarpeta\n",
    "    images = [img for img in os.listdir(subfolder_path) if img.endswith(\".jpg\") or img.endswith(\".png\")]\n",
    "\n",
    "    # Copiar las imágenes a la carpeta destino\n",
    "    for img in images:\n",
    "        src_path = os.path.join(subfolder_path, img)\n",
    "        dst_path = os.path.join(to_folder_path, img)\n",
    "        shutil.copy(src_path, dst_path)\n",
    "\n",
    "print(\"Imágenes copiadas correctamente.\")"
   ]
  },
  {
   "cell_type": "code",
   "execution_count": 4,
   "id": "0f9b26cb",
   "metadata": {},
   "outputs": [
    {
     "name": "stdout",
     "output_type": "stream",
     "text": [
      "Nombre de archivo no numérico: match_info.json\n",
      "Nombre de archivo no numérico: match_info.json\n",
      "Nombre de archivo no numérico: match_info.json\n",
      "Etiquetas generadas correctamente.\n"
     ]
    }
   ],
   "source": [
    "import os\n",
    "import sys\n",
    "import json\n",
    "from_folder = \"SoccerNet/calibration\"\n",
    "labels_folder = \"dataset-det2/labels\"\n",
    "\n",
    "# Diccionario para mapear etiquetas a IDs\n",
    "class_mapping = {\n",
    "    \"Goal right crossbar\": 0,\n",
    "    \"Goal right post left\": 0,\n",
    "    \"Goal right post right\": 0,\n",
    "    \"Goal left post left\": 0,\n",
    "    \"Goal left post left \": 0,\n",
    "    \"Goal left post left\": 0,\n",
    "    \"Goal left post right\": 0,\n",
    "    \"Goal left crossbar\": 0,\n",
    "    \"Small rect. right main\": 1,\n",
    "    \"Small rect. right top\": 2,\n",
    "    \"Side line right\": 3,\n",
    "    \"Side line top\": 4,\n",
    "    \"Side line bottom\": 5,\n",
    "    \"Big rect. right top\": 6,\n",
    "    \"Big rect. right main\": 7,\n",
    "    \"Circle right\": 8,\n",
    "    \"Side line left\": 9,\n",
    "    \"Big rect. left top\": 10,\n",
    "    \"Big rect. left bottom\": 11,\n",
    "    \"Big rect. left main\": 12,\n",
    "    \"Big rect. right bottom\": 13,\n",
    "    \"Small rect. right bottom\": 14,\n",
    "    \"Small rect. left top\": 15,\n",
    "    \"Small rect. left bottom\": 16,\n",
    "    \"Small rect. left main\": 17,\n",
    "    \"Circle left\": 18,\n",
    "    \"Circle central\": 19,\n",
    "    \"Middle line\": 20,\n",
    "    \"Line unknown\": 0,\n",
    "    \"Goal unknown\": 0,\n",
    "}\n",
    "\n",
    "# Función auxiliar para obtener el bounding box\n",
    "def get_bbox_from_points(points):\n",
    "    xs = [p[\"x\"] for p in points]\n",
    "    ys = [p[\"y\"] for p in points]\n",
    "    x_min, x_max = min(xs), max(xs)\n",
    "    y_min, y_max = min(ys), max(ys)\n",
    "    x_center = (x_min + x_max) / 2\n",
    "    y_center = (y_min + y_max) / 2\n",
    "    width = x_max - x_min\n",
    "    height = y_max - y_min\n",
    "    #si tiene 2 puntos calculamos el angulo\n",
    "    pos = 0 #0 horizontal, 1 vertical\n",
    "    if len(points) == 2:\n",
    "        x1, y1 = points[0][\"x\"], points[0][\"y\"]\n",
    "        x2, y2 = points[1][\"x\"], points[1][\"y\"]\n",
    "        angle = np.arctan2(y2 - y1, x2 - x1)\n",
    "        # Convertir a grados\n",
    "        angle = np.degrees(angle)\n",
    "        # Normalizar el ángulo entre 0 y 360\n",
    "        angle = angle % 360\n",
    "        if angle > 0:\n",
    "            pos = 1\n",
    "        else:\n",
    "            pos = 0\n",
    "    return x_center, y_center, width, height, pos\n",
    "\n",
    "# Crear la carpeta destino si no existe\n",
    "os.makedirs(labels_folder, exist_ok=True)\n",
    "\n",
    "# Iterar sobre cada subcarpeta\n",
    "dirs = os.listdir(from_folder)\n",
    "for dir_name in dirs:\n",
    "    subfolder_path = os.path.join(from_folder, dir_name)\n",
    "    to_folder_path = os.path.join(labels_folder, dir_name)\n",
    "    if not os.path.isdir(subfolder_path):\n",
    "        continue  # Saltar si no es carpeta\n",
    "    \n",
    "    if not os.path.exists(to_folder_path):\n",
    "        os.makedirs(to_folder_path)\n",
    "\n",
    "    #listar todos los json\n",
    "    jsons = [json for json in os.listdir(subfolder_path) if json.endswith(\".json\")]\n",
    "\n",
    "    for j in jsons:\n",
    "        #si el nombre del archivo no es numérico, saltar\n",
    "        if not j[:-5].isdigit():\n",
    "            print(f\"Nombre de archivo no numérico: {j}\")\n",
    "            continue\n",
    "        with open(os.path.join(subfolder_path, j), \"r\") as f:\n",
    "            try:\n",
    "                data = json.load(f)\n",
    "            except Exception as e:\n",
    "                print(f\"Error al cargar el archivo JSON {j}: {e}\")\n",
    "                continue\n",
    "            label_txt = os.path.join(to_folder_path, j.replace(\".json\", \".txt\"))\n",
    "            with open(label_txt, \"w\") as label_file:\n",
    "                for label, points in data.items():\n",
    "                    if label not in class_mapping:\n",
    "                        print(f\"Etiqueta desconocida: {label} en {j}\")\n",
    "                    if label not in class_mapping or len(points) < 2:\n",
    "                        continue\n",
    "                    class_id = class_mapping[label]\n",
    "                    x_c, y_c, w, h, pos = get_bbox_from_points(points)\n",
    "                    label_file.write(f\"{class_id + pos*20} {x_c} {y_c} {w} {h}\\n\")\n",
    "print(\"Etiquetas generadas correctamente.\")"
   ]
  },
  {
   "cell_type": "markdown",
   "id": "e9a52fac",
   "metadata": {},
   "source": [
    "# Finetunear Modelo"
   ]
  },
  {
   "cell_type": "code",
   "execution_count": 6,
   "id": "94941a22",
   "metadata": {},
   "outputs": [
    {
     "name": "stdout",
     "output_type": "stream",
     "text": [
      "New https://pypi.org/project/ultralytics/8.3.143 available 😃 Update with 'pip install -U ultralytics'\n",
      "Ultralytics 8.3.141 🚀 Python-3.12.3 torch-2.7.0+cu126 CUDA:0 (NVIDIA GeForce RTX 4060, 7911MiB)\n",
      "\u001b[34m\u001b[1mengine/trainer: \u001b[0magnostic_nms=False, amp=True, augment=False, auto_augment=randaugment, batch=16, bgr=0.0, box=7.5, cache=False, cfg=None, classes=None, close_mosaic=10, cls=0.5, conf=None, copy_paste=0.0, copy_paste_mode=flip, cos_lr=False, cutmix=0.0, data=line_dataset_detail2.yaml, degrees=0.0, deterministic=True, device=0, dfl=1.5, dnn=False, dropout=0.0, dynamic=False, embed=None, epochs=50, erasing=0.4, exist_ok=False, fliplr=0.5, flipud=0.0, format=torchscript, fraction=1.0, freeze=None, half=False, hsv_h=0.015, hsv_s=0.7, hsv_v=0.4, imgsz=640, int8=False, iou=0.7, keras=False, kobj=1.0, line_width=None, lr0=0.01, lrf=0.01, mask_ratio=4, max_det=300, mixup=0.0, mode=train, model=yolo11n.pt, momentum=0.937, mosaic=1.0, multi_scale=False, name=train8, nbs=64, nms=False, opset=None, optimize=False, optimizer=auto, overlap_mask=True, patience=100, perspective=0.0, plots=True, pose=12.0, pretrained=True, profile=False, project=None, rect=False, resume=False, retina_masks=False, save=True, save_conf=False, save_crop=False, save_dir=/home/dani/Desktop/futbol/runs/detect/train8, save_frames=False, save_json=False, save_period=-1, save_txt=False, scale=0.5, seed=0, shear=0.0, show=False, show_boxes=True, show_conf=True, show_labels=True, simplify=True, single_cls=False, source=None, split=val, stream_buffer=False, task=detect, time=None, tracker=botsort.yaml, translate=0.1, val=True, verbose=True, vid_stride=1, visualize=False, warmup_bias_lr=0.1, warmup_epochs=3.0, warmup_momentum=0.8, weight_decay=0.0005, workers=16, workspace=None\n",
      "Overriding model.yaml nc=80 with nc=41\n",
      "\n",
      "                   from  n    params  module                                       arguments                     \n",
      "  0                  -1  1       464  ultralytics.nn.modules.conv.Conv             [3, 16, 3, 2]                 \n",
      "  1                  -1  1      4672  ultralytics.nn.modules.conv.Conv             [16, 32, 3, 2]                \n",
      "  2                  -1  1      6640  ultralytics.nn.modules.block.C3k2            [32, 64, 1, False, 0.25]      \n",
      "  3                  -1  1     36992  ultralytics.nn.modules.conv.Conv             [64, 64, 3, 2]                \n",
      "  4                  -1  1     26080  ultralytics.nn.modules.block.C3k2            [64, 128, 1, False, 0.25]     \n",
      "  5                  -1  1    147712  ultralytics.nn.modules.conv.Conv             [128, 128, 3, 2]              \n",
      "  6                  -1  1     87040  ultralytics.nn.modules.block.C3k2            [128, 128, 1, True]           \n",
      "  7                  -1  1    295424  ultralytics.nn.modules.conv.Conv             [128, 256, 3, 2]              \n",
      "  8                  -1  1    346112  ultralytics.nn.modules.block.C3k2            [256, 256, 1, True]           \n",
      "  9                  -1  1    164608  ultralytics.nn.modules.block.SPPF            [256, 256, 5]                 \n",
      " 10                  -1  1    249728  ultralytics.nn.modules.block.C2PSA           [256, 256, 1]                 \n",
      " 11                  -1  1         0  torch.nn.modules.upsampling.Upsample         [None, 2, 'nearest']          \n",
      " 12             [-1, 6]  1         0  ultralytics.nn.modules.conv.Concat           [1]                           \n",
      " 13                  -1  1    111296  ultralytics.nn.modules.block.C3k2            [384, 128, 1, False]          \n",
      " 14                  -1  1         0  torch.nn.modules.upsampling.Upsample         [None, 2, 'nearest']          \n",
      " 15             [-1, 4]  1         0  ultralytics.nn.modules.conv.Concat           [1]                           \n",
      " 16                  -1  1     32096  ultralytics.nn.modules.block.C3k2            [256, 64, 1, False]           \n",
      " 17                  -1  1     36992  ultralytics.nn.modules.conv.Conv             [64, 64, 3, 2]                \n",
      " 18            [-1, 13]  1         0  ultralytics.nn.modules.conv.Concat           [1]                           \n",
      " 19                  -1  1     86720  ultralytics.nn.modules.block.C3k2            [192, 128, 1, False]          \n",
      " 20                  -1  1    147712  ultralytics.nn.modules.conv.Conv             [128, 128, 3, 2]              \n",
      " 21            [-1, 10]  1         0  ultralytics.nn.modules.conv.Concat           [1]                           \n",
      " 22                  -1  1    378880  ultralytics.nn.modules.block.C3k2            [384, 256, 1, True]           \n",
      " 23        [16, 19, 22]  1    438667  ultralytics.nn.modules.head.Detect           [41, [64, 128, 256]]          \n",
      "YOLO11n summary: 181 layers, 2,597,835 parameters, 2,597,819 gradients, 6.5 GFLOPs\n",
      "\n",
      "Transferred 448/499 items from pretrained weights\n",
      "Freezing layer 'model.23.dfl.conv.weight'\n",
      "\u001b[34m\u001b[1mAMP: \u001b[0mrunning Automatic Mixed Precision (AMP) checks...\n",
      "\u001b[34m\u001b[1mAMP: \u001b[0mchecks passed ✅\n",
      "\u001b[34m\u001b[1mtrain: \u001b[0mFast image access ✅ (ping: 0.0±0.0 ms, read: 5612.5±1442.7 MB/s, size: 162.6 KB)\n"
     ]
    },
    {
     "name": "stderr",
     "output_type": "stream",
     "text": [
      "\u001b[34m\u001b[1mtrain: \u001b[0mScanning /home/dani/Desktop/futbol/dataset-det2/labels/train.cache... 14513 images, 0 backgrounds, 382 corrupt: 100%|██████████| 14513/14513 [00:00<?, ?it/s]"
     ]
    },
    {
     "name": "stdout",
     "output_type": "stream",
     "text": [
      "\u001b[34m\u001b[1mtrain: \u001b[0m/home/dani/Desktop/futbol/dataset-det2/images/train/00005.jpg: ignoring corrupt image/label: non-normalized or out of bounds coordinates [1.0000093]\n",
      "\u001b[34m\u001b[1mtrain: \u001b[0m/home/dani/Desktop/futbol/dataset-det2/images/train/00009.jpg: ignoring corrupt image/label: non-normalized or out of bounds coordinates [1.0000093]\n",
      "\u001b[34m\u001b[1mtrain: \u001b[0m/home/dani/Desktop/futbol/dataset-det2/images/train/00019.jpg: ignoring corrupt image/label: non-normalized or out of bounds coordinates [1.0000052]\n",
      "\u001b[34m\u001b[1mtrain: \u001b[0m/home/dani/Desktop/futbol/dataset-det2/images/train/00026.jpg: ignoring corrupt image/label: non-normalized or out of bounds coordinates [1.0000093]\n",
      "\u001b[34m\u001b[1mtrain: \u001b[0m/home/dani/Desktop/futbol/dataset-det2/images/train/00042.jpg: ignoring corrupt image/label: non-normalized or out of bounds coordinates [1.0000093]\n",
      "\u001b[34m\u001b[1mtrain: \u001b[0m/home/dani/Desktop/futbol/dataset-det2/images/train/00332.jpg: ignoring corrupt image/label: non-normalized or out of bounds coordinates [1.0000138]\n",
      "\u001b[34m\u001b[1mtrain: \u001b[0m/home/dani/Desktop/futbol/dataset-det2/images/train/00460.jpg: ignoring corrupt image/label: non-normalized or out of bounds coordinates [1.000014]\n",
      "\u001b[34m\u001b[1mtrain: \u001b[0m/home/dani/Desktop/futbol/dataset-det2/images/train/00466.jpg: ignoring corrupt image/label: non-normalized or out of bounds coordinates [1.0000079]\n",
      "\u001b[34m\u001b[1mtrain: \u001b[0m/home/dani/Desktop/futbol/dataset-det2/images/train/00522.jpg: ignoring corrupt image/label: non-normalized or out of bounds coordinates [1.0000079]\n",
      "\u001b[34m\u001b[1mtrain: \u001b[0m/home/dani/Desktop/futbol/dataset-det2/images/train/00527.jpg: ignoring corrupt image/label: non-normalized or out of bounds coordinates [1.0000079]\n",
      "\u001b[34m\u001b[1mtrain: \u001b[0m/home/dani/Desktop/futbol/dataset-det2/images/train/00535.jpg: ignoring corrupt image/label: non-normalized or out of bounds coordinates [1.0000079]\n",
      "\u001b[34m\u001b[1mtrain: \u001b[0m/home/dani/Desktop/futbol/dataset-det2/images/train/00566.jpg: ignoring corrupt image/label: non-normalized or out of bounds coordinates [1.0000079]\n",
      "\u001b[34m\u001b[1mtrain: \u001b[0m/home/dani/Desktop/futbol/dataset-det2/images/train/00589.jpg: ignoring corrupt image/label: non-normalized or out of bounds coordinates [1.000014]\n",
      "\u001b[34m\u001b[1mtrain: \u001b[0m/home/dani/Desktop/futbol/dataset-det2/images/train/00605.jpg: ignoring corrupt image/label: non-normalized or out of bounds coordinates [1.000014]\n",
      "\u001b[34m\u001b[1mtrain: \u001b[0m/home/dani/Desktop/futbol/dataset-det2/images/train/00649.jpg: ignoring corrupt image/label: non-normalized or out of bounds coordinates [1.000014]\n",
      "\u001b[34m\u001b[1mtrain: \u001b[0m/home/dani/Desktop/futbol/dataset-det2/images/train/00683.jpg: ignoring corrupt image/label: non-normalized or out of bounds coordinates [1.0000079]\n",
      "\u001b[34m\u001b[1mtrain: \u001b[0m/home/dani/Desktop/futbol/dataset-det2/images/train/00751.jpg: ignoring corrupt image/label: non-normalized or out of bounds coordinates [1.000014]\n",
      "\u001b[34m\u001b[1mtrain: \u001b[0m/home/dani/Desktop/futbol/dataset-det2/images/train/00777.jpg: ignoring corrupt image/label: non-normalized or out of bounds coordinates [1.000014]\n",
      "\u001b[34m\u001b[1mtrain: \u001b[0m/home/dani/Desktop/futbol/dataset-det2/images/train/00788.jpg: ignoring corrupt image/label: non-normalized or out of bounds coordinates [1.0000079]\n",
      "\u001b[34m\u001b[1mtrain: \u001b[0m/home/dani/Desktop/futbol/dataset-det2/images/train/00938.jpg: ignoring corrupt image/label: non-normalized or out of bounds coordinates [1.000014]\n",
      "\u001b[34m\u001b[1mtrain: \u001b[0m/home/dani/Desktop/futbol/dataset-det2/images/train/01012.jpg: ignoring corrupt image/label: non-normalized or out of bounds coordinates [1.0000079]\n",
      "\u001b[34m\u001b[1mtrain: \u001b[0m/home/dani/Desktop/futbol/dataset-det2/images/train/01016.jpg: ignoring corrupt image/label: non-normalized or out of bounds coordinates [1.0023906]\n",
      "\u001b[34m\u001b[1mtrain: \u001b[0m/home/dani/Desktop/futbol/dataset-det2/images/train/01028.jpg: ignoring corrupt image/label: non-normalized or out of bounds coordinates [1.0000079]\n",
      "\u001b[34m\u001b[1mtrain: \u001b[0m/home/dani/Desktop/futbol/dataset-det2/images/train/01100.jpg: ignoring corrupt image/label: non-normalized or out of bounds coordinates [1.0000235]\n",
      "\u001b[34m\u001b[1mtrain: \u001b[0m/home/dani/Desktop/futbol/dataset-det2/images/train/01127.jpg: ignoring corrupt image/label: non-normalized or out of bounds coordinates [1.0000235]\n",
      "\u001b[34m\u001b[1mtrain: \u001b[0m/home/dani/Desktop/futbol/dataset-det2/images/train/01136.jpg: ignoring corrupt image/label: non-normalized or out of bounds coordinates [1.0000235]\n",
      "\u001b[34m\u001b[1mtrain: \u001b[0m/home/dani/Desktop/futbol/dataset-det2/images/train/01139.jpg: ignoring corrupt image/label: non-normalized or out of bounds coordinates [1.0000235]\n",
      "\u001b[34m\u001b[1mtrain: \u001b[0m/home/dani/Desktop/futbol/dataset-det2/images/train/01140.jpg: ignoring corrupt image/label: non-normalized or out of bounds coordinates [1.0000235]\n",
      "\u001b[34m\u001b[1mtrain: \u001b[0m/home/dani/Desktop/futbol/dataset-det2/images/train/01142.jpg: ignoring corrupt image/label: non-normalized or out of bounds coordinates [1.0000235 1.0010304]\n",
      "\u001b[34m\u001b[1mtrain: \u001b[0m/home/dani/Desktop/futbol/dataset-det2/images/train/01144.jpg: ignoring corrupt image/label: non-normalized or out of bounds coordinates [1.0000235 1.0000235]\n",
      "\u001b[34m\u001b[1mtrain: \u001b[0m/home/dani/Desktop/futbol/dataset-det2/images/train/01147.jpg: ignoring corrupt image/label: non-normalized or out of bounds coordinates [1.0000235 1.0000235]\n",
      "\u001b[34m\u001b[1mtrain: \u001b[0m/home/dani/Desktop/futbol/dataset-det2/images/train/01157.jpg: ignoring corrupt image/label: non-normalized or out of bounds coordinates [1.0000079]\n",
      "\u001b[34m\u001b[1mtrain: \u001b[0m/home/dani/Desktop/futbol/dataset-det2/images/train/01172.jpg: ignoring corrupt image/label: non-normalized or out of bounds coordinates [1.0000079]\n",
      "\u001b[34m\u001b[1mtrain: \u001b[0m/home/dani/Desktop/futbol/dataset-det2/images/train/01174.jpg: ignoring corrupt image/label: non-normalized or out of bounds coordinates [1.0000079]\n",
      "\u001b[34m\u001b[1mtrain: \u001b[0m/home/dani/Desktop/futbol/dataset-det2/images/train/01175.jpg: ignoring corrupt image/label: non-normalized or out of bounds coordinates [1.0000079]\n",
      "\u001b[34m\u001b[1mtrain: \u001b[0m/home/dani/Desktop/futbol/dataset-det2/images/train/01201.jpg: ignoring corrupt image/label: non-normalized or out of bounds coordinates [1.000014]\n",
      "\u001b[34m\u001b[1mtrain: \u001b[0m/home/dani/Desktop/futbol/dataset-det2/images/train/01221.jpg: ignoring corrupt image/label: non-normalized or out of bounds coordinates [1.0000079]\n",
      "\u001b[34m\u001b[1mtrain: \u001b[0m/home/dani/Desktop/futbol/dataset-det2/images/train/01243.jpg: ignoring corrupt image/label: non-normalized or out of bounds coordinates [1.000414]\n",
      "\u001b[34m\u001b[1mtrain: \u001b[0m/home/dani/Desktop/futbol/dataset-det2/images/train/01270.jpg: ignoring corrupt image/label: non-normalized or out of bounds coordinates [1.000014]\n",
      "\u001b[34m\u001b[1mtrain: \u001b[0m/home/dani/Desktop/futbol/dataset-det2/images/train/01286.jpg: ignoring corrupt image/label: non-normalized or out of bounds coordinates [1.0000079]\n",
      "\u001b[34m\u001b[1mtrain: \u001b[0m/home/dani/Desktop/futbol/dataset-det2/images/train/01435.jpg: ignoring corrupt image/label: non-normalized or out of bounds coordinates [1.0000156]\n",
      "\u001b[34m\u001b[1mtrain: \u001b[0m/home/dani/Desktop/futbol/dataset-det2/images/train/01449.jpg: ignoring corrupt image/label: non-normalized or out of bounds coordinates [1.000014]\n",
      "\u001b[34m\u001b[1mtrain: \u001b[0m/home/dani/Desktop/futbol/dataset-det2/images/train/01468.jpg: ignoring corrupt image/label: non-normalized or out of bounds coordinates [1.000014]\n",
      "\u001b[34m\u001b[1mtrain: \u001b[0m/home/dani/Desktop/futbol/dataset-det2/images/train/01476.jpg: ignoring corrupt image/label: non-normalized or out of bounds coordinates [1.000014]\n",
      "\u001b[34m\u001b[1mtrain: \u001b[0m/home/dani/Desktop/futbol/dataset-det2/images/train/01541.jpg: ignoring corrupt image/label: non-normalized or out of bounds coordinates [1.000014]\n",
      "\u001b[34m\u001b[1mtrain: \u001b[0m/home/dani/Desktop/futbol/dataset-det2/images/train/01594.jpg: ignoring corrupt image/label: non-normalized or out of bounds coordinates [1.0000079]\n",
      "\u001b[34m\u001b[1mtrain: \u001b[0m/home/dani/Desktop/futbol/dataset-det2/images/train/01629.jpg: ignoring corrupt image/label: non-normalized or out of bounds coordinates [1.004514]\n",
      "\u001b[34m\u001b[1mtrain: \u001b[0m/home/dani/Desktop/futbol/dataset-det2/images/train/01633.jpg: ignoring corrupt image/label: non-normalized or out of bounds coordinates [1.0365001]\n",
      "\u001b[34m\u001b[1mtrain: \u001b[0m/home/dani/Desktop/futbol/dataset-det2/images/train/01635.jpg: ignoring corrupt image/label: non-normalized or out of bounds coordinates [1.0000079]\n",
      "\u001b[34m\u001b[1mtrain: \u001b[0m/home/dani/Desktop/futbol/dataset-det2/images/train/01640.jpg: ignoring corrupt image/label: negative label values [-0.00113889]\n",
      "\u001b[34m\u001b[1mtrain: \u001b[0m/home/dani/Desktop/futbol/dataset-det2/images/train/01648.jpg: ignoring corrupt image/label: non-normalized or out of bounds coordinates [1.000014]\n",
      "\u001b[34m\u001b[1mtrain: \u001b[0m/home/dani/Desktop/futbol/dataset-det2/images/train/01651.jpg: ignoring corrupt image/label: non-normalized or out of bounds coordinates [1.000014]\n",
      "\u001b[34m\u001b[1mtrain: \u001b[0m/home/dani/Desktop/futbol/dataset-det2/images/train/01656.jpg: ignoring corrupt image/label: non-normalized or out of bounds coordinates [1.0000079 1.0000079]\n",
      "\u001b[34m\u001b[1mtrain: \u001b[0m/home/dani/Desktop/futbol/dataset-det2/images/train/01678.jpg: ignoring corrupt image/label: non-normalized or out of bounds coordinates [1.000014]\n",
      "\u001b[34m\u001b[1mtrain: \u001b[0m/home/dani/Desktop/futbol/dataset-det2/images/train/01683.jpg: ignoring corrupt image/label: non-normalized or out of bounds coordinates [1.000014]\n",
      "\u001b[34m\u001b[1mtrain: \u001b[0m/home/dani/Desktop/futbol/dataset-det2/images/train/01689.jpg: ignoring corrupt image/label: non-normalized or out of bounds coordinates [1.000014]\n",
      "\u001b[34m\u001b[1mtrain: \u001b[0m/home/dani/Desktop/futbol/dataset-det2/images/train/01692.jpg: ignoring corrupt image/label: non-normalized or out of bounds coordinates [1.000014]\n",
      "\u001b[34m\u001b[1mtrain: \u001b[0m/home/dani/Desktop/futbol/dataset-det2/images/train/01693.jpg: ignoring corrupt image/label: non-normalized or out of bounds coordinates [1.000014]\n",
      "\u001b[34m\u001b[1mtrain: \u001b[0m/home/dani/Desktop/futbol/dataset-det2/images/train/01707.jpg: ignoring corrupt image/label: non-normalized or out of bounds coordinates [1.000014]\n",
      "\u001b[34m\u001b[1mtrain: \u001b[0m/home/dani/Desktop/futbol/dataset-det2/images/train/01750.jpg: ignoring corrupt image/label: non-normalized or out of bounds coordinates [1.0000079]\n",
      "\u001b[34m\u001b[1mtrain: \u001b[0m/home/dani/Desktop/futbol/dataset-det2/images/train/01812.jpg: ignoring corrupt image/label: non-normalized or out of bounds coordinates [1.0000001]\n",
      "\u001b[34m\u001b[1mtrain: \u001b[0m/home/dani/Desktop/futbol/dataset-det2/images/train/01899.jpg: ignoring corrupt image/label: non-normalized or out of bounds coordinates [1.000014]\n",
      "\u001b[34m\u001b[1mtrain: \u001b[0m/home/dani/Desktop/futbol/dataset-det2/images/train/01923.jpg: ignoring corrupt image/label: non-normalized or out of bounds coordinates [1.0000001]\n",
      "\u001b[34m\u001b[1mtrain: \u001b[0m/home/dani/Desktop/futbol/dataset-det2/images/train/01971.jpg: ignoring corrupt image/label: non-normalized or out of bounds coordinates [1.0000156]\n",
      "\u001b[34m\u001b[1mtrain: \u001b[0m/home/dani/Desktop/futbol/dataset-det2/images/train/01975.jpg: ignoring corrupt image/label: non-normalized or out of bounds coordinates [1.0000079]\n",
      "\u001b[34m\u001b[1mtrain: \u001b[0m/home/dani/Desktop/futbol/dataset-det2/images/train/02016.jpg: ignoring corrupt image/label: non-normalized or out of bounds coordinates [1.0000079]\n",
      "\u001b[34m\u001b[1mtrain: \u001b[0m/home/dani/Desktop/futbol/dataset-det2/images/train/02022.jpg: ignoring corrupt image/label: non-normalized or out of bounds coordinates [1.000014]\n",
      "\u001b[34m\u001b[1mtrain: \u001b[0m/home/dani/Desktop/futbol/dataset-det2/images/train/02521.jpg: ignoring corrupt image/label: non-normalized or out of bounds coordinates [1.0000079]\n",
      "\u001b[34m\u001b[1mtrain: \u001b[0m/home/dani/Desktop/futbol/dataset-det2/images/train/02526.jpg: ignoring corrupt image/label: non-normalized or out of bounds coordinates [1.0000079 1.0000079 1.0000079]\n",
      "\u001b[34m\u001b[1mtrain: \u001b[0m/home/dani/Desktop/futbol/dataset-det2/images/train/02530.jpg: ignoring corrupt image/label: non-normalized or out of bounds coordinates [1.0000079]\n",
      "\u001b[34m\u001b[1mtrain: \u001b[0m/home/dani/Desktop/futbol/dataset-det2/images/train/02604.jpg: ignoring corrupt image/label: non-normalized or out of bounds coordinates [1.000014]\n",
      "\u001b[34m\u001b[1mtrain: \u001b[0m/home/dani/Desktop/futbol/dataset-det2/images/train/02643.jpg: ignoring corrupt image/label: non-normalized or out of bounds coordinates [1.0000079]\n",
      "\u001b[34m\u001b[1mtrain: \u001b[0m/home/dani/Desktop/futbol/dataset-det2/images/train/02670.jpg: ignoring corrupt image/label: non-normalized or out of bounds coordinates [1.011789]\n",
      "\u001b[34m\u001b[1mtrain: \u001b[0m/home/dani/Desktop/futbol/dataset-det2/images/train/02819.jpg: ignoring corrupt image/label: non-normalized or out of bounds coordinates [1.0000079]\n",
      "\u001b[34m\u001b[1mtrain: \u001b[0m/home/dani/Desktop/futbol/dataset-det2/images/train/02844.jpg: ignoring corrupt image/label: non-normalized or out of bounds coordinates [1.0000079]\n",
      "\u001b[34m\u001b[1mtrain: \u001b[0m/home/dani/Desktop/futbol/dataset-det2/images/train/02845.jpg: ignoring corrupt image/label: non-normalized or out of bounds coordinates [1.0000079]\n",
      "\u001b[34m\u001b[1mtrain: \u001b[0m/home/dani/Desktop/futbol/dataset-det2/images/train/02847.jpg: ignoring corrupt image/label: non-normalized or out of bounds coordinates [1.0000079]\n",
      "\u001b[34m\u001b[1mtrain: \u001b[0m/home/dani/Desktop/futbol/dataset-det2/images/train/02855.jpg: ignoring corrupt image/label: non-normalized or out of bounds coordinates [1.0000079]\n",
      "\u001b[34m\u001b[1mtrain: \u001b[0m/home/dani/Desktop/futbol/dataset-det2/images/train/02874.jpg: ignoring corrupt image/label: non-normalized or out of bounds coordinates [1.0000079]\n",
      "\u001b[34m\u001b[1mtrain: \u001b[0m/home/dani/Desktop/futbol/dataset-det2/images/train/02880.jpg: ignoring corrupt image/label: non-normalized or out of bounds coordinates [1.000014]\n",
      "\u001b[34m\u001b[1mtrain: \u001b[0m/home/dani/Desktop/futbol/dataset-det2/images/train/02891.jpg: ignoring corrupt image/label: non-normalized or out of bounds coordinates [1.000014]\n",
      "\u001b[34m\u001b[1mtrain: \u001b[0m/home/dani/Desktop/futbol/dataset-det2/images/train/03067.jpg: ignoring corrupt image/label: non-normalized or out of bounds coordinates [1.0000079]\n",
      "\u001b[34m\u001b[1mtrain: \u001b[0m/home/dani/Desktop/futbol/dataset-det2/images/train/03105.jpg: ignoring corrupt image/label: non-normalized or out of bounds coordinates [1.0000079]\n",
      "\u001b[34m\u001b[1mtrain: \u001b[0m/home/dani/Desktop/futbol/dataset-det2/images/train/03200.jpg: ignoring corrupt image/label: non-normalized or out of bounds coordinates [1.0012734]\n",
      "\u001b[34m\u001b[1mtrain: \u001b[0m/home/dani/Desktop/futbol/dataset-det2/images/train/03212.jpg: ignoring corrupt image/label: non-normalized or out of bounds coordinates [1.0000079]\n",
      "\u001b[34m\u001b[1mtrain: \u001b[0m/home/dani/Desktop/futbol/dataset-det2/images/train/03294.jpg: ignoring corrupt image/label: non-normalized or out of bounds coordinates [1.0000079]\n",
      "\u001b[34m\u001b[1mtrain: \u001b[0m/home/dani/Desktop/futbol/dataset-det2/images/train/03297.jpg: ignoring corrupt image/label: non-normalized or out of bounds coordinates [1.0000079 1.0000077]\n",
      "\u001b[34m\u001b[1mtrain: \u001b[0m/home/dani/Desktop/futbol/dataset-det2/images/train/03323.jpg: ignoring corrupt image/label: non-normalized or out of bounds coordinates [1.0000174]\n",
      "\u001b[34m\u001b[1mtrain: \u001b[0m/home/dani/Desktop/futbol/dataset-det2/images/train/03326.jpg: ignoring corrupt image/label: non-normalized or out of bounds coordinates [1.0000174]\n",
      "\u001b[34m\u001b[1mtrain: \u001b[0m/home/dani/Desktop/futbol/dataset-det2/images/train/03458.jpg: ignoring corrupt image/label: non-normalized or out of bounds coordinates [1.000014]\n",
      "\u001b[34m\u001b[1mtrain: \u001b[0m/home/dani/Desktop/futbol/dataset-det2/images/train/03540.jpg: ignoring corrupt image/label: non-normalized or out of bounds coordinates [1.0000079]\n",
      "\u001b[34m\u001b[1mtrain: \u001b[0m/home/dani/Desktop/futbol/dataset-det2/images/train/03619.jpg: ignoring corrupt image/label: non-normalized or out of bounds coordinates [1.000014]\n",
      "\u001b[34m\u001b[1mtrain: \u001b[0m/home/dani/Desktop/futbol/dataset-det2/images/train/03645.jpg: ignoring corrupt image/label: non-normalized or out of bounds coordinates [1.0000079]\n",
      "\u001b[34m\u001b[1mtrain: \u001b[0m/home/dani/Desktop/futbol/dataset-det2/images/train/03708.jpg: ignoring corrupt image/label: non-normalized or out of bounds coordinates [1.0000156]\n",
      "\u001b[34m\u001b[1mtrain: \u001b[0m/home/dani/Desktop/futbol/dataset-det2/images/train/03748.jpg: ignoring corrupt image/label: non-normalized or out of bounds coordinates [1.000014]\n",
      "\u001b[34m\u001b[1mtrain: \u001b[0m/home/dani/Desktop/futbol/dataset-det2/images/train/03864.jpg: ignoring corrupt image/label: non-normalized or out of bounds coordinates [1.000014]\n",
      "\u001b[34m\u001b[1mtrain: \u001b[0m/home/dani/Desktop/futbol/dataset-det2/images/train/03869.jpg: ignoring corrupt image/label: non-normalized or out of bounds coordinates [1.000014]\n",
      "\u001b[34m\u001b[1mtrain: \u001b[0m/home/dani/Desktop/futbol/dataset-det2/images/train/03967.jpg: ignoring corrupt image/label: non-normalized or out of bounds coordinates [1.0000079]\n",
      "\u001b[34m\u001b[1mtrain: \u001b[0m/home/dani/Desktop/futbol/dataset-det2/images/train/04004.jpg: ignoring corrupt image/label: non-normalized or out of bounds coordinates [1.000014]\n",
      "\u001b[34m\u001b[1mtrain: \u001b[0m/home/dani/Desktop/futbol/dataset-det2/images/train/04103.jpg: ignoring corrupt image/label: non-normalized or out of bounds coordinates [1.000014]\n",
      "\u001b[34m\u001b[1mtrain: \u001b[0m/home/dani/Desktop/futbol/dataset-det2/images/train/04107.jpg: ignoring corrupt image/label: non-normalized or out of bounds coordinates [1.000014]\n",
      "\u001b[34m\u001b[1mtrain: \u001b[0m/home/dani/Desktop/futbol/dataset-det2/images/train/04269.jpg: ignoring corrupt image/label: non-normalized or out of bounds coordinates [1.0000079]\n",
      "\u001b[34m\u001b[1mtrain: \u001b[0m/home/dani/Desktop/futbol/dataset-det2/images/train/04321.jpg: ignoring corrupt image/label: non-normalized or out of bounds coordinates [1.0000079]\n",
      "\u001b[34m\u001b[1mtrain: \u001b[0m/home/dani/Desktop/futbol/dataset-det2/images/train/04384.jpg: ignoring corrupt image/label: non-normalized or out of bounds coordinates [1.0000079]\n",
      "\u001b[34m\u001b[1mtrain: \u001b[0m/home/dani/Desktop/futbol/dataset-det2/images/train/04480.jpg: ignoring corrupt image/label: non-normalized or out of bounds coordinates [1.0000079]\n",
      "\u001b[34m\u001b[1mtrain: \u001b[0m/home/dani/Desktop/futbol/dataset-det2/images/train/04496.jpg: ignoring corrupt image/label: non-normalized or out of bounds coordinates [1.0000079]\n",
      "\u001b[34m\u001b[1mtrain: \u001b[0m/home/dani/Desktop/futbol/dataset-det2/images/train/04551.jpg: ignoring corrupt image/label: non-normalized or out of bounds coordinates [1.0000079]\n",
      "\u001b[34m\u001b[1mtrain: \u001b[0m/home/dani/Desktop/futbol/dataset-det2/images/train/04558.jpg: ignoring corrupt image/label: non-normalized or out of bounds coordinates [1.0000079]\n",
      "\u001b[34m\u001b[1mtrain: \u001b[0m/home/dani/Desktop/futbol/dataset-det2/images/train/04570.jpg: ignoring corrupt image/label: non-normalized or out of bounds coordinates [1.0000156]\n",
      "\u001b[34m\u001b[1mtrain: \u001b[0m/home/dani/Desktop/futbol/dataset-det2/images/train/04578.jpg: ignoring corrupt image/label: non-normalized or out of bounds coordinates [1.0088906]\n",
      "\u001b[34m\u001b[1mtrain: \u001b[0m/home/dani/Desktop/futbol/dataset-det2/images/train/04587.jpg: ignoring corrupt image/label: non-normalized or out of bounds coordinates [1.0000156 1.0000156]\n",
      "\u001b[34m\u001b[1mtrain: \u001b[0m/home/dani/Desktop/futbol/dataset-det2/images/train/04592.jpg: ignoring corrupt image/label: non-normalized or out of bounds coordinates [1.0000079]\n",
      "\u001b[34m\u001b[1mtrain: \u001b[0m/home/dani/Desktop/futbol/dataset-det2/images/train/04593.jpg: ignoring corrupt image/label: non-normalized or out of bounds coordinates [1.0000156]\n",
      "\u001b[34m\u001b[1mtrain: \u001b[0m/home/dani/Desktop/futbol/dataset-det2/images/train/04594.jpg: ignoring corrupt image/label: non-normalized or out of bounds coordinates [1.0000156]\n",
      "\u001b[34m\u001b[1mtrain: \u001b[0m/home/dani/Desktop/futbol/dataset-det2/images/train/04599.jpg: ignoring corrupt image/label: non-normalized or out of bounds coordinates [1.0000156]\n",
      "\u001b[34m\u001b[1mtrain: \u001b[0m/home/dani/Desktop/futbol/dataset-det2/images/train/04601.jpg: ignoring corrupt image/label: non-normalized or out of bounds coordinates [1.0000156 1.0000079]\n",
      "\u001b[34m\u001b[1mtrain: \u001b[0m/home/dani/Desktop/futbol/dataset-det2/images/train/04605.jpg: ignoring corrupt image/label: non-normalized or out of bounds coordinates [1.0000156]\n",
      "\u001b[34m\u001b[1mtrain: \u001b[0m/home/dani/Desktop/futbol/dataset-det2/images/train/04616.jpg: ignoring corrupt image/label: non-normalized or out of bounds coordinates [1.0000156]\n",
      "\u001b[34m\u001b[1mtrain: \u001b[0m/home/dani/Desktop/futbol/dataset-det2/images/train/04617.jpg: ignoring corrupt image/label: non-normalized or out of bounds coordinates [1.0000156 1.0000156 1.0000156]\n",
      "\u001b[34m\u001b[1mtrain: \u001b[0m/home/dani/Desktop/futbol/dataset-det2/images/train/04619.jpg: ignoring corrupt image/label: non-normalized or out of bounds coordinates [1.0000079]\n",
      "\u001b[34m\u001b[1mtrain: \u001b[0m/home/dani/Desktop/futbol/dataset-det2/images/train/04621.jpg: ignoring corrupt image/label: non-normalized or out of bounds coordinates [1.0000156]\n",
      "\u001b[34m\u001b[1mtrain: \u001b[0m/home/dani/Desktop/futbol/dataset-det2/images/train/04667.jpg: ignoring corrupt image/label: non-normalized or out of bounds coordinates [1.0000156]\n",
      "\u001b[34m\u001b[1mtrain: \u001b[0m/home/dani/Desktop/futbol/dataset-det2/images/train/04672.jpg: ignoring corrupt image/label: non-normalized or out of bounds coordinates [1.0000079]\n",
      "\u001b[34m\u001b[1mtrain: \u001b[0m/home/dani/Desktop/futbol/dataset-det2/images/train/04715.jpg: ignoring corrupt image/label: non-normalized or out of bounds coordinates [1.0000079]\n",
      "\u001b[34m\u001b[1mtrain: \u001b[0m/home/dani/Desktop/futbol/dataset-det2/images/train/04728.jpg: ignoring corrupt image/label: non-normalized or out of bounds coordinates [1.0000079]\n",
      "\u001b[34m\u001b[1mtrain: \u001b[0m/home/dani/Desktop/futbol/dataset-det2/images/train/04733.jpg: ignoring corrupt image/label: non-normalized or out of bounds coordinates [1.0000079]\n",
      "\u001b[34m\u001b[1mtrain: \u001b[0m/home/dani/Desktop/futbol/dataset-det2/images/train/04745.jpg: ignoring corrupt image/label: non-normalized or out of bounds coordinates [1.0000077]\n",
      "\u001b[34m\u001b[1mtrain: \u001b[0m/home/dani/Desktop/futbol/dataset-det2/images/train/04806.jpg: ignoring corrupt image/label: non-normalized or out of bounds coordinates [1.0000079]\n",
      "\u001b[34m\u001b[1mtrain: \u001b[0m/home/dani/Desktop/futbol/dataset-det2/images/train/04926.jpg: ignoring corrupt image/label: non-normalized or out of bounds coordinates [1.000014]\n",
      "\u001b[34m\u001b[1mtrain: \u001b[0m/home/dani/Desktop/futbol/dataset-det2/images/train/05000.jpg: ignoring corrupt image/label: non-normalized or out of bounds coordinates [1.0000079]\n",
      "\u001b[34m\u001b[1mtrain: \u001b[0m/home/dani/Desktop/futbol/dataset-det2/images/train/05130.jpg: ignoring corrupt image/label: non-normalized or out of bounds coordinates [1.0000077]\n",
      "\u001b[34m\u001b[1mtrain: \u001b[0m/home/dani/Desktop/futbol/dataset-det2/images/train/05137.jpg: ignoring corrupt image/label: non-normalized or out of bounds coordinates [1.0000079]\n",
      "\u001b[34m\u001b[1mtrain: \u001b[0m/home/dani/Desktop/futbol/dataset-det2/images/train/05140.jpg: ignoring corrupt image/label: non-normalized or out of bounds coordinates [1.0000079]\n",
      "\u001b[34m\u001b[1mtrain: \u001b[0m/home/dani/Desktop/futbol/dataset-det2/images/train/05162.jpg: ignoring corrupt image/label: non-normalized or out of bounds coordinates [1.0000156]\n",
      "\u001b[34m\u001b[1mtrain: \u001b[0m/home/dani/Desktop/futbol/dataset-det2/images/train/05183.jpg: ignoring corrupt image/label: non-normalized or out of bounds coordinates [1.0000079]\n",
      "\u001b[34m\u001b[1mtrain: \u001b[0m/home/dani/Desktop/futbol/dataset-det2/images/train/05196.jpg: ignoring corrupt image/label: non-normalized or out of bounds coordinates [1.000014]\n",
      "\u001b[34m\u001b[1mtrain: \u001b[0m/home/dani/Desktop/futbol/dataset-det2/images/train/05227.jpg: ignoring corrupt image/label: non-normalized or out of bounds coordinates [1.0000156]\n",
      "\u001b[34m\u001b[1mtrain: \u001b[0m/home/dani/Desktop/futbol/dataset-det2/images/train/05230.jpg: ignoring corrupt image/label: non-normalized or out of bounds coordinates [1.0000079]\n",
      "\u001b[34m\u001b[1mtrain: \u001b[0m/home/dani/Desktop/futbol/dataset-det2/images/train/05257.jpg: ignoring corrupt image/label: non-normalized or out of bounds coordinates [1.0000156 1.0000156]\n",
      "\u001b[34m\u001b[1mtrain: \u001b[0m/home/dani/Desktop/futbol/dataset-det2/images/train/05259.jpg: ignoring corrupt image/label: non-normalized or out of bounds coordinates [1.0000079]\n",
      "\u001b[34m\u001b[1mtrain: \u001b[0m/home/dani/Desktop/futbol/dataset-det2/images/train/05263.jpg: ignoring corrupt image/label: non-normalized or out of bounds coordinates [1.0000156 1.0000156]\n",
      "\u001b[34m\u001b[1mtrain: \u001b[0m/home/dani/Desktop/futbol/dataset-det2/images/train/05291.jpg: ignoring corrupt image/label: non-normalized or out of bounds coordinates [1.000014]\n",
      "\u001b[34m\u001b[1mtrain: \u001b[0m/home/dani/Desktop/futbol/dataset-det2/images/train/05419.jpg: ignoring corrupt image/label: non-normalized or out of bounds coordinates [1.000014]\n",
      "\u001b[34m\u001b[1mtrain: \u001b[0m/home/dani/Desktop/futbol/dataset-det2/images/train/05442.jpg: ignoring corrupt image/label: non-normalized or out of bounds coordinates [1.000014]\n",
      "\u001b[34m\u001b[1mtrain: \u001b[0m/home/dani/Desktop/futbol/dataset-det2/images/train/05466.jpg: ignoring corrupt image/label: non-normalized or out of bounds coordinates [1.000014]\n",
      "\u001b[34m\u001b[1mtrain: \u001b[0m/home/dani/Desktop/futbol/dataset-det2/images/train/05496.jpg: ignoring corrupt image/label: non-normalized or out of bounds coordinates [1.000014]\n",
      "\u001b[34m\u001b[1mtrain: \u001b[0m/home/dani/Desktop/futbol/dataset-det2/images/train/05502.jpg: ignoring corrupt image/label: non-normalized or out of bounds coordinates [1.000014]\n",
      "\u001b[34m\u001b[1mtrain: \u001b[0m/home/dani/Desktop/futbol/dataset-det2/images/train/05523.jpg: ignoring corrupt image/label: non-normalized or out of bounds coordinates [1.000014]\n",
      "\u001b[34m\u001b[1mtrain: \u001b[0m/home/dani/Desktop/futbol/dataset-det2/images/train/05525.jpg: ignoring corrupt image/label: non-normalized or out of bounds coordinates [1.000014]\n",
      "\u001b[34m\u001b[1mtrain: \u001b[0m/home/dani/Desktop/futbol/dataset-det2/images/train/05532.jpg: ignoring corrupt image/label: non-normalized or out of bounds coordinates [1.000014]\n",
      "\u001b[34m\u001b[1mtrain: \u001b[0m/home/dani/Desktop/futbol/dataset-det2/images/train/05583.jpg: ignoring corrupt image/label: non-normalized or out of bounds coordinates [1.0000079]\n",
      "\u001b[34m\u001b[1mtrain: \u001b[0m/home/dani/Desktop/futbol/dataset-det2/images/train/05597.jpg: ignoring corrupt image/label: non-normalized or out of bounds coordinates [1.0000156]\n",
      "\u001b[34m\u001b[1mtrain: \u001b[0m/home/dani/Desktop/futbol/dataset-det2/images/train/05606.jpg: ignoring corrupt image/label: non-normalized or out of bounds coordinates [1.0000079]\n",
      "\u001b[34m\u001b[1mtrain: \u001b[0m/home/dani/Desktop/futbol/dataset-det2/images/train/05686.jpg: ignoring corrupt image/label: non-normalized or out of bounds coordinates [1.0000079]\n",
      "\u001b[34m\u001b[1mtrain: \u001b[0m/home/dani/Desktop/futbol/dataset-det2/images/train/05736.jpg: ignoring corrupt image/label: non-normalized or out of bounds coordinates [1.0000079]\n",
      "\u001b[34m\u001b[1mtrain: \u001b[0m/home/dani/Desktop/futbol/dataset-det2/images/train/05754.jpg: ignoring corrupt image/label: non-normalized or out of bounds coordinates [1.0000079]\n",
      "\u001b[34m\u001b[1mtrain: \u001b[0m/home/dani/Desktop/futbol/dataset-det2/images/train/05755.jpg: ignoring corrupt image/label: non-normalized or out of bounds coordinates [1.000014]\n",
      "\u001b[34m\u001b[1mtrain: \u001b[0m/home/dani/Desktop/futbol/dataset-det2/images/train/05757.jpg: ignoring corrupt image/label: non-normalized or out of bounds coordinates [1.000014]\n",
      "\u001b[34m\u001b[1mtrain: \u001b[0m/home/dani/Desktop/futbol/dataset-det2/images/train/05758.jpg: ignoring corrupt image/label: non-normalized or out of bounds coordinates [1.000014]\n",
      "\u001b[34m\u001b[1mtrain: \u001b[0m/home/dani/Desktop/futbol/dataset-det2/images/train/05763.jpg: ignoring corrupt image/label: non-normalized or out of bounds coordinates [1.000014]\n",
      "\u001b[34m\u001b[1mtrain: \u001b[0m/home/dani/Desktop/futbol/dataset-det2/images/train/05769.jpg: ignoring corrupt image/label: non-normalized or out of bounds coordinates [1.000014]\n",
      "\u001b[34m\u001b[1mtrain: \u001b[0m/home/dani/Desktop/futbol/dataset-det2/images/train/05780.jpg: ignoring corrupt image/label: non-normalized or out of bounds coordinates [1.000014]\n",
      "\u001b[34m\u001b[1mtrain: \u001b[0m/home/dani/Desktop/futbol/dataset-det2/images/train/05796.jpg: ignoring corrupt image/label: non-normalized or out of bounds coordinates [1.0033889]\n",
      "\u001b[34m\u001b[1mtrain: \u001b[0m/home/dani/Desktop/futbol/dataset-det2/images/train/05804.jpg: ignoring corrupt image/label: non-normalized or out of bounds coordinates [1.000014]\n",
      "\u001b[34m\u001b[1mtrain: \u001b[0m/home/dani/Desktop/futbol/dataset-det2/images/train/05807.jpg: ignoring corrupt image/label: non-normalized or out of bounds coordinates [1.000014]\n",
      "\u001b[34m\u001b[1mtrain: \u001b[0m/home/dani/Desktop/futbol/dataset-det2/images/train/05833.jpg: ignoring corrupt image/label: non-normalized or out of bounds coordinates [1.000014]\n",
      "\u001b[34m\u001b[1mtrain: \u001b[0m/home/dani/Desktop/futbol/dataset-det2/images/train/06095.jpg: ignoring corrupt image/label: non-normalized or out of bounds coordinates [1.000014]\n",
      "\u001b[34m\u001b[1mtrain: \u001b[0m/home/dani/Desktop/futbol/dataset-det2/images/train/06181.jpg: ignoring corrupt image/label: non-normalized or out of bounds coordinates [1.0000093]\n",
      "\u001b[34m\u001b[1mtrain: \u001b[0m/home/dani/Desktop/futbol/dataset-det2/images/train/06183.jpg: ignoring corrupt image/label: non-normalized or out of bounds coordinates [1.0000093]\n",
      "\u001b[34m\u001b[1mtrain: \u001b[0m/home/dani/Desktop/futbol/dataset-det2/images/train/06188.jpg: ignoring corrupt image/label: non-normalized or out of bounds coordinates [1.0000093]\n",
      "\u001b[34m\u001b[1mtrain: \u001b[0m/home/dani/Desktop/futbol/dataset-det2/images/train/06206.jpg: ignoring corrupt image/label: non-normalized or out of bounds coordinates [1.0000079]\n",
      "\u001b[34m\u001b[1mtrain: \u001b[0m/home/dani/Desktop/futbol/dataset-det2/images/train/06248.jpg: ignoring corrupt image/label: non-normalized or out of bounds coordinates [1.0000093]\n",
      "\u001b[34m\u001b[1mtrain: \u001b[0m/home/dani/Desktop/futbol/dataset-det2/images/train/06249.jpg: ignoring corrupt image/label: non-normalized or out of bounds coordinates [1.0000093]\n",
      "\u001b[34m\u001b[1mtrain: \u001b[0m/home/dani/Desktop/futbol/dataset-det2/images/train/06259.jpg: ignoring corrupt image/label: non-normalized or out of bounds coordinates [1.0000093]\n",
      "\u001b[34m\u001b[1mtrain: \u001b[0m/home/dani/Desktop/futbol/dataset-det2/images/train/06283.jpg: ignoring corrupt image/label: non-normalized or out of bounds coordinates [1.0000093]\n",
      "\u001b[34m\u001b[1mtrain: \u001b[0m/home/dani/Desktop/futbol/dataset-det2/images/train/06286.jpg: ignoring corrupt image/label: non-normalized or out of bounds coordinates [1.0000093]\n",
      "\u001b[34m\u001b[1mtrain: \u001b[0m/home/dani/Desktop/futbol/dataset-det2/images/train/06290.jpg: ignoring corrupt image/label: non-normalized or out of bounds coordinates [1.0000093]\n",
      "\u001b[34m\u001b[1mtrain: \u001b[0m/home/dani/Desktop/futbol/dataset-det2/images/train/06299.jpg: ignoring corrupt image/label: non-normalized or out of bounds coordinates [1.000014]\n",
      "\u001b[34m\u001b[1mtrain: \u001b[0m/home/dani/Desktop/futbol/dataset-det2/images/train/06325.jpg: ignoring corrupt image/label: non-normalized or out of bounds coordinates [1.000014]\n",
      "\u001b[34m\u001b[1mtrain: \u001b[0m/home/dani/Desktop/futbol/dataset-det2/images/train/06326.jpg: ignoring corrupt image/label: non-normalized or out of bounds coordinates [1.000014]\n",
      "\u001b[34m\u001b[1mtrain: \u001b[0m/home/dani/Desktop/futbol/dataset-det2/images/train/06331.jpg: ignoring corrupt image/label: non-normalized or out of bounds coordinates [1.000014]\n",
      "\u001b[34m\u001b[1mtrain: \u001b[0m/home/dani/Desktop/futbol/dataset-det2/images/train/06433.jpg: ignoring corrupt image/label: non-normalized or out of bounds coordinates [1.0000052 1.0000052]\n",
      "\u001b[34m\u001b[1mtrain: \u001b[0m/home/dani/Desktop/futbol/dataset-det2/images/train/06458.jpg: ignoring corrupt image/label: non-normalized or out of bounds coordinates [1.0000104]\n",
      "\u001b[34m\u001b[1mtrain: \u001b[0m/home/dani/Desktop/futbol/dataset-det2/images/train/06472.jpg: ignoring corrupt image/label: non-normalized or out of bounds coordinates [1.0000079]\n",
      "\u001b[34m\u001b[1mtrain: \u001b[0m/home/dani/Desktop/futbol/dataset-det2/images/train/06479.jpg: ignoring corrupt image/label: non-normalized or out of bounds coordinates [1.0000079]\n",
      "\u001b[34m\u001b[1mtrain: \u001b[0m/home/dani/Desktop/futbol/dataset-det2/images/train/06496.jpg: ignoring corrupt image/label: non-normalized or out of bounds coordinates [1.000014]\n",
      "\u001b[34m\u001b[1mtrain: \u001b[0m/home/dani/Desktop/futbol/dataset-det2/images/train/06499.jpg: ignoring corrupt image/label: non-normalized or out of bounds coordinates [1.000014]\n",
      "\u001b[34m\u001b[1mtrain: \u001b[0m/home/dani/Desktop/futbol/dataset-det2/images/train/06503.jpg: ignoring corrupt image/label: non-normalized or out of bounds coordinates [1.000014]\n",
      "\u001b[34m\u001b[1mtrain: \u001b[0m/home/dani/Desktop/futbol/dataset-det2/images/train/06506.jpg: ignoring corrupt image/label: non-normalized or out of bounds coordinates [1.000014]\n",
      "\u001b[34m\u001b[1mtrain: \u001b[0m/home/dani/Desktop/futbol/dataset-det2/images/train/06527.jpg: ignoring corrupt image/label: non-normalized or out of bounds coordinates [1.000014]\n",
      "\u001b[34m\u001b[1mtrain: \u001b[0m/home/dani/Desktop/futbol/dataset-det2/images/train/06536.jpg: ignoring corrupt image/label: non-normalized or out of bounds coordinates [1.000014]\n",
      "\u001b[34m\u001b[1mtrain: \u001b[0m/home/dani/Desktop/futbol/dataset-det2/images/train/06562.jpg: ignoring corrupt image/label: non-normalized or out of bounds coordinates [1.000014]\n",
      "\u001b[34m\u001b[1mtrain: \u001b[0m/home/dani/Desktop/futbol/dataset-det2/images/train/06644.jpg: ignoring corrupt image/label: non-normalized or out of bounds coordinates [1.0000052]\n",
      "\u001b[34m\u001b[1mtrain: \u001b[0m/home/dani/Desktop/futbol/dataset-det2/images/train/06656.jpg: ignoring corrupt image/label: non-normalized or out of bounds coordinates [1.0000093]\n",
      "\u001b[34m\u001b[1mtrain: \u001b[0m/home/dani/Desktop/futbol/dataset-det2/images/train/06661.jpg: ignoring corrupt image/label: non-normalized or out of bounds coordinates [1.0000052]\n",
      "\u001b[34m\u001b[1mtrain: \u001b[0m/home/dani/Desktop/futbol/dataset-det2/images/train/06727.jpg: ignoring corrupt image/label: non-normalized or out of bounds coordinates [1.000014]\n",
      "\u001b[34m\u001b[1mtrain: \u001b[0m/home/dani/Desktop/futbol/dataset-det2/images/train/06754.jpg: ignoring corrupt image/label: non-normalized or out of bounds coordinates [1.000014]\n",
      "\u001b[34m\u001b[1mtrain: \u001b[0m/home/dani/Desktop/futbol/dataset-det2/images/train/06978.jpg: ignoring corrupt image/label: non-normalized or out of bounds coordinates [1.000014]\n",
      "\u001b[34m\u001b[1mtrain: \u001b[0m/home/dani/Desktop/futbol/dataset-det2/images/train/07006.jpg: ignoring corrupt image/label: non-normalized or out of bounds coordinates [1.000014]\n",
      "\u001b[34m\u001b[1mtrain: \u001b[0m/home/dani/Desktop/futbol/dataset-det2/images/train/07026.jpg: ignoring corrupt image/label: non-normalized or out of bounds coordinates [1.000014]\n",
      "\u001b[34m\u001b[1mtrain: \u001b[0m/home/dani/Desktop/futbol/dataset-det2/images/train/07028.jpg: ignoring corrupt image/label: non-normalized or out of bounds coordinates [1.000014]\n",
      "\u001b[34m\u001b[1mtrain: \u001b[0m/home/dani/Desktop/futbol/dataset-det2/images/train/07038.jpg: ignoring corrupt image/label: non-normalized or out of bounds coordinates [1.0000156 1.0000156 1.0000156]\n",
      "\u001b[34m\u001b[1mtrain: \u001b[0m/home/dani/Desktop/futbol/dataset-det2/images/train/07040.jpg: ignoring corrupt image/label: non-normalized or out of bounds coordinates [1.0000156]\n",
      "\u001b[34m\u001b[1mtrain: \u001b[0m/home/dani/Desktop/futbol/dataset-det2/images/train/07064.jpg: ignoring corrupt image/label: non-normalized or out of bounds coordinates [1.0000079]\n",
      "\u001b[34m\u001b[1mtrain: \u001b[0m/home/dani/Desktop/futbol/dataset-det2/images/train/07222.jpg: ignoring corrupt image/label: non-normalized or out of bounds coordinates [1.000014]\n",
      "\u001b[34m\u001b[1mtrain: \u001b[0m/home/dani/Desktop/futbol/dataset-det2/images/train/07227.jpg: ignoring corrupt image/label: non-normalized or out of bounds coordinates [1.000014]\n",
      "\u001b[34m\u001b[1mtrain: \u001b[0m/home/dani/Desktop/futbol/dataset-det2/images/train/07231.jpg: ignoring corrupt image/label: non-normalized or out of bounds coordinates [1.000014]\n",
      "\u001b[34m\u001b[1mtrain: \u001b[0m/home/dani/Desktop/futbol/dataset-det2/images/train/07238.jpg: ignoring corrupt image/label: non-normalized or out of bounds coordinates [1.000014 1.000014]\n",
      "\u001b[34m\u001b[1mtrain: \u001b[0m/home/dani/Desktop/futbol/dataset-det2/images/train/07317.jpg: ignoring corrupt image/label: non-normalized or out of bounds coordinates [1.000014]\n",
      "\u001b[34m\u001b[1mtrain: \u001b[0m/home/dani/Desktop/futbol/dataset-det2/images/train/07343.jpg: ignoring corrupt image/label: non-normalized or out of bounds coordinates [1.000014]\n",
      "\u001b[34m\u001b[1mtrain: \u001b[0m/home/dani/Desktop/futbol/dataset-det2/images/train/07344.jpg: ignoring corrupt image/label: non-normalized or out of bounds coordinates [1.000014]\n",
      "\u001b[34m\u001b[1mtrain: \u001b[0m/home/dani/Desktop/futbol/dataset-det2/images/train/07350.jpg: ignoring corrupt image/label: non-normalized or out of bounds coordinates [1.000014]\n",
      "\u001b[34m\u001b[1mtrain: \u001b[0m/home/dani/Desktop/futbol/dataset-det2/images/train/07364.jpg: ignoring corrupt image/label: non-normalized or out of bounds coordinates [1.0000079]\n",
      "\u001b[34m\u001b[1mtrain: \u001b[0m/home/dani/Desktop/futbol/dataset-det2/images/train/07366.jpg: ignoring corrupt image/label: non-normalized or out of bounds coordinates [1.0000156 1.0000156]\n",
      "\u001b[34m\u001b[1mtrain: \u001b[0m/home/dani/Desktop/futbol/dataset-det2/images/train/07368.jpg: ignoring corrupt image/label: non-normalized or out of bounds coordinates [1.0000156 1.0000156]\n",
      "\u001b[34m\u001b[1mtrain: \u001b[0m/home/dani/Desktop/futbol/dataset-det2/images/train/07370.jpg: ignoring corrupt image/label: non-normalized or out of bounds coordinates [1.0000156 1.0000156 1.0000156]\n",
      "\u001b[34m\u001b[1mtrain: \u001b[0m/home/dani/Desktop/futbol/dataset-det2/images/train/07372.jpg: ignoring corrupt image/label: non-normalized or out of bounds coordinates [1.0000156]\n",
      "\u001b[34m\u001b[1mtrain: \u001b[0m/home/dani/Desktop/futbol/dataset-det2/images/train/07379.jpg: ignoring corrupt image/label: non-normalized or out of bounds coordinates [1.0000156]\n",
      "\u001b[34m\u001b[1mtrain: \u001b[0m/home/dani/Desktop/futbol/dataset-det2/images/train/07391.jpg: ignoring corrupt image/label: non-normalized or out of bounds coordinates [1.0000156 1.0000156]\n",
      "\u001b[34m\u001b[1mtrain: \u001b[0m/home/dani/Desktop/futbol/dataset-det2/images/train/07411.jpg: ignoring corrupt image/label: non-normalized or out of bounds coordinates [1.0000156 1.0000156 1.0000156]\n",
      "\u001b[34m\u001b[1mtrain: \u001b[0m/home/dani/Desktop/futbol/dataset-det2/images/train/07419.jpg: ignoring corrupt image/label: non-normalized or out of bounds coordinates [1.0000156 1.0000156]\n",
      "\u001b[34m\u001b[1mtrain: \u001b[0m/home/dani/Desktop/futbol/dataset-det2/images/train/07507.jpg: ignoring corrupt image/label: non-normalized or out of bounds coordinates [1.0045547]\n",
      "\u001b[34m\u001b[1mtrain: \u001b[0m/home/dani/Desktop/futbol/dataset-det2/images/train/07572.jpg: ignoring corrupt image/label: non-normalized or out of bounds coordinates [1.0025556]\n",
      "\u001b[34m\u001b[1mtrain: \u001b[0m/home/dani/Desktop/futbol/dataset-det2/images/train/07614.jpg: ignoring corrupt image/label: non-normalized or out of bounds coordinates [1.0000079]\n",
      "\u001b[34m\u001b[1mtrain: \u001b[0m/home/dani/Desktop/futbol/dataset-det2/images/train/07739.jpg: ignoring corrupt image/label: non-normalized or out of bounds coordinates [1.000014]\n",
      "\u001b[34m\u001b[1mtrain: \u001b[0m/home/dani/Desktop/futbol/dataset-det2/images/train/07769.jpg: ignoring corrupt image/label: non-normalized or out of bounds coordinates [1.000014]\n",
      "\u001b[34m\u001b[1mtrain: \u001b[0m/home/dani/Desktop/futbol/dataset-det2/images/train/07779.jpg: ignoring corrupt image/label: non-normalized or out of bounds coordinates [1.0000079]\n",
      "\u001b[34m\u001b[1mtrain: \u001b[0m/home/dani/Desktop/futbol/dataset-det2/images/train/07797.jpg: ignoring corrupt image/label: non-normalized or out of bounds coordinates [1.0000079]\n",
      "\u001b[34m\u001b[1mtrain: \u001b[0m/home/dani/Desktop/futbol/dataset-det2/images/train/07806.jpg: ignoring corrupt image/label: non-normalized or out of bounds coordinates [1.0000079]\n",
      "\u001b[34m\u001b[1mtrain: \u001b[0m/home/dani/Desktop/futbol/dataset-det2/images/train/07822.jpg: ignoring corrupt image/label: non-normalized or out of bounds coordinates [1.000014]\n",
      "\u001b[34m\u001b[1mtrain: \u001b[0m/home/dani/Desktop/futbol/dataset-det2/images/train/07833.jpg: ignoring corrupt image/label: non-normalized or out of bounds coordinates [1.000014]\n",
      "\u001b[34m\u001b[1mtrain: \u001b[0m/home/dani/Desktop/futbol/dataset-det2/images/train/08045.jpg: ignoring corrupt image/label: non-normalized or out of bounds coordinates [1.000014]\n",
      "\u001b[34m\u001b[1mtrain: \u001b[0m/home/dani/Desktop/futbol/dataset-det2/images/train/08058.jpg: ignoring corrupt image/label: non-normalized or out of bounds coordinates [1.000014]\n",
      "\u001b[34m\u001b[1mtrain: \u001b[0m/home/dani/Desktop/futbol/dataset-det2/images/train/08243.jpg: ignoring corrupt image/label: non-normalized or out of bounds coordinates [1.0000093]\n",
      "\u001b[34m\u001b[1mtrain: \u001b[0m/home/dani/Desktop/futbol/dataset-det2/images/train/08410.jpg: ignoring corrupt image/label: non-normalized or out of bounds coordinates [1.0012188]\n",
      "\u001b[34m\u001b[1mtrain: \u001b[0m/home/dani/Desktop/futbol/dataset-det2/images/train/08426.jpg: ignoring corrupt image/label: non-normalized or out of bounds coordinates [1.0012265]\n",
      "\u001b[34m\u001b[1mtrain: \u001b[0m/home/dani/Desktop/futbol/dataset-det2/images/train/08454.jpg: ignoring corrupt image/label: non-normalized or out of bounds coordinates [1.000014]\n",
      "\u001b[34m\u001b[1mtrain: \u001b[0m/home/dani/Desktop/futbol/dataset-det2/images/train/08497.jpg: ignoring corrupt image/label: non-normalized or out of bounds coordinates [1.0000079]\n",
      "\u001b[34m\u001b[1mtrain: \u001b[0m/home/dani/Desktop/futbol/dataset-det2/images/train/08538.jpg: ignoring corrupt image/label: non-normalized or out of bounds coordinates [1.000014]\n",
      "\u001b[34m\u001b[1mtrain: \u001b[0m/home/dani/Desktop/futbol/dataset-det2/images/train/08688.jpg: ignoring corrupt image/label: non-normalized or out of bounds coordinates [1.0000079]\n",
      "\u001b[34m\u001b[1mtrain: \u001b[0m/home/dani/Desktop/futbol/dataset-det2/images/train/08810.jpg: ignoring corrupt image/label: non-normalized or out of bounds coordinates [1.0000104]\n",
      "\u001b[34m\u001b[1mtrain: \u001b[0m/home/dani/Desktop/futbol/dataset-det2/images/train/08976.jpg: ignoring corrupt image/label: non-normalized or out of bounds coordinates [1.0000093]\n",
      "\u001b[34m\u001b[1mtrain: \u001b[0m/home/dani/Desktop/futbol/dataset-det2/images/train/08981.jpg: ignoring corrupt image/label: non-normalized or out of bounds coordinates [1.0000093]\n",
      "\u001b[34m\u001b[1mtrain: \u001b[0m/home/dani/Desktop/futbol/dataset-det2/images/train/09020.jpg: ignoring corrupt image/label: non-normalized or out of bounds coordinates [1.0000093]\n",
      "\u001b[34m\u001b[1mtrain: \u001b[0m/home/dani/Desktop/futbol/dataset-det2/images/train/09069.jpg: ignoring corrupt image/label: non-normalized or out of bounds coordinates [1.0000093]\n",
      "\u001b[34m\u001b[1mtrain: \u001b[0m/home/dani/Desktop/futbol/dataset-det2/images/train/09071.jpg: ignoring corrupt image/label: non-normalized or out of bounds coordinates [1.0000093]\n",
      "\u001b[34m\u001b[1mtrain: \u001b[0m/home/dani/Desktop/futbol/dataset-det2/images/train/09081.jpg: ignoring corrupt image/label: non-normalized or out of bounds coordinates [1.0000093]\n",
      "\u001b[34m\u001b[1mtrain: \u001b[0m/home/dani/Desktop/futbol/dataset-det2/images/train/09173.jpg: ignoring corrupt image/label: non-normalized or out of bounds coordinates [1.000014]\n",
      "\u001b[34m\u001b[1mtrain: \u001b[0m/home/dani/Desktop/futbol/dataset-det2/images/train/09194.jpg: ignoring corrupt image/label: non-normalized or out of bounds coordinates [1.000014]\n",
      "\u001b[34m\u001b[1mtrain: \u001b[0m/home/dani/Desktop/futbol/dataset-det2/images/train/09261.jpg: ignoring corrupt image/label: non-normalized or out of bounds coordinates [1.000014]\n",
      "\u001b[34m\u001b[1mtrain: \u001b[0m/home/dani/Desktop/futbol/dataset-det2/images/train/09323.jpg: ignoring corrupt image/label: non-normalized or out of bounds coordinates [1.000014]\n",
      "\u001b[34m\u001b[1mtrain: \u001b[0m/home/dani/Desktop/futbol/dataset-det2/images/train/09419.jpg: ignoring corrupt image/label: non-normalized or out of bounds coordinates [1.0689844]\n",
      "\u001b[34m\u001b[1mtrain: \u001b[0m/home/dani/Desktop/futbol/dataset-det2/images/train/09574.jpg: ignoring corrupt image/label: non-normalized or out of bounds coordinates [1.000014]\n",
      "\u001b[34m\u001b[1mtrain: \u001b[0m/home/dani/Desktop/futbol/dataset-det2/images/train/09644.jpg: ignoring corrupt image/label: non-normalized or out of bounds coordinates [1.0000052]\n",
      "\u001b[34m\u001b[1mtrain: \u001b[0m/home/dani/Desktop/futbol/dataset-det2/images/train/09846.jpg: ignoring corrupt image/label: non-normalized or out of bounds coordinates [1.0000052]\n",
      "\u001b[34m\u001b[1mtrain: \u001b[0m/home/dani/Desktop/futbol/dataset-det2/images/train/09857.jpg: ignoring corrupt image/label: non-normalized or out of bounds coordinates [1.0000052]\n",
      "\u001b[34m\u001b[1mtrain: \u001b[0m/home/dani/Desktop/futbol/dataset-det2/images/train/09888.jpg: ignoring corrupt image/label: non-normalized or out of bounds coordinates [1.0000052]\n",
      "\u001b[34m\u001b[1mtrain: \u001b[0m/home/dani/Desktop/futbol/dataset-det2/images/train/09892.jpg: ignoring corrupt image/label: non-normalized or out of bounds coordinates [1.0000052]\n",
      "\u001b[34m\u001b[1mtrain: \u001b[0m/home/dani/Desktop/futbol/dataset-det2/images/train/09898.jpg: ignoring corrupt image/label: non-normalized or out of bounds coordinates [1.0000156]\n",
      "\u001b[34m\u001b[1mtrain: \u001b[0m/home/dani/Desktop/futbol/dataset-det2/images/train/09948.jpg: ignoring corrupt image/label: non-normalized or out of bounds coordinates [1.0000052]\n",
      "\u001b[34m\u001b[1mtrain: \u001b[0m/home/dani/Desktop/futbol/dataset-det2/images/train/10129.jpg: ignoring corrupt image/label: non-normalized or out of bounds coordinates [1.0000093]\n",
      "\u001b[34m\u001b[1mtrain: \u001b[0m/home/dani/Desktop/futbol/dataset-det2/images/train/10140.jpg: ignoring corrupt image/label: non-normalized or out of bounds coordinates [1.0000052]\n",
      "\u001b[34m\u001b[1mtrain: \u001b[0m/home/dani/Desktop/futbol/dataset-det2/images/train/10182.jpg: ignoring corrupt image/label: non-normalized or out of bounds coordinates [1.0000052]\n",
      "\u001b[34m\u001b[1mtrain: \u001b[0m/home/dani/Desktop/futbol/dataset-det2/images/train/10189.jpg: ignoring corrupt image/label: non-normalized or out of bounds coordinates [1.0000209 1.0000104]\n",
      "\u001b[34m\u001b[1mtrain: \u001b[0m/home/dani/Desktop/futbol/dataset-det2/images/train/10205.jpg: ignoring corrupt image/label: non-normalized or out of bounds coordinates [1.0000052 1.0000209]\n",
      "\u001b[34m\u001b[1mtrain: \u001b[0m/home/dani/Desktop/futbol/dataset-det2/images/train/10214.jpg: ignoring corrupt image/label: non-normalized or out of bounds coordinates [1.0000209]\n",
      "\u001b[34m\u001b[1mtrain: \u001b[0m/home/dani/Desktop/futbol/dataset-det2/images/train/10215.jpg: ignoring corrupt image/label: non-normalized or out of bounds coordinates [1.0000209]\n",
      "\u001b[34m\u001b[1mtrain: \u001b[0m/home/dani/Desktop/futbol/dataset-det2/images/train/10225.jpg: ignoring corrupt image/label: non-normalized or out of bounds coordinates [1.0000209 1.0000209]\n",
      "\u001b[34m\u001b[1mtrain: \u001b[0m/home/dani/Desktop/futbol/dataset-det2/images/train/10238.jpg: ignoring corrupt image/label: non-normalized or out of bounds coordinates [1.0000093]\n",
      "\u001b[34m\u001b[1mtrain: \u001b[0m/home/dani/Desktop/futbol/dataset-det2/images/train/10239.jpg: ignoring corrupt image/label: non-normalized or out of bounds coordinates [1.0000209]\n",
      "\u001b[34m\u001b[1mtrain: \u001b[0m/home/dani/Desktop/futbol/dataset-det2/images/train/10315.jpg: ignoring corrupt image/label: non-normalized or out of bounds coordinates [1.0000079]\n",
      "\u001b[34m\u001b[1mtrain: \u001b[0m/home/dani/Desktop/futbol/dataset-det2/images/train/10516.jpg: ignoring corrupt image/label: non-normalized or out of bounds coordinates [1.0000052 1.0013385]\n",
      "\u001b[34m\u001b[1mtrain: \u001b[0m/home/dani/Desktop/futbol/dataset-det2/images/train/10577.jpg: ignoring corrupt image/label: non-normalized or out of bounds coordinates [1.0000093]\n",
      "\u001b[34m\u001b[1mtrain: \u001b[0m/home/dani/Desktop/futbol/dataset-det2/images/train/10597.jpg: ignoring corrupt image/label: non-normalized or out of bounds coordinates [1.0000052]\n",
      "\u001b[34m\u001b[1mtrain: \u001b[0m/home/dani/Desktop/futbol/dataset-det2/images/train/10658.jpg: ignoring corrupt image/label: non-normalized or out of bounds coordinates [1.0000052]\n",
      "\u001b[34m\u001b[1mtrain: \u001b[0m/home/dani/Desktop/futbol/dataset-det2/images/train/10699.jpg: ignoring corrupt image/label: non-normalized or out of bounds coordinates [1.0000104]\n",
      "\u001b[34m\u001b[1mtrain: \u001b[0m/home/dani/Desktop/futbol/dataset-det2/images/train/10704.jpg: ignoring corrupt image/label: non-normalized or out of bounds coordinates [1.0000104 1.0000104]\n",
      "\u001b[34m\u001b[1mtrain: \u001b[0m/home/dani/Desktop/futbol/dataset-det2/images/train/10707.jpg: ignoring corrupt image/label: non-normalized or out of bounds coordinates [1.0000104]\n",
      "\u001b[34m\u001b[1mtrain: \u001b[0m/home/dani/Desktop/futbol/dataset-det2/images/train/10712.jpg: ignoring corrupt image/label: non-normalized or out of bounds coordinates [1.0000104]\n",
      "\u001b[34m\u001b[1mtrain: \u001b[0m/home/dani/Desktop/futbol/dataset-det2/images/train/10755.jpg: ignoring corrupt image/label: non-normalized or out of bounds coordinates [1.0000052]\n",
      "\u001b[34m\u001b[1mtrain: \u001b[0m/home/dani/Desktop/futbol/dataset-det2/images/train/10758.jpg: ignoring corrupt image/label: non-normalized or out of bounds coordinates [1.0000052]\n",
      "\u001b[34m\u001b[1mtrain: \u001b[0m/home/dani/Desktop/futbol/dataset-det2/images/train/10766.jpg: ignoring corrupt image/label: non-normalized or out of bounds coordinates [1.0000052]\n",
      "\u001b[34m\u001b[1mtrain: \u001b[0m/home/dani/Desktop/futbol/dataset-det2/images/train/10839.jpg: ignoring corrupt image/label: non-normalized or out of bounds coordinates [1.0032839]\n",
      "\u001b[34m\u001b[1mtrain: \u001b[0m/home/dani/Desktop/futbol/dataset-det2/images/train/10875.jpg: ignoring corrupt image/label: non-normalized or out of bounds coordinates [1.0000093]\n",
      "\u001b[34m\u001b[1mtrain: \u001b[0m/home/dani/Desktop/futbol/dataset-det2/images/train/10877.jpg: ignoring corrupt image/label: non-normalized or out of bounds coordinates [1.0000093]\n",
      "\u001b[34m\u001b[1mtrain: \u001b[0m/home/dani/Desktop/futbol/dataset-det2/images/train/10900.jpg: ignoring corrupt image/label: non-normalized or out of bounds coordinates [1.0000093]\n",
      "\u001b[34m\u001b[1mtrain: \u001b[0m/home/dani/Desktop/futbol/dataset-det2/images/train/10908.jpg: ignoring corrupt image/label: non-normalized or out of bounds coordinates [1.0000093]\n",
      "\u001b[34m\u001b[1mtrain: \u001b[0m/home/dani/Desktop/futbol/dataset-det2/images/train/10923.jpg: ignoring corrupt image/label: non-normalized or out of bounds coordinates [1.0000093]\n",
      "\u001b[34m\u001b[1mtrain: \u001b[0m/home/dani/Desktop/futbol/dataset-det2/images/train/10939.jpg: ignoring corrupt image/label: non-normalized or out of bounds coordinates [1.0000093]\n",
      "\u001b[34m\u001b[1mtrain: \u001b[0m/home/dani/Desktop/futbol/dataset-det2/images/train/10942.jpg: ignoring corrupt image/label: non-normalized or out of bounds coordinates [1.0000093]\n",
      "\u001b[34m\u001b[1mtrain: \u001b[0m/home/dani/Desktop/futbol/dataset-det2/images/train/10994.jpg: ignoring corrupt image/label: non-normalized or out of bounds coordinates [1.0024531]\n",
      "\u001b[34m\u001b[1mtrain: \u001b[0m/home/dani/Desktop/futbol/dataset-det2/images/train/11030.jpg: ignoring corrupt image/label: non-normalized or out of bounds coordinates [1.0000093]\n",
      "\u001b[34m\u001b[1mtrain: \u001b[0m/home/dani/Desktop/futbol/dataset-det2/images/train/11039.jpg: ignoring corrupt image/label: non-normalized or out of bounds coordinates [1.0000093]\n",
      "\u001b[34m\u001b[1mtrain: \u001b[0m/home/dani/Desktop/futbol/dataset-det2/images/train/11051.jpg: ignoring corrupt image/label: non-normalized or out of bounds coordinates [1.0000052]\n",
      "\u001b[34m\u001b[1mtrain: \u001b[0m/home/dani/Desktop/futbol/dataset-det2/images/train/11061.jpg: ignoring corrupt image/label: non-normalized or out of bounds coordinates [1.0000093]\n",
      "\u001b[34m\u001b[1mtrain: \u001b[0m/home/dani/Desktop/futbol/dataset-det2/images/train/11063.jpg: ignoring corrupt image/label: non-normalized or out of bounds coordinates [1.0000093]\n",
      "\u001b[34m\u001b[1mtrain: \u001b[0m/home/dani/Desktop/futbol/dataset-det2/images/train/11083.jpg: ignoring corrupt image/label: non-normalized or out of bounds coordinates [1.0000093]\n",
      "\u001b[34m\u001b[1mtrain: \u001b[0m/home/dani/Desktop/futbol/dataset-det2/images/train/11133.jpg: ignoring corrupt image/label: non-normalized or out of bounds coordinates [1.0000052]\n",
      "\u001b[34m\u001b[1mtrain: \u001b[0m/home/dani/Desktop/futbol/dataset-det2/images/train/11183.jpg: ignoring corrupt image/label: non-normalized or out of bounds coordinates [1.0000092]\n",
      "\u001b[34m\u001b[1mtrain: \u001b[0m/home/dani/Desktop/futbol/dataset-det2/images/train/11251.jpg: ignoring corrupt image/label: non-normalized or out of bounds coordinates [1.0000052]\n",
      "\u001b[34m\u001b[1mtrain: \u001b[0m/home/dani/Desktop/futbol/dataset-det2/images/train/11315.jpg: ignoring corrupt image/label: non-normalized or out of bounds coordinates [1.000014]\n",
      "\u001b[34m\u001b[1mtrain: \u001b[0m/home/dani/Desktop/futbol/dataset-det2/images/train/11341.jpg: ignoring corrupt image/label: non-normalized or out of bounds coordinates [1.000014]\n",
      "\u001b[34m\u001b[1mtrain: \u001b[0m/home/dani/Desktop/futbol/dataset-det2/images/train/11398.jpg: ignoring corrupt image/label: non-normalized or out of bounds coordinates [1.000014]\n",
      "\u001b[34m\u001b[1mtrain: \u001b[0m/home/dani/Desktop/futbol/dataset-det2/images/train/11443.jpg: ignoring corrupt image/label: non-normalized or out of bounds coordinates [1.0021211]\n",
      "\u001b[34m\u001b[1mtrain: \u001b[0m/home/dani/Desktop/futbol/dataset-det2/images/train/11652.jpg: ignoring corrupt image/label: non-normalized or out of bounds coordinates [1.000203]\n",
      "\u001b[34m\u001b[1mtrain: \u001b[0m/home/dani/Desktop/futbol/dataset-det2/images/train/11658.jpg: ignoring corrupt image/label: non-normalized or out of bounds coordinates [1.0000079]\n",
      "\u001b[34m\u001b[1mtrain: \u001b[0m/home/dani/Desktop/futbol/dataset-det2/images/train/11713.jpg: ignoring corrupt image/label: non-normalized or out of bounds coordinates [1.0000079]\n",
      "\u001b[34m\u001b[1mtrain: \u001b[0m/home/dani/Desktop/futbol/dataset-det2/images/train/11728.jpg: ignoring corrupt image/label: non-normalized or out of bounds coordinates [1.0000079]\n",
      "\u001b[34m\u001b[1mtrain: \u001b[0m/home/dani/Desktop/futbol/dataset-det2/images/train/11732.jpg: ignoring corrupt image/label: non-normalized or out of bounds coordinates [1.0000079]\n",
      "\u001b[34m\u001b[1mtrain: \u001b[0m/home/dani/Desktop/futbol/dataset-det2/images/train/11745.jpg: ignoring corrupt image/label: non-normalized or out of bounds coordinates [1.0000052 1.0000052]\n",
      "\u001b[34m\u001b[1mtrain: \u001b[0m/home/dani/Desktop/futbol/dataset-det2/images/train/11746.jpg: ignoring corrupt image/label: non-normalized or out of bounds coordinates [1.0000052]\n",
      "\u001b[34m\u001b[1mtrain: \u001b[0m/home/dani/Desktop/futbol/dataset-det2/images/train/11894.jpg: ignoring corrupt image/label: non-normalized or out of bounds coordinates [1.0000079]\n",
      "\u001b[34m\u001b[1mtrain: \u001b[0m/home/dani/Desktop/futbol/dataset-det2/images/train/11988.jpg: ignoring corrupt image/label: non-normalized or out of bounds coordinates [1.000014]\n",
      "\u001b[34m\u001b[1mtrain: \u001b[0m/home/dani/Desktop/futbol/dataset-det2/images/train/12058.jpg: ignoring corrupt image/label: non-normalized or out of bounds coordinates [1.0000079]\n",
      "\u001b[34m\u001b[1mtrain: \u001b[0m/home/dani/Desktop/futbol/dataset-det2/images/train/12213.jpg: ignoring corrupt image/label: non-normalized or out of bounds coordinates [1.0000104]\n",
      "\u001b[34m\u001b[1mtrain: \u001b[0m/home/dani/Desktop/futbol/dataset-det2/images/train/12241.jpg: ignoring corrupt image/label: non-normalized or out of bounds coordinates [1.0000104]\n",
      "\u001b[34m\u001b[1mtrain: \u001b[0m/home/dani/Desktop/futbol/dataset-det2/images/train/12320.jpg: ignoring corrupt image/label: non-normalized or out of bounds coordinates [1.0000052]\n",
      "\u001b[34m\u001b[1mtrain: \u001b[0m/home/dani/Desktop/futbol/dataset-det2/images/train/12325.jpg: ignoring corrupt image/label: non-normalized or out of bounds coordinates [1.0000052]\n",
      "\u001b[34m\u001b[1mtrain: \u001b[0m/home/dani/Desktop/futbol/dataset-det2/images/train/12486.jpg: ignoring corrupt image/label: non-normalized or out of bounds coordinates [1.0000052]\n",
      "\u001b[34m\u001b[1mtrain: \u001b[0m/home/dani/Desktop/futbol/dataset-det2/images/train/12661.jpg: ignoring corrupt image/label: non-normalized or out of bounds coordinates [1.0000093]\n",
      "\u001b[34m\u001b[1mtrain: \u001b[0m/home/dani/Desktop/futbol/dataset-det2/images/train/12684.jpg: ignoring corrupt image/label: non-normalized or out of bounds coordinates [1.0000093]\n",
      "\u001b[34m\u001b[1mtrain: \u001b[0m/home/dani/Desktop/futbol/dataset-det2/images/train/12688.jpg: ignoring corrupt image/label: non-normalized or out of bounds coordinates [1.0000093]\n",
      "\u001b[34m\u001b[1mtrain: \u001b[0m/home/dani/Desktop/futbol/dataset-det2/images/train/12791.jpg: ignoring corrupt image/label: non-normalized or out of bounds coordinates [1.0000209]\n",
      "\u001b[34m\u001b[1mtrain: \u001b[0m/home/dani/Desktop/futbol/dataset-det2/images/train/12813.jpg: ignoring corrupt image/label: non-normalized or out of bounds coordinates [1.0000209]\n",
      "\u001b[34m\u001b[1mtrain: \u001b[0m/home/dani/Desktop/futbol/dataset-det2/images/train/12850.jpg: ignoring corrupt image/label: non-normalized or out of bounds coordinates [1.0000052]\n",
      "\u001b[34m\u001b[1mtrain: \u001b[0m/home/dani/Desktop/futbol/dataset-det2/images/train/12853.jpg: ignoring corrupt image/label: non-normalized or out of bounds coordinates [1.0000093]\n",
      "\u001b[34m\u001b[1mtrain: \u001b[0m/home/dani/Desktop/futbol/dataset-det2/images/train/12875.jpg: ignoring corrupt image/label: non-normalized or out of bounds coordinates [1.0000093]\n",
      "\u001b[34m\u001b[1mtrain: \u001b[0m/home/dani/Desktop/futbol/dataset-det2/images/train/12895.jpg: ignoring corrupt image/label: non-normalized or out of bounds coordinates [1.0000093]\n",
      "\u001b[34m\u001b[1mtrain: \u001b[0m/home/dani/Desktop/futbol/dataset-det2/images/train/12933.jpg: ignoring corrupt image/label: non-normalized or out of bounds coordinates [1.0000093]\n",
      "\u001b[34m\u001b[1mtrain: \u001b[0m/home/dani/Desktop/futbol/dataset-det2/images/train/12975.jpg: ignoring corrupt image/label: non-normalized or out of bounds coordinates [1.0000093]\n",
      "\u001b[34m\u001b[1mtrain: \u001b[0m/home/dani/Desktop/futbol/dataset-det2/images/train/12986.jpg: ignoring corrupt image/label: non-normalized or out of bounds coordinates [1.0000093]\n",
      "\u001b[34m\u001b[1mtrain: \u001b[0m/home/dani/Desktop/futbol/dataset-det2/images/train/12989.jpg: ignoring corrupt image/label: non-normalized or out of bounds coordinates [1.0000093]\n",
      "\u001b[34m\u001b[1mtrain: \u001b[0m/home/dani/Desktop/futbol/dataset-det2/images/train/13091.jpg: ignoring corrupt image/label: non-normalized or out of bounds coordinates [1.0000093]\n",
      "\u001b[34m\u001b[1mtrain: \u001b[0m/home/dani/Desktop/futbol/dataset-det2/images/train/13101.jpg: ignoring corrupt image/label: non-normalized or out of bounds coordinates [1.0000093]\n",
      "\u001b[34m\u001b[1mtrain: \u001b[0m/home/dani/Desktop/futbol/dataset-det2/images/train/13139.jpg: ignoring corrupt image/label: non-normalized or out of bounds coordinates [1.0000093]\n",
      "\u001b[34m\u001b[1mtrain: \u001b[0m/home/dani/Desktop/futbol/dataset-det2/images/train/13147.jpg: ignoring corrupt image/label: non-normalized or out of bounds coordinates [1.0000052]\n",
      "\u001b[34m\u001b[1mtrain: \u001b[0m/home/dani/Desktop/futbol/dataset-det2/images/train/13148.jpg: ignoring corrupt image/label: non-normalized or out of bounds coordinates [1.0000001]\n",
      "\u001b[34m\u001b[1mtrain: \u001b[0m/home/dani/Desktop/futbol/dataset-det2/images/train/13183.jpg: ignoring corrupt image/label: non-normalized or out of bounds coordinates [1.0000052]\n",
      "\u001b[34m\u001b[1mtrain: \u001b[0m/home/dani/Desktop/futbol/dataset-det2/images/train/13194.jpg: ignoring corrupt image/label: non-normalized or out of bounds coordinates [1.0000052]\n",
      "\u001b[34m\u001b[1mtrain: \u001b[0m/home/dani/Desktop/futbol/dataset-det2/images/train/13221.jpg: ignoring corrupt image/label: non-normalized or out of bounds coordinates [1.0000052]\n",
      "\u001b[34m\u001b[1mtrain: \u001b[0m/home/dani/Desktop/futbol/dataset-det2/images/train/13232.jpg: ignoring corrupt image/label: non-normalized or out of bounds coordinates [1.0000052]\n",
      "\u001b[34m\u001b[1mtrain: \u001b[0m/home/dani/Desktop/futbol/dataset-det2/images/train/13251.jpg: ignoring corrupt image/label: non-normalized or out of bounds coordinates [1.0000104]\n",
      "\u001b[34m\u001b[1mtrain: \u001b[0m/home/dani/Desktop/futbol/dataset-det2/images/train/13267.jpg: ignoring corrupt image/label: non-normalized or out of bounds coordinates [1.0000052]\n",
      "\u001b[34m\u001b[1mtrain: \u001b[0m/home/dani/Desktop/futbol/dataset-det2/images/train/13268.jpg: ignoring corrupt image/label: non-normalized or out of bounds coordinates [1.0000104]\n",
      "\u001b[34m\u001b[1mtrain: \u001b[0m/home/dani/Desktop/futbol/dataset-det2/images/train/13384.jpg: ignoring corrupt image/label: non-normalized or out of bounds coordinates [1.0000093]\n",
      "\u001b[34m\u001b[1mtrain: \u001b[0m/home/dani/Desktop/futbol/dataset-det2/images/train/13401.jpg: ignoring corrupt image/label: non-normalized or out of bounds coordinates [1.0000052]\n",
      "\u001b[34m\u001b[1mtrain: \u001b[0m/home/dani/Desktop/futbol/dataset-det2/images/train/13417.jpg: ignoring corrupt image/label: non-normalized or out of bounds coordinates [1.0000052]\n",
      "\u001b[34m\u001b[1mtrain: \u001b[0m/home/dani/Desktop/futbol/dataset-det2/images/train/13432.jpg: ignoring corrupt image/label: non-normalized or out of bounds coordinates [1.0000052]\n",
      "\u001b[34m\u001b[1mtrain: \u001b[0m/home/dani/Desktop/futbol/dataset-det2/images/train/13497.jpg: ignoring corrupt image/label: non-normalized or out of bounds coordinates [1.0000052]\n",
      "\u001b[34m\u001b[1mtrain: \u001b[0m/home/dani/Desktop/futbol/dataset-det2/images/train/13516.jpg: ignoring corrupt image/label: non-normalized or out of bounds coordinates [1.0000052]\n",
      "\u001b[34m\u001b[1mtrain: \u001b[0m/home/dani/Desktop/futbol/dataset-det2/images/train/13528.jpg: ignoring corrupt image/label: non-normalized or out of bounds coordinates [1.0000052]\n",
      "\u001b[34m\u001b[1mtrain: \u001b[0m/home/dani/Desktop/futbol/dataset-det2/images/train/13585.jpg: ignoring corrupt image/label: non-normalized or out of bounds coordinates [1.0012292]\n",
      "\u001b[34m\u001b[1mtrain: \u001b[0m/home/dani/Desktop/futbol/dataset-det2/images/train/13594.jpg: ignoring corrupt image/label: non-normalized or out of bounds coordinates [1.0024636 1.0000104]\n",
      "\u001b[34m\u001b[1mtrain: \u001b[0m/home/dani/Desktop/futbol/dataset-det2/images/train/13610.jpg: ignoring corrupt image/label: non-normalized or out of bounds coordinates [1.0000093]\n",
      "\u001b[34m\u001b[1mtrain: \u001b[0m/home/dani/Desktop/futbol/dataset-det2/images/train/13617.jpg: ignoring corrupt image/label: non-normalized or out of bounds coordinates [1.0130647]\n",
      "\u001b[34m\u001b[1mtrain: \u001b[0m/home/dani/Desktop/futbol/dataset-det2/images/train/13643.jpg: ignoring corrupt image/label: non-normalized or out of bounds coordinates [1.0000093]\n",
      "\u001b[34m\u001b[1mtrain: \u001b[0m/home/dani/Desktop/futbol/dataset-det2/images/train/13646.jpg: ignoring corrupt image/label: non-normalized or out of bounds coordinates [1.0000093]\n",
      "\u001b[34m\u001b[1mtrain: \u001b[0m/home/dani/Desktop/futbol/dataset-det2/images/train/13652.jpg: ignoring corrupt image/label: non-normalized or out of bounds coordinates [1.0000093]\n",
      "\u001b[34m\u001b[1mtrain: \u001b[0m/home/dani/Desktop/futbol/dataset-det2/images/train/13661.jpg: ignoring corrupt image/label: non-normalized or out of bounds coordinates [1.0000093]\n",
      "\u001b[34m\u001b[1mtrain: \u001b[0m/home/dani/Desktop/futbol/dataset-det2/images/train/13809.jpg: ignoring corrupt image/label: non-normalized or out of bounds coordinates [1.0003645]\n",
      "\u001b[34m\u001b[1mtrain: \u001b[0m/home/dani/Desktop/futbol/dataset-det2/images/train/13813.jpg: ignoring corrupt image/label: non-normalized or out of bounds coordinates [1.0011041]\n",
      "\u001b[34m\u001b[1mtrain: \u001b[0m/home/dani/Desktop/futbol/dataset-det2/images/train/13826.jpg: ignoring corrupt image/label: non-normalized or out of bounds coordinates [1.0037031]\n",
      "\u001b[34m\u001b[1mtrain: \u001b[0m/home/dani/Desktop/futbol/dataset-det2/images/train/13893.jpg: ignoring corrupt image/label: non-normalized or out of bounds coordinates [1.0000209]\n",
      "\u001b[34m\u001b[1mtrain: \u001b[0m/home/dani/Desktop/futbol/dataset-det2/images/train/13905.jpg: ignoring corrupt image/label: non-normalized or out of bounds coordinates [1.0000052]\n",
      "\u001b[34m\u001b[1mtrain: \u001b[0m/home/dani/Desktop/futbol/dataset-det2/images/train/13988.jpg: ignoring corrupt image/label: non-normalized or out of bounds coordinates [1.0000093]\n",
      "\u001b[34m\u001b[1mtrain: \u001b[0m/home/dani/Desktop/futbol/dataset-det2/images/train/14016.jpg: ignoring corrupt image/label: non-normalized or out of bounds coordinates [1.0000052]\n",
      "\u001b[34m\u001b[1mtrain: \u001b[0m/home/dani/Desktop/futbol/dataset-det2/images/train/14023.jpg: ignoring corrupt image/label: non-normalized or out of bounds coordinates [1.0000052]\n",
      "\u001b[34m\u001b[1mtrain: \u001b[0m/home/dani/Desktop/futbol/dataset-det2/images/train/14120.jpg: ignoring corrupt image/label: non-normalized or out of bounds coordinates [1.0000052]\n",
      "\u001b[34m\u001b[1mtrain: \u001b[0m/home/dani/Desktop/futbol/dataset-det2/images/train/14122.jpg: ignoring corrupt image/label: non-normalized or out of bounds coordinates [1.0010625]\n",
      "\u001b[34m\u001b[1mtrain: \u001b[0m/home/dani/Desktop/futbol/dataset-det2/images/train/14164.jpg: ignoring corrupt image/label: non-normalized or out of bounds coordinates [1.0015833]\n",
      "\u001b[34m\u001b[1mtrain: \u001b[0m/home/dani/Desktop/futbol/dataset-det2/images/train/14176.jpg: ignoring corrupt image/label: non-normalized or out of bounds coordinates [1.0000093]\n",
      "\u001b[34m\u001b[1mtrain: \u001b[0m/home/dani/Desktop/futbol/dataset-det2/images/train/14179.jpg: ignoring corrupt image/label: non-normalized or out of bounds coordinates [1.0000093]\n",
      "\u001b[34m\u001b[1mtrain: \u001b[0m/home/dani/Desktop/futbol/dataset-det2/images/train/14190.jpg: ignoring corrupt image/label: non-normalized or out of bounds coordinates [1.0000093]\n",
      "\u001b[34m\u001b[1mtrain: \u001b[0m/home/dani/Desktop/futbol/dataset-det2/images/train/14201.jpg: ignoring corrupt image/label: non-normalized or out of bounds coordinates [1.0000093]\n",
      "\u001b[34m\u001b[1mtrain: \u001b[0m/home/dani/Desktop/futbol/dataset-det2/images/train/14223.jpg: ignoring corrupt image/label: non-normalized or out of bounds coordinates [1.0000052]\n",
      "\u001b[34m\u001b[1mtrain: \u001b[0m/home/dani/Desktop/futbol/dataset-det2/images/train/14224.jpg: ignoring corrupt image/label: non-normalized or out of bounds coordinates [1.0000052]\n",
      "\u001b[34m\u001b[1mtrain: \u001b[0m/home/dani/Desktop/futbol/dataset-det2/images/train/14322.jpg: ignoring corrupt image/label: non-normalized or out of bounds coordinates [1.0000052]\n",
      "\u001b[34m\u001b[1mtrain: \u001b[0m/home/dani/Desktop/futbol/dataset-det2/images/train/14324.jpg: ignoring corrupt image/label: non-normalized or out of bounds coordinates [1.0000104]\n",
      "\u001b[34m\u001b[1mtrain: \u001b[0m/home/dani/Desktop/futbol/dataset-det2/images/train/14335.jpg: ignoring corrupt image/label: non-normalized or out of bounds coordinates [1.0000052]\n",
      "\u001b[34m\u001b[1mtrain: \u001b[0m/home/dani/Desktop/futbol/dataset-det2/images/train/14336.jpg: ignoring corrupt image/label: non-normalized or out of bounds coordinates [1.0000052]\n",
      "\u001b[34m\u001b[1mtrain: \u001b[0m/home/dani/Desktop/futbol/dataset-det2/images/train/14447.jpg: ignoring corrupt image/label: non-normalized or out of bounds coordinates [1.0000052]\n",
      "\u001b[34m\u001b[1mtrain: \u001b[0m/home/dani/Desktop/futbol/dataset-det2/images/train/14508.jpg: ignoring corrupt image/label: non-normalized or out of bounds coordinates [1.0000052]\n"
     ]
    },
    {
     "name": "stderr",
     "output_type": "stream",
     "text": [
      "\n"
     ]
    },
    {
     "name": "stdout",
     "output_type": "stream",
     "text": [
      "\u001b[34m\u001b[1mval: \u001b[0mFast image access ✅ (ping: 0.0±0.0 ms, read: 1157.0±656.6 MB/s, size: 141.3 KB)\n"
     ]
    },
    {
     "name": "stderr",
     "output_type": "stream",
     "text": [
      "\u001b[34m\u001b[1mval: \u001b[0mScanning /home/dani/Desktop/futbol/dataset-det2/labels/valid.cache... 2796 images, 0 backgrounds, 84 corrupt: 100%|██████████| 2796/2796 [00:00<?, ?it/s]"
     ]
    },
    {
     "name": "stdout",
     "output_type": "stream",
     "text": [
      "\u001b[34m\u001b[1mval: \u001b[0m/home/dani/Desktop/futbol/dataset-det2/images/valid/00089.jpg: ignoring corrupt image/label: non-normalized or out of bounds coordinates [1.0000079]\n",
      "\u001b[34m\u001b[1mval: \u001b[0m/home/dani/Desktop/futbol/dataset-det2/images/valid/00113.jpg: ignoring corrupt image/label: non-normalized or out of bounds coordinates [1.0000079]\n",
      "\u001b[34m\u001b[1mval: \u001b[0m/home/dani/Desktop/futbol/dataset-det2/images/valid/00114.jpg: ignoring corrupt image/label: non-normalized or out of bounds coordinates [1.0000079]\n",
      "\u001b[34m\u001b[1mval: \u001b[0m/home/dani/Desktop/futbol/dataset-det2/images/valid/00129.jpg: ignoring corrupt image/label: non-normalized or out of bounds coordinates [1.000014]\n",
      "\u001b[34m\u001b[1mval: \u001b[0m/home/dani/Desktop/futbol/dataset-det2/images/valid/00132.jpg: ignoring corrupt image/label: non-normalized or out of bounds coordinates [1.0002266]\n",
      "\u001b[34m\u001b[1mval: \u001b[0m/home/dani/Desktop/futbol/dataset-det2/images/valid/00133.jpg: ignoring corrupt image/label: non-normalized or out of bounds coordinates [1.000014]\n",
      "\u001b[34m\u001b[1mval: \u001b[0m/home/dani/Desktop/futbol/dataset-det2/images/valid/00145.jpg: ignoring corrupt image/label: non-normalized or out of bounds coordinates [1.0000079 1.0000079 1.0000079]\n",
      "\u001b[34m\u001b[1mval: \u001b[0m/home/dani/Desktop/futbol/dataset-det2/images/valid/00170.jpg: ignoring corrupt image/label: non-normalized or out of bounds coordinates [1.000014]\n",
      "\u001b[34m\u001b[1mval: \u001b[0m/home/dani/Desktop/futbol/dataset-det2/images/valid/00194.jpg: ignoring corrupt image/label: non-normalized or out of bounds coordinates [1.000014]\n",
      "\u001b[34m\u001b[1mval: \u001b[0m/home/dani/Desktop/futbol/dataset-det2/images/valid/00281.jpg: ignoring corrupt image/label: non-normalized or out of bounds coordinates [1.000014]\n",
      "\u001b[34m\u001b[1mval: \u001b[0m/home/dani/Desktop/futbol/dataset-det2/images/valid/00303.jpg: ignoring corrupt image/label: non-normalized or out of bounds coordinates [1.000014]\n",
      "\u001b[34m\u001b[1mval: \u001b[0m/home/dani/Desktop/futbol/dataset-det2/images/valid/00327.jpg: ignoring corrupt image/label: non-normalized or out of bounds coordinates [1.0000077]\n",
      "\u001b[34m\u001b[1mval: \u001b[0m/home/dani/Desktop/futbol/dataset-det2/images/valid/00330.jpg: ignoring corrupt image/label: non-normalized or out of bounds coordinates [1.0000001]\n",
      "\u001b[34m\u001b[1mval: \u001b[0m/home/dani/Desktop/futbol/dataset-det2/images/valid/00331.jpg: ignoring corrupt image/label: non-normalized or out of bounds coordinates [1.0000079]\n",
      "\u001b[34m\u001b[1mval: \u001b[0m/home/dani/Desktop/futbol/dataset-det2/images/valid/00476.jpg: ignoring corrupt image/label: non-normalized or out of bounds coordinates [1.000014]\n",
      "\u001b[34m\u001b[1mval: \u001b[0m/home/dani/Desktop/futbol/dataset-det2/images/valid/00488.jpg: ignoring corrupt image/label: non-normalized or out of bounds coordinates [1.000014]\n",
      "\u001b[34m\u001b[1mval: \u001b[0m/home/dani/Desktop/futbol/dataset-det2/images/valid/00548.jpg: ignoring corrupt image/label: non-normalized or out of bounds coordinates [1.0000079]\n",
      "\u001b[34m\u001b[1mval: \u001b[0m/home/dani/Desktop/futbol/dataset-det2/images/valid/00552.jpg: ignoring corrupt image/label: non-normalized or out of bounds coordinates [1.0000079]\n",
      "\u001b[34m\u001b[1mval: \u001b[0m/home/dani/Desktop/futbol/dataset-det2/images/valid/00628.jpg: ignoring corrupt image/label: non-normalized or out of bounds coordinates [1.000014]\n",
      "\u001b[34m\u001b[1mval: \u001b[0m/home/dani/Desktop/futbol/dataset-det2/images/valid/00632.jpg: ignoring corrupt image/label: non-normalized or out of bounds coordinates [1.000014]\n",
      "\u001b[34m\u001b[1mval: \u001b[0m/home/dani/Desktop/futbol/dataset-det2/images/valid/00682.jpg: ignoring corrupt image/label: non-normalized or out of bounds coordinates [1.000014]\n",
      "\u001b[34m\u001b[1mval: \u001b[0m/home/dani/Desktop/futbol/dataset-det2/images/valid/00782.jpg: ignoring corrupt image/label: non-normalized or out of bounds coordinates [1.000014]\n",
      "\u001b[34m\u001b[1mval: \u001b[0m/home/dani/Desktop/futbol/dataset-det2/images/valid/00805.jpg: ignoring corrupt image/label: non-normalized or out of bounds coordinates [1.0088471]\n",
      "\u001b[34m\u001b[1mval: \u001b[0m/home/dani/Desktop/futbol/dataset-det2/images/valid/00807.jpg: ignoring corrupt image/label: non-normalized or out of bounds coordinates [1.000014]\n",
      "\u001b[34m\u001b[1mval: \u001b[0m/home/dani/Desktop/futbol/dataset-det2/images/valid/00947.jpg: ignoring corrupt image/label: non-normalized or out of bounds coordinates [1.0035365]\n",
      "\u001b[34m\u001b[1mval: \u001b[0m/home/dani/Desktop/futbol/dataset-det2/images/valid/01015.jpg: ignoring corrupt image/label: non-normalized or out of bounds coordinates [1.2676389]\n",
      "\u001b[34m\u001b[1mval: \u001b[0m/home/dani/Desktop/futbol/dataset-det2/images/valid/01030.jpg: ignoring corrupt image/label: non-normalized or out of bounds coordinates [1.0000079]\n",
      "\u001b[34m\u001b[1mval: \u001b[0m/home/dani/Desktop/futbol/dataset-det2/images/valid/01066.jpg: ignoring corrupt image/label: non-normalized or out of bounds coordinates [1.0000079 1.0000079]\n",
      "\u001b[34m\u001b[1mval: \u001b[0m/home/dani/Desktop/futbol/dataset-det2/images/valid/01139.jpg: ignoring corrupt image/label: non-normalized or out of bounds coordinates [1.0000079]\n",
      "\u001b[34m\u001b[1mval: \u001b[0m/home/dani/Desktop/futbol/dataset-det2/images/valid/01177.jpg: ignoring corrupt image/label: non-normalized or out of bounds coordinates [1.0000079]\n",
      "\u001b[34m\u001b[1mval: \u001b[0m/home/dani/Desktop/futbol/dataset-det2/images/valid/01193.jpg: ignoring corrupt image/label: non-normalized or out of bounds coordinates [1.0000156 1.0000156]\n",
      "\u001b[34m\u001b[1mval: \u001b[0m/home/dani/Desktop/futbol/dataset-det2/images/valid/01197.jpg: ignoring corrupt image/label: non-normalized or out of bounds coordinates [1.0000156 1.0000156]\n",
      "\u001b[34m\u001b[1mval: \u001b[0m/home/dani/Desktop/futbol/dataset-det2/images/valid/01200.jpg: ignoring corrupt image/label: non-normalized or out of bounds coordinates [1.0000156 1.0000156]\n",
      "\u001b[34m\u001b[1mval: \u001b[0m/home/dani/Desktop/futbol/dataset-det2/images/valid/01211.jpg: ignoring corrupt image/label: non-normalized or out of bounds coordinates [1.000014]\n",
      "\u001b[34m\u001b[1mval: \u001b[0m/home/dani/Desktop/futbol/dataset-det2/images/valid/01212.jpg: ignoring corrupt image/label: non-normalized or out of bounds coordinates [1.000014]\n",
      "\u001b[34m\u001b[1mval: \u001b[0m/home/dani/Desktop/futbol/dataset-det2/images/valid/01232.jpg: ignoring corrupt image/label: non-normalized or out of bounds coordinates [1.000014]\n",
      "\u001b[34m\u001b[1mval: \u001b[0m/home/dani/Desktop/futbol/dataset-det2/images/valid/01268.jpg: ignoring corrupt image/label: non-normalized or out of bounds coordinates [1.000014]\n",
      "\u001b[34m\u001b[1mval: \u001b[0m/home/dani/Desktop/futbol/dataset-det2/images/valid/01353.jpg: ignoring corrupt image/label: non-normalized or out of bounds coordinates [1.000014]\n",
      "\u001b[34m\u001b[1mval: \u001b[0m/home/dani/Desktop/futbol/dataset-det2/images/valid/01358.jpg: ignoring corrupt image/label: non-normalized or out of bounds coordinates [1.000014]\n",
      "\u001b[34m\u001b[1mval: \u001b[0m/home/dani/Desktop/futbol/dataset-det2/images/valid/01362.jpg: ignoring corrupt image/label: non-normalized or out of bounds coordinates [1.0080937]\n",
      "\u001b[34m\u001b[1mval: \u001b[0m/home/dani/Desktop/futbol/dataset-det2/images/valid/01430.jpg: ignoring corrupt image/label: non-normalized or out of bounds coordinates [1.0000093]\n",
      "\u001b[34m\u001b[1mval: \u001b[0m/home/dani/Desktop/futbol/dataset-det2/images/valid/01469.jpg: ignoring corrupt image/label: non-normalized or out of bounds coordinates [1.0000093]\n",
      "\u001b[34m\u001b[1mval: \u001b[0m/home/dani/Desktop/futbol/dataset-det2/images/valid/01488.jpg: ignoring corrupt image/label: non-normalized or out of bounds coordinates [1.0000093]\n",
      "\u001b[34m\u001b[1mval: \u001b[0m/home/dani/Desktop/futbol/dataset-det2/images/valid/01489.jpg: ignoring corrupt image/label: non-normalized or out of bounds coordinates [1.0000093]\n",
      "\u001b[34m\u001b[1mval: \u001b[0m/home/dani/Desktop/futbol/dataset-det2/images/valid/01499.jpg: ignoring corrupt image/label: non-normalized or out of bounds coordinates [1.0000093]\n",
      "\u001b[34m\u001b[1mval: \u001b[0m/home/dani/Desktop/futbol/dataset-det2/images/valid/01508.jpg: ignoring corrupt image/label: non-normalized or out of bounds coordinates [1.0000093]\n",
      "\u001b[34m\u001b[1mval: \u001b[0m/home/dani/Desktop/futbol/dataset-det2/images/valid/01534.jpg: ignoring corrupt image/label: non-normalized or out of bounds coordinates [1.0000093]\n",
      "\u001b[34m\u001b[1mval: \u001b[0m/home/dani/Desktop/futbol/dataset-det2/images/valid/01562.jpg: ignoring corrupt image/label: non-normalized or out of bounds coordinates [1.0000052]\n",
      "\u001b[34m\u001b[1mval: \u001b[0m/home/dani/Desktop/futbol/dataset-det2/images/valid/01585.jpg: ignoring corrupt image/label: non-normalized or out of bounds coordinates [1.0000052]\n",
      "\u001b[34m\u001b[1mval: \u001b[0m/home/dani/Desktop/futbol/dataset-det2/images/valid/01589.jpg: ignoring corrupt image/label: non-normalized or out of bounds coordinates [1.0000052]\n",
      "\u001b[34m\u001b[1mval: \u001b[0m/home/dani/Desktop/futbol/dataset-det2/images/valid/01639.jpg: ignoring corrupt image/label: non-normalized or out of bounds coordinates [1.0000052]\n",
      "\u001b[34m\u001b[1mval: \u001b[0m/home/dani/Desktop/futbol/dataset-det2/images/valid/01666.jpg: ignoring corrupt image/label: non-normalized or out of bounds coordinates [1.0000077]\n",
      "\u001b[34m\u001b[1mval: \u001b[0m/home/dani/Desktop/futbol/dataset-det2/images/valid/01794.jpg: ignoring corrupt image/label: non-normalized or out of bounds coordinates [1.0011718]\n",
      "\u001b[34m\u001b[1mval: \u001b[0m/home/dani/Desktop/futbol/dataset-det2/images/valid/01902.jpg: ignoring corrupt image/label: non-normalized or out of bounds coordinates [1.0000052]\n",
      "\u001b[34m\u001b[1mval: \u001b[0m/home/dani/Desktop/futbol/dataset-det2/images/valid/01914.jpg: ignoring corrupt image/label: non-normalized or out of bounds coordinates [1.0000093]\n",
      "\u001b[34m\u001b[1mval: \u001b[0m/home/dani/Desktop/futbol/dataset-det2/images/valid/01941.jpg: ignoring corrupt image/label: non-normalized or out of bounds coordinates [1.0000093]\n",
      "\u001b[34m\u001b[1mval: \u001b[0m/home/dani/Desktop/futbol/dataset-det2/images/valid/02003.jpg: ignoring corrupt image/label: non-normalized or out of bounds coordinates [1.0000052]\n",
      "\u001b[34m\u001b[1mval: \u001b[0m/home/dani/Desktop/futbol/dataset-det2/images/valid/02044.jpg: ignoring corrupt image/label: non-normalized or out of bounds coordinates [1.0009062]\n",
      "\u001b[34m\u001b[1mval: \u001b[0m/home/dani/Desktop/futbol/dataset-det2/images/valid/02060.jpg: ignoring corrupt image/label: non-normalized or out of bounds coordinates [1.0000093]\n",
      "\u001b[34m\u001b[1mval: \u001b[0m/home/dani/Desktop/futbol/dataset-det2/images/valid/02077.jpg: ignoring corrupt image/label: non-normalized or out of bounds coordinates [1.0000093]\n",
      "\u001b[34m\u001b[1mval: \u001b[0m/home/dani/Desktop/futbol/dataset-det2/images/valid/02120.jpg: ignoring corrupt image/label: non-normalized or out of bounds coordinates [1.0000001]\n",
      "\u001b[34m\u001b[1mval: \u001b[0m/home/dani/Desktop/futbol/dataset-det2/images/valid/02152.jpg: ignoring corrupt image/label: non-normalized or out of bounds coordinates [1.0000079]\n",
      "\u001b[34m\u001b[1mval: \u001b[0m/home/dani/Desktop/futbol/dataset-det2/images/valid/02197.jpg: ignoring corrupt image/label: non-normalized or out of bounds coordinates [1.0000079]\n",
      "\u001b[34m\u001b[1mval: \u001b[0m/home/dani/Desktop/futbol/dataset-det2/images/valid/02245.jpg: ignoring corrupt image/label: non-normalized or out of bounds coordinates [1.0020235]\n",
      "\u001b[34m\u001b[1mval: \u001b[0m/home/dani/Desktop/futbol/dataset-det2/images/valid/02281.jpg: ignoring corrupt image/label: non-normalized or out of bounds coordinates [1.0000079]\n",
      "\u001b[34m\u001b[1mval: \u001b[0m/home/dani/Desktop/futbol/dataset-det2/images/valid/02283.jpg: ignoring corrupt image/label: non-normalized or out of bounds coordinates [1.000014]\n",
      "\u001b[34m\u001b[1mval: \u001b[0m/home/dani/Desktop/futbol/dataset-det2/images/valid/02287.jpg: ignoring corrupt image/label: non-normalized or out of bounds coordinates [1.0000079]\n",
      "\u001b[34m\u001b[1mval: \u001b[0m/home/dani/Desktop/futbol/dataset-det2/images/valid/02321.jpg: ignoring corrupt image/label: non-normalized or out of bounds coordinates [1.000014]\n",
      "\u001b[34m\u001b[1mval: \u001b[0m/home/dani/Desktop/futbol/dataset-det2/images/valid/02328.jpg: ignoring corrupt image/label: non-normalized or out of bounds coordinates [1.000014]\n",
      "\u001b[34m\u001b[1mval: \u001b[0m/home/dani/Desktop/futbol/dataset-det2/images/valid/02359.jpg: ignoring corrupt image/label: non-normalized or out of bounds coordinates [1.0000079]\n",
      "\u001b[34m\u001b[1mval: \u001b[0m/home/dani/Desktop/futbol/dataset-det2/images/valid/02374.jpg: ignoring corrupt image/label: non-normalized or out of bounds coordinates [1.0000079]\n",
      "\u001b[34m\u001b[1mval: \u001b[0m/home/dani/Desktop/futbol/dataset-det2/images/valid/02472.jpg: ignoring corrupt image/label: non-normalized or out of bounds coordinates [1.000014]\n",
      "\u001b[34m\u001b[1mval: \u001b[0m/home/dani/Desktop/futbol/dataset-det2/images/valid/02522.jpg: ignoring corrupt image/label: non-normalized or out of bounds coordinates [1.0000052]\n",
      "\u001b[34m\u001b[1mval: \u001b[0m/home/dani/Desktop/futbol/dataset-det2/images/valid/02524.jpg: ignoring corrupt image/label: non-normalized or out of bounds coordinates [1.0000209]\n",
      "\u001b[34m\u001b[1mval: \u001b[0m/home/dani/Desktop/futbol/dataset-det2/images/valid/02547.jpg: ignoring corrupt image/label: non-normalized or out of bounds coordinates [1.0000209]\n",
      "\u001b[34m\u001b[1mval: \u001b[0m/home/dani/Desktop/futbol/dataset-det2/images/valid/02548.jpg: ignoring corrupt image/label: non-normalized or out of bounds coordinates [1.0000052]\n",
      "\u001b[34m\u001b[1mval: \u001b[0m/home/dani/Desktop/futbol/dataset-det2/images/valid/02561.jpg: ignoring corrupt image/label: non-normalized or out of bounds coordinates [1.0000052]\n",
      "\u001b[34m\u001b[1mval: \u001b[0m/home/dani/Desktop/futbol/dataset-det2/images/valid/02564.jpg: ignoring corrupt image/label: non-normalized or out of bounds coordinates [1.0000052]\n",
      "\u001b[34m\u001b[1mval: \u001b[0m/home/dani/Desktop/futbol/dataset-det2/images/valid/02565.jpg: ignoring corrupt image/label: non-normalized or out of bounds coordinates [1.0000209]\n",
      "\u001b[34m\u001b[1mval: \u001b[0m/home/dani/Desktop/futbol/dataset-det2/images/valid/02602.jpg: ignoring corrupt image/label: non-normalized or out of bounds coordinates [1.0000093]\n",
      "\u001b[34m\u001b[1mval: \u001b[0m/home/dani/Desktop/futbol/dataset-det2/images/valid/02647.jpg: ignoring corrupt image/label: non-normalized or out of bounds coordinates [1.0000052]\n",
      "\u001b[34m\u001b[1mval: \u001b[0m/home/dani/Desktop/futbol/dataset-det2/images/valid/02656.jpg: ignoring corrupt image/label: non-normalized or out of bounds coordinates [1.0000104]\n",
      "\u001b[34m\u001b[1mval: \u001b[0m/home/dani/Desktop/futbol/dataset-det2/images/valid/02737.jpg: ignoring corrupt image/label: non-normalized or out of bounds coordinates [1.0000052]\n",
      "\u001b[34m\u001b[1mval: \u001b[0m/home/dani/Desktop/futbol/dataset-det2/images/valid/02781.jpg: ignoring corrupt image/label: non-normalized or out of bounds coordinates [1.0000093]\n"
     ]
    },
    {
     "name": "stderr",
     "output_type": "stream",
     "text": [
      "\n"
     ]
    },
    {
     "name": "stdout",
     "output_type": "stream",
     "text": [
      "Plotting labels to /home/dani/Desktop/futbol/runs/detect/train8/labels.jpg... \n",
      "\u001b[34m\u001b[1moptimizer:\u001b[0m 'optimizer=auto' found, ignoring 'lr0=0.01' and 'momentum=0.937' and determining best 'optimizer', 'lr0' and 'momentum' automatically... \n",
      "\u001b[34m\u001b[1moptimizer:\u001b[0m SGD(lr=0.01, momentum=0.9) with parameter groups 81 weight(decay=0.0), 88 weight(decay=0.0005), 87 bias(decay=0.0)\n",
      "Image sizes 640 train, 640 val\n",
      "Using 16 dataloader workers\n",
      "Logging results to \u001b[1m/home/dani/Desktop/futbol/runs/detect/train8\u001b[0m\n",
      "Starting training for 50 epochs...\n",
      "\n",
      "      Epoch    GPU_mem   box_loss   cls_loss   dfl_loss  Instances       Size\n"
     ]
    },
    {
     "name": "stderr",
     "output_type": "stream",
     "text": [
      "       1/50      2.56G      1.501      3.527      1.286         30        640: 100%|██████████| 884/884 [01:48<00:00,  8.13it/s]\n",
      "                 Class     Images  Instances      Box(P          R      mAP50  mAP50-95): 100%|██████████| 85/85 [00:08<00:00, 10.49it/s]\n"
     ]
    },
    {
     "name": "stdout",
     "output_type": "stream",
     "text": [
      "                   all       2712      26138      0.519      0.298      0.177      0.124\n",
      "\n",
      "      Epoch    GPU_mem   box_loss   cls_loss   dfl_loss  Instances       Size\n"
     ]
    },
    {
     "name": "stderr",
     "output_type": "stream",
     "text": [
      "       2/50      2.59G      1.203      1.967      1.084         37        640: 100%|██████████| 884/884 [01:43<00:00,  8.55it/s]\n",
      "                 Class     Images  Instances      Box(P          R      mAP50  mAP50-95): 100%|██████████| 85/85 [00:08<00:00, 10.29it/s]\n"
     ]
    },
    {
     "name": "stdout",
     "output_type": "stream",
     "text": [
      "                   all       2712      26138      0.455      0.372      0.234      0.172\n",
      "\n",
      "      Epoch    GPU_mem   box_loss   cls_loss   dfl_loss  Instances       Size\n"
     ]
    },
    {
     "name": "stderr",
     "output_type": "stream",
     "text": [
      "       3/50       2.6G      1.146      1.768      1.048         34        640: 100%|██████████| 884/884 [01:44<00:00,  8.44it/s]\n",
      "                 Class     Images  Instances      Box(P          R      mAP50  mAP50-95): 100%|██████████| 85/85 [00:08<00:00,  9.79it/s]\n"
     ]
    },
    {
     "name": "stdout",
     "output_type": "stream",
     "text": [
      "                   all       2712      26138       0.41      0.364      0.231       0.17\n",
      "\n",
      "      Epoch    GPU_mem   box_loss   cls_loss   dfl_loss  Instances       Size\n"
     ]
    },
    {
     "name": "stderr",
     "output_type": "stream",
     "text": [
      "       4/50      2.61G      1.082      1.665      1.026         48        640: 100%|██████████| 884/884 [01:48<00:00,  8.18it/s]\n",
      "                 Class     Images  Instances      Box(P          R      mAP50  mAP50-95): 100%|██████████| 85/85 [00:08<00:00,  9.74it/s]\n"
     ]
    },
    {
     "name": "stdout",
     "output_type": "stream",
     "text": [
      "                   all       2712      26138      0.498      0.415      0.258      0.195\n",
      "\n",
      "      Epoch    GPU_mem   box_loss   cls_loss   dfl_loss  Instances       Size\n"
     ]
    },
    {
     "name": "stderr",
     "output_type": "stream",
     "text": [
      "       5/50      2.61G      1.003      1.556     0.9958         84        640: 100%|██████████| 884/884 [01:50<00:00,  7.97it/s]\n",
      "                 Class     Images  Instances      Box(P          R      mAP50  mAP50-95): 100%|██████████| 85/85 [00:08<00:00,  9.54it/s]\n"
     ]
    },
    {
     "name": "stdout",
     "output_type": "stream",
     "text": [
      "                   all       2712      26138      0.494      0.419      0.258      0.199\n",
      "\n",
      "      Epoch    GPU_mem   box_loss   cls_loss   dfl_loss  Instances       Size\n"
     ]
    },
    {
     "name": "stderr",
     "output_type": "stream",
     "text": [
      "       6/50      2.61G     0.9569      1.486     0.9803         58        640: 100%|██████████| 884/884 [01:49<00:00,  8.09it/s]\n",
      "                 Class     Images  Instances      Box(P          R      mAP50  mAP50-95): 100%|██████████| 85/85 [00:08<00:00,  9.77it/s]\n"
     ]
    },
    {
     "name": "stdout",
     "output_type": "stream",
     "text": [
      "                   all       2712      26138      0.498      0.442      0.268      0.209\n",
      "\n",
      "      Epoch    GPU_mem   box_loss   cls_loss   dfl_loss  Instances       Size\n"
     ]
    },
    {
     "name": "stderr",
     "output_type": "stream",
     "text": [
      "       7/50      2.61G     0.9207       1.43     0.9683         70        640: 100%|██████████| 884/884 [01:49<00:00,  8.10it/s]\n",
      "                 Class     Images  Instances      Box(P          R      mAP50  mAP50-95): 100%|██████████| 85/85 [00:08<00:00, 10.12it/s]\n"
     ]
    },
    {
     "name": "stdout",
     "output_type": "stream",
     "text": [
      "                   all       2712      26138      0.486      0.449      0.266      0.209\n",
      "\n",
      "      Epoch    GPU_mem   box_loss   cls_loss   dfl_loss  Instances       Size\n"
     ]
    },
    {
     "name": "stderr",
     "output_type": "stream",
     "text": [
      "       8/50      2.61G     0.8933       1.39      0.959         47        640: 100%|██████████| 884/884 [01:49<00:00,  8.11it/s]\n",
      "                 Class     Images  Instances      Box(P          R      mAP50  mAP50-95): 100%|██████████| 85/85 [00:08<00:00, 10.20it/s]\n"
     ]
    },
    {
     "name": "stdout",
     "output_type": "stream",
     "text": [
      "                   all       2712      26138      0.466      0.457      0.273      0.216\n",
      "\n",
      "      Epoch    GPU_mem   box_loss   cls_loss   dfl_loss  Instances       Size\n"
     ]
    },
    {
     "name": "stderr",
     "output_type": "stream",
     "text": [
      "       9/50      2.61G     0.8781      1.362     0.9531         45        640: 100%|██████████| 884/884 [01:47<00:00,  8.25it/s]\n",
      "                 Class     Images  Instances      Box(P          R      mAP50  mAP50-95): 100%|██████████| 85/85 [00:08<00:00,  9.69it/s]\n"
     ]
    },
    {
     "name": "stdout",
     "output_type": "stream",
     "text": [
      "                   all       2712      26138      0.499      0.456      0.273      0.216\n",
      "\n",
      "      Epoch    GPU_mem   box_loss   cls_loss   dfl_loss  Instances       Size\n"
     ]
    },
    {
     "name": "stderr",
     "output_type": "stream",
     "text": [
      "      10/50      2.61G     0.8532      1.327     0.9462         42        640: 100%|██████████| 884/884 [01:47<00:00,  8.21it/s]\n",
      "                 Class     Images  Instances      Box(P          R      mAP50  mAP50-95): 100%|██████████| 85/85 [00:08<00:00, 10.26it/s]\n"
     ]
    },
    {
     "name": "stdout",
     "output_type": "stream",
     "text": [
      "                   all       2712      26138      0.479      0.459      0.276       0.22\n",
      "\n",
      "      Epoch    GPU_mem   box_loss   cls_loss   dfl_loss  Instances       Size\n"
     ]
    },
    {
     "name": "stderr",
     "output_type": "stream",
     "text": [
      "      11/50      2.61G     0.8404      1.306     0.9403         41        640: 100%|██████████| 884/884 [01:47<00:00,  8.23it/s]\n",
      "                 Class     Images  Instances      Box(P          R      mAP50  mAP50-95): 100%|██████████| 85/85 [00:08<00:00, 10.24it/s]\n"
     ]
    },
    {
     "name": "stdout",
     "output_type": "stream",
     "text": [
      "                   all       2712      26138      0.507      0.465      0.284      0.228\n",
      "\n",
      "      Epoch    GPU_mem   box_loss   cls_loss   dfl_loss  Instances       Size\n"
     ]
    },
    {
     "name": "stderr",
     "output_type": "stream",
     "text": [
      "      12/50      2.61G     0.8296      1.287     0.9362         40        640: 100%|██████████| 884/884 [01:47<00:00,  8.21it/s]\n",
      "                 Class     Images  Instances      Box(P          R      mAP50  mAP50-95): 100%|██████████| 85/85 [00:08<00:00, 10.13it/s]\n"
     ]
    },
    {
     "name": "stdout",
     "output_type": "stream",
     "text": [
      "                   all       2712      26138      0.497      0.472      0.283      0.227\n",
      "\n",
      "      Epoch    GPU_mem   box_loss   cls_loss   dfl_loss  Instances       Size\n"
     ]
    },
    {
     "name": "stderr",
     "output_type": "stream",
     "text": [
      "      13/50      2.61G     0.8181      1.271     0.9347         74        640: 100%|██████████| 884/884 [01:45<00:00,  8.38it/s]\n",
      "                 Class     Images  Instances      Box(P          R      mAP50  mAP50-95): 100%|██████████| 85/85 [00:08<00:00, 10.27it/s]\n"
     ]
    },
    {
     "name": "stdout",
     "output_type": "stream",
     "text": [
      "                   all       2712      26138      0.486      0.471      0.287      0.231\n",
      "\n",
      "      Epoch    GPU_mem   box_loss   cls_loss   dfl_loss  Instances       Size\n"
     ]
    },
    {
     "name": "stderr",
     "output_type": "stream",
     "text": [
      "      14/50      2.61G     0.8095      1.259     0.9302         48        640: 100%|██████████| 884/884 [01:47<00:00,  8.21it/s]\n",
      "                 Class     Images  Instances      Box(P          R      mAP50  mAP50-95): 100%|██████████| 85/85 [00:08<00:00,  9.69it/s]\n"
     ]
    },
    {
     "name": "stdout",
     "output_type": "stream",
     "text": [
      "                   all       2712      26138      0.506      0.463      0.285      0.229\n",
      "\n",
      "      Epoch    GPU_mem   box_loss   cls_loss   dfl_loss  Instances       Size\n"
     ]
    },
    {
     "name": "stderr",
     "output_type": "stream",
     "text": [
      "      15/50      2.61G     0.7972      1.242      0.927         53        640: 100%|██████████| 884/884 [01:45<00:00,  8.37it/s]\n",
      "                 Class     Images  Instances      Box(P          R      mAP50  mAP50-95): 100%|██████████| 85/85 [00:08<00:00, 10.30it/s]\n"
     ]
    },
    {
     "name": "stdout",
     "output_type": "stream",
     "text": [
      "                   all       2712      26138      0.396      0.486      0.289      0.234\n",
      "\n",
      "      Epoch    GPU_mem   box_loss   cls_loss   dfl_loss  Instances       Size\n"
     ]
    },
    {
     "name": "stderr",
     "output_type": "stream",
     "text": [
      "      16/50      2.61G     0.7923       1.24     0.9265         34        640: 100%|██████████| 884/884 [01:45<00:00,  8.39it/s]\n",
      "                 Class     Images  Instances      Box(P          R      mAP50  mAP50-95): 100%|██████████| 85/85 [00:07<00:00, 10.70it/s]\n"
     ]
    },
    {
     "name": "stdout",
     "output_type": "stream",
     "text": [
      "                   all       2712      26138      0.503      0.466      0.297      0.241\n",
      "\n",
      "      Epoch    GPU_mem   box_loss   cls_loss   dfl_loss  Instances       Size\n"
     ]
    },
    {
     "name": "stderr",
     "output_type": "stream",
     "text": [
      "      17/50      2.61G      0.779      1.225     0.9209         49        640: 100%|██████████| 884/884 [01:46<00:00,  8.27it/s]\n",
      "                 Class     Images  Instances      Box(P          R      mAP50  mAP50-95): 100%|██████████| 85/85 [00:08<00:00,  9.88it/s]\n"
     ]
    },
    {
     "name": "stdout",
     "output_type": "stream",
     "text": [
      "                   all       2712      26138      0.482      0.476       0.29      0.235\n",
      "\n",
      "      Epoch    GPU_mem   box_loss   cls_loss   dfl_loss  Instances       Size\n"
     ]
    },
    {
     "name": "stderr",
     "output_type": "stream",
     "text": [
      "      18/50      2.61G     0.7753      1.215     0.9214         23        640: 100%|██████████| 884/884 [01:44<00:00,  8.45it/s]\n",
      "                 Class     Images  Instances      Box(P          R      mAP50  mAP50-95): 100%|██████████| 85/85 [00:08<00:00, 10.42it/s]\n"
     ]
    },
    {
     "name": "stdout",
     "output_type": "stream",
     "text": [
      "                   all       2712      26138      0.485      0.475      0.295      0.239\n",
      "\n",
      "      Epoch    GPU_mem   box_loss   cls_loss   dfl_loss  Instances       Size\n"
     ]
    },
    {
     "name": "stderr",
     "output_type": "stream",
     "text": [
      "      19/50      2.61G     0.7698      1.213     0.9186         45        640: 100%|██████████| 884/884 [01:42<00:00,  8.58it/s]\n",
      "                 Class     Images  Instances      Box(P          R      mAP50  mAP50-95): 100%|██████████| 85/85 [00:08<00:00, 10.62it/s]\n"
     ]
    },
    {
     "name": "stdout",
     "output_type": "stream",
     "text": [
      "                   all       2712      26138       0.48      0.484      0.298      0.243\n",
      "\n",
      "      Epoch    GPU_mem   box_loss   cls_loss   dfl_loss  Instances       Size\n"
     ]
    },
    {
     "name": "stderr",
     "output_type": "stream",
     "text": [
      "      20/50      2.61G     0.7583      1.199     0.9146         58        640: 100%|██████████| 884/884 [01:43<00:00,  8.56it/s]\n",
      "                 Class     Images  Instances      Box(P          R      mAP50  mAP50-95): 100%|██████████| 85/85 [00:08<00:00, 10.55it/s]\n"
     ]
    },
    {
     "name": "stdout",
     "output_type": "stream",
     "text": [
      "                   all       2712      26138      0.487      0.482      0.299      0.244\n",
      "\n",
      "      Epoch    GPU_mem   box_loss   cls_loss   dfl_loss  Instances       Size\n"
     ]
    },
    {
     "name": "stderr",
     "output_type": "stream",
     "text": [
      "      21/50      2.61G     0.7543      1.194     0.9145         38        640: 100%|██████████| 884/884 [01:43<00:00,  8.52it/s]\n",
      "                 Class     Images  Instances      Box(P          R      mAP50  mAP50-95): 100%|██████████| 85/85 [00:08<00:00, 10.50it/s]\n"
     ]
    },
    {
     "name": "stdout",
     "output_type": "stream",
     "text": [
      "                   all       2712      26138      0.472       0.49      0.298      0.243\n",
      "\n",
      "      Epoch    GPU_mem   box_loss   cls_loss   dfl_loss  Instances       Size\n"
     ]
    },
    {
     "name": "stderr",
     "output_type": "stream",
     "text": [
      "      22/50      2.61G      0.749      1.191     0.9137         86        640: 100%|██████████| 884/884 [01:43<00:00,  8.55it/s]\n",
      "                 Class     Images  Instances      Box(P          R      mAP50  mAP50-95): 100%|██████████| 85/85 [00:08<00:00, 10.09it/s]\n"
     ]
    },
    {
     "name": "stdout",
     "output_type": "stream",
     "text": [
      "                   all       2712      26138      0.467      0.486      0.294      0.241\n",
      "\n",
      "      Epoch    GPU_mem   box_loss   cls_loss   dfl_loss  Instances       Size\n"
     ]
    },
    {
     "name": "stderr",
     "output_type": "stream",
     "text": [
      "      23/50      2.61G     0.7465      1.186     0.9122         43        640: 100%|██████████| 884/884 [01:45<00:00,  8.38it/s]\n",
      "                 Class     Images  Instances      Box(P          R      mAP50  mAP50-95): 100%|██████████| 85/85 [00:08<00:00,  9.52it/s]\n"
     ]
    },
    {
     "name": "stdout",
     "output_type": "stream",
     "text": [
      "                   all       2712      26138      0.458        0.5      0.295      0.241\n",
      "\n",
      "      Epoch    GPU_mem   box_loss   cls_loss   dfl_loss  Instances       Size\n"
     ]
    },
    {
     "name": "stderr",
     "output_type": "stream",
     "text": [
      "      24/50      2.61G     0.7378      1.174     0.9101         41        640: 100%|██████████| 884/884 [01:50<00:00,  8.01it/s]\n",
      "                 Class     Images  Instances      Box(P          R      mAP50  mAP50-95): 100%|██████████| 85/85 [00:09<00:00,  9.34it/s]\n"
     ]
    },
    {
     "name": "stdout",
     "output_type": "stream",
     "text": [
      "                   all       2712      26138      0.467      0.501      0.303      0.247\n",
      "\n",
      "      Epoch    GPU_mem   box_loss   cls_loss   dfl_loss  Instances       Size\n"
     ]
    },
    {
     "name": "stderr",
     "output_type": "stream",
     "text": [
      "      25/50      2.61G     0.7365      1.167     0.9091         42        640: 100%|██████████| 884/884 [01:49<00:00,  8.07it/s]\n",
      "                 Class     Images  Instances      Box(P          R      mAP50  mAP50-95): 100%|██████████| 85/85 [00:08<00:00, 10.29it/s]\n"
     ]
    },
    {
     "name": "stdout",
     "output_type": "stream",
     "text": [
      "                   all       2712      26138      0.461      0.513      0.318      0.263\n",
      "\n",
      "      Epoch    GPU_mem   box_loss   cls_loss   dfl_loss  Instances       Size\n"
     ]
    },
    {
     "name": "stderr",
     "output_type": "stream",
     "text": [
      "      26/50      2.61G     0.7373      1.146     0.9083         56        640: 100%|██████████| 884/884 [01:47<00:00,  8.24it/s]\n",
      "                 Class     Images  Instances      Box(P          R      mAP50  mAP50-95): 100%|██████████| 85/85 [00:08<00:00, 10.26it/s]\n"
     ]
    },
    {
     "name": "stdout",
     "output_type": "stream",
     "text": [
      "                   all       2712      26138      0.569      0.455      0.392      0.327\n",
      "\n",
      "      Epoch    GPU_mem   box_loss   cls_loss   dfl_loss  Instances       Size\n"
     ]
    },
    {
     "name": "stderr",
     "output_type": "stream",
     "text": [
      "      27/50      2.61G     0.7346      1.075     0.9087         33        640: 100%|██████████| 884/884 [01:47<00:00,  8.20it/s]\n",
      "                 Class     Images  Instances      Box(P          R      mAP50  mAP50-95): 100%|██████████| 85/85 [00:08<00:00, 10.07it/s]\n"
     ]
    },
    {
     "name": "stdout",
     "output_type": "stream",
     "text": [
      "                   all       2712      26138      0.608      0.463      0.435      0.361\n",
      "\n",
      "      Epoch    GPU_mem   box_loss   cls_loss   dfl_loss  Instances       Size\n"
     ]
    },
    {
     "name": "stderr",
     "output_type": "stream",
     "text": [
      "      28/50      2.61G     0.7347     0.9868     0.9084         39        640: 100%|██████████| 884/884 [01:49<00:00,  8.04it/s]\n",
      "                 Class     Images  Instances      Box(P          R      mAP50  mAP50-95): 100%|██████████| 85/85 [00:08<00:00,  9.96it/s]\n"
     ]
    },
    {
     "name": "stdout",
     "output_type": "stream",
     "text": [
      "                   all       2712      26138      0.579      0.519      0.446      0.371\n",
      "\n",
      "      Epoch    GPU_mem   box_loss   cls_loss   dfl_loss  Instances       Size\n"
     ]
    },
    {
     "name": "stderr",
     "output_type": "stream",
     "text": [
      "      29/50      2.61G     0.7316      0.936     0.9066         54        640: 100%|██████████| 884/884 [01:49<00:00,  8.09it/s]\n",
      "                 Class     Images  Instances      Box(P          R      mAP50  mAP50-95): 100%|██████████| 85/85 [00:08<00:00, 10.28it/s]\n"
     ]
    },
    {
     "name": "stdout",
     "output_type": "stream",
     "text": [
      "                   all       2712      26138      0.618      0.484      0.453      0.376\n",
      "\n",
      "      Epoch    GPU_mem   box_loss   cls_loss   dfl_loss  Instances       Size\n"
     ]
    },
    {
     "name": "stderr",
     "output_type": "stream",
     "text": [
      "      30/50      2.61G     0.7253     0.9201     0.9061         50        640: 100%|██████████| 884/884 [01:48<00:00,  8.18it/s]\n",
      "                 Class     Images  Instances      Box(P          R      mAP50  mAP50-95): 100%|██████████| 85/85 [00:09<00:00,  9.20it/s]\n"
     ]
    },
    {
     "name": "stdout",
     "output_type": "stream",
     "text": [
      "                   all       2712      26138      0.629      0.498      0.455      0.377\n",
      "\n",
      "      Epoch    GPU_mem   box_loss   cls_loss   dfl_loss  Instances       Size\n"
     ]
    },
    {
     "name": "stderr",
     "output_type": "stream",
     "text": [
      "      31/50      2.61G     0.7219     0.9052     0.9057         46        640: 100%|██████████| 884/884 [01:47<00:00,  8.26it/s]\n",
      "                 Class     Images  Instances      Box(P          R      mAP50  mAP50-95): 100%|██████████| 85/85 [00:08<00:00,  9.53it/s]\n"
     ]
    },
    {
     "name": "stdout",
     "output_type": "stream",
     "text": [
      "                   all       2712      26138      0.548      0.522      0.456      0.379\n",
      "\n",
      "      Epoch    GPU_mem   box_loss   cls_loss   dfl_loss  Instances       Size\n"
     ]
    },
    {
     "name": "stderr",
     "output_type": "stream",
     "text": [
      "      32/50      2.61G     0.7116     0.8877      0.904         43        640: 100%|██████████| 884/884 [01:47<00:00,  8.24it/s]\n",
      "                 Class     Images  Instances      Box(P          R      mAP50  mAP50-95): 100%|██████████| 85/85 [00:08<00:00, 10.25it/s]\n"
     ]
    },
    {
     "name": "stdout",
     "output_type": "stream",
     "text": [
      "                   all       2712      26138      0.622      0.486      0.459      0.382\n",
      "\n",
      "      Epoch    GPU_mem   box_loss   cls_loss   dfl_loss  Instances       Size\n"
     ]
    },
    {
     "name": "stderr",
     "output_type": "stream",
     "text": [
      "      33/50      2.61G     0.7071     0.8785     0.9021         47        640: 100%|██████████| 884/884 [01:48<00:00,  8.17it/s]\n",
      "                 Class     Images  Instances      Box(P          R      mAP50  mAP50-95): 100%|██████████| 85/85 [00:08<00:00, 10.14it/s]\n"
     ]
    },
    {
     "name": "stdout",
     "output_type": "stream",
     "text": [
      "                   all       2712      26138      0.576      0.507      0.462      0.383\n",
      "\n",
      "      Epoch    GPU_mem   box_loss   cls_loss   dfl_loss  Instances       Size\n"
     ]
    },
    {
     "name": "stderr",
     "output_type": "stream",
     "text": [
      "      34/50      2.61G     0.7039      0.871     0.9009         36        640: 100%|██████████| 884/884 [01:50<00:00,  8.04it/s]\n",
      "                 Class     Images  Instances      Box(P          R      mAP50  mAP50-95): 100%|██████████| 85/85 [00:08<00:00, 10.08it/s]\n"
     ]
    },
    {
     "name": "stdout",
     "output_type": "stream",
     "text": [
      "                   all       2712      26138      0.621      0.507      0.464      0.386\n",
      "\n",
      "      Epoch    GPU_mem   box_loss   cls_loss   dfl_loss  Instances       Size\n"
     ]
    },
    {
     "name": "stderr",
     "output_type": "stream",
     "text": [
      "      35/50      2.61G     0.7011     0.8674     0.8996         41        640: 100%|██████████| 884/884 [01:52<00:00,  7.87it/s]\n",
      "                 Class     Images  Instances      Box(P          R      mAP50  mAP50-95): 100%|██████████| 85/85 [00:08<00:00,  9.55it/s]\n"
     ]
    },
    {
     "name": "stdout",
     "output_type": "stream",
     "text": [
      "                   all       2712      26138      0.614      0.497      0.462      0.386\n",
      "\n",
      "      Epoch    GPU_mem   box_loss   cls_loss   dfl_loss  Instances       Size\n"
     ]
    },
    {
     "name": "stderr",
     "output_type": "stream",
     "text": [
      "      36/50      2.61G     0.6946     0.8561      0.898         39        640: 100%|██████████| 884/884 [01:49<00:00,  8.06it/s]\n",
      "                 Class     Images  Instances      Box(P          R      mAP50  mAP50-95): 100%|██████████| 85/85 [00:08<00:00, 10.08it/s]"
     ]
    },
    {
     "name": "stdout",
     "output_type": "stream",
     "text": [
      "                   all       2712      26138      0.612      0.509      0.462      0.385\n"
     ]
    },
    {
     "name": "stderr",
     "output_type": "stream",
     "text": [
      "\n"
     ]
    },
    {
     "name": "stdout",
     "output_type": "stream",
     "text": [
      "\n",
      "      Epoch    GPU_mem   box_loss   cls_loss   dfl_loss  Instances       Size\n"
     ]
    },
    {
     "name": "stderr",
     "output_type": "stream",
     "text": [
      "      37/50      2.61G     0.6898     0.8461     0.8962         34        640: 100%|██████████| 884/884 [01:47<00:00,  8.24it/s]\n",
      "                 Class     Images  Instances      Box(P          R      mAP50  mAP50-95): 100%|██████████| 85/85 [00:08<00:00, 10.26it/s]\n"
     ]
    },
    {
     "name": "stdout",
     "output_type": "stream",
     "text": [
      "                   all       2712      26138      0.571      0.519      0.463      0.387\n",
      "\n",
      "      Epoch    GPU_mem   box_loss   cls_loss   dfl_loss  Instances       Size\n"
     ]
    },
    {
     "name": "stderr",
     "output_type": "stream",
     "text": [
      "      38/50      2.61G     0.6829     0.8435     0.8958         62        640: 100%|██████████| 884/884 [01:49<00:00,  8.05it/s]\n",
      "                 Class     Images  Instances      Box(P          R      mAP50  mAP50-95): 100%|██████████| 85/85 [00:08<00:00, 10.07it/s]\n"
     ]
    },
    {
     "name": "stdout",
     "output_type": "stream",
     "text": [
      "                   all       2712      26138      0.608       0.51      0.465      0.389\n",
      "\n",
      "      Epoch    GPU_mem   box_loss   cls_loss   dfl_loss  Instances       Size\n"
     ]
    },
    {
     "name": "stderr",
     "output_type": "stream",
     "text": [
      "      39/50      2.61G     0.6837     0.8374     0.8949         43        640: 100%|██████████| 884/884 [01:50<00:00,  8.02it/s]\n",
      "                 Class     Images  Instances      Box(P          R      mAP50  mAP50-95): 100%|██████████| 85/85 [00:08<00:00, 10.15it/s]\n"
     ]
    },
    {
     "name": "stdout",
     "output_type": "stream",
     "text": [
      "                   all       2712      26138      0.617      0.503      0.467       0.39\n",
      "\n",
      "      Epoch    GPU_mem   box_loss   cls_loss   dfl_loss  Instances       Size\n"
     ]
    },
    {
     "name": "stderr",
     "output_type": "stream",
     "text": [
      "      40/50      2.61G      0.676     0.8302     0.8925         50        640: 100%|██████████| 884/884 [01:48<00:00,  8.15it/s]\n",
      "                 Class     Images  Instances      Box(P          R      mAP50  mAP50-95): 100%|██████████| 85/85 [00:08<00:00, 10.29it/s]\n"
     ]
    },
    {
     "name": "stdout",
     "output_type": "stream",
     "text": [
      "                   all       2712      26138      0.602      0.503      0.467       0.39\n",
      "Closing dataloader mosaic\n",
      "\n",
      "      Epoch    GPU_mem   box_loss   cls_loss   dfl_loss  Instances       Size\n"
     ]
    },
    {
     "name": "stderr",
     "output_type": "stream",
     "text": [
      "      41/50      2.61G     0.6675     0.7833     0.8797         14        640: 100%|██████████| 884/884 [01:46<00:00,  8.29it/s]\n",
      "                 Class     Images  Instances      Box(P          R      mAP50  mAP50-95): 100%|██████████| 85/85 [00:08<00:00, 10.16it/s]\n"
     ]
    },
    {
     "name": "stdout",
     "output_type": "stream",
     "text": [
      "                   all       2712      26138       0.53      0.533      0.464      0.386\n",
      "\n",
      "      Epoch    GPU_mem   box_loss   cls_loss   dfl_loss  Instances       Size\n"
     ]
    },
    {
     "name": "stderr",
     "output_type": "stream",
     "text": [
      "      42/50      2.61G     0.6518     0.7604     0.8747         21        640: 100%|██████████| 884/884 [01:45<00:00,  8.38it/s]\n",
      "                 Class     Images  Instances      Box(P          R      mAP50  mAP50-95): 100%|██████████| 85/85 [00:09<00:00,  9.28it/s]"
     ]
    },
    {
     "name": "stdout",
     "output_type": "stream",
     "text": [
      "                   all       2712      26138      0.543      0.538      0.466      0.388\n"
     ]
    },
    {
     "name": "stderr",
     "output_type": "stream",
     "text": [
      "\n"
     ]
    },
    {
     "name": "stdout",
     "output_type": "stream",
     "text": [
      "\n",
      "      Epoch    GPU_mem   box_loss   cls_loss   dfl_loss  Instances       Size\n"
     ]
    },
    {
     "name": "stderr",
     "output_type": "stream",
     "text": [
      "      43/50      2.61G     0.6456     0.7504     0.8718         16        640: 100%|██████████| 884/884 [01:47<00:00,  8.20it/s]\n",
      "                 Class     Images  Instances      Box(P          R      mAP50  mAP50-95): 100%|██████████| 85/85 [00:08<00:00, 10.30it/s]\n"
     ]
    },
    {
     "name": "stdout",
     "output_type": "stream",
     "text": [
      "                   all       2712      26138      0.597      0.528      0.464      0.387\n",
      "\n",
      "      Epoch    GPU_mem   box_loss   cls_loss   dfl_loss  Instances       Size\n"
     ]
    },
    {
     "name": "stderr",
     "output_type": "stream",
     "text": [
      "      44/50      2.61G     0.6384     0.7405     0.8697         23        640: 100%|██████████| 884/884 [01:44<00:00,  8.42it/s]\n",
      "                 Class     Images  Instances      Box(P          R      mAP50  mAP50-95): 100%|██████████| 85/85 [00:08<00:00, 10.03it/s]"
     ]
    },
    {
     "name": "stdout",
     "output_type": "stream",
     "text": [
      "                   all       2712      26138      0.616      0.517      0.467      0.389\n"
     ]
    },
    {
     "name": "stderr",
     "output_type": "stream",
     "text": [
      "\n"
     ]
    },
    {
     "name": "stdout",
     "output_type": "stream",
     "text": [
      "\n",
      "      Epoch    GPU_mem   box_loss   cls_loss   dfl_loss  Instances       Size\n"
     ]
    },
    {
     "name": "stderr",
     "output_type": "stream",
     "text": [
      "      45/50      2.61G     0.6302     0.7332      0.869         26        640: 100%|██████████| 884/884 [01:45<00:00,  8.38it/s]\n",
      "                 Class     Images  Instances      Box(P          R      mAP50  mAP50-95): 100%|██████████| 85/85 [00:08<00:00,  9.99it/s]\n"
     ]
    },
    {
     "name": "stdout",
     "output_type": "stream",
     "text": [
      "                   all       2712      26138      0.543      0.535      0.469      0.391\n",
      "\n",
      "      Epoch    GPU_mem   box_loss   cls_loss   dfl_loss  Instances       Size\n"
     ]
    },
    {
     "name": "stderr",
     "output_type": "stream",
     "text": [
      "      46/50      2.61G      0.622     0.7239     0.8668         13        640: 100%|██████████| 884/884 [01:45<00:00,  8.39it/s]\n",
      "                 Class     Images  Instances      Box(P          R      mAP50  mAP50-95): 100%|██████████| 85/85 [00:08<00:00,  9.92it/s]\n"
     ]
    },
    {
     "name": "stdout",
     "output_type": "stream",
     "text": [
      "                   all       2712      26138      0.587       0.52      0.468       0.39\n",
      "\n",
      "      Epoch    GPU_mem   box_loss   cls_loss   dfl_loss  Instances       Size\n"
     ]
    },
    {
     "name": "stderr",
     "output_type": "stream",
     "text": [
      "      47/50      2.61G     0.6164     0.7162     0.8655         21        640: 100%|██████████| 884/884 [01:46<00:00,  8.27it/s]\n",
      "                 Class     Images  Instances      Box(P          R      mAP50  mAP50-95): 100%|██████████| 85/85 [00:08<00:00, 10.19it/s]"
     ]
    },
    {
     "name": "stdout",
     "output_type": "stream",
     "text": [
      "                   all       2712      26138      0.537      0.539      0.469      0.391\n"
     ]
    },
    {
     "name": "stderr",
     "output_type": "stream",
     "text": [
      "\n"
     ]
    },
    {
     "name": "stdout",
     "output_type": "stream",
     "text": [
      "\n",
      "      Epoch    GPU_mem   box_loss   cls_loss   dfl_loss  Instances       Size\n"
     ]
    },
    {
     "name": "stderr",
     "output_type": "stream",
     "text": [
      "      48/50      2.61G     0.6103     0.7085     0.8645         20        640: 100%|██████████| 884/884 [01:44<00:00,  8.43it/s]\n",
      "                 Class     Images  Instances      Box(P          R      mAP50  mAP50-95): 100%|██████████| 85/85 [00:08<00:00, 10.00it/s]"
     ]
    },
    {
     "name": "stdout",
     "output_type": "stream",
     "text": [
      "                   all       2712      26138      0.564      0.544       0.47      0.392\n"
     ]
    },
    {
     "name": "stderr",
     "output_type": "stream",
     "text": [
      "\n"
     ]
    },
    {
     "name": "stdout",
     "output_type": "stream",
     "text": [
      "\n",
      "      Epoch    GPU_mem   box_loss   cls_loss   dfl_loss  Instances       Size\n"
     ]
    },
    {
     "name": "stderr",
     "output_type": "stream",
     "text": [
      "      49/50      2.61G     0.6044     0.7028     0.8637         25        640: 100%|██████████| 884/884 [01:47<00:00,  8.23it/s]\n",
      "                 Class     Images  Instances      Box(P          R      mAP50  mAP50-95): 100%|██████████| 85/85 [00:08<00:00, 10.10it/s]\n"
     ]
    },
    {
     "name": "stdout",
     "output_type": "stream",
     "text": [
      "                   all       2712      26138      0.608      0.528      0.471      0.392\n",
      "\n",
      "      Epoch    GPU_mem   box_loss   cls_loss   dfl_loss  Instances       Size\n"
     ]
    },
    {
     "name": "stderr",
     "output_type": "stream",
     "text": [
      "      50/50      2.61G     0.5982      0.696     0.8619         14        640: 100%|██████████| 884/884 [01:46<00:00,  8.33it/s]\n",
      "                 Class     Images  Instances      Box(P          R      mAP50  mAP50-95): 100%|██████████| 85/85 [00:08<00:00,  9.89it/s]\n"
     ]
    },
    {
     "name": "stdout",
     "output_type": "stream",
     "text": [
      "                   all       2712      26138       0.58      0.527      0.471      0.393\n",
      "\n",
      "50 epochs completed in 1.612 hours.\n",
      "Optimizer stripped from /home/dani/Desktop/futbol/runs/detect/train8/weights/last.pt, 5.5MB\n",
      "Optimizer stripped from /home/dani/Desktop/futbol/runs/detect/train8/weights/best.pt, 5.5MB\n",
      "\n",
      "Validating /home/dani/Desktop/futbol/runs/detect/train8/weights/best.pt...\n",
      "Ultralytics 8.3.141 🚀 Python-3.12.3 torch-2.7.0+cu126 CUDA:0 (NVIDIA GeForce RTX 4060, 7911MiB)\n",
      "YOLO11n summary (fused): 100 layers, 2,590,147 parameters, 0 gradients, 6.4 GFLOPs\n"
     ]
    },
    {
     "name": "stderr",
     "output_type": "stream",
     "text": [
      "                 Class     Images  Instances      Box(P          R      mAP50  mAP50-95): 100%|██████████| 85/85 [00:10<00:00,  8.05it/s]\n"
     ]
    },
    {
     "name": "stdout",
     "output_type": "stream",
     "text": [
      "                   all       2712      26138       0.58      0.526      0.471      0.393\n",
      "                Unknow        287        337      0.399       0.12      0.143      0.112\n",
      "Small rect. right main        126        126      0.251     0.0476      0.123     0.0984\n",
      " Small rect. right top         72         72          1          0     0.0548     0.0369\n",
      "       Side line right        218        218      0.206      0.601      0.253      0.237\n",
      "         Side line top        231        231      0.272      0.433      0.262      0.185\n",
      "      Side line bottom         72         72      0.279      0.778      0.387      0.368\n",
      "   Big rect. right top         91         91          1          0     0.0872     0.0726\n",
      "  Big rect. right main        250        250       0.27      0.704      0.306       0.28\n",
      "          Circle right       1038       1038      0.737      0.921      0.917      0.823\n",
      "        Side line left        281        281      0.248      0.612      0.282      0.263\n",
      "    Big rect. left top         97         97          0          0     0.0931     0.0756\n",
      " Big rect. left bottom         80         80      0.181      0.212      0.141      0.121\n",
      "   Big rect. left main        268        268      0.285      0.687      0.331      0.306\n",
      "Big rect. right bottom         70         70      0.195     0.0714      0.127      0.113\n",
      "Small rect. right bottom         58         58          1          0     0.0619     0.0493\n",
      "  Small rect. left top         54         54          1          0     0.0475      0.032\n",
      "Small rect. left bottom         73         73          1          0     0.0942     0.0678\n",
      " Small rect. left main        152        152      0.421     0.0592      0.182      0.158\n",
      "           Circle left       1067       1067      0.736      0.908      0.898      0.799\n",
      "        Circle central        317        317      0.861      0.968       0.95      0.877\n",
      "           Middle line       2320       6154      0.711      0.402      0.472      0.317\n",
      "Small rect. right main (vertical)       1094       1094        0.7      0.857      0.801       0.74\n",
      "Small rect. right top (vertical)       1029       1029      0.747      0.782      0.773      0.515\n",
      "Side line right (vertical)       1034       1034      0.682      0.871      0.759      0.719\n",
      "Side line top (vertical)       1448       1448      0.714      0.791       0.74      0.545\n",
      "Side line bottom (vertical)        260        260      0.617      0.885      0.733      0.651\n",
      "Big rect. right top (vertical)        930        930      0.787      0.868      0.817       0.65\n",
      "Big rect. right main (vertical)        913        913      0.608      0.796      0.699      0.642\n",
      "Circle right (vertical)         40         40      0.542      0.075      0.243       0.13\n",
      "Side line left (vertical)       1000       1000      0.663      0.883      0.742      0.704\n",
      "Big rect. left top (vertical)        931        931      0.775      0.858      0.794      0.632\n",
      "Big rect. left bottom (vertical)        630        630      0.736      0.886      0.812      0.703\n",
      "Big rect. left main (vertical)        956        956       0.64      0.825      0.679      0.605\n",
      "Big rect. right bottom (vertical)        647        647      0.775      0.887      0.827      0.705\n",
      "Small rect. right bottom (vertical)        856        856       0.73       0.79      0.773      0.559\n",
      "Small rect. left top (vertical)       1049       1049      0.749      0.781      0.785      0.529\n",
      "Small rect. left bottom (vertical)        886        886      0.721      0.763      0.761      0.562\n",
      "Small rect. left main (vertical)       1131       1131       0.72      0.867      0.793      0.729\n",
      "Circle left (vertical)         49         49      0.364     0.0816      0.114     0.0585\n",
      "Circle central (vertical)          1          1          0          0          0          0\n",
      "Middle line (vertical)        148        148      0.481        0.5      0.455       0.33\n",
      "Speed: 0.2ms preprocess, 0.9ms inference, 0.0ms loss, 0.5ms postprocess per image\n",
      "Results saved to \u001b[1m/home/dani/Desktop/futbol/runs/detect/train8\u001b[0m\n"
     ]
    },
    {
     "data": {
      "text/plain": [
       "ultralytics.utils.metrics.DetMetrics object with attributes:\n",
       "\n",
       "ap_class_index: array([ 0,  1,  2,  3,  4,  5,  6,  7,  8,  9, 10, 11, 12, 13, 14, 15, 16, 17, 18, 19, 20, 21, 22, 23, 24, 25, 26, 27, 28, 29, 30, 31, 32, 33, 34, 35, 36, 37, 38, 39, 40])\n",
       "box: ultralytics.utils.metrics.Metric object\n",
       "confusion_matrix: <ultralytics.utils.metrics.ConfusionMatrix object at 0x73717a454e90>\n",
       "curves: ['Precision-Recall(B)', 'F1-Confidence(B)', 'Precision-Confidence(B)', 'Recall-Confidence(B)']\n",
       "curves_results: [[array([          0,    0.001001,    0.002002,    0.003003,    0.004004,    0.005005,    0.006006,    0.007007,    0.008008,    0.009009,     0.01001,    0.011011,    0.012012,    0.013013,    0.014014,    0.015015,    0.016016,    0.017017,    0.018018,    0.019019,     0.02002,    0.021021,    0.022022,    0.023023,\n",
       "          0.024024,    0.025025,    0.026026,    0.027027,    0.028028,    0.029029,     0.03003,    0.031031,    0.032032,    0.033033,    0.034034,    0.035035,    0.036036,    0.037037,    0.038038,    0.039039,     0.04004,    0.041041,    0.042042,    0.043043,    0.044044,    0.045045,    0.046046,    0.047047,\n",
       "          0.048048,    0.049049,     0.05005,    0.051051,    0.052052,    0.053053,    0.054054,    0.055055,    0.056056,    0.057057,    0.058058,    0.059059,     0.06006,    0.061061,    0.062062,    0.063063,    0.064064,    0.065065,    0.066066,    0.067067,    0.068068,    0.069069,     0.07007,    0.071071,\n",
       "          0.072072,    0.073073,    0.074074,    0.075075,    0.076076,    0.077077,    0.078078,    0.079079,     0.08008,    0.081081,    0.082082,    0.083083,    0.084084,    0.085085,    0.086086,    0.087087,    0.088088,    0.089089,     0.09009,    0.091091,    0.092092,    0.093093,    0.094094,    0.095095,\n",
       "          0.096096,    0.097097,    0.098098,    0.099099,      0.1001,      0.1011,      0.1021,      0.1031,      0.1041,     0.10511,     0.10611,     0.10711,     0.10811,     0.10911,     0.11011,     0.11111,     0.11211,     0.11311,     0.11411,     0.11512,     0.11612,     0.11712,     0.11812,     0.11912,\n",
       "           0.12012,     0.12112,     0.12212,     0.12312,     0.12412,     0.12513,     0.12613,     0.12713,     0.12813,     0.12913,     0.13013,     0.13113,     0.13213,     0.13313,     0.13413,     0.13514,     0.13614,     0.13714,     0.13814,     0.13914,     0.14014,     0.14114,     0.14214,     0.14314,\n",
       "           0.14414,     0.14515,     0.14615,     0.14715,     0.14815,     0.14915,     0.15015,     0.15115,     0.15215,     0.15315,     0.15415,     0.15516,     0.15616,     0.15716,     0.15816,     0.15916,     0.16016,     0.16116,     0.16216,     0.16316,     0.16416,     0.16517,     0.16617,     0.16717,\n",
       "           0.16817,     0.16917,     0.17017,     0.17117,     0.17217,     0.17317,     0.17417,     0.17518,     0.17618,     0.17718,     0.17818,     0.17918,     0.18018,     0.18118,     0.18218,     0.18318,     0.18418,     0.18519,     0.18619,     0.18719,     0.18819,     0.18919,     0.19019,     0.19119,\n",
       "           0.19219,     0.19319,     0.19419,      0.1952,      0.1962,      0.1972,      0.1982,      0.1992,      0.2002,      0.2012,      0.2022,      0.2032,      0.2042,     0.20521,     0.20621,     0.20721,     0.20821,     0.20921,     0.21021,     0.21121,     0.21221,     0.21321,     0.21421,     0.21522,\n",
       "           0.21622,     0.21722,     0.21822,     0.21922,     0.22022,     0.22122,     0.22222,     0.22322,     0.22422,     0.22523,     0.22623,     0.22723,     0.22823,     0.22923,     0.23023,     0.23123,     0.23223,     0.23323,     0.23423,     0.23524,     0.23624,     0.23724,     0.23824,     0.23924,\n",
       "           0.24024,     0.24124,     0.24224,     0.24324,     0.24424,     0.24525,     0.24625,     0.24725,     0.24825,     0.24925,     0.25025,     0.25125,     0.25225,     0.25325,     0.25425,     0.25526,     0.25626,     0.25726,     0.25826,     0.25926,     0.26026,     0.26126,     0.26226,     0.26326,\n",
       "           0.26426,     0.26527,     0.26627,     0.26727,     0.26827,     0.26927,     0.27027,     0.27127,     0.27227,     0.27327,     0.27427,     0.27528,     0.27628,     0.27728,     0.27828,     0.27928,     0.28028,     0.28128,     0.28228,     0.28328,     0.28428,     0.28529,     0.28629,     0.28729,\n",
       "           0.28829,     0.28929,     0.29029,     0.29129,     0.29229,     0.29329,     0.29429,      0.2953,      0.2963,      0.2973,      0.2983,      0.2993,      0.3003,      0.3013,      0.3023,      0.3033,      0.3043,     0.30531,     0.30631,     0.30731,     0.30831,     0.30931,     0.31031,     0.31131,\n",
       "           0.31231,     0.31331,     0.31431,     0.31532,     0.31632,     0.31732,     0.31832,     0.31932,     0.32032,     0.32132,     0.32232,     0.32332,     0.32432,     0.32533,     0.32633,     0.32733,     0.32833,     0.32933,     0.33033,     0.33133,     0.33233,     0.33333,     0.33433,     0.33534,\n",
       "           0.33634,     0.33734,     0.33834,     0.33934,     0.34034,     0.34134,     0.34234,     0.34334,     0.34434,     0.34535,     0.34635,     0.34735,     0.34835,     0.34935,     0.35035,     0.35135,     0.35235,     0.35335,     0.35435,     0.35536,     0.35636,     0.35736,     0.35836,     0.35936,\n",
       "           0.36036,     0.36136,     0.36236,     0.36336,     0.36436,     0.36537,     0.36637,     0.36737,     0.36837,     0.36937,     0.37037,     0.37137,     0.37237,     0.37337,     0.37437,     0.37538,     0.37638,     0.37738,     0.37838,     0.37938,     0.38038,     0.38138,     0.38238,     0.38338,\n",
       "           0.38438,     0.38539,     0.38639,     0.38739,     0.38839,     0.38939,     0.39039,     0.39139,     0.39239,     0.39339,     0.39439,      0.3954,      0.3964,      0.3974,      0.3984,      0.3994,      0.4004,      0.4014,      0.4024,      0.4034,      0.4044,     0.40541,     0.40641,     0.40741,\n",
       "           0.40841,     0.40941,     0.41041,     0.41141,     0.41241,     0.41341,     0.41441,     0.41542,     0.41642,     0.41742,     0.41842,     0.41942,     0.42042,     0.42142,     0.42242,     0.42342,     0.42442,     0.42543,     0.42643,     0.42743,     0.42843,     0.42943,     0.43043,     0.43143,\n",
       "           0.43243,     0.43343,     0.43443,     0.43544,     0.43644,     0.43744,     0.43844,     0.43944,     0.44044,     0.44144,     0.44244,     0.44344,     0.44444,     0.44545,     0.44645,     0.44745,     0.44845,     0.44945,     0.45045,     0.45145,     0.45245,     0.45345,     0.45445,     0.45546,\n",
       "           0.45646,     0.45746,     0.45846,     0.45946,     0.46046,     0.46146,     0.46246,     0.46346,     0.46446,     0.46547,     0.46647,     0.46747,     0.46847,     0.46947,     0.47047,     0.47147,     0.47247,     0.47347,     0.47447,     0.47548,     0.47648,     0.47748,     0.47848,     0.47948,\n",
       "           0.48048,     0.48148,     0.48248,     0.48348,     0.48448,     0.48549,     0.48649,     0.48749,     0.48849,     0.48949,     0.49049,     0.49149,     0.49249,     0.49349,     0.49449,      0.4955,      0.4965,      0.4975,      0.4985,      0.4995,      0.5005,      0.5015,      0.5025,      0.5035,\n",
       "            0.5045,     0.50551,     0.50651,     0.50751,     0.50851,     0.50951,     0.51051,     0.51151,     0.51251,     0.51351,     0.51451,     0.51552,     0.51652,     0.51752,     0.51852,     0.51952,     0.52052,     0.52152,     0.52252,     0.52352,     0.52452,     0.52553,     0.52653,     0.52753,\n",
       "           0.52853,     0.52953,     0.53053,     0.53153,     0.53253,     0.53353,     0.53453,     0.53554,     0.53654,     0.53754,     0.53854,     0.53954,     0.54054,     0.54154,     0.54254,     0.54354,     0.54454,     0.54555,     0.54655,     0.54755,     0.54855,     0.54955,     0.55055,     0.55155,\n",
       "           0.55255,     0.55355,     0.55455,     0.55556,     0.55656,     0.55756,     0.55856,     0.55956,     0.56056,     0.56156,     0.56256,     0.56356,     0.56456,     0.56557,     0.56657,     0.56757,     0.56857,     0.56957,     0.57057,     0.57157,     0.57257,     0.57357,     0.57457,     0.57558,\n",
       "           0.57658,     0.57758,     0.57858,     0.57958,     0.58058,     0.58158,     0.58258,     0.58358,     0.58458,     0.58559,     0.58659,     0.58759,     0.58859,     0.58959,     0.59059,     0.59159,     0.59259,     0.59359,     0.59459,      0.5956,      0.5966,      0.5976,      0.5986,      0.5996,\n",
       "            0.6006,      0.6016,      0.6026,      0.6036,      0.6046,     0.60561,     0.60661,     0.60761,     0.60861,     0.60961,     0.61061,     0.61161,     0.61261,     0.61361,     0.61461,     0.61562,     0.61662,     0.61762,     0.61862,     0.61962,     0.62062,     0.62162,     0.62262,     0.62362,\n",
       "           0.62462,     0.62563,     0.62663,     0.62763,     0.62863,     0.62963,     0.63063,     0.63163,     0.63263,     0.63363,     0.63463,     0.63564,     0.63664,     0.63764,     0.63864,     0.63964,     0.64064,     0.64164,     0.64264,     0.64364,     0.64464,     0.64565,     0.64665,     0.64765,\n",
       "           0.64865,     0.64965,     0.65065,     0.65165,     0.65265,     0.65365,     0.65465,     0.65566,     0.65666,     0.65766,     0.65866,     0.65966,     0.66066,     0.66166,     0.66266,     0.66366,     0.66466,     0.66567,     0.66667,     0.66767,     0.66867,     0.66967,     0.67067,     0.67167,\n",
       "           0.67267,     0.67367,     0.67467,     0.67568,     0.67668,     0.67768,     0.67868,     0.67968,     0.68068,     0.68168,     0.68268,     0.68368,     0.68468,     0.68569,     0.68669,     0.68769,     0.68869,     0.68969,     0.69069,     0.69169,     0.69269,     0.69369,     0.69469,      0.6957,\n",
       "            0.6967,      0.6977,      0.6987,      0.6997,      0.7007,      0.7017,      0.7027,      0.7037,      0.7047,     0.70571,     0.70671,     0.70771,     0.70871,     0.70971,     0.71071,     0.71171,     0.71271,     0.71371,     0.71471,     0.71572,     0.71672,     0.71772,     0.71872,     0.71972,\n",
       "           0.72072,     0.72172,     0.72272,     0.72372,     0.72472,     0.72573,     0.72673,     0.72773,     0.72873,     0.72973,     0.73073,     0.73173,     0.73273,     0.73373,     0.73473,     0.73574,     0.73674,     0.73774,     0.73874,     0.73974,     0.74074,     0.74174,     0.74274,     0.74374,\n",
       "           0.74474,     0.74575,     0.74675,     0.74775,     0.74875,     0.74975,     0.75075,     0.75175,     0.75275,     0.75375,     0.75475,     0.75576,     0.75676,     0.75776,     0.75876,     0.75976,     0.76076,     0.76176,     0.76276,     0.76376,     0.76476,     0.76577,     0.76677,     0.76777,\n",
       "           0.76877,     0.76977,     0.77077,     0.77177,     0.77277,     0.77377,     0.77477,     0.77578,     0.77678,     0.77778,     0.77878,     0.77978,     0.78078,     0.78178,     0.78278,     0.78378,     0.78478,     0.78579,     0.78679,     0.78779,     0.78879,     0.78979,     0.79079,     0.79179,\n",
       "           0.79279,     0.79379,     0.79479,      0.7958,      0.7968,      0.7978,      0.7988,      0.7998,      0.8008,      0.8018,      0.8028,      0.8038,      0.8048,     0.80581,     0.80681,     0.80781,     0.80881,     0.80981,     0.81081,     0.81181,     0.81281,     0.81381,     0.81481,     0.81582,\n",
       "           0.81682,     0.81782,     0.81882,     0.81982,     0.82082,     0.82182,     0.82282,     0.82382,     0.82482,     0.82583,     0.82683,     0.82783,     0.82883,     0.82983,     0.83083,     0.83183,     0.83283,     0.83383,     0.83483,     0.83584,     0.83684,     0.83784,     0.83884,     0.83984,\n",
       "           0.84084,     0.84184,     0.84284,     0.84384,     0.84484,     0.84585,     0.84685,     0.84785,     0.84885,     0.84985,     0.85085,     0.85185,     0.85285,     0.85385,     0.85485,     0.85586,     0.85686,     0.85786,     0.85886,     0.85986,     0.86086,     0.86186,     0.86286,     0.86386,\n",
       "           0.86486,     0.86587,     0.86687,     0.86787,     0.86887,     0.86987,     0.87087,     0.87187,     0.87287,     0.87387,     0.87487,     0.87588,     0.87688,     0.87788,     0.87888,     0.87988,     0.88088,     0.88188,     0.88288,     0.88388,     0.88488,     0.88589,     0.88689,     0.88789,\n",
       "           0.88889,     0.88989,     0.89089,     0.89189,     0.89289,     0.89389,     0.89489,      0.8959,      0.8969,      0.8979,      0.8989,      0.8999,      0.9009,      0.9019,      0.9029,      0.9039,      0.9049,     0.90591,     0.90691,     0.90791,     0.90891,     0.90991,     0.91091,     0.91191,\n",
       "           0.91291,     0.91391,     0.91491,     0.91592,     0.91692,     0.91792,     0.91892,     0.91992,     0.92092,     0.92192,     0.92292,     0.92392,     0.92492,     0.92593,     0.92693,     0.92793,     0.92893,     0.92993,     0.93093,     0.93193,     0.93293,     0.93393,     0.93493,     0.93594,\n",
       "           0.93694,     0.93794,     0.93894,     0.93994,     0.94094,     0.94194,     0.94294,     0.94394,     0.94494,     0.94595,     0.94695,     0.94795,     0.94895,     0.94995,     0.95095,     0.95195,     0.95295,     0.95395,     0.95495,     0.95596,     0.95696,     0.95796,     0.95896,     0.95996,\n",
       "           0.96096,     0.96196,     0.96296,     0.96396,     0.96496,     0.96597,     0.96697,     0.96797,     0.96897,     0.96997,     0.97097,     0.97197,     0.97297,     0.97397,     0.97497,     0.97598,     0.97698,     0.97798,     0.97898,     0.97998,     0.98098,     0.98198,     0.98298,     0.98398,\n",
       "           0.98498,     0.98599,     0.98699,     0.98799,     0.98899,     0.98999,     0.99099,     0.99199,     0.99299,     0.99399,     0.99499,       0.996,       0.997,       0.998,       0.999,           1]), array([[          1,           1,           1, ...,  0.00010721,  5.3606e-05,           0],\n",
       "       [       0.75,        0.75,        0.75, ...,   0.0010379,  0.00051893,           0],\n",
       "       [    0.16667,     0.16667,     0.16667, ...,  0.00020369,  0.00010184,           0],\n",
       "       ...,\n",
       "       [          1,           1,     0.92857, ...,   0.0040825,   0.0020413,           0],\n",
       "       [          1,           1,           1, ...,  9.9156e-05,  4.9578e-05,           0],\n",
       "       [          1,           1,           1, ...,  0.00016571,  8.2854e-05,           0]], shape=(40, 1000)), 'Recall', 'Precision'], [array([          0,    0.001001,    0.002002,    0.003003,    0.004004,    0.005005,    0.006006,    0.007007,    0.008008,    0.009009,     0.01001,    0.011011,    0.012012,    0.013013,    0.014014,    0.015015,    0.016016,    0.017017,    0.018018,    0.019019,     0.02002,    0.021021,    0.022022,    0.023023,\n",
       "          0.024024,    0.025025,    0.026026,    0.027027,    0.028028,    0.029029,     0.03003,    0.031031,    0.032032,    0.033033,    0.034034,    0.035035,    0.036036,    0.037037,    0.038038,    0.039039,     0.04004,    0.041041,    0.042042,    0.043043,    0.044044,    0.045045,    0.046046,    0.047047,\n",
       "          0.048048,    0.049049,     0.05005,    0.051051,    0.052052,    0.053053,    0.054054,    0.055055,    0.056056,    0.057057,    0.058058,    0.059059,     0.06006,    0.061061,    0.062062,    0.063063,    0.064064,    0.065065,    0.066066,    0.067067,    0.068068,    0.069069,     0.07007,    0.071071,\n",
       "          0.072072,    0.073073,    0.074074,    0.075075,    0.076076,    0.077077,    0.078078,    0.079079,     0.08008,    0.081081,    0.082082,    0.083083,    0.084084,    0.085085,    0.086086,    0.087087,    0.088088,    0.089089,     0.09009,    0.091091,    0.092092,    0.093093,    0.094094,    0.095095,\n",
       "          0.096096,    0.097097,    0.098098,    0.099099,      0.1001,      0.1011,      0.1021,      0.1031,      0.1041,     0.10511,     0.10611,     0.10711,     0.10811,     0.10911,     0.11011,     0.11111,     0.11211,     0.11311,     0.11411,     0.11512,     0.11612,     0.11712,     0.11812,     0.11912,\n",
       "           0.12012,     0.12112,     0.12212,     0.12312,     0.12412,     0.12513,     0.12613,     0.12713,     0.12813,     0.12913,     0.13013,     0.13113,     0.13213,     0.13313,     0.13413,     0.13514,     0.13614,     0.13714,     0.13814,     0.13914,     0.14014,     0.14114,     0.14214,     0.14314,\n",
       "           0.14414,     0.14515,     0.14615,     0.14715,     0.14815,     0.14915,     0.15015,     0.15115,     0.15215,     0.15315,     0.15415,     0.15516,     0.15616,     0.15716,     0.15816,     0.15916,     0.16016,     0.16116,     0.16216,     0.16316,     0.16416,     0.16517,     0.16617,     0.16717,\n",
       "           0.16817,     0.16917,     0.17017,     0.17117,     0.17217,     0.17317,     0.17417,     0.17518,     0.17618,     0.17718,     0.17818,     0.17918,     0.18018,     0.18118,     0.18218,     0.18318,     0.18418,     0.18519,     0.18619,     0.18719,     0.18819,     0.18919,     0.19019,     0.19119,\n",
       "           0.19219,     0.19319,     0.19419,      0.1952,      0.1962,      0.1972,      0.1982,      0.1992,      0.2002,      0.2012,      0.2022,      0.2032,      0.2042,     0.20521,     0.20621,     0.20721,     0.20821,     0.20921,     0.21021,     0.21121,     0.21221,     0.21321,     0.21421,     0.21522,\n",
       "           0.21622,     0.21722,     0.21822,     0.21922,     0.22022,     0.22122,     0.22222,     0.22322,     0.22422,     0.22523,     0.22623,     0.22723,     0.22823,     0.22923,     0.23023,     0.23123,     0.23223,     0.23323,     0.23423,     0.23524,     0.23624,     0.23724,     0.23824,     0.23924,\n",
       "           0.24024,     0.24124,     0.24224,     0.24324,     0.24424,     0.24525,     0.24625,     0.24725,     0.24825,     0.24925,     0.25025,     0.25125,     0.25225,     0.25325,     0.25425,     0.25526,     0.25626,     0.25726,     0.25826,     0.25926,     0.26026,     0.26126,     0.26226,     0.26326,\n",
       "           0.26426,     0.26527,     0.26627,     0.26727,     0.26827,     0.26927,     0.27027,     0.27127,     0.27227,     0.27327,     0.27427,     0.27528,     0.27628,     0.27728,     0.27828,     0.27928,     0.28028,     0.28128,     0.28228,     0.28328,     0.28428,     0.28529,     0.28629,     0.28729,\n",
       "           0.28829,     0.28929,     0.29029,     0.29129,     0.29229,     0.29329,     0.29429,      0.2953,      0.2963,      0.2973,      0.2983,      0.2993,      0.3003,      0.3013,      0.3023,      0.3033,      0.3043,     0.30531,     0.30631,     0.30731,     0.30831,     0.30931,     0.31031,     0.31131,\n",
       "           0.31231,     0.31331,     0.31431,     0.31532,     0.31632,     0.31732,     0.31832,     0.31932,     0.32032,     0.32132,     0.32232,     0.32332,     0.32432,     0.32533,     0.32633,     0.32733,     0.32833,     0.32933,     0.33033,     0.33133,     0.33233,     0.33333,     0.33433,     0.33534,\n",
       "           0.33634,     0.33734,     0.33834,     0.33934,     0.34034,     0.34134,     0.34234,     0.34334,     0.34434,     0.34535,     0.34635,     0.34735,     0.34835,     0.34935,     0.35035,     0.35135,     0.35235,     0.35335,     0.35435,     0.35536,     0.35636,     0.35736,     0.35836,     0.35936,\n",
       "           0.36036,     0.36136,     0.36236,     0.36336,     0.36436,     0.36537,     0.36637,     0.36737,     0.36837,     0.36937,     0.37037,     0.37137,     0.37237,     0.37337,     0.37437,     0.37538,     0.37638,     0.37738,     0.37838,     0.37938,     0.38038,     0.38138,     0.38238,     0.38338,\n",
       "           0.38438,     0.38539,     0.38639,     0.38739,     0.38839,     0.38939,     0.39039,     0.39139,     0.39239,     0.39339,     0.39439,      0.3954,      0.3964,      0.3974,      0.3984,      0.3994,      0.4004,      0.4014,      0.4024,      0.4034,      0.4044,     0.40541,     0.40641,     0.40741,\n",
       "           0.40841,     0.40941,     0.41041,     0.41141,     0.41241,     0.41341,     0.41441,     0.41542,     0.41642,     0.41742,     0.41842,     0.41942,     0.42042,     0.42142,     0.42242,     0.42342,     0.42442,     0.42543,     0.42643,     0.42743,     0.42843,     0.42943,     0.43043,     0.43143,\n",
       "           0.43243,     0.43343,     0.43443,     0.43544,     0.43644,     0.43744,     0.43844,     0.43944,     0.44044,     0.44144,     0.44244,     0.44344,     0.44444,     0.44545,     0.44645,     0.44745,     0.44845,     0.44945,     0.45045,     0.45145,     0.45245,     0.45345,     0.45445,     0.45546,\n",
       "           0.45646,     0.45746,     0.45846,     0.45946,     0.46046,     0.46146,     0.46246,     0.46346,     0.46446,     0.46547,     0.46647,     0.46747,     0.46847,     0.46947,     0.47047,     0.47147,     0.47247,     0.47347,     0.47447,     0.47548,     0.47648,     0.47748,     0.47848,     0.47948,\n",
       "           0.48048,     0.48148,     0.48248,     0.48348,     0.48448,     0.48549,     0.48649,     0.48749,     0.48849,     0.48949,     0.49049,     0.49149,     0.49249,     0.49349,     0.49449,      0.4955,      0.4965,      0.4975,      0.4985,      0.4995,      0.5005,      0.5015,      0.5025,      0.5035,\n",
       "            0.5045,     0.50551,     0.50651,     0.50751,     0.50851,     0.50951,     0.51051,     0.51151,     0.51251,     0.51351,     0.51451,     0.51552,     0.51652,     0.51752,     0.51852,     0.51952,     0.52052,     0.52152,     0.52252,     0.52352,     0.52452,     0.52553,     0.52653,     0.52753,\n",
       "           0.52853,     0.52953,     0.53053,     0.53153,     0.53253,     0.53353,     0.53453,     0.53554,     0.53654,     0.53754,     0.53854,     0.53954,     0.54054,     0.54154,     0.54254,     0.54354,     0.54454,     0.54555,     0.54655,     0.54755,     0.54855,     0.54955,     0.55055,     0.55155,\n",
       "           0.55255,     0.55355,     0.55455,     0.55556,     0.55656,     0.55756,     0.55856,     0.55956,     0.56056,     0.56156,     0.56256,     0.56356,     0.56456,     0.56557,     0.56657,     0.56757,     0.56857,     0.56957,     0.57057,     0.57157,     0.57257,     0.57357,     0.57457,     0.57558,\n",
       "           0.57658,     0.57758,     0.57858,     0.57958,     0.58058,     0.58158,     0.58258,     0.58358,     0.58458,     0.58559,     0.58659,     0.58759,     0.58859,     0.58959,     0.59059,     0.59159,     0.59259,     0.59359,     0.59459,      0.5956,      0.5966,      0.5976,      0.5986,      0.5996,\n",
       "            0.6006,      0.6016,      0.6026,      0.6036,      0.6046,     0.60561,     0.60661,     0.60761,     0.60861,     0.60961,     0.61061,     0.61161,     0.61261,     0.61361,     0.61461,     0.61562,     0.61662,     0.61762,     0.61862,     0.61962,     0.62062,     0.62162,     0.62262,     0.62362,\n",
       "           0.62462,     0.62563,     0.62663,     0.62763,     0.62863,     0.62963,     0.63063,     0.63163,     0.63263,     0.63363,     0.63463,     0.63564,     0.63664,     0.63764,     0.63864,     0.63964,     0.64064,     0.64164,     0.64264,     0.64364,     0.64464,     0.64565,     0.64665,     0.64765,\n",
       "           0.64865,     0.64965,     0.65065,     0.65165,     0.65265,     0.65365,     0.65465,     0.65566,     0.65666,     0.65766,     0.65866,     0.65966,     0.66066,     0.66166,     0.66266,     0.66366,     0.66466,     0.66567,     0.66667,     0.66767,     0.66867,     0.66967,     0.67067,     0.67167,\n",
       "           0.67267,     0.67367,     0.67467,     0.67568,     0.67668,     0.67768,     0.67868,     0.67968,     0.68068,     0.68168,     0.68268,     0.68368,     0.68468,     0.68569,     0.68669,     0.68769,     0.68869,     0.68969,     0.69069,     0.69169,     0.69269,     0.69369,     0.69469,      0.6957,\n",
       "            0.6967,      0.6977,      0.6987,      0.6997,      0.7007,      0.7017,      0.7027,      0.7037,      0.7047,     0.70571,     0.70671,     0.70771,     0.70871,     0.70971,     0.71071,     0.71171,     0.71271,     0.71371,     0.71471,     0.71572,     0.71672,     0.71772,     0.71872,     0.71972,\n",
       "           0.72072,     0.72172,     0.72272,     0.72372,     0.72472,     0.72573,     0.72673,     0.72773,     0.72873,     0.72973,     0.73073,     0.73173,     0.73273,     0.73373,     0.73473,     0.73574,     0.73674,     0.73774,     0.73874,     0.73974,     0.74074,     0.74174,     0.74274,     0.74374,\n",
       "           0.74474,     0.74575,     0.74675,     0.74775,     0.74875,     0.74975,     0.75075,     0.75175,     0.75275,     0.75375,     0.75475,     0.75576,     0.75676,     0.75776,     0.75876,     0.75976,     0.76076,     0.76176,     0.76276,     0.76376,     0.76476,     0.76577,     0.76677,     0.76777,\n",
       "           0.76877,     0.76977,     0.77077,     0.77177,     0.77277,     0.77377,     0.77477,     0.77578,     0.77678,     0.77778,     0.77878,     0.77978,     0.78078,     0.78178,     0.78278,     0.78378,     0.78478,     0.78579,     0.78679,     0.78779,     0.78879,     0.78979,     0.79079,     0.79179,\n",
       "           0.79279,     0.79379,     0.79479,      0.7958,      0.7968,      0.7978,      0.7988,      0.7998,      0.8008,      0.8018,      0.8028,      0.8038,      0.8048,     0.80581,     0.80681,     0.80781,     0.80881,     0.80981,     0.81081,     0.81181,     0.81281,     0.81381,     0.81481,     0.81582,\n",
       "           0.81682,     0.81782,     0.81882,     0.81982,     0.82082,     0.82182,     0.82282,     0.82382,     0.82482,     0.82583,     0.82683,     0.82783,     0.82883,     0.82983,     0.83083,     0.83183,     0.83283,     0.83383,     0.83483,     0.83584,     0.83684,     0.83784,     0.83884,     0.83984,\n",
       "           0.84084,     0.84184,     0.84284,     0.84384,     0.84484,     0.84585,     0.84685,     0.84785,     0.84885,     0.84985,     0.85085,     0.85185,     0.85285,     0.85385,     0.85485,     0.85586,     0.85686,     0.85786,     0.85886,     0.85986,     0.86086,     0.86186,     0.86286,     0.86386,\n",
       "           0.86486,     0.86587,     0.86687,     0.86787,     0.86887,     0.86987,     0.87087,     0.87187,     0.87287,     0.87387,     0.87487,     0.87588,     0.87688,     0.87788,     0.87888,     0.87988,     0.88088,     0.88188,     0.88288,     0.88388,     0.88488,     0.88589,     0.88689,     0.88789,\n",
       "           0.88889,     0.88989,     0.89089,     0.89189,     0.89289,     0.89389,     0.89489,      0.8959,      0.8969,      0.8979,      0.8989,      0.8999,      0.9009,      0.9019,      0.9029,      0.9039,      0.9049,     0.90591,     0.90691,     0.90791,     0.90891,     0.90991,     0.91091,     0.91191,\n",
       "           0.91291,     0.91391,     0.91491,     0.91592,     0.91692,     0.91792,     0.91892,     0.91992,     0.92092,     0.92192,     0.92292,     0.92392,     0.92492,     0.92593,     0.92693,     0.92793,     0.92893,     0.92993,     0.93093,     0.93193,     0.93293,     0.93393,     0.93493,     0.93594,\n",
       "           0.93694,     0.93794,     0.93894,     0.93994,     0.94094,     0.94194,     0.94294,     0.94394,     0.94494,     0.94595,     0.94695,     0.94795,     0.94895,     0.94995,     0.95095,     0.95195,     0.95295,     0.95395,     0.95495,     0.95596,     0.95696,     0.95796,     0.95896,     0.95996,\n",
       "           0.96096,     0.96196,     0.96296,     0.96396,     0.96496,     0.96597,     0.96697,     0.96797,     0.96897,     0.96997,     0.97097,     0.97197,     0.97297,     0.97397,     0.97497,     0.97598,     0.97698,     0.97798,     0.97898,     0.97998,     0.98098,     0.98198,     0.98298,     0.98398,\n",
       "           0.98498,     0.98599,     0.98699,     0.98799,     0.98899,     0.98999,     0.99099,     0.99199,     0.99299,     0.99399,     0.99499,       0.996,       0.997,       0.998,       0.999,           1]), array([[    0.03763,     0.03763,    0.049566, ...,           0,           0,           0],\n",
       "       [   0.063595,    0.063595,    0.087577, ...,           0,           0,           0],\n",
       "       [   0.049203,    0.049203,    0.062199, ...,           0,           0,           0],\n",
       "       ...,\n",
       "       [   0.053097,    0.053097,    0.073388, ...,           0,           0,           0],\n",
       "       [          0,           0,           0, ...,           0,           0,           0],\n",
       "       [   0.056666,    0.056666,    0.086871, ...,           0,           0,           0]], shape=(41, 1000)), 'Confidence', 'F1'], [array([          0,    0.001001,    0.002002,    0.003003,    0.004004,    0.005005,    0.006006,    0.007007,    0.008008,    0.009009,     0.01001,    0.011011,    0.012012,    0.013013,    0.014014,    0.015015,    0.016016,    0.017017,    0.018018,    0.019019,     0.02002,    0.021021,    0.022022,    0.023023,\n",
       "          0.024024,    0.025025,    0.026026,    0.027027,    0.028028,    0.029029,     0.03003,    0.031031,    0.032032,    0.033033,    0.034034,    0.035035,    0.036036,    0.037037,    0.038038,    0.039039,     0.04004,    0.041041,    0.042042,    0.043043,    0.044044,    0.045045,    0.046046,    0.047047,\n",
       "          0.048048,    0.049049,     0.05005,    0.051051,    0.052052,    0.053053,    0.054054,    0.055055,    0.056056,    0.057057,    0.058058,    0.059059,     0.06006,    0.061061,    0.062062,    0.063063,    0.064064,    0.065065,    0.066066,    0.067067,    0.068068,    0.069069,     0.07007,    0.071071,\n",
       "          0.072072,    0.073073,    0.074074,    0.075075,    0.076076,    0.077077,    0.078078,    0.079079,     0.08008,    0.081081,    0.082082,    0.083083,    0.084084,    0.085085,    0.086086,    0.087087,    0.088088,    0.089089,     0.09009,    0.091091,    0.092092,    0.093093,    0.094094,    0.095095,\n",
       "          0.096096,    0.097097,    0.098098,    0.099099,      0.1001,      0.1011,      0.1021,      0.1031,      0.1041,     0.10511,     0.10611,     0.10711,     0.10811,     0.10911,     0.11011,     0.11111,     0.11211,     0.11311,     0.11411,     0.11512,     0.11612,     0.11712,     0.11812,     0.11912,\n",
       "           0.12012,     0.12112,     0.12212,     0.12312,     0.12412,     0.12513,     0.12613,     0.12713,     0.12813,     0.12913,     0.13013,     0.13113,     0.13213,     0.13313,     0.13413,     0.13514,     0.13614,     0.13714,     0.13814,     0.13914,     0.14014,     0.14114,     0.14214,     0.14314,\n",
       "           0.14414,     0.14515,     0.14615,     0.14715,     0.14815,     0.14915,     0.15015,     0.15115,     0.15215,     0.15315,     0.15415,     0.15516,     0.15616,     0.15716,     0.15816,     0.15916,     0.16016,     0.16116,     0.16216,     0.16316,     0.16416,     0.16517,     0.16617,     0.16717,\n",
       "           0.16817,     0.16917,     0.17017,     0.17117,     0.17217,     0.17317,     0.17417,     0.17518,     0.17618,     0.17718,     0.17818,     0.17918,     0.18018,     0.18118,     0.18218,     0.18318,     0.18418,     0.18519,     0.18619,     0.18719,     0.18819,     0.18919,     0.19019,     0.19119,\n",
       "           0.19219,     0.19319,     0.19419,      0.1952,      0.1962,      0.1972,      0.1982,      0.1992,      0.2002,      0.2012,      0.2022,      0.2032,      0.2042,     0.20521,     0.20621,     0.20721,     0.20821,     0.20921,     0.21021,     0.21121,     0.21221,     0.21321,     0.21421,     0.21522,\n",
       "           0.21622,     0.21722,     0.21822,     0.21922,     0.22022,     0.22122,     0.22222,     0.22322,     0.22422,     0.22523,     0.22623,     0.22723,     0.22823,     0.22923,     0.23023,     0.23123,     0.23223,     0.23323,     0.23423,     0.23524,     0.23624,     0.23724,     0.23824,     0.23924,\n",
       "           0.24024,     0.24124,     0.24224,     0.24324,     0.24424,     0.24525,     0.24625,     0.24725,     0.24825,     0.24925,     0.25025,     0.25125,     0.25225,     0.25325,     0.25425,     0.25526,     0.25626,     0.25726,     0.25826,     0.25926,     0.26026,     0.26126,     0.26226,     0.26326,\n",
       "           0.26426,     0.26527,     0.26627,     0.26727,     0.26827,     0.26927,     0.27027,     0.27127,     0.27227,     0.27327,     0.27427,     0.27528,     0.27628,     0.27728,     0.27828,     0.27928,     0.28028,     0.28128,     0.28228,     0.28328,     0.28428,     0.28529,     0.28629,     0.28729,\n",
       "           0.28829,     0.28929,     0.29029,     0.29129,     0.29229,     0.29329,     0.29429,      0.2953,      0.2963,      0.2973,      0.2983,      0.2993,      0.3003,      0.3013,      0.3023,      0.3033,      0.3043,     0.30531,     0.30631,     0.30731,     0.30831,     0.30931,     0.31031,     0.31131,\n",
       "           0.31231,     0.31331,     0.31431,     0.31532,     0.31632,     0.31732,     0.31832,     0.31932,     0.32032,     0.32132,     0.32232,     0.32332,     0.32432,     0.32533,     0.32633,     0.32733,     0.32833,     0.32933,     0.33033,     0.33133,     0.33233,     0.33333,     0.33433,     0.33534,\n",
       "           0.33634,     0.33734,     0.33834,     0.33934,     0.34034,     0.34134,     0.34234,     0.34334,     0.34434,     0.34535,     0.34635,     0.34735,     0.34835,     0.34935,     0.35035,     0.35135,     0.35235,     0.35335,     0.35435,     0.35536,     0.35636,     0.35736,     0.35836,     0.35936,\n",
       "           0.36036,     0.36136,     0.36236,     0.36336,     0.36436,     0.36537,     0.36637,     0.36737,     0.36837,     0.36937,     0.37037,     0.37137,     0.37237,     0.37337,     0.37437,     0.37538,     0.37638,     0.37738,     0.37838,     0.37938,     0.38038,     0.38138,     0.38238,     0.38338,\n",
       "           0.38438,     0.38539,     0.38639,     0.38739,     0.38839,     0.38939,     0.39039,     0.39139,     0.39239,     0.39339,     0.39439,      0.3954,      0.3964,      0.3974,      0.3984,      0.3994,      0.4004,      0.4014,      0.4024,      0.4034,      0.4044,     0.40541,     0.40641,     0.40741,\n",
       "           0.40841,     0.40941,     0.41041,     0.41141,     0.41241,     0.41341,     0.41441,     0.41542,     0.41642,     0.41742,     0.41842,     0.41942,     0.42042,     0.42142,     0.42242,     0.42342,     0.42442,     0.42543,     0.42643,     0.42743,     0.42843,     0.42943,     0.43043,     0.43143,\n",
       "           0.43243,     0.43343,     0.43443,     0.43544,     0.43644,     0.43744,     0.43844,     0.43944,     0.44044,     0.44144,     0.44244,     0.44344,     0.44444,     0.44545,     0.44645,     0.44745,     0.44845,     0.44945,     0.45045,     0.45145,     0.45245,     0.45345,     0.45445,     0.45546,\n",
       "           0.45646,     0.45746,     0.45846,     0.45946,     0.46046,     0.46146,     0.46246,     0.46346,     0.46446,     0.46547,     0.46647,     0.46747,     0.46847,     0.46947,     0.47047,     0.47147,     0.47247,     0.47347,     0.47447,     0.47548,     0.47648,     0.47748,     0.47848,     0.47948,\n",
       "           0.48048,     0.48148,     0.48248,     0.48348,     0.48448,     0.48549,     0.48649,     0.48749,     0.48849,     0.48949,     0.49049,     0.49149,     0.49249,     0.49349,     0.49449,      0.4955,      0.4965,      0.4975,      0.4985,      0.4995,      0.5005,      0.5015,      0.5025,      0.5035,\n",
       "            0.5045,     0.50551,     0.50651,     0.50751,     0.50851,     0.50951,     0.51051,     0.51151,     0.51251,     0.51351,     0.51451,     0.51552,     0.51652,     0.51752,     0.51852,     0.51952,     0.52052,     0.52152,     0.52252,     0.52352,     0.52452,     0.52553,     0.52653,     0.52753,\n",
       "           0.52853,     0.52953,     0.53053,     0.53153,     0.53253,     0.53353,     0.53453,     0.53554,     0.53654,     0.53754,     0.53854,     0.53954,     0.54054,     0.54154,     0.54254,     0.54354,     0.54454,     0.54555,     0.54655,     0.54755,     0.54855,     0.54955,     0.55055,     0.55155,\n",
       "           0.55255,     0.55355,     0.55455,     0.55556,     0.55656,     0.55756,     0.55856,     0.55956,     0.56056,     0.56156,     0.56256,     0.56356,     0.56456,     0.56557,     0.56657,     0.56757,     0.56857,     0.56957,     0.57057,     0.57157,     0.57257,     0.57357,     0.57457,     0.57558,\n",
       "           0.57658,     0.57758,     0.57858,     0.57958,     0.58058,     0.58158,     0.58258,     0.58358,     0.58458,     0.58559,     0.58659,     0.58759,     0.58859,     0.58959,     0.59059,     0.59159,     0.59259,     0.59359,     0.59459,      0.5956,      0.5966,      0.5976,      0.5986,      0.5996,\n",
       "            0.6006,      0.6016,      0.6026,      0.6036,      0.6046,     0.60561,     0.60661,     0.60761,     0.60861,     0.60961,     0.61061,     0.61161,     0.61261,     0.61361,     0.61461,     0.61562,     0.61662,     0.61762,     0.61862,     0.61962,     0.62062,     0.62162,     0.62262,     0.62362,\n",
       "           0.62462,     0.62563,     0.62663,     0.62763,     0.62863,     0.62963,     0.63063,     0.63163,     0.63263,     0.63363,     0.63463,     0.63564,     0.63664,     0.63764,     0.63864,     0.63964,     0.64064,     0.64164,     0.64264,     0.64364,     0.64464,     0.64565,     0.64665,     0.64765,\n",
       "           0.64865,     0.64965,     0.65065,     0.65165,     0.65265,     0.65365,     0.65465,     0.65566,     0.65666,     0.65766,     0.65866,     0.65966,     0.66066,     0.66166,     0.66266,     0.66366,     0.66466,     0.66567,     0.66667,     0.66767,     0.66867,     0.66967,     0.67067,     0.67167,\n",
       "           0.67267,     0.67367,     0.67467,     0.67568,     0.67668,     0.67768,     0.67868,     0.67968,     0.68068,     0.68168,     0.68268,     0.68368,     0.68468,     0.68569,     0.68669,     0.68769,     0.68869,     0.68969,     0.69069,     0.69169,     0.69269,     0.69369,     0.69469,      0.6957,\n",
       "            0.6967,      0.6977,      0.6987,      0.6997,      0.7007,      0.7017,      0.7027,      0.7037,      0.7047,     0.70571,     0.70671,     0.70771,     0.70871,     0.70971,     0.71071,     0.71171,     0.71271,     0.71371,     0.71471,     0.71572,     0.71672,     0.71772,     0.71872,     0.71972,\n",
       "           0.72072,     0.72172,     0.72272,     0.72372,     0.72472,     0.72573,     0.72673,     0.72773,     0.72873,     0.72973,     0.73073,     0.73173,     0.73273,     0.73373,     0.73473,     0.73574,     0.73674,     0.73774,     0.73874,     0.73974,     0.74074,     0.74174,     0.74274,     0.74374,\n",
       "           0.74474,     0.74575,     0.74675,     0.74775,     0.74875,     0.74975,     0.75075,     0.75175,     0.75275,     0.75375,     0.75475,     0.75576,     0.75676,     0.75776,     0.75876,     0.75976,     0.76076,     0.76176,     0.76276,     0.76376,     0.76476,     0.76577,     0.76677,     0.76777,\n",
       "           0.76877,     0.76977,     0.77077,     0.77177,     0.77277,     0.77377,     0.77477,     0.77578,     0.77678,     0.77778,     0.77878,     0.77978,     0.78078,     0.78178,     0.78278,     0.78378,     0.78478,     0.78579,     0.78679,     0.78779,     0.78879,     0.78979,     0.79079,     0.79179,\n",
       "           0.79279,     0.79379,     0.79479,      0.7958,      0.7968,      0.7978,      0.7988,      0.7998,      0.8008,      0.8018,      0.8028,      0.8038,      0.8048,     0.80581,     0.80681,     0.80781,     0.80881,     0.80981,     0.81081,     0.81181,     0.81281,     0.81381,     0.81481,     0.81582,\n",
       "           0.81682,     0.81782,     0.81882,     0.81982,     0.82082,     0.82182,     0.82282,     0.82382,     0.82482,     0.82583,     0.82683,     0.82783,     0.82883,     0.82983,     0.83083,     0.83183,     0.83283,     0.83383,     0.83483,     0.83584,     0.83684,     0.83784,     0.83884,     0.83984,\n",
       "           0.84084,     0.84184,     0.84284,     0.84384,     0.84484,     0.84585,     0.84685,     0.84785,     0.84885,     0.84985,     0.85085,     0.85185,     0.85285,     0.85385,     0.85485,     0.85586,     0.85686,     0.85786,     0.85886,     0.85986,     0.86086,     0.86186,     0.86286,     0.86386,\n",
       "           0.86486,     0.86587,     0.86687,     0.86787,     0.86887,     0.86987,     0.87087,     0.87187,     0.87287,     0.87387,     0.87487,     0.87588,     0.87688,     0.87788,     0.87888,     0.87988,     0.88088,     0.88188,     0.88288,     0.88388,     0.88488,     0.88589,     0.88689,     0.88789,\n",
       "           0.88889,     0.88989,     0.89089,     0.89189,     0.89289,     0.89389,     0.89489,      0.8959,      0.8969,      0.8979,      0.8989,      0.8999,      0.9009,      0.9019,      0.9029,      0.9039,      0.9049,     0.90591,     0.90691,     0.90791,     0.90891,     0.90991,     0.91091,     0.91191,\n",
       "           0.91291,     0.91391,     0.91491,     0.91592,     0.91692,     0.91792,     0.91892,     0.91992,     0.92092,     0.92192,     0.92292,     0.92392,     0.92492,     0.92593,     0.92693,     0.92793,     0.92893,     0.92993,     0.93093,     0.93193,     0.93293,     0.93393,     0.93493,     0.93594,\n",
       "           0.93694,     0.93794,     0.93894,     0.93994,     0.94094,     0.94194,     0.94294,     0.94394,     0.94494,     0.94595,     0.94695,     0.94795,     0.94895,     0.94995,     0.95095,     0.95195,     0.95295,     0.95395,     0.95495,     0.95596,     0.95696,     0.95796,     0.95896,     0.95996,\n",
       "           0.96096,     0.96196,     0.96296,     0.96396,     0.96496,     0.96597,     0.96697,     0.96797,     0.96897,     0.96997,     0.97097,     0.97197,     0.97297,     0.97397,     0.97497,     0.97598,     0.97698,     0.97798,     0.97898,     0.97998,     0.98098,     0.98198,     0.98298,     0.98398,\n",
       "           0.98498,     0.98599,     0.98699,     0.98799,     0.98899,     0.98999,     0.99099,     0.99199,     0.99299,     0.99399,     0.99499,       0.996,       0.997,       0.998,       0.999,           1]), array([[   0.019387,    0.019387,     0.02583, ...,           1,           1,           1],\n",
       "       [   0.032915,    0.032915,    0.045975, ...,           1,           1,           1],\n",
       "       [   0.025436,    0.025436,    0.032499, ...,           1,           1,           1],\n",
       "       ...,\n",
       "       [   0.028302,    0.028302,    0.040319, ...,           1,           1,           1],\n",
       "       [          0,           0,           0, ...,           0,           0,           0],\n",
       "       [   0.029641,    0.029641,    0.046698, ...,           1,           1,           1]], shape=(41, 1000)), 'Confidence', 'Precision'], [array([          0,    0.001001,    0.002002,    0.003003,    0.004004,    0.005005,    0.006006,    0.007007,    0.008008,    0.009009,     0.01001,    0.011011,    0.012012,    0.013013,    0.014014,    0.015015,    0.016016,    0.017017,    0.018018,    0.019019,     0.02002,    0.021021,    0.022022,    0.023023,\n",
       "          0.024024,    0.025025,    0.026026,    0.027027,    0.028028,    0.029029,     0.03003,    0.031031,    0.032032,    0.033033,    0.034034,    0.035035,    0.036036,    0.037037,    0.038038,    0.039039,     0.04004,    0.041041,    0.042042,    0.043043,    0.044044,    0.045045,    0.046046,    0.047047,\n",
       "          0.048048,    0.049049,     0.05005,    0.051051,    0.052052,    0.053053,    0.054054,    0.055055,    0.056056,    0.057057,    0.058058,    0.059059,     0.06006,    0.061061,    0.062062,    0.063063,    0.064064,    0.065065,    0.066066,    0.067067,    0.068068,    0.069069,     0.07007,    0.071071,\n",
       "          0.072072,    0.073073,    0.074074,    0.075075,    0.076076,    0.077077,    0.078078,    0.079079,     0.08008,    0.081081,    0.082082,    0.083083,    0.084084,    0.085085,    0.086086,    0.087087,    0.088088,    0.089089,     0.09009,    0.091091,    0.092092,    0.093093,    0.094094,    0.095095,\n",
       "          0.096096,    0.097097,    0.098098,    0.099099,      0.1001,      0.1011,      0.1021,      0.1031,      0.1041,     0.10511,     0.10611,     0.10711,     0.10811,     0.10911,     0.11011,     0.11111,     0.11211,     0.11311,     0.11411,     0.11512,     0.11612,     0.11712,     0.11812,     0.11912,\n",
       "           0.12012,     0.12112,     0.12212,     0.12312,     0.12412,     0.12513,     0.12613,     0.12713,     0.12813,     0.12913,     0.13013,     0.13113,     0.13213,     0.13313,     0.13413,     0.13514,     0.13614,     0.13714,     0.13814,     0.13914,     0.14014,     0.14114,     0.14214,     0.14314,\n",
       "           0.14414,     0.14515,     0.14615,     0.14715,     0.14815,     0.14915,     0.15015,     0.15115,     0.15215,     0.15315,     0.15415,     0.15516,     0.15616,     0.15716,     0.15816,     0.15916,     0.16016,     0.16116,     0.16216,     0.16316,     0.16416,     0.16517,     0.16617,     0.16717,\n",
       "           0.16817,     0.16917,     0.17017,     0.17117,     0.17217,     0.17317,     0.17417,     0.17518,     0.17618,     0.17718,     0.17818,     0.17918,     0.18018,     0.18118,     0.18218,     0.18318,     0.18418,     0.18519,     0.18619,     0.18719,     0.18819,     0.18919,     0.19019,     0.19119,\n",
       "           0.19219,     0.19319,     0.19419,      0.1952,      0.1962,      0.1972,      0.1982,      0.1992,      0.2002,      0.2012,      0.2022,      0.2032,      0.2042,     0.20521,     0.20621,     0.20721,     0.20821,     0.20921,     0.21021,     0.21121,     0.21221,     0.21321,     0.21421,     0.21522,\n",
       "           0.21622,     0.21722,     0.21822,     0.21922,     0.22022,     0.22122,     0.22222,     0.22322,     0.22422,     0.22523,     0.22623,     0.22723,     0.22823,     0.22923,     0.23023,     0.23123,     0.23223,     0.23323,     0.23423,     0.23524,     0.23624,     0.23724,     0.23824,     0.23924,\n",
       "           0.24024,     0.24124,     0.24224,     0.24324,     0.24424,     0.24525,     0.24625,     0.24725,     0.24825,     0.24925,     0.25025,     0.25125,     0.25225,     0.25325,     0.25425,     0.25526,     0.25626,     0.25726,     0.25826,     0.25926,     0.26026,     0.26126,     0.26226,     0.26326,\n",
       "           0.26426,     0.26527,     0.26627,     0.26727,     0.26827,     0.26927,     0.27027,     0.27127,     0.27227,     0.27327,     0.27427,     0.27528,     0.27628,     0.27728,     0.27828,     0.27928,     0.28028,     0.28128,     0.28228,     0.28328,     0.28428,     0.28529,     0.28629,     0.28729,\n",
       "           0.28829,     0.28929,     0.29029,     0.29129,     0.29229,     0.29329,     0.29429,      0.2953,      0.2963,      0.2973,      0.2983,      0.2993,      0.3003,      0.3013,      0.3023,      0.3033,      0.3043,     0.30531,     0.30631,     0.30731,     0.30831,     0.30931,     0.31031,     0.31131,\n",
       "           0.31231,     0.31331,     0.31431,     0.31532,     0.31632,     0.31732,     0.31832,     0.31932,     0.32032,     0.32132,     0.32232,     0.32332,     0.32432,     0.32533,     0.32633,     0.32733,     0.32833,     0.32933,     0.33033,     0.33133,     0.33233,     0.33333,     0.33433,     0.33534,\n",
       "           0.33634,     0.33734,     0.33834,     0.33934,     0.34034,     0.34134,     0.34234,     0.34334,     0.34434,     0.34535,     0.34635,     0.34735,     0.34835,     0.34935,     0.35035,     0.35135,     0.35235,     0.35335,     0.35435,     0.35536,     0.35636,     0.35736,     0.35836,     0.35936,\n",
       "           0.36036,     0.36136,     0.36236,     0.36336,     0.36436,     0.36537,     0.36637,     0.36737,     0.36837,     0.36937,     0.37037,     0.37137,     0.37237,     0.37337,     0.37437,     0.37538,     0.37638,     0.37738,     0.37838,     0.37938,     0.38038,     0.38138,     0.38238,     0.38338,\n",
       "           0.38438,     0.38539,     0.38639,     0.38739,     0.38839,     0.38939,     0.39039,     0.39139,     0.39239,     0.39339,     0.39439,      0.3954,      0.3964,      0.3974,      0.3984,      0.3994,      0.4004,      0.4014,      0.4024,      0.4034,      0.4044,     0.40541,     0.40641,     0.40741,\n",
       "           0.40841,     0.40941,     0.41041,     0.41141,     0.41241,     0.41341,     0.41441,     0.41542,     0.41642,     0.41742,     0.41842,     0.41942,     0.42042,     0.42142,     0.42242,     0.42342,     0.42442,     0.42543,     0.42643,     0.42743,     0.42843,     0.42943,     0.43043,     0.43143,\n",
       "           0.43243,     0.43343,     0.43443,     0.43544,     0.43644,     0.43744,     0.43844,     0.43944,     0.44044,     0.44144,     0.44244,     0.44344,     0.44444,     0.44545,     0.44645,     0.44745,     0.44845,     0.44945,     0.45045,     0.45145,     0.45245,     0.45345,     0.45445,     0.45546,\n",
       "           0.45646,     0.45746,     0.45846,     0.45946,     0.46046,     0.46146,     0.46246,     0.46346,     0.46446,     0.46547,     0.46647,     0.46747,     0.46847,     0.46947,     0.47047,     0.47147,     0.47247,     0.47347,     0.47447,     0.47548,     0.47648,     0.47748,     0.47848,     0.47948,\n",
       "           0.48048,     0.48148,     0.48248,     0.48348,     0.48448,     0.48549,     0.48649,     0.48749,     0.48849,     0.48949,     0.49049,     0.49149,     0.49249,     0.49349,     0.49449,      0.4955,      0.4965,      0.4975,      0.4985,      0.4995,      0.5005,      0.5015,      0.5025,      0.5035,\n",
       "            0.5045,     0.50551,     0.50651,     0.50751,     0.50851,     0.50951,     0.51051,     0.51151,     0.51251,     0.51351,     0.51451,     0.51552,     0.51652,     0.51752,     0.51852,     0.51952,     0.52052,     0.52152,     0.52252,     0.52352,     0.52452,     0.52553,     0.52653,     0.52753,\n",
       "           0.52853,     0.52953,     0.53053,     0.53153,     0.53253,     0.53353,     0.53453,     0.53554,     0.53654,     0.53754,     0.53854,     0.53954,     0.54054,     0.54154,     0.54254,     0.54354,     0.54454,     0.54555,     0.54655,     0.54755,     0.54855,     0.54955,     0.55055,     0.55155,\n",
       "           0.55255,     0.55355,     0.55455,     0.55556,     0.55656,     0.55756,     0.55856,     0.55956,     0.56056,     0.56156,     0.56256,     0.56356,     0.56456,     0.56557,     0.56657,     0.56757,     0.56857,     0.56957,     0.57057,     0.57157,     0.57257,     0.57357,     0.57457,     0.57558,\n",
       "           0.57658,     0.57758,     0.57858,     0.57958,     0.58058,     0.58158,     0.58258,     0.58358,     0.58458,     0.58559,     0.58659,     0.58759,     0.58859,     0.58959,     0.59059,     0.59159,     0.59259,     0.59359,     0.59459,      0.5956,      0.5966,      0.5976,      0.5986,      0.5996,\n",
       "            0.6006,      0.6016,      0.6026,      0.6036,      0.6046,     0.60561,     0.60661,     0.60761,     0.60861,     0.60961,     0.61061,     0.61161,     0.61261,     0.61361,     0.61461,     0.61562,     0.61662,     0.61762,     0.61862,     0.61962,     0.62062,     0.62162,     0.62262,     0.62362,\n",
       "           0.62462,     0.62563,     0.62663,     0.62763,     0.62863,     0.62963,     0.63063,     0.63163,     0.63263,     0.63363,     0.63463,     0.63564,     0.63664,     0.63764,     0.63864,     0.63964,     0.64064,     0.64164,     0.64264,     0.64364,     0.64464,     0.64565,     0.64665,     0.64765,\n",
       "           0.64865,     0.64965,     0.65065,     0.65165,     0.65265,     0.65365,     0.65465,     0.65566,     0.65666,     0.65766,     0.65866,     0.65966,     0.66066,     0.66166,     0.66266,     0.66366,     0.66466,     0.66567,     0.66667,     0.66767,     0.66867,     0.66967,     0.67067,     0.67167,\n",
       "           0.67267,     0.67367,     0.67467,     0.67568,     0.67668,     0.67768,     0.67868,     0.67968,     0.68068,     0.68168,     0.68268,     0.68368,     0.68468,     0.68569,     0.68669,     0.68769,     0.68869,     0.68969,     0.69069,     0.69169,     0.69269,     0.69369,     0.69469,      0.6957,\n",
       "            0.6967,      0.6977,      0.6987,      0.6997,      0.7007,      0.7017,      0.7027,      0.7037,      0.7047,     0.70571,     0.70671,     0.70771,     0.70871,     0.70971,     0.71071,     0.71171,     0.71271,     0.71371,     0.71471,     0.71572,     0.71672,     0.71772,     0.71872,     0.71972,\n",
       "           0.72072,     0.72172,     0.72272,     0.72372,     0.72472,     0.72573,     0.72673,     0.72773,     0.72873,     0.72973,     0.73073,     0.73173,     0.73273,     0.73373,     0.73473,     0.73574,     0.73674,     0.73774,     0.73874,     0.73974,     0.74074,     0.74174,     0.74274,     0.74374,\n",
       "           0.74474,     0.74575,     0.74675,     0.74775,     0.74875,     0.74975,     0.75075,     0.75175,     0.75275,     0.75375,     0.75475,     0.75576,     0.75676,     0.75776,     0.75876,     0.75976,     0.76076,     0.76176,     0.76276,     0.76376,     0.76476,     0.76577,     0.76677,     0.76777,\n",
       "           0.76877,     0.76977,     0.77077,     0.77177,     0.77277,     0.77377,     0.77477,     0.77578,     0.77678,     0.77778,     0.77878,     0.77978,     0.78078,     0.78178,     0.78278,     0.78378,     0.78478,     0.78579,     0.78679,     0.78779,     0.78879,     0.78979,     0.79079,     0.79179,\n",
       "           0.79279,     0.79379,     0.79479,      0.7958,      0.7968,      0.7978,      0.7988,      0.7998,      0.8008,      0.8018,      0.8028,      0.8038,      0.8048,     0.80581,     0.80681,     0.80781,     0.80881,     0.80981,     0.81081,     0.81181,     0.81281,     0.81381,     0.81481,     0.81582,\n",
       "           0.81682,     0.81782,     0.81882,     0.81982,     0.82082,     0.82182,     0.82282,     0.82382,     0.82482,     0.82583,     0.82683,     0.82783,     0.82883,     0.82983,     0.83083,     0.83183,     0.83283,     0.83383,     0.83483,     0.83584,     0.83684,     0.83784,     0.83884,     0.83984,\n",
       "           0.84084,     0.84184,     0.84284,     0.84384,     0.84484,     0.84585,     0.84685,     0.84785,     0.84885,     0.84985,     0.85085,     0.85185,     0.85285,     0.85385,     0.85485,     0.85586,     0.85686,     0.85786,     0.85886,     0.85986,     0.86086,     0.86186,     0.86286,     0.86386,\n",
       "           0.86486,     0.86587,     0.86687,     0.86787,     0.86887,     0.86987,     0.87087,     0.87187,     0.87287,     0.87387,     0.87487,     0.87588,     0.87688,     0.87788,     0.87888,     0.87988,     0.88088,     0.88188,     0.88288,     0.88388,     0.88488,     0.88589,     0.88689,     0.88789,\n",
       "           0.88889,     0.88989,     0.89089,     0.89189,     0.89289,     0.89389,     0.89489,      0.8959,      0.8969,      0.8979,      0.8989,      0.8999,      0.9009,      0.9019,      0.9029,      0.9039,      0.9049,     0.90591,     0.90691,     0.90791,     0.90891,     0.90991,     0.91091,     0.91191,\n",
       "           0.91291,     0.91391,     0.91491,     0.91592,     0.91692,     0.91792,     0.91892,     0.91992,     0.92092,     0.92192,     0.92292,     0.92392,     0.92492,     0.92593,     0.92693,     0.92793,     0.92893,     0.92993,     0.93093,     0.93193,     0.93293,     0.93393,     0.93493,     0.93594,\n",
       "           0.93694,     0.93794,     0.93894,     0.93994,     0.94094,     0.94194,     0.94294,     0.94394,     0.94494,     0.94595,     0.94695,     0.94795,     0.94895,     0.94995,     0.95095,     0.95195,     0.95295,     0.95395,     0.95495,     0.95596,     0.95696,     0.95796,     0.95896,     0.95996,\n",
       "           0.96096,     0.96196,     0.96296,     0.96396,     0.96496,     0.96597,     0.96697,     0.96797,     0.96897,     0.96997,     0.97097,     0.97197,     0.97297,     0.97397,     0.97497,     0.97598,     0.97698,     0.97798,     0.97898,     0.97998,     0.98098,     0.98198,     0.98298,     0.98398,\n",
       "           0.98498,     0.98599,     0.98699,     0.98799,     0.98899,     0.98999,     0.99099,     0.99199,     0.99299,     0.99399,     0.99499,       0.996,       0.997,       0.998,       0.999,           1]), array([[    0.63798,     0.63798,     0.61128, ...,           0,           0,           0],\n",
       "       [    0.93651,     0.93651,     0.92063, ...,           0,           0,           0],\n",
       "       [       0.75,        0.75,     0.72222, ...,           0,           0,           0],\n",
       "       ...,\n",
       "       [    0.42857,     0.42857,     0.40816, ...,           0,           0,           0],\n",
       "       [          0,           0,           0, ...,           0,           0,           0],\n",
       "       [    0.64189,     0.64189,     0.62162, ...,           0,           0,           0]], shape=(41, 1000)), 'Confidence', 'Recall']]\n",
       "fitness: np.float64(0.4005637059018826)\n",
       "keys: ['metrics/precision(B)', 'metrics/recall(B)', 'metrics/mAP50(B)', 'metrics/mAP50-95(B)']\n",
       "maps: array([    0.11176,     0.09839,    0.036892,     0.23677,     0.18533,     0.36791,    0.072635,     0.28045,     0.82317,     0.26338,    0.075571,     0.12132,     0.30585,     0.11304,     0.04934,    0.032048,    0.067783,     0.15819,     0.79885,     0.87687,      0.3174,     0.74003,     0.51532,     0.71926,\n",
       "           0.54451,     0.65127,     0.64955,     0.64177,     0.13042,     0.70415,      0.6324,     0.70296,     0.60531,     0.70459,     0.55876,     0.52915,     0.56154,     0.72912,    0.058549,           0,     0.33041])\n",
       "names: {0: 'Unknow', 1: 'Small rect. right main', 2: 'Small rect. right top', 3: 'Side line right', 4: 'Side line top', 5: 'Side line bottom', 6: 'Big rect. right top', 7: 'Big rect. right main', 8: 'Circle right', 9: 'Side line left', 10: 'Big rect. left top', 11: 'Big rect. left bottom', 12: 'Big rect. left main', 13: 'Big rect. right bottom', 14: 'Small rect. right bottom', 15: 'Small rect. left top', 16: 'Small rect. left bottom', 17: 'Small rect. left main', 18: 'Circle left', 19: 'Circle central', 20: 'Middle line', 21: 'Small rect. right main (vertical)', 22: 'Small rect. right top (vertical)', 23: 'Side line right (vertical)', 24: 'Side line top (vertical)', 25: 'Side line bottom (vertical)', 26: 'Big rect. right top (vertical)', 27: 'Big rect. right main (vertical)', 28: 'Circle right (vertical)', 29: 'Side line left (vertical)', 30: 'Big rect. left top (vertical)', 31: 'Big rect. left bottom (vertical)', 32: 'Big rect. left main (vertical)', 33: 'Big rect. right bottom (vertical)', 34: 'Small rect. right bottom (vertical)', 35: 'Small rect. left top (vertical)', 36: 'Small rect. left bottom (vertical)', 37: 'Small rect. left main (vertical)', 38: 'Circle left (vertical)', 39: 'Circle central (vertical)', 40: 'Middle line (vertical)'}\n",
       "plot: True\n",
       "results_dict: {'metrics/precision(B)': np.float64(0.5804800718409848), 'metrics/recall(B)': np.float64(0.5261449977337976), 'metrics/mAP50(B)': np.float64(0.4710464611451082), 'metrics/mAP50-95(B)': np.float64(0.3927322886526353), 'fitness': np.float64(0.4005637059018826)}\n",
       "save_dir: PosixPath('/home/dani/Desktop/futbol/runs/detect/train8')\n",
       "speed: {'preprocess': 0.16363187132059503, 'inference': 0.8763581449100264, 'loss': 0.00015816038548187447, 'postprocess': 0.4890917853976091}\n",
       "task: 'detect'"
      ]
     },
     "execution_count": 6,
     "metadata": {},
     "output_type": "execute_result"
    }
   ],
   "source": [
    "from ultralytics import YOLO\n",
    "\n",
    "# Cargar un modelo base\n",
    "model = YOLO('yolo11n.pt')  \n",
    "# Entrenar (fine-tune) con tus datos\n",
    "model.train(data='line_dataset_detail2.yaml', epochs=50, imgsz=640, batch=16, workers=16, device=\"cuda\")  # Ajusta los parámetros según tus necesidades"
   ]
  },
  {
   "cell_type": "code",
   "execution_count": 7,
   "id": "b6f8d248",
   "metadata": {},
   "outputs": [],
   "source": [
    "#guardar el modelo\n",
    "model.save(\"yolo11n_line_detail.pt\")"
   ]
  }
 ],
 "metadata": {
  "kernelspec": {
   "display_name": ".venv",
   "language": "python",
   "name": "python3"
  },
  "language_info": {
   "codemirror_mode": {
    "name": "ipython",
    "version": 3
   },
   "file_extension": ".py",
   "mimetype": "text/x-python",
   "name": "python",
   "nbconvert_exporter": "python",
   "pygments_lexer": "ipython3",
   "version": "3.12.3"
  }
 },
 "nbformat": 4,
 "nbformat_minor": 5
}
