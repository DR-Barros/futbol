{
 "cells": [
  {
   "cell_type": "code",
   "execution_count": 5,
   "id": "2de7fe5f",
   "metadata": {},
   "outputs": [],
   "source": [
    "import SoccerNet\n",
    "import os\n",
    "from SoccerNet.Downloader import SoccerNetDownloader\n",
    "mySoccerNetDownloader=SoccerNetDownloader(LocalDirectory=\"./ia/SoccerNet\")\n",
    "mySoccerNetDownloader.password = os.environ[\"password\"]"
   ]
  },
  {
   "cell_type": "code",
   "execution_count": 2,
   "id": "5300128b",
   "metadata": {},
   "outputs": [
    {
     "name": "stderr",
     "output_type": "stream",
     "text": [
      "Downloading ./ia/SoccerNet/calibration-2023/train.zip...: : 2.56GiB [07:02, 6.05MiB/s]                           \n",
      "Downloading ./ia/SoccerNet/calibration-2023/valid.zip...: : 501MiB [01:40, 4.98MiB/s]                           \n",
      "Downloading ./ia/SoccerNet/calibration-2023/test.zip...: : 500MiB [02:18, 3.61MiB/s]                           \n",
      "Downloading ./ia/SoccerNet/calibration-2023/challenge.zip...: : 421MiB [01:22, 5.10MiB/s]                           \n"
     ]
    }
   ],
   "source": [
    "mySoccerNetDownloader.downloadDataTask(task=\"calibration-2023\", split=[\"train\",\"valid\",\"test\",\"challenge\"])"
   ]
  },
  {
   "cell_type": "code",
   "execution_count": 2,
   "id": "3c301d6e",
   "metadata": {},
   "outputs": [
    {
     "name": "stdout",
     "output_type": "stream",
     "text": [
      "./ia/SoccerNet/tracking/train.zip already exists\n"
     ]
    },
    {
     "name": "stderr",
     "output_type": "stream",
     "text": [
      "Downloading ./ia/SoccerNet/tracking/test.zip...: : 8.71GiB [24:00, 6.05MiB/s]                            \n",
      "Downloading ./ia/SoccerNet/tracking/challenge.zip...: : 11.0GiB [30:43, 5.96MiB/s]                            \n"
     ]
    }
   ],
   "source": [
    "mySoccerNetDownloader.downloadDataTask(task=\"tracking\", split=[\"train\", \"test\", \"challenge\"])"
   ]
  },
  {
   "cell_type": "code",
   "execution_count": 3,
   "id": "1f64c002",
   "metadata": {},
   "outputs": [
    {
     "name": "stderr",
     "output_type": "stream",
     "text": [
      "Downloading ./ia/SoccerNet/tracking-2023/train.zip...: : 9.58GiB [27:03, 5.90MiB/s]                            \n",
      "Downloading ./ia/SoccerNet/tracking-2023/test.zip...: : 8.71GiB [24:32, 5.92MiB/s]                            \n",
      "Downloading ./ia/SoccerNet/tracking-2023/challenge2023.zip...: : 5.31GiB [15:30, 5.71MiB/s]                            \n"
     ]
    }
   ],
   "source": [
    "mySoccerNetDownloader.downloadDataTask(task=\"tracking-2023\", split=[\"train\", \"test\", \"challenge\"])"
   ]
  },
  {
   "cell_type": "code",
   "execution_count": 6,
   "id": "4421bbf9",
   "metadata": {},
   "outputs": [
    {
     "name": "stderr",
     "output_type": "stream",
     "text": [
      "Downloading ./ia/SoccerNet/spotting-ball-2023/train.zip...: : 3.94GiB [14:32, 4.52MiB/s]                            \n",
      "Downloading ./ia/SoccerNet/spotting-ball-2023/valid.zip...: : 942MiB [02:48, 5.59MiB/s]                           \n",
      "Downloading ./ia/SoccerNet/spotting-ball-2023/test.zip...: : 2.16GiB [09:42, 3.71MiB/s]                           \n",
      "Downloading ./ia/SoccerNet/spotting-ball-2023/challenge.zip...: : 1.92GiB [05:35, 5.73MiB/s]                           \n"
     ]
    }
   ],
   "source": [
    "mySoccerNetDownloader.downloadDataTask(task=\"spotting-ball-2023\", split=[\"train\", \"valid\", \"test\", \"challenge\"], password=os.environ[\"password\"])"
   ]
  }
 ],
 "metadata": {
  "kernelspec": {
   "display_name": ".venv",
   "language": "python",
   "name": "python3"
  },
  "language_info": {
   "codemirror_mode": {
    "name": "ipython",
    "version": 3
   },
   "file_extension": ".py",
   "mimetype": "text/x-python",
   "name": "python",
   "nbconvert_exporter": "python",
   "pygments_lexer": "ipython3",
   "version": "3.12.3"
  }
 },
 "nbformat": 4,
 "nbformat_minor": 5
}
